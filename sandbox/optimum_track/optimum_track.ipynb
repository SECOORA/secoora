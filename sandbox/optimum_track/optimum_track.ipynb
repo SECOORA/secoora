{
 "metadata": {
  "gist_id": "fabcf4bcd2f0a412b81b",
  "kernelspec": {
   "codemirror_mode": {
    "name": "ipython",
    "version": 3
   },
   "display_name": "Iris (Python 2)",
   "language": "python",
   "name": "iris_python2"
  },
  "name": "",
  "signature": "sha256:81c8cb63f406a953f24355b22df9613ad40fb43fac8c14b046142d24d6ff489f"
 },
 "nbformat": 3,
 "nbformat_minor": 0,
 "worksheets": [
  {
   "cells": [
    {
     "cell_type": "code",
     "collapsed": false,
     "input": [
      "import time\n",
      "begin = time.time()"
     ],
     "language": "python",
     "metadata": {},
     "outputs": []
    },
    {
     "cell_type": "code",
     "collapsed": false,
     "input": [
      "import iris\n",
      "\n",
      "url = \"http://podaac-opendap.jpl.nasa.gov/opendap/allData/oscar/preview/L4/oscar_third_deg/\"\n",
      "\n",
      "cubes = iris.load_raw('oscar_vel2009.nc')\n",
      "cubes.extend(iris.load_raw('oscar_vel2010.nc'))\n",
      "\n",
      "lon = iris.Constraint(longitude=lambda lon: 310 < lon < 355)\n",
      "lat = iris.Constraint(latitude=lambda lat: -65 < lat < 0)\n",
      "depth = iris.Constraint(depth=lambda d: d == 15.)\n",
      "\n",
      "cubes = cubes.extract(lon & lat & depth)\n",
      "print(cubes)\n",
      "\n",
      "cubes[1].attributes = {}\n",
      "cubes[3].attributes = {}\n",
      "cubes[5].attributes = {}\n",
      "cubes[7].attributes = {}\n",
      "\n",
      "U = iris.cube.CubeList([cubes[1], cubes[5]]).concatenate_cube()\n",
      "V = iris.cube.CubeList([cubes[3], cubes[7]]).concatenate_cube()"
     ],
     "language": "python",
     "metadata": {},
     "outputs": []
    },
    {
     "cell_type": "code",
     "collapsed": false,
     "input": [
      "from oceans import wrap_lon180\n",
      "\n",
      "U.coord('longitude').points = wrap_lon180(U.coord('longitude').points)\n",
      "V.coord('longitude').points = wrap_lon180(V.coord('longitude').points)"
     ],
     "language": "python",
     "metadata": {},
     "outputs": []
    },
    {
     "cell_type": "code",
     "collapsed": false,
     "input": [
      "from pandas import read_csv\n",
      "\n",
      "traj = read_csv('traj.csv', names=['lat', 'lon'], parse_dates=True, header=None, index_col=0)"
     ],
     "language": "python",
     "metadata": {},
     "outputs": []
    },
    {
     "cell_type": "code",
     "collapsed": false,
     "input": [
      "%matplotlib inline\n",
      "import numpy as np\n",
      "import matplotlib.pyplot as plt\n",
      "\n",
      "import cartopy.crs as ccrs\n",
      "from cartopy.feature import LAND, COASTLINE, OCEAN\n",
      "from cartopy.vector_transform import vector_scalar_to_grid\n",
      "from cartopy.mpl.gridliner import LONGITUDE_FORMATTER, LATITUDE_FORMATTER\n",
      "\n",
      "\n",
      "def make_map(projection=ccrs.PlateCarree()):\n",
      "    subplot_kw = dict(projection=projection)\n",
      "    fig, ax = plt.subplots(figsize=(15, 9), subplot_kw=subplot_kw)\n",
      "    ax.set_extent([310, 355, -65, 0])\n",
      "    ax.add_feature(LAND, facecolor='black')\n",
      "    ax.add_feature(COASTLINE)\n",
      "    gl = ax.gridlines(draw_labels=True)\n",
      "    gl.xlabels_top = gl.ylabels_right = False\n",
      "    gl.xformatter = LONGITUDE_FORMATTER\n",
      "    gl.yformatter = LATITUDE_FORMATTER\n",
      "    return fig, ax"
     ],
     "language": "python",
     "metadata": {},
     "outputs": []
    },
    {
     "cell_type": "code",
     "collapsed": false,
     "input": [
      "x, y = U.coord('longitude').points, U.coord('latitude').points\n",
      "X, Y = np.meshgrid(x, y)\n",
      "Um = U.collapsed('time', iris.analysis.MEAN)\n",
      "Vm = V.collapsed('time', iris.analysis.MEAN)\n",
      "SPD = np.sqrt(Um.data**2 + Vm.data**2)\n",
      "\n",
      "projection = ccrs.PlateCarree()\n",
      "fig, ax = make_map(projection=projection)\n",
      "ax.plot(traj.lon, traj.lat, '-o', color='#FFA500')\n",
      "kw = dict(color='white', fontdict=dict(fontweight='bold'))\n",
      "ax.text(traj.lon[0]+1, traj.lat[0], '{}'.format(traj.index[0]), **kw)\n",
      "ax.text(traj.lon[-1]+1, traj.lat[-1], '{}'.format(traj.index[1]), **kw)\n",
      "cs = ax.contourf(X, Y, SPD,  extend='both')\n",
      "cbar = fig.colorbar(cs, extend='both', orientation='vertical', shrink=0.6)\n",
      "cbar.ax.set_title('m/s')\n",
      "\n",
      "regrid_shape = 50\n",
      "lon, lat, u, v = vector_scalar_to_grid(projection, projection,\n",
      "                                       regrid_shape, x, y,\n",
      "                                       Um.data, Vm.data)\n",
      "\n",
      "ax.quiver(lon, lat, u, v, color='white')\n",
      "_ = ax.set_title('OSCAR Mean Currents')"
     ],
     "language": "python",
     "metadata": {},
     "outputs": []
    },
    {
     "cell_type": "code",
     "collapsed": false,
     "input": [
      "Ui = U.data\n",
      "Vi = V.data\n",
      "xi = U.coord('longitude').points\n",
      "yi = U.coord('latitude').points\n",
      "Xi, Yi = np.meshgrid(xi, yi)"
     ],
     "language": "python",
     "metadata": {},
     "outputs": []
    },
    {
     "cell_type": "code",
     "collapsed": false,
     "input": [
      "Ui[np.isnan(Ui)] = 0\n",
      "Vi[np.isnan(Vi)] = 0\n",
      "\n",
      "Uim = Ui.mean(axis=0)\n",
      "Vim = Vi.mean(axis=0)\n",
      "\n",
      "fig, ax = make_map()\n",
      "regrid_shape = 50\n",
      "lon, lat, u, v = vector_scalar_to_grid(projection, projection, regrid_shape,\n",
      "                                       Xi, Yi, Uim, Vim)\n",
      "ax.quiver(lon, lat, u, v, color='black')\n",
      "ax.plot(traj.lon, traj.lat, '-o', color='#FFA500')\n",
      "kw = dict(color='black', fontdict=dict(fontweight='bold'))\n",
      "ax.text(traj.lon[0]+1, traj.lat[0], '{}'.format(traj.index[0]), **kw)\n",
      "ax.text(traj.lon[-1]+1, traj.lat[-1], '{}'.format(traj.index[1]), **kw)\n",
      "_ = ax.set_title('OSCAR Mean Currents')"
     ],
     "language": "python",
     "metadata": {},
     "outputs": []
    },
    {
     "cell_type": "code",
     "collapsed": false,
     "input": [
      "import seawater as sw\n",
      "\n",
      "def dist(lat1, lon1, lat2, lon2):\n",
      "    distance, bearing = sw.dist([lat1, lat2], [lon1, lon2])\n",
      "    return map(float, (distance, bearing))"
     ],
     "language": "python",
     "metadata": {},
     "outputs": []
    },
    {
     "cell_type": "code",
     "collapsed": false,
     "input": [
      "import networkx as nx\n",
      "from mpl_toolkits.basemap import Basemap\n",
      "\n",
      "m = Basemap(projection='merc')\n",
      "\n",
      "G = nx.grid_2d_graph(xi.size, yi.size)\n",
      "\n",
      "mx, my = m(Xi.ravel(), Yi.ravel())\n",
      "pos = dict()\n",
      "for n, x, y in zip(G, mx, my):\n",
      "    pos[n] = (x, y)\n",
      "\n",
      "nx.set_node_attributes(G, 'pos', pos)\n",
      "\n",
      "#nx.draw_networkx(G, pos)"
     ],
     "language": "python",
     "metadata": {},
     "outputs": []
    },
    {
     "cell_type": "code",
     "collapsed": false,
     "input": [
      "G.node[(104, 115)]"
     ],
     "language": "python",
     "metadata": {},
     "outputs": []
    },
    {
     "cell_type": "code",
     "collapsed": false,
     "input": [
      "start = m(traj.lon[0], traj.lat[0])\n",
      "end = m(traj.lon[-1], traj.lat[-1])\n",
      "\n",
      "p = dict({pos.items()[0][0]: pos.items()[0][1],\n",
      "         pos.items()[-1][0]: pos.items()[-1][1]})\n",
      "nx.draw_networkx()"
     ],
     "language": "python",
     "metadata": {},
     "outputs": []
    },
    {
     "cell_type": "code",
     "collapsed": false,
     "input": [
      "nodes=nx.draw_networkx_nodes(G,pos)\n",
      "nx.draw_networkx_edges(G,pos)\n",
      "for n in G:\n",
      "    print n\n",
      "    nx.draw_networkx_nodes(G,pos,nodelist=[n],node_color='b')\n",
      "    plt.draw()"
     ],
     "language": "python",
     "metadata": {},
     "outputs": []
    },
    {
     "cell_type": "code",
     "collapsed": false,
     "input": [
      "import networkx as nx\n",
      "import matplotlib.pyplot as plt\n",
      "from mpl_toolkits.basemap import Basemap\n",
      "\n",
      "m = Basemap(llcrnrlon=-125.5, llcrnrlat=20.,\n",
      "            urcrnrlon=-50.566, urcrnrlat=40.0,\n",
      "            resolution='l', area_thresh=1000., projection='lcc',\n",
      "            lat_1=50., lon_0=-107.)\n",
      "\n",
      "\n",
      "# Position in decimal lat/lon.\n",
      "lats = [37.96, 42.82]\n",
      "lons = [-121.29, -73.95]\n",
      "\n",
      "# Convert lat and lon to map projection.\n",
      "mx, my = m(lons, lats)\n",
      "\n",
      "# The NetworkX part\n",
      "# put map projection coordinates in pos dictionary\n",
      "G = nx.Graph()\n",
      "G.add_edge('a', 'b')\n",
      "pos = {}\n",
      "pos['a'] = (mx[0], my[0])\n",
      "pos['b'] = (mx[1], my[1])\n",
      "\n",
      "# Draw.\n",
      "nx.set_node_attributes(G, 'pos', pos)\n",
      "nx.draw_networkx(G, nx.get_node_attributes(G, 'pos'))\n",
      "\n",
      "# Now draw the map\n",
      "m.drawcoastlines()\n",
      "m.drawcountries()\n",
      "m.drawstates()"
     ],
     "language": "python",
     "metadata": {},
     "outputs": []
    },
    {
     "cell_type": "code",
     "collapsed": false,
     "input": [
      "x = xi\n",
      "y = yi\n",
      "\n",
      "G = {}\n",
      "for i in range(len(x)):\n",
      "    for j in range(len(y)):\n",
      "        G[j, i] = []\n",
      "        if i > 0:\n",
      "            if j > 0:\n",
      "                G[j, i].append((j-1, i-1))\n",
      "            if j+1 < len(y):\n",
      "                G[j, i].append((j+1, i-1))\n",
      "            G[j, i].append((j, i-1))\n",
      "        if i+1 < len(x):\n",
      "            if j > 0:\n",
      "                G[j, i].append((j-1, i+1))\n",
      "            if j+1 < len(y):\n",
      "                G[j, i].append((j+1, i+1))\n",
      "            G[j, i].append((j, i+1))\n",
      "        if j > 0:\n",
      "            G[j, i].append((j-1, i))\n",
      "        if j+1 < len(y):\n",
      "            G[j, i].append((j+1, i))"
     ],
     "language": "python",
     "metadata": {},
     "outputs": []
    },
    {
     "cell_type": "code",
     "collapsed": false,
     "input": [
      "import heapq\n",
      "\n",
      "def shortest_path(X, Y, U, V, T, G, start, end, s0=0, t0=0):\n",
      "    q = [(t0, start, ())]\n",
      "    visited = {}\n",
      "    while 1:\n",
      "        cost, v1, path = heapq.heappop(q)\n",
      "        if v1 not in visited or visited[v1] > cost:\n",
      "            path = path + (v1,)\n",
      "            visited[v1] = cost\n",
      "            if v1 == end:\n",
      "                return list(path), cost\n",
      "            for v2 in G[v1]:\n",
      "                cost2 = calculate_cost(X, Y, U, V, T, cost, v1, v2, s0)\n",
      "                A = v2 not in visited or visited[v2] > cost2\n",
      "                B = cost + cost2 <= T[-1]\n",
      "                if A and B:\n",
      "                    heapq.heappush(q, (cost + cost2, v2, path))\n",
      "\n",
      "\n",
      "def calculate_cost(X, Y, U, V, T, t, v1, v2, s0):\n",
      "    l = (T <= t).nonzero()[0].max()\n",
      "    j1, i1 = v1\n",
      "    j2, i2 = v2\n",
      "    \n",
      "    u = (U[l, j1, i1] + U[l, j2, i2]) / 2.\n",
      "    v = (V[l, j1, i1] + V[l, j2, i2]) / 2.\n",
      "    \n",
      "    ds, a = dist(Y[v1], X[v1], Y[v2], X[v2])\n",
      "    \n",
      "    # Velocity along track.\n",
      "    s = s0 + u * np.cos(a) + v * np.sin(a)\n",
      "    if s < 0:\n",
      "        return np.inf\n",
      "    else:\n",
      "        return ds/s"
     ],
     "language": "python",
     "metadata": {},
     "outputs": []
    },
    {
     "cell_type": "code",
     "collapsed": false,
     "input": [
      "# Find start.\n",
      "i = (x <= traj.lon[0]).nonzero()[0].max()\n",
      "j = (y <= traj.lat[0]).nonzero()[0].min()\n",
      "\n",
      "start = j, i\n",
      "\n",
      "# Find end.\n",
      "i = (x <= traj.lon[-1]).nonzero()[0].max()\n",
      "j = (y <= traj.lat[-1]).nonzero()[0].min()\n",
      "\n",
      "end = j, i\n",
      "\n",
      "dates = U.coord('time').units.num2date(U.coord('time').points)\n",
      "\n",
      "T = np.cumsum(np.r_[0, [t.total_seconds() for t in np.diff(dates)]])\n",
      "s0 = 0.86  # m/s.\n",
      "t0 = T[51]  #(dates[0] - traj.index[0]).total_seconds()\n",
      "\n",
      "path, end = shortest_path(Xi, Yi, Ui, Vi, T, G, start, end, s0, t0)"
     ],
     "language": "python",
     "metadata": {},
     "outputs": []
    },
    {
     "cell_type": "code",
     "collapsed": false,
     "input": [
      "fig, ax = make_map()\n",
      "\n",
      "ax.quiver(lon, lat, u, v, color='white')\n",
      "xx = [Xi[s] for s in path]\n",
      "yy = [Yi[s] for s in path]\n",
      "ax.add_feature(OCEAN, facecolor='grey', zorder=0)\n",
      "ax.plot(xx, yy, 'black', transform=ccrs.Geodetic())\n",
      "ax.plot(traj.lon, traj.lat, '-o', color='#FFA500', transform=ccrs.Geodetic())\n",
      "kw = dict(color='black', fontdict=dict(fontweight='bold'))\n",
      "ax.text(traj.lon[0]+1, traj.lat[0], '{}'.format(traj.index[0]), **kw)\n",
      "ax.text(traj.lon[-1]+1, traj.lat[-1], '{}'.format(traj.index[1]), **kw)\n",
      "\n",
      "ax.plot([traj.lon[0], traj.lon[-1]],\n",
      "        [traj.lat[0], traj.lat[-1]],\n",
      "        color='r', linewidth=2, transform=ccrs.Geodetic())\n",
      "_ = ax.set_title('OSCAR Mean Currents')"
     ],
     "language": "python",
     "metadata": {},
     "outputs": []
    },
    {
     "cell_type": "markdown",
     "metadata": {},
     "source": [
      "<a href=\"http://rsbl.royalsocietypublishing.org/content/7/5/674/F1.large.jpg\" target=\"_blank\"><img src=\"http://rsbl.royalsocietypublishing.org/content/7/5/674/F1.medium.gif\"></a>"
     ]
    },
    {
     "cell_type": "code",
     "collapsed": false,
     "input": [
      "print('Elapsed: {}'.format(time.time() - begin))"
     ],
     "language": "python",
     "metadata": {},
     "outputs": []
    }
   ],
   "metadata": {}
  }
 ]
}