{
 "metadata": {
  "kernelspec": {
   "codemirror_mode": {
    "name": "ipython",
    "version": 3
   },
   "display_name": "IOOS (Python 2)",
   "language": "python",
   "name": "ioos_python2"
  },
  "name": "",
  "signature": "sha256:67389431718bcfc18e12c96015f7040f2280d94f92eba423e6303a293ef77ea3"
 },
 "nbformat": 3,
 "nbformat_minor": 0,
 "worksheets": [
  {
   "cells": [
    {
     "cell_type": "markdown",
     "metadata": {},
     "source": [
      "# SGRID demo notebook 3\n",
      "\n",
      "## Goal: Develop CF-convention for staggered grids ocean models.\n",
      "\n",
      "See the github issue:\n",
      "\n",
      "https://github.com/axiomalaska/usgs-cmg-portal/issues/25\n",
      "\n",
      "And Bert Jagers' proposal:\n",
      "\n",
      "https://publicwiki.deltares.nl/display/NETCDF/Deltares+proposal+for+Staggered+Grid+data+model+(SGRID)"
     ]
    },
    {
     "cell_type": "markdown",
     "metadata": {},
     "source": [
      "# Test with data\n",
      "\n",
      "The lines below download 4D (time, depth, lon, lat) velocity and rotation\n",
      "angle data,  from a ROMS model output.  The download slices only one time step\n",
      "and one depth for simplicity, but keeps the 4D dimension shape to demonstrate\n",
      "how the proposal should work."
     ]
    },
    {
     "cell_type": "code",
     "collapsed": false,
     "input": [
      "%%bash\n",
      "\n",
      "url=\"http://omgsrv1.meas.ncsu.edu:8080/thredds/dodsC/fmrc/sabgom/SABGOM_Forecast_Model_Run_Collection_best.ncd\"\n",
      "\n",
      "ncks -F --dimension time,1 \\\n",
      "        --dimension s_rho,36 \\\n",
      "        --variable angle,u,v,Cs_r,zeta,h,hc,lat_psi,lon_psi \\\n",
      "        --overwrite $url ocean_s_coordinate_g1.nc"
     ],
     "language": "python",
     "metadata": {},
     "outputs": [],
     "prompt_number": 1
    },
    {
     "cell_type": "markdown",
     "metadata": {},
     "source": [
      "The `sgrid` attributes are added to $u$ and $v$ and a `grid_center` is added\n",
      "as a global attribute. `sgrid` attribute example (ROMS):"
     ]
    },
    {
     "cell_type": "code",
     "collapsed": false,
     "input": [
      "%%bash\n",
      "\n",
      "# Add the sgrid attributes.\n",
      "ncatted -O -a grid,u,a,c,\"grid\" ocean_s_coordinate_g1.nc\n",
      "ncatted -O -a location,u,a,c,\"edge1\" ocean_s_coordinate_g1.nc\n",
      "\n",
      "ncatted -O -a grid,v,a,c,\"grid\" ocean_s_coordinate_g1.nc\n",
      "ncatted -O -a location,v,a,c,\"edge2\" ocean_s_coordinate_g1.nc\n",
      "\n",
      "ncatted -O -a grid,zeta,a,c,\"grid\" ocean_s_coordinate_g1.nc\n",
      "ncatted -O -a location,v,a,c,\"face\" ocean_s_coordinate_g1.nc\n",
      "\n",
      "// SGRID variable\n",
      "    int grid\n",
      "\n",
      "ncatted -O -a cf_role,grid,a,c,\"grid_topology\" ocean_s_coordinate_g1.nc\n",
      "ncatted -O -a topology_dimension,grid,a,c,2 ocean_s_coordinate_g1.nc\n",
      "ncatted -O -a node_dimensions,grid,a,c,\"xi_psi eta_psi\" ocean_s_coordinate_g1.nc\n",
      "ncatted -O -a face_dimensions,grid,a,c,\"xi_rho: xi_psi (padding: both) eta_rho: eta_psi (padding: both)\" ocean_s_coordinate_g1.nc\n",
      "ncatted -O -a edge1_dimensions,grid,a,c,\"xi_u: xi_psi eta_u: eta_psi (padding: both)\" ocean_s_coordinate_g1.nc\n",
      "ncatted -O -a edge2_dimensions,grid,a,c,\"xi_v: xi_psi (padding: both) eta_v: eta_psi\" ocean_s_coordinate_g1.nc\n",
      "ncatted -O -a node_coordinates,grid,a,c,\"lon_psi lat_psi\" ocean_s_coordinate_g1.nc\n",
      "ncatted -O -a face_coordinates,grid,a,c,\"lon_rho lat_rho\" ocean_s_coordinate_g1.nc\n",
      "ncatted -O -a edge1_coordinates,grid,a,c,\"lon_u lat_u\" ocean_s_coordinate_g1.nc\n",
      "ncatted -O -a edge2_coordinates,grid,a,c,\"lon_v lat_v\" ocean_s_coordinate_g1.nc\n",
      "ncatted -O -a vertical_dimensions,grid,a,c,\"s_rho: s_w (padding: none)\" ocean_s_coordinate_g1.nc"
     ],
     "language": "python",
     "metadata": {},
     "outputs": []
    },
    {
     "cell_type": "markdown",
     "metadata": {},
     "source": [
      "# Slicer\n",
      "\n",
      "The slicer function is the core of the `sgrid` attribute idea.  The function\n",
      "reads the `sgrid` attribute and construct a slice object.  The object can then\n",
      "be used to get the shape-consistent variables.\n",
      "\n",
      "The slicer **does not**:\n",
      "\n",
      "- choose the grid that will be used (in the ROMS case $\\rho$ or $\\psi$)\n",
      "- operate on more than 1 variable\n",
      "- interpolate/average data\n",
      "\n",
      "The slicer is built to be as simple as possible.  That way, users and\n",
      "automatic tools (like iris), can use it as they please.\n",
      "\n",
      "That means the user needs to:\n",
      "\n",
      "- choose a grid to project the data\n",
      "- use a chained operation for the variables to be project ($u$ and $v$ or more)\n",
      "- choose a interpolation method"
     ]
    },
    {
     "cell_type": "code",
     "collapsed": false,
     "input": [
      "def slicer(sgrid):\n",
      "    \"\"\"Return a tuple of slice objects based in the `sgrid` attribute.\"\"\"\n",
      "    cut = []\n",
      "    for k in sgrid:\n",
      "        if k == 0:\n",
      "            cut.append(slice(None, None, None))\n",
      "        elif k < 0:\n",
      "            cut.append(slice(None, k, abs(k)))\n",
      "        elif k > 0:\n",
      "            cut.append(slice(k, None, abs(k)))\n",
      "    return tuple(cut)"
     ],
     "language": "python",
     "metadata": {},
     "outputs": []
    },
    {
     "cell_type": "code",
     "collapsed": false,
     "input": [
      "import iris\n",
      "import warnings\n",
      "\n",
      "with warnings.catch_warnings():\n",
      "    warnings.simplefilter(\"ignore\")\n",
      "    cubes = iris.load_raw('ocean_s_coordinate_g1.nc')\n",
      "\n",
      "print(cubes)\n",
      "\n",
      "u = cubes.extract_strict('eastward_sea_water_velocity_assuming_no_tide')\n",
      "v = cubes.extract_strict('northward_sea_water_velocity_assuming_no_tide')\n",
      "angle = cubes.extract_strict('angle between XI-axis and EAST')"
     ],
     "language": "python",
     "metadata": {},
     "outputs": []
    },
    {
     "cell_type": "markdown",
     "metadata": {},
     "source": [
      "### Read the attributes:"
     ]
    },
    {
     "cell_type": "code",
     "collapsed": false,
     "input": [
      "grid_u = [int(c) for c in u.attributes['sgrid'].split()]\n",
      "grid_v = [int(c) for c in v.attributes['sgrid'].split()]"
     ],
     "language": "python",
     "metadata": {},
     "outputs": []
    },
    {
     "cell_type": "markdown",
     "metadata": {},
     "source": [
      "### Derive the attributes:"
     ]
    },
    {
     "cell_type": "code",
     "collapsed": false,
     "input": [
      "from itertools import izip_longest as zip_longest\n",
      "\n",
      "print(grid_u == [s-c for s, c in zip_longest(*map(reversed, (u.shape, angle.shape)), fillvalue=1)][::-1])\n",
      "print(grid_v == [s-c for s, c in zip_longest(*map(reversed, (v.shape, angle.shape)), fillvalue=1)][::-1])"
     ],
     "language": "python",
     "metadata": {},
     "outputs": []
    },
    {
     "cell_type": "markdown",
     "metadata": {},
     "source": [
      "To derive the `sgrid` attribute we need one information that is \"external\" to\n",
      "the variable in question: the shape of the grid we want to project."
     ]
    },
    {
     "cell_type": "markdown",
     "metadata": {},
     "source": [
      "# Example\n",
      "\n",
      "Project the velocities at the $\\rho$ points where the variable `angle` is\n",
      "defined.\n",
      "\n",
      "(Note: one may also project $angle$, $u$ and $v$ at the $\\psi$ points\n",
      "instead.  All that is needed is the **shape** of the final grid  and the\n",
      "`sgrid` attribute.\n",
      "\n",
      "Also note that automatic tools will take a decision for the users here!\n",
      "Right now iris does nothing.  @rsignell-usgs what is snctools in this case?)"
     ]
    },
    {
     "cell_type": "markdown",
     "metadata": {},
     "source": [
      "This time I am not using `zip_longest`, because I **do** want to truncate to\n",
      "the shortest shape.  The variable `angle` does not contain `time` nor `depth`\n",
      "dimensions."
     ]
    },
    {
     "cell_type": "code",
     "collapsed": false,
     "input": [
      "grid_u = [s-c for s, c in zip(*map(reversed, (u.shape, angle.shape)))][::-1]\n",
      "grid_v = [s-c for s, c in zip(*map(reversed, (v.shape, angle.shape)))][::-1]"
     ],
     "language": "python",
     "metadata": {},
     "outputs": []
    },
    {
     "cell_type": "code",
     "collapsed": false,
     "input": [
      "print(angle[slicer(grid_u)].shape, u.shape)"
     ],
     "language": "python",
     "metadata": {},
     "outputs": []
    },
    {
     "cell_type": "code",
     "collapsed": false,
     "input": [
      "print(angle[slicer(grid_v)].shape, v.shape)"
     ],
     "language": "python",
     "metadata": {},
     "outputs": []
    },
    {
     "cell_type": "code",
     "collapsed": false,
     "input": [
      "angle_uv = angle[slicer(grid_u)][slicer(grid_v)]\n",
      "\n",
      "print(angle_uv.shape)"
     ],
     "language": "python",
     "metadata": {},
     "outputs": []
    },
    {
     "cell_type": "markdown",
     "metadata": {},
     "source": [
      "In this case I sliced the cube object, so `angle_uv` has the proper sliced \n",
      "coordinates attached."
     ]
    },
    {
     "cell_type": "code",
     "collapsed": false,
     "input": [
      "print(angle_uv)"
     ],
     "language": "python",
     "metadata": {},
     "outputs": []
    },
    {
     "cell_type": "markdown",
     "metadata": {},
     "source": [
      "# Averaging\n",
      "\n",
      "Simply averaging adjacent points is enough. I opted for a simplified version of\n",
      "[octant's](https://github.com/hetland/octant) [shrink](https://github.com/hetland/octant/blob/b1163e5f462bf954088056aca009fd3f7cb51e86/octant/tools.py#L38) function.\n",
      "The `mod_shrink` takes the array to be averaged, and the desired shape."
     ]
    },
    {
     "cell_type": "code",
     "collapsed": false,
     "input": [
      "def mod_shrink(arr, shape):\n",
      "    \"\"\"This is just a modified version of shrink function from octant.\n",
      "    It takes the array to be averaged and the desired shape.\"\"\"\n",
      "    for dim_idx in range(-(len(arr.shape)), 0):\n",
      "        dim = shape[dim_idx]\n",
      "        arr = arr.swapaxes(0, dim_idx)  # Put working dim first.\n",
      "        while arr.shape[0] > dim:\n",
      "            if (arr.shape[0] - dim) >= 2:  # Trim off edges evenly.\n",
      "                a = a[1:-1, :]\n",
      "            if (arr.shape[0] - dim) == 1:  # Or average adjacent cells.\n",
      "                arr = 0.5 * (arr[1:, :] + arr[:-1, :])\n",
      "        arr = arr.swapaxes(0, dim_idx)  # Swap working dim back.\n",
      "    return arr"
     ],
     "language": "python",
     "metadata": {},
     "outputs": []
    },
    {
     "cell_type": "code",
     "collapsed": false,
     "input": [
      "# FIXME: `.data.squeeze()` is awkward.  Find a better way!\n",
      "# TODO: Return cubes.\n",
      "u = mod_shrink(u.data.squeeze(), angle_uv.shape)\n",
      "v = mod_shrink(v.data.squeeze(), angle_uv.shape)"
     ],
     "language": "python",
     "metadata": {},
     "outputs": []
    },
    {
     "cell_type": "code",
     "collapsed": false,
     "input": [
      "import numpy as np\n",
      "\n",
      "# TODO: Return cubes.\n",
      "def rot2d(x, y, ang):\n",
      "    \"\"\"Rotate vectors by geometric angle.\"\"\"\n",
      "    xr = x * np.cos(ang) - y * np.sin(ang)\n",
      "    yr = x * np.sin(ang) + y * np.cos(ang)\n",
      "    return xr, yr\n",
      "\n",
      "u, v = rot2d(u, v, angle_uv.data)"
     ],
     "language": "python",
     "metadata": {},
     "outputs": []
    },
    {
     "cell_type": "markdown",
     "metadata": {},
     "source": [
      "ROMS output stores grids (2D lon, lat information) for $u$ and $v$.  That\n",
      "means, if iris implements 2D regridding, the task above task will be as\n",
      "simple as:\n",
      "\n",
      "```python\n",
      "u = iris.load_cube(url, 'eastward_sea_water_velocity')\n",
      "v = iris.load_cube(url, 'northward_sea_water_velocity')\n",
      "angle = iris.load_cube(url, 'angle between XI-axis and EAST')\n",
      "\n",
      "u = u.regrid(angle, iris.analysis.Linear())\n",
      "v = v.regrid(angle, iris.analysis.Linear())\n",
      "\n",
      "# One should implement a cube preserving `rot2d` function!\n",
      "u, v = rot2d(u.data, v.data, angle.data)\n",
      "```\n",
      "\n",
      "The final shape will be `angle.shape`, but I think iris does not extrapolate,\n",
      "so the actual valid data will be `angle.shape[..., 1:-1, 1:-1]`.\n",
      "\n",
      "In this approach no `sgrid` attribute was used.  But it is nice to have\n",
      "it there in case the user choose another route or needs any sgrid detail."
     ]
    },
    {
     "cell_type": "markdown",
     "metadata": {},
     "source": [
      "# Plotting"
     ]
    },
    {
     "cell_type": "code",
     "collapsed": true,
     "input": [
      "%matplotlib inline\n",
      "\n",
      "import cartopy.crs as ccrs\n",
      "import matplotlib.pyplot as plt\n",
      "import cartopy.feature as cfeature\n",
      "from cartopy.mpl.gridliner import LONGITUDE_FORMATTER, LATITUDE_FORMATTER\n",
      "\n",
      "LAND = cfeature.NaturalEarthFeature('physical', 'land', '50m',\n",
      "                                    edgecolor='face',\n",
      "                                    facecolor=cfeature.COLORS['land'])\n",
      "\n",
      "\n",
      "def make_map(bbox=[-87.4, -74.7, 24.25, 36.70],\n",
      "             projection=ccrs.PlateCarree()):\n",
      "    fig, ax = plt.subplots(figsize=(8, 6),\n",
      "                           subplot_kw=dict(projection=projection))\n",
      "    ax.set_extent(bbox)\n",
      "    ax.add_feature(LAND, facecolor='0.75')\n",
      "    ax.coastlines(resolution='50m')\n",
      "    gl = ax.gridlines(draw_labels=True)\n",
      "    gl.xlabels_top = gl.ylabels_right = False\n",
      "    gl.xformatter = LONGITUDE_FORMATTER\n",
      "    gl.yformatter = LATITUDE_FORMATTER\n",
      "    return fig, ax"
     ],
     "language": "python",
     "metadata": {},
     "outputs": []
    },
    {
     "cell_type": "code",
     "collapsed": false,
     "input": [
      "# Compare with this.\n",
      "from utils import shrink\n",
      "from netCDF4 import Dataset\n",
      "\n",
      "\n",
      "def get_roms(url):\n",
      "    with Dataset(url) as nc:\n",
      "        ncv = nc.variables\n",
      "\n",
      "        lon = ncv['lon_rho'][:]\n",
      "        lat = ncv['lat_rho'][:]\n",
      "        angle = ncv['angle'][:]\n",
      "\n",
      "        u = ncv['u'][:]\n",
      "        v = ncv['v'][:]\n",
      "\n",
      "        u = shrink(u.squeeze(), angle[1:-1, 1:-1].shape)\n",
      "        v = shrink(v.squeeze(), angle[1:-1, 1:-1].shape)\n",
      "\n",
      "        u, v = rot2d(u, v, angle[1:-1, 1:-1])\n",
      "\n",
      "        lon = lon[1:-1, 1:-1]\n",
      "        lat = lat[1:-1, 1:-1]\n",
      "\n",
      "    return dict(lon=lon, lat=lat, u=u, v=v)\n",
      "\n",
      "data = get_roms('ocean_s_coordinate_g1.nc')"
     ],
     "language": "python",
     "metadata": {},
     "outputs": []
    },
    {
     "cell_type": "code",
     "collapsed": true,
     "input": [
      "kw = dict(scale=20, headwidth=2, regrid_shape=60)\n",
      "\n",
      "lon = angle_uv.coord(axis='X').points\n",
      "lat = angle_uv.coord(axis='Y').points\n",
      "\n",
      "fig, ax = make_map()\n",
      "Q0 = ax.quiver(lon, lat,\n",
      "               u, v,\n",
      "               color='black', **kw)\n",
      "Q1 = ax.quiver(data['lon'], data['lat'],\n",
      "               data['u'], data['v'],\n",
      "               color='red', alpha=0.5, **kw)"
     ],
     "language": "python",
     "metadata": {},
     "outputs": []
    },
    {
     "cell_type": "code",
     "collapsed": false,
     "input": [
      "fig, ax = make_map()\n",
      "Q0 = ax.quiver(lon, lat,\n",
      "               u, v,\n",
      "               color='black', **kw)\n",
      "\n",
      "Q1 = ax.quiver(data['lon'], data['lat'],\n",
      "               data['u'], data['v'],\n",
      "               color='red', alpha=0.5, **kw)\n",
      "\n",
      "zoom = ax.axis([-80, -78, 26, 28])"
     ],
     "language": "python",
     "metadata": {},
     "outputs": []
    }
   ],
   "metadata": {}
  }
 ]
}