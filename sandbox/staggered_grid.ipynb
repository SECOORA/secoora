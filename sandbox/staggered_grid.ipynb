{
 "metadata": {
  "kernelspec": {
   "codemirror_mode": {
    "name": "ipython",
    "version": 3
   },
   "display_name": "IOOS (Python 2)",
   "language": "python",
   "name": "ioos_python2"
  },
  "name": "",
  "signature": "sha256:a571a1d235ffe93b0513b8b4b695d9486c9e90c668ab44126369a7fe584ac02e"
 },
 "nbformat": 3,
 "nbformat_minor": 0,
 "worksheets": [
  {
   "cells": [
    {
     "cell_type": "markdown",
     "metadata": {},
     "source": [
      "https://github.com/axiomalaska/usgs-cmg-portal/issues/25"
     ]
    },
    {
     "cell_type": "markdown",
     "metadata": {},
     "source": [
      "```bash\n",
      "%%bash\n",
      "url=\"http://omgsrv1.meas.ncsu.edu:8080/thredds/dodsC/fmrc/sabgom/SABGOM_Forecast_Model_Run_Collection_best.ncd\"\n",
      "ncks -F --dimension time,1 \\\n",
      "        --dimension s_rho,36 \\\n",
      "        --variable salt,mask_rho,angle,lon_psi,lat_psi,u,v \\\n",
      "        --overwrite $url ocean_s_coordinate_g1.nc\n",
      "```"
     ]
    },
    {
     "cell_type": "code",
     "collapsed": true,
     "input": [
      "import numpy as np\n",
      "import numpy.ma as ma\n",
      "\n",
      "\n",
      "def get_roms(fname):\n",
      "    with Dataset(fname) as nc:\n",
      "        ncv = nc.variables\n",
      "\n",
      "        mask = ncv['mask_rho'][:]\n",
      "        lon_rho = ncv['lon_rho'][:]\n",
      "        lat_rho = ncv['lat_rho'][:]\n",
      "        angle = ncv['angle'][:]\n",
      "\n",
      "        u = ncv['u'][:].squeeze()\n",
      "        v = ncv['v'][:].squeeze()\n",
      "\n",
      "        u = shrink(u, mask[1:-1, 1:-1].shape)\n",
      "        v = shrink(v, mask[1:-1, 1:-1].shape)\n",
      "\n",
      "        u, v = rot2d(u, v, angle[1:-1, 1:-1])\n",
      "\n",
      "        lon = lon_rho[1:-1, 1:-1]\n",
      "        lat = lat_rho[1:-1, 1:-1]\n",
      "\n",
      "        u = ma.masked_invalid(u)\n",
      "        v = ma.masked_invalid(v)\n",
      "    return dict(lon=lon, lat=lat, u=u, v=v)\n",
      "\n",
      "\n",
      "def rot2d(x, y, ang):\n",
      "    \"\"\"Rotate vectors by geometric angle.\"\"\"\n",
      "    xr = x * np.cos(ang) - y * np.sin(ang)\n",
      "    yr = x * np.sin(ang) + y * np.cos(ang)\n",
      "    return xr, yr\n",
      "\n",
      "\n",
      "def shrink(a, b):\n",
      "    \"\"\"Return array shrunk to fit a specified shape by trimming or averaging.\n",
      "\n",
      "    a = shrink(array, shape)\n",
      "\n",
      "    array is an numpy ndarray, and shape is a tuple (e.g., from\n",
      "    array.shape).  `a` is the input array shrunk such that its maximum\n",
      "    dimensions are given by shape. If shape has more dimensions than\n",
      "    array, the last dimensions of shape are fit.\n",
      "\n",
      "    as, bs = shrink(a, b)\n",
      "\n",
      "    If the second argument is also an array, both a and b are shrunk to\n",
      "    the dimensions of each other. The input arrays must have the same\n",
      "    number of dimensions, and the resulting arrays will have the same\n",
      "    shape.\n",
      "    Example\n",
      "    -------\n",
      "\n",
      "    >>> shrink(rand(10, 10), (5, 9, 18)).shape\n",
      "    (9, 10)\n",
      "    >>> map(shape, shrink(rand(10, 10, 10), rand(5, 9, 18)))\n",
      "    [(5, 9, 10), (5, 9, 10)]\n",
      "\n",
      "    \"\"\"\n",
      "\n",
      "    if isinstance(b, np.ndarray):\n",
      "        if not len(a.shape) == len(b.shape):\n",
      "            raise Exception('Input arrays must have the same number of'\n",
      "                            'dimensions')\n",
      "        a = shrink(a, b.shape)\n",
      "        b = shrink(b, a.shape)\n",
      "        return (a, b)\n",
      "\n",
      "    if isinstance(b, int):\n",
      "        b = (b,)\n",
      "\n",
      "    if len(a.shape) == 1:  # 1D array is a special case\n",
      "        dim = b[-1]\n",
      "        while a.shape[0] > dim:  # Only shrink a.\n",
      "            if (dim - a.shape[0]) >= 2:  # Trim off edges evenly.\n",
      "                a = a[1:-1]\n",
      "            else:  # Or average adjacent cells.\n",
      "                a = 0.5*(a[1:] + a[:-1])\n",
      "    else:\n",
      "        for dim_idx in range(-(len(a.shape)), 0):\n",
      "            dim = b[dim_idx]\n",
      "            a = a.swapaxes(0, dim_idx)  # Put working dim first\n",
      "            while a.shape[0] > dim:  # Only shrink a\n",
      "                if (a.shape[0] - dim) >= 2:  # trim off edges evenly\n",
      "                    a = a[1:-1, :]\n",
      "                if (a.shape[0] - dim) == 1:  # Or average adjacent cells.\n",
      "                    a = 0.5*(a[1:, :] + a[:-1, :])\n",
      "            a = a.swapaxes(0, dim_idx)  # Swap working dim back.\n",
      "    return a"
     ],
     "language": "python",
     "metadata": {},
     "outputs": [],
     "prompt_number": 1
    },
    {
     "cell_type": "markdown",
     "metadata": {},
     "source": [
      "@rsignell: What if we just added an attribute like:\n",
      "\n",
      "- v: [0 0 -1 0]\n",
      "- u: [0 0 0 -1]\n",
      "- grid center: [0 0 0 0]\n",
      "\n",
      "The user would need to specify the offsets for all dimensions,\n",
      "unlike the coordinates attribute that doesn't force the user to\n",
      "specify all the coordinates.  Just those that can't be figured out\n",
      "some other way.  The beauty of this approach is that we don't need\n",
      "to specify the dimension order.  The user just specifies the correct\n",
      "offsets, no matter what the order."
     ]
    },
    {
     "cell_type": "code",
     "collapsed": false,
     "input": [
      "from netCDF4 import Dataset\n",
      "\n",
      "fname = \"ocean_s_coordinate_g1.nc\"\n",
      "with Dataset(fname) as nc:\n",
      "    ncv = nc.variables\n",
      "    \n",
      "    a = ncv['angle'][:]  # (eta_rho: 320, xi_rho: 440)\n",
      "    s = ncv['salt'][:]  # (time: 1, s_rho: 1, eta_rho: 320, xi_rho: 440)\n",
      "    \n",
      "    lat_psi = ncv['lat_psi'][:]  # (eta_psi: 319, xi_psi: 439)\n",
      "    lon_psi = ncv['lon_psi'][:]  # (eta_psi, xi_psi)\n",
      "    \n",
      "    lat_rho = ncv['lat_rho'][:]  # (eta_rho: 320, xi_rho: 440)\n",
      "    lon_rho = ncv['lon_rho'][:]  # (eta_rho: 320, xi_rho: 440)\n",
      "    \n",
      "    lat_u = ncv['lat_u'][:]  # (eta_u: 320, xi_u: 439)\n",
      "    lon_u = ncv['lon_u'][:]  # (eta_u: 320, xi_u: 439)\n",
      "    \n",
      "    lat_v = ncv['lat_v'][:]  # (eta_v: 319, xi_v: 440)\n",
      "    lon_v = ncv['lon_v'][:]  # (eta_v: 319, xi_v: 440)\n",
      "    \n",
      "    u = ncv['u'][:]  # (time: 1, s_rho: 1, eta_u:320, xi_u: 439)\n",
      "    v = ncv['v'][:]  # (time: 1, s_rho: 1, eta_v: 319, xi_v: 440)"
     ],
     "language": "python",
     "metadata": {},
     "outputs": [],
     "prompt_number": 2
    },
    {
     "cell_type": "markdown",
     "metadata": {},
     "source": [
      "https://www.myroms.org/forum/viewtopic.php?f=3&t=295&p=684\n",
      "\n",
      "                ------- V(i,j+1)-------\n",
      "                |                     |\n",
      "             U(i,j)     RHO(i,j)   U(i+1,j)\n",
      "                |                     |\n",
      "                -------- V(i,j)--------"
     ]
    },
    {
     "cell_type": "code",
     "collapsed": false,
     "input": [
      "mapping = dict({0: slice(None),\n",
      "              -1: slice(None, None, -1),\n",
      "               1: slice(None, None, 1)})\n",
      "\n",
      "slicer = lambda attr: [mapping[k] for k in attr]\n",
      "\n",
      "\n",
      "attr_u = (0, 0, 0, -1)\n",
      "attr_v = (0, 0, -1, 0)\n",
      "center = (0, 0, 0, 0)\n",
      "\n",
      "print(u.shape, u[slicer(attr_u)].shape)"
     ],
     "language": "python",
     "metadata": {},
     "outputs": [
      {
       "output_type": "stream",
       "stream": "stdout",
       "text": [
        "((1, 1, 320, 439), (1, 1, 320, 439))\n"
       ]
      }
     ],
     "prompt_number": 80
    },
    {
     "cell_type": "code",
     "collapsed": false,
     "input": [
      "def grid_center(var, attr, center_at='psi'):\n",
      "    \"\"\"\n",
      "    Upsi(i, j) = 0.5 * [U(i, j) + U(i, j-1)]\n",
      "    Vpsi(i, j) = 0.5 * [V(i, j) + V(i-1, j)]\n",
      "\n",
      "    Urho(i, j) = 0.5 * [U(i, j) + U(i+1, j)]\n",
      "    Vrho(i, j) = 0.5 * [V(i, j) + V(i, j+1)]\n",
      "    \"\"\"\n",
      "    if center_at == 'psi':\n",
      "        var_mod = var[slicer(attr)]\n",
      "    elif center_at == 'rho':\n",
      "        var_mod = var[slicer(attr)]\n",
      "    else:\n",
      "        raise ValueError('Unrecognized center_at: {!r}'.format(center_at))\n",
      "    return 0.5 * (var + var_mod)\n",
      "\n",
      "u_psi = grid_center(u, attr_u, center_at='psi')\n",
      "v_psi = grid_center(v, attr_v, center_at='psi')\n",
      "\n",
      "u_psi.shape, v_psi.shape"
     ],
     "language": "python",
     "metadata": {},
     "outputs": [
      {
       "metadata": {},
       "output_type": "pyout",
       "prompt_number": 91,
       "text": [
        "((1, 1, 320, 439), (1, 1, 319, 440))"
       ]
      }
     ],
     "prompt_number": 91
    },
    {
     "cell_type": "code",
     "collapsed": true,
     "input": [
      "%matplotlib inline\n",
      "\n",
      "import cartopy.crs as ccrs\n",
      "import matplotlib.pyplot as plt\n",
      "import cartopy.feature as cfeature\n",
      "from cartopy.mpl.gridliner import LONGITUDE_FORMATTER, LATITUDE_FORMATTER\n",
      "\n",
      "LAND = cfeature.NaturalEarthFeature('physical', 'land', '50m',\n",
      "                                    edgecolor='face',\n",
      "                                    facecolor=cfeature.COLORS['land'])\n",
      "\n",
      "\n",
      "def make_map(bbox=[-87.4, -74.7, 24.25, 36.70],\n",
      "             projection=ccrs.PlateCarree()):\n",
      "    fig, ax = plt.subplots(figsize=(8, 6),\n",
      "                           subplot_kw=dict(projection=projection))\n",
      "    ax.set_extent(bbox)\n",
      "    ax.add_feature(LAND, facecolor='0.75')\n",
      "    ax.coastlines(resolution='50m')\n",
      "    gl = ax.gridlines(draw_labels=True)\n",
      "    gl.xlabels_top = gl.ylabels_right = False\n",
      "    gl.xformatter = LONGITUDE_FORMATTER\n",
      "    gl.yformatter = LATITUDE_FORMATTER\n",
      "    return fig, ax"
     ],
     "language": "python",
     "metadata": {},
     "outputs": [],
     "prompt_number": 89
    },
    {
     "cell_type": "code",
     "collapsed": true,
     "input": [
      "kw = dict(scale=20, headwidth=2)\n",
      "\n",
      "fig, ax = make_map()\n",
      "Q0 = ax.quiver(lon_psi, lat_psi, u_psi.squeeze(), v_psi.squeeze(), color='cornflowerblue', **kw)\n",
      "\n",
      "data = get_roms(fname)\n",
      "Q1 = ax.quiver(data['lon'], data['lat'], data['u'], data['v'], color='red', **kw)\n",
      "\n",
      "ax.axis([-80.5, -79, 30.5, 31])"
     ],
     "language": "python",
     "metadata": {},
     "outputs": []
    },
    {
     "cell_type": "code",
     "collapsed": true,
     "input": [
      "from IPython.display import Image\n",
      "\n",
      "Image(\"https://www.myroms.org/wiki/images/0/0f/staggered_grid_rho_cells.png\")"
     ],
     "language": "python",
     "metadata": {},
     "outputs": []
    }
   ],
   "metadata": {}
  }
 ]
}