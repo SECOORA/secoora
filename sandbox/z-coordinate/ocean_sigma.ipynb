{
 "metadata": {
  "gist_id": "f9923fac1a25f69e0966",
  "name": "",
  "signature": "sha256:1dea52daa9ba28c0c0a59fca2f66798a53727ae62db38918096845921033fca9"
 },
 "nbformat": 3,
 "nbformat_minor": 0,
 "worksheets": [
  {
   "cells": [
    {
     "cell_type": "markdown",
     "metadata": {},
     "source": [
      "https://github.com/ocefpaf/secoora/issues/2"
     ]
    },
    {
     "cell_type": "code",
     "collapsed": false,
     "input": [
      "import numpy as np\n",
      "import numpy.ma as ma\n",
      "import matplotlib.pyplot as plt\n",
      "\n",
      "import iris\n",
      "import iris.plot as iplt\n",
      "import iris.quickplot as qplt\n",
      "\n",
      "print(iris.__version__)  # ocean_sigma_coordinate branch\n",
      "\n",
      "# url = \"http://opendap.co-ops.nos.noaa.gov/thredds/dodsC/NYOFS/fmrc/Aggregated_7_day_NYOFS_Fields_Forecast_best.ncd\"\n",
      "cube = iris.load_cube('./data/ocean_sigma.nc', 'upward_sea_water_velocity')\n",
      "\n",
      "print(cube)"
     ],
     "language": "python",
     "metadata": {},
     "outputs": [
      {
       "output_type": "stream",
       "stream": "stdout",
       "text": [
        "1.7.0-dev\n",
        "upward_sea_water_velocity                             (time: 1; ocean_sigma_coordinate: 7; -- : 134; -- : 73)\n",
        "     Dimension coordinates:\n",
        "          time                                             x                          -       -         -\n",
        "          ocean_sigma_coordinate                           -                          x       -         -\n",
        "     Auxiliary coordinates:\n",
        "          forecast_reference_time                          x                          -       -         -\n",
        "          sea_surface_elevation                            x                          -       x         x\n",
        "          depth                                            -                          -       x         x\n",
        "          latitude                                         -                          -       x         x\n",
        "          longitude                                        -                          -       x         x\n",
        "     Derived coordinates:\n",
        "          sea_surface_height_above_reference_ellipsoid     x                          x       x         x\n",
        "     Attributes:\n",
        "          Conventions: CF-1.4, _Coordinates\n",
        "          NCO: 4.2.5\n",
        "          _CoordSysBuilder: ucar.nc2.dataset.conv.CF1Convention\n",
        "          cdm_data_type: GRID\n",
        "          comment: Unix\n",
        "          creation_date: 2014-05-16 11:35:30  00:00\n",
        "          featureType: GRID\n",
        "          file_type: Full_Grid\n",
        "          grid_type: curvilinear\n",
        "          history: Mon May 19 06:45:17 2014: ncks -d time,0 http://opendap.co-ops.nos.noaa.gov/thredds/dodsC/NYOFS/fmrc/Aggregated_7_day_NYOFS_Fields_Forecast_best.ncd...\n",
        "          institution: SGI O300\n",
        "          location: Proto fmrc:Aggregated_7_day_NYOFS_Fields_Forecast\n",
        "          model: POM\n",
        "          references: eugene.wei@noaa.gov\n",
        "          source: CSDL/MMAP\n",
        "          summary: NOS created the Port of New York and New Jersey Operational Forecast System...\n",
        "          title: NYOFS - New York and New Jersey Operational Forecast System - NOAA CO-OPS...\n",
        "          z_type: sigma"
       ]
      },
      {
       "output_type": "stream",
       "stream": "stdout",
       "text": [
        "\n"
       ]
      },
      {
       "output_type": "stream",
       "stream": "stderr",
       "text": [
        "/home/filipe/.virtualenvs/iris/lib/python2.7/site-packages/iris/fileformats/_pyke_rules/compiled_krb/fc_rules_cf_fc.py:1316: UserWarning: Gracefully filling 'time' dimension coordinate masked points\n",
        "  warnings.warn(msg.format(str(cf_coord_var.cf_name)))\n",
        "/home/filipe/.virtualenvs/iris/lib/python2.7/site-packages/iris/fileformats/_pyke_rules/compiled_krb/fc_rules_cf_fc.py:1221: UserWarning: Ignoring netCDF variable 'mask' invalid units 'nondimensional'\n",
        "  warnings.warn(msg.format(msg_name, msg_units))\n",
        "/home/filipe/.virtualenvs/iris/lib/python2.7/site-packages/iris/fileformats/_pyke_rules/compiled_krb/fc_rules_cf_fc.py:1221: UserWarning: Ignoring netCDF variable 'sigma' invalid units 'sigma_level'\n",
        "  warnings.warn(msg.format(msg_name, msg_units))\n"
       ]
      }
     ],
     "prompt_number": 1
    },
    {
     "cell_type": "code",
     "collapsed": false,
     "input": [
      "z = cube.coords(axis='Z')\n",
      "print(len(z))"
     ],
     "language": "python",
     "metadata": {},
     "outputs": [
      {
       "output_type": "stream",
       "stream": "stdout",
       "text": [
        "2\n"
       ]
      }
     ],
     "prompt_number": 2
    },
    {
     "cell_type": "code",
     "collapsed": false,
     "input": [
      "z[0]"
     ],
     "language": "python",
     "metadata": {},
     "outputs": [
      {
       "metadata": {},
       "output_type": "pyout",
       "prompt_number": 3,
       "text": [
        "DimCoord(array([-0.        , -0.1666667 , -0.33333331, -0.5       , -0.66666669,\n",
        "       -0.83333331, -1.        ], dtype=float32), standard_name=u'ocean_sigma_coordinate', units=Unit('unknown'), long_name=u'Sigma Stretched Vertical Coordinate at Nodes', var_name='sigma', attributes={'_CoordinateAxes': 'sigma', 'positive': 'up', 'invalid_units': u'sigma_level', '_CoordinateZisPositive': 'up', '_CoordinateTransformType': 'Vertical', '_CoordinateAxisType': 'GeoZ'})"
       ]
      }
     ],
     "prompt_number": 3
    },
    {
     "cell_type": "code",
     "collapsed": false,
     "input": [
      "z[1].standard_name, z[1].units"
     ],
     "language": "python",
     "metadata": {},
     "outputs": [
      {
       "metadata": {},
       "output_type": "pyout",
       "prompt_number": 4,
       "text": [
        "('sea_surface_height_above_reference_ellipsoid', Unit('unknown'))"
       ]
      }
     ],
     "prompt_number": 4
    },
    {
     "cell_type": "code",
     "collapsed": false,
     "input": [
      "eta = cube.aux_coords[1].points\n",
      "sigma = z[0].points\n",
      "depth = cube.aux_coords[2].points\n",
      "\n",
      "eta.shape, sigma.shape, depth.shape"
     ],
     "language": "python",
     "metadata": {},
     "outputs": [
      {
       "metadata": {},
       "output_type": "pyout",
       "prompt_number": 5,
       "text": [
        "((1, 134, 73), (7,), (134, 73))"
       ]
      }
     ],
     "prompt_number": 5
    },
    {
     "cell_type": "code",
     "collapsed": false,
     "input": [
      "zz = eta + sigma[:, None, None] * (depth + eta)"
     ],
     "language": "python",
     "metadata": {},
     "outputs": [],
     "prompt_number": 6
    },
    {
     "cell_type": "code",
     "collapsed": false,
     "input": [
      "(ma.masked_invalid(z[1].points) == ma.masked_invalid(zz)).all()"
     ],
     "language": "python",
     "metadata": {},
     "outputs": [
      {
       "metadata": {},
       "output_type": "pyout",
       "prompt_number": 7,
       "text": [
        "True"
       ]
      }
     ],
     "prompt_number": 7
    },
    {
     "cell_type": "code",
     "collapsed": false,
     "input": [
      "c = cube[0, :, 20, 60]\n",
      "\n",
      "name = ' '.join(c.standard_name.split('_'))\n",
      "unit = c.units\n",
      "lon = c.coord(axis='X').points[0]\n",
      "lat = c.coord(axis='Y').points[0]\n",
      "\n",
      "title = r'%s in %s $\\times 10^{-3}$ at: lon = %s, lat = %s' % (name, unit, lon, lat)\n",
      "\n",
      "iplt.plot(c * 1e3, c.coord('sea_surface_height_above_reference_ellipsoid'))\n",
      "plt.title(title)"
     ],
     "language": "python",
     "metadata": {},
     "outputs": [
      {
       "metadata": {},
       "output_type": "pyout",
       "prompt_number": 8,
       "text": [
        "<matplotlib.text.Text at 0x4f67590>"
       ]
      },
      {
       "metadata": {},
       "output_type": "display_data",
       "png": "[encoded data removed]",
       "text": [
        "<matplotlib.figure.Figure at 0x4f50bd0>"
       ]
      }
     ],
     "prompt_number": 8
    }
   ],
   "metadata": {}
  }
 ]
}