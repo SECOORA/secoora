{
 "metadata": {
  "name": "",
  "signature": "sha256:b72e5530be330f534309def580fcee0ef41f8325718c76262c3e54e1e65624cf"
 },
 "nbformat": 3,
 "nbformat_minor": 0,
 "worksheets": [
  {
   "cells": [
    {
     "cell_type": "markdown",
     "metadata": {},
     "source": [
      "## Find if a cube contains model data"
     ]
    },
    {
     "cell_type": "code",
     "collapsed": false,
     "input": [
      "def source_of_data(cube, coverage_content_type='modelResult'):\n",
      "    \"\"\"\n",
      "    Check if the `coverage_content_type` of the cude.\n",
      "    The `coverage_content_type` is an ISO 19115-1 code to indicating the\n",
      "    source of the data types and can be one of the following:\n",
      "    \n",
      "    image, thematicClassification, physicalMeasurement, auxiliaryInformation,\n",
      "    qualityInformation, referenceInformation, modelResult, coordinate\n",
      "\n",
      "    Examples\n",
      "    --------\n",
      "    >>> import iris\n",
      "    >>> iris.FUTURE.netcdf_promote = True\n",
      "    >>> url = (\"http://testbedapps-dev.sura.org/thredds/dodsC/\"\n",
      "    ...        \"in/vims/selfe/ike/ultralite/vardrag/nowave/2d\")\n",
      "    >>> cubes = iris.load_raw(url, 'sea_surface_height_above_geoid')\n",
      "    >>> [source_of_data(cube) for cube in cubes]\n",
      "    [True, True]\n",
      "    \"\"\"\n",
      "\n",
      "    cube_coverage_content_type = cube.attributes['coverage_content_type']\n",
      "    if cube_coverage_content_type == coverage_content_type:\n",
      "        return True\n",
      "    else:\n",
      "        return False"
     ],
     "language": "python",
     "metadata": {},
     "outputs": [],
     "prompt_number": 1
    },
    {
     "cell_type": "markdown",
     "metadata": {},
     "source": [
      "### Ideally the `coverage_content_type` metadata is available and set to `'modelResult'`"
     ]
    },
    {
     "cell_type": "code",
     "collapsed": false,
     "input": [
      "import warnings\n",
      "\n",
      "import iris\n",
      "\n",
      "\n",
      "iris.FUTURE.netcdf_promote = True\n",
      "\n",
      "url = (\"http://testbedapps-dev.sura.org/thredds/dodsC/\"\n",
      "       \"in/vims/selfe/ike/ultralite/vardrag/nowave/2d\")\n",
      "\n",
      "with warnings.catch_warnings():  # Suppress iris warnings.\n",
      "    warnings.simplefilter(\"ignore\")\n",
      "    cubes = iris.load_raw(url, 'sea_surface_height_above_geoid')\n",
      "\n",
      "[source_of_data(cube) for cube in cubes]"
     ],
     "language": "python",
     "metadata": {},
     "outputs": [
      {
       "metadata": {},
       "output_type": "pyout",
       "prompt_number": 2,
       "text": [
        "[True, True]"
       ]
      }
     ],
     "prompt_number": 2
    },
    {
     "cell_type": "markdown",
     "metadata": {},
     "source": [
      "### Unfortunately that fails most of the time"
     ]
    },
    {
     "cell_type": "code",
     "collapsed": false,
     "input": [
      "url = (\"http://tds.marine.rutgers.edu/thredds/dodsC/\"\n",
      "       \"roms/espresso/2013_da/his_Best/\"\n",
      "       \"ESPRESSO_Real-Time_v2_History_Best_Available_best.ncd\")\n",
      "\n",
      "with warnings.catch_warnings():\n",
      "    warnings.simplefilter(\"ignore\")\n",
      "    cube = iris.load_cube(url, 'sea_surface_height')\n",
      "\n",
      "try:\n",
      "    source_of_data(cube)\n",
      "except KeyError as e:\n",
      "    print('{!r}'.format(e))"
     ],
     "language": "python",
     "metadata": {},
     "outputs": [
      {
       "output_type": "stream",
       "stream": "stdout",
       "text": [
        "KeyError('coverage_content_type',)\n"
       ]
      }
     ],
     "prompt_number": 3
    },
    {
     "cell_type": "markdown",
     "metadata": {},
     "source": [
      "### The function `is_model` tries a series of metadata checks to find if the data source is `modelResult` or not"
     ]
    },
    {
     "cell_type": "code",
     "collapsed": false,
     "input": [
      "from iris.exceptions import CoordinateNotFoundError\n",
      "\n",
      "\n",
      "def is_model(cube):\n",
      "    \"\"\"Heuristic way to find if a cube data is `modelResult` or not.\n",
      "    WARNING: This function may return False positives and False\n",
      "    negatives!!!\"\"\"\n",
      "    # First criteria (Strong): \"forecast\" word in the time coord.\n",
      "    try:\n",
      "        coords = cube.coords(axis='T')\n",
      "        for coord in coords:\n",
      "            if 'forecast' in coord.name():\n",
      "                print(\"Time axis\")\n",
      "                return True\n",
      "    except CoordinateNotFoundError:\n",
      "        pass\n",
      "    # Second criteria (strong): all `UGRID` cubes are models.\n",
      "    conventions = cube.attributes.get('Conventions', 'None')\n",
      "    if conventions.upper() == 'UGRID':\n",
      "        print(\"UGRID\")\n",
      "        return True\n",
      "    # Third criteria (average?): possibly a model if dimensionless coordinates are present.\n",
      "    try:\n",
      "        coords = cube.coords(axis='Z')\n",
      "        for coord in coords:\n",
      "            if 'ocean_' in coord.name():\n",
      "                print(\"Vertical axis\")\n",
      "                return True\n",
      "    except CoordinateNotFoundError:\n",
      "        pass\n",
      "    # Forth criteria (weak): Assumes that all \"GRID\" attribute are models.\n",
      "    cdm_data_type = cube.attributes.get('cdm_data_type', 'None')\n",
      "    feature_type = cube.attributes.get('featureType', 'None')\n",
      "    if cdm_data_type.upper() == 'GRID' or feature_type.upper() == 'GRID':\n",
      "        print(\"GRID\")\n",
      "        return True\n",
      "    return False"
     ],
     "language": "python",
     "metadata": {},
     "outputs": [],
     "prompt_number": 4
    },
    {
     "cell_type": "code",
     "collapsed": false,
     "input": [
      "is_model(cube)"
     ],
     "language": "python",
     "metadata": {},
     "outputs": [
      {
       "output_type": "stream",
       "stream": "stdout",
       "text": [
        "Time axis\n"
       ]
      },
      {
       "metadata": {},
       "output_type": "pyout",
       "prompt_number": 5,
       "text": [
        "True"
       ]
      }
     ],
     "prompt_number": 5
    },
    {
     "cell_type": "markdown",
     "metadata": {},
     "source": [
      "### Testing with all URLs found in a CSW \"SECOORA\" search:"
     ]
    },
    {
     "cell_type": "code",
     "collapsed": false,
     "input": [
      "import pytz\n",
      "from datetime import datetime, timedelta\n",
      "\n",
      "from owslib import fes\n",
      "from owslib.csw import CatalogueServiceWeb\n",
      "from utilities import CF_names, fes_date_filter, service_urls\n",
      "\n",
      "# Hurricane Arthur.\n",
      "stop = datetime(2014, 7, 7, 12)\n",
      "stop = stop.replace(tzinfo=pytz.utc)\n",
      "start = stop - timedelta(days=7)\n",
      "\n",
      "# SECOORA region (NC, SC GA, FL).\n",
      "bbox = [-87.40, 24.25, -74.70, 36.70]\n",
      "\n",
      "# Choose: 'sea_water_temperature', 'water level', 'currents' or 'salinity'.\n",
      "name_list = CF_names['sea_water_temperature']\n",
      "\n",
      "kw = dict(wildCard='*',\n",
      "          escapeChar='\\\\',\n",
      "          singleChar='?',\n",
      "          propertyname='apiso:AnyText')\n",
      "\n",
      "or_filt = fes.Or([fes.PropertyIsLike(literal=('*%s*' % val), **kw)\n",
      "                  for val in name_list])\n",
      "\n",
      "# Exculde ROMS Averages and History files.\n",
      "not_filt = fes.Not([fes.PropertyIsLike(literal='*Averages*', **kw)])\n",
      "\n",
      "begin, end = fes_date_filter(start, stop)\n",
      "\n",
      "# Assemble the filter.\n",
      "filter_list = [fes.And([fes.BBox(bbox), begin, end, or_filt, not_filt])]\n",
      "\n",
      "# Query NGDC geoportal.\n",
      "endpoint = 'http://www.ngdc.noaa.gov/geoportal/csw'\n",
      "csw = CatalogueServiceWeb(endpoint, timeout=60)\n",
      "csw.getrecords2(constraints=filter_list, maxrecords=1000, esn='full')\n",
      "\n",
      "urls = service_urls(csw.records, service='odp:url')"
     ],
     "language": "python",
     "metadata": {},
     "outputs": [],
     "prompt_number": 6
    },
    {
     "cell_type": "code",
     "collapsed": false,
     "input": [
      "from utilities import get_cubes\n",
      "\n",
      "name_list = CF_names['sea_water_temperature']\n",
      "\n",
      "for url in urls:\n",
      "    with warnings.catch_warnings():\n",
      "        warnings.simplefilter(\"ignore\")\n",
      "        try:\n",
      "            cubes = get_cubes(url, name_list)\n",
      "        except RuntimeError:\n",
      "            print(\"Unreachable URL: {}\".format(url))\n",
      "            continue\n",
      "\n",
      "    try:\n",
      "        model = [source_of_data(cube) for cube in cubes]\n",
      "        print(\"coverage_content_type\")\n",
      "    except KeyError:\n",
      "        model = [is_model(cube) for cube in cubes]\n",
      "    print(cube.attributes.get('title'))\n",
      "    print('[{}]: {}\\n'.format(url, model))"
     ],
     "language": "python",
     "metadata": {},
     "outputs": [
      {
       "output_type": "stream",
       "stream": "stdout",
       "text": [
        "Vertical axis\n",
        "USF FVCOM - Nowcast Aggregation\n",
        "[http://crow.marine.usf.edu:8080/thredds/dodsC/FVCOM-Nowcast-Agg.nc]: [True]\n",
        "\n",
        "Time axis"
       ]
      },
      {
       "output_type": "stream",
       "stream": "stdout",
       "text": [
        "\n",
        "ROMS/TOMS 3.0 - New Floria Shelf Application\n",
        "[http://crow.marine.usf.edu:8080/thredds/dodsC/WFS_ROMS_NF_model/USF_Ocean_Circulation_Group_West_Florida_Shelf_Daily_ROMS_Nowcast_Forecast_Model_Data_best.ncd]: [True]\n",
        "\n",
        "Time axis"
       ]
      },
      {
       "output_type": "stream",
       "stream": "stdout",
       "text": [
        "\n",
        "COAWST Forecast System : USGS : US East Coast and Gulf of Mexico (Experimental)\n",
        "[http://geoport.whoi.edu/thredds/dodsC/coawst_4/use/fmrc/coawst_4_use_best.ncd]: [True]\n",
        "\n",
        "Time axis"
       ]
      },
      {
       "output_type": "stream",
       "stream": "stdout",
       "text": [
        "\n",
        "ROMS/TOMS 3.0 - South-Atlantic Bight and Gulf of Mexico\n",
        "[http://omgsrv1.meas.ncsu.edu:8080/thredds/dodsC/fmrc/sabgom/SABGOM_Forecast_Model_Run_Collection_best.ncd]: [True]\n",
        "\n",
        "GRID"
       ]
      },
      {
       "output_type": "stream",
       "stream": "stdout",
       "text": [
        "\n",
        "NOAA Coral Reef Watch Operational Twice-Weekly Near-Real-Time Global 50km Satellite Coral Bleaching Monitoring Products\n",
        "[http://oos.soest.hawaii.edu/thredds/dodsC/hioos/satellite/dhw]: [True]\n",
        "\n",
        "GRID"
       ]
      },
      {
       "output_type": "stream",
       "stream": "stdout",
       "text": [
        "\n",
        "HYbrid Coordinate Ocean Model (HYCOM): Global\n",
        "[http://oos.soest.hawaii.edu/thredds/dodsC/pacioos/hycom/global]: [True]\n",
        "\n",
        "Time axis"
       ]
      },
      {
       "output_type": "stream",
       "stream": "stdout",
       "text": [
        "\n",
        "ROMS ESPRESSO Real-Time Operational IS4DVAR Forecast System Version 2 (NEW) 2013-present FMRC History (Best)\n",
        "[http://tds.marine.rutgers.edu/thredds/dodsC/roms/espresso/2013_da/his_Best/ESPRESSO_Real-Time_v2_History_Best_Available_best.ncd]: [True]\n",
        "\n",
        "coverage_content_type"
       ]
      },
      {
       "output_type": "stream",
       "stream": "stdout",
       "text": [
        "\n",
        "G1SST, 1km blended SST\n",
        "[http://thredds.axiomalaska.com/thredds/dodsC/G1_SST_GLOBAL.nc]: [True]\n",
        "\n",
        "Directional wave and sea surface temperature measurements collected in situ by Datawell Mark 3 directional buoy located near SANTA MONICA BAY, CA from 2013/12/18 21:00:00 to 2015/02/18 18:59:59."
       ]
      },
      {
       "output_type": "stream",
       "stream": "stdout",
       "text": [
        "\n",
        "[http://thredds.cdip.ucsd.edu/thredds/dodsC/cdip/archive/028p1/028p1_d16.nc]: [False]\n",
        "\n",
        "Directional wave and sea surface temperature measurements collected in situ by Datawell Waverider buoys located near SANTA MONICA BAY, CA from 2000/03/16 to 2015/02/18."
       ]
      },
      {
       "output_type": "stream",
       "stream": "stdout",
       "text": [
        "\n",
        "[http://thredds.cdip.ucsd.edu/thredds/dodsC/cdip/archive/028p1/028p1_historic.nc]: [False]\n",
        "\n",
        "Directional wave and sea surface temperature measurements collected in situ by Datawell Mark 3 directional buoy located near POINT REYES, CA from 2013/10/16 21:00:00 to 2014/09/05 11:59:59."
       ]
      },
      {
       "output_type": "stream",
       "stream": "stdout",
       "text": [
        "\n",
        "[http://thredds.cdip.ucsd.edu/thredds/dodsC/cdip/archive/029p1/029p1_d19.nc]: [False]\n",
        "\n",
        "Directional wave and sea surface temperature measurements collected in situ by Datawell Waverider buoys located near POINT REYES, CA from 1996/12/06 to 2014/09/05."
       ]
      },
      {
       "output_type": "stream",
       "stream": "stdout",
       "text": [
        "\n",
        "[http://thredds.cdip.ucsd.edu/thredds/dodsC/cdip/archive/029p1/029p1_historic.nc]: [False]\n",
        "\n",
        "Directional wave and sea surface temperature measurements collected in situ by Datawell Mark 3 directional buoy located near GRAYS HARBOR, WA from 2013/10/13 19:00:00 to 2015/01/28 15:59:59."
       ]
      },
      {
       "output_type": "stream",
       "stream": "stdout",
       "text": [
        "\n",
        "[http://thredds.cdip.ucsd.edu/thredds/dodsC/cdip/archive/036p1/036p1_d40.nc]: [False]\n",
        "\n",
        "Directional wave and sea surface temperature measurements collected in situ by Datawell Mark 3 directional buoy located near CAMP PENDLETON NEARSHORE, CA from 2014/04/24 22:00:00 to 2014/06/06 16:59:59."
       ]
      },
      {
       "output_type": "stream",
       "stream": "stdout",
       "text": [
        "\n",
        "[http://thredds.cdip.ucsd.edu/thredds/dodsC/cdip/archive/043p1/043p1_d16.nc]: [False]\n",
        "\n",
        "Directional wave and sea surface temperature measurements collected in situ by Datawell Mark 3 directional buoy located near CAMP PENDLETON NEARSHORE, CA from 2014/06/16 21:00:00 to 2015/01/23 12:59:59."
       ]
      },
      {
       "output_type": "stream",
       "stream": "stdout",
       "text": [
        "\n",
        "[http://thredds.cdip.ucsd.edu/thredds/dodsC/cdip/archive/043p1/043p1_d17.nc]: [False]\n",
        "\n",
        "Directional wave and sea surface temperature measurements collected in situ by Datawell Waverider buoys located near OCEANSIDE OFFSHORE, CA from 1997/05/19 to 2014/10/14."
       ]
      },
      {
       "output_type": "stream",
       "stream": "stdout",
       "text": [
        "\n",
        "[http://thredds.cdip.ucsd.edu/thredds/dodsC/cdip/archive/045p1/045p1_historic.nc]: [False]\n",
        "\n",
        "Directional wave and sea surface temperature measurements collected in situ by Datawell Mark 3 directional buoy located near SAN NICOLAS ISLAND, CA from 2013/04/19 17:00:00 to 2014/06/08 21:59:59."
       ]
      },
      {
       "output_type": "stream",
       "stream": "stdout",
       "text": [
        "\n",
        "[http://thredds.cdip.ucsd.edu/thredds/dodsC/cdip/archive/067p1/067p1_d22.nc]: [False]\n",
        "\n",
        "Directional wave and sea surface temperature measurements collected in situ by Datawell Waverider buoys located near SAN NICOLAS ISLAND, CA from 1991/09/10 to 2014/06/08."
       ]
      },
      {
       "output_type": "stream",
       "stream": "stdout",
       "text": [
        "\n",
        "[http://thredds.cdip.ucsd.edu/thredds/dodsC/cdip/archive/067p1/067p1_historic.nc]: [False]\n",
        "\n",
        "Directional wave and sea surface temperature measurements collected in situ by Datawell Mark 3 directional buoy located near DIABLO CANYON, CA from 2013/08/28 23:00:00 to 2014/10/29 16:59:59."
       ]
      },
      {
       "output_type": "stream",
       "stream": "stdout",
       "text": [
        "\n",
        "[http://thredds.cdip.ucsd.edu/thredds/dodsC/cdip/archive/076p1/076p1_d27.nc]: [False]\n",
        "\n",
        "Directional wave and sea surface temperature measurements collected in situ by Datawell Mark 3 directional buoy located near MISSION BAY OFFSHORE, CA from 2014/04/28 21:00:00 to 2014/06/24 09:59:59."
       ]
      },
      {
       "output_type": "stream",
       "stream": "stdout",
       "text": [
        "\n",
        "[http://thredds.cdip.ucsd.edu/thredds/dodsC/cdip/archive/093p1/093p1_d40.nc]: [False]\n",
        "\n",
        "Directional wave and sea surface temperature measurements collected in situ by Datawell Waverider buoys located near MOKAPU POINT, HI from 2000/08/09 to 2014/09/10."
       ]
      },
      {
       "output_type": "stream",
       "stream": "stdout",
       "text": [
        "\n",
        "[http://thredds.cdip.ucsd.edu/thredds/dodsC/cdip/archive/098p1/098p1_historic.nc]: [False]\n",
        "\n",
        "Directional wave and sea surface temperature measurements collected in situ by Datawell Mark 3 directional buoy located near TORREY PINES OUTER, CA from 2014/06/10 21:00:00 to 2014/06/12 15:59:59."
       ]
      },
      {
       "output_type": "stream",
       "stream": "stdout",
       "text": [
        "\n",
        "[http://thredds.cdip.ucsd.edu/thredds/dodsC/cdip/archive/100p1/100p1_d13.nc]: [False]\n",
        "\n",
        "Directional wave and sea surface temperature measurements collected in situ by Datawell Waverider buoys located near TORREY PINES OUTER, CA from 2001/01/30 to 2014/06/06."
       ]
      },
      {
       "output_type": "stream",
       "stream": "stdout",
       "text": [
        "\n",
        "[http://thredds.cdip.ucsd.edu/thredds/dodsC/cdip/archive/100p1/100p1_historic.nc]: [False]\n",
        "\n",
        "Directional wave and sea surface temperature measurements collected in situ by Datawell Mark 3 directional buoy located near FERNANDINA BEACH, FL from 2013/12/17 18:00:00 to 2015/01/29 16:59:59."
       ]
      },
      {
       "output_type": "stream",
       "stream": "stdout",
       "text": [
        "\n",
        "[http://thredds.cdip.ucsd.edu/thredds/dodsC/cdip/archive/132p1/132p1_d11.nc]: [False]\n",
        "\n",
        "Directional wave and sea surface temperature measurements collected in situ by Datawell Waverider buoys located near FERNANDINA BEACH, FL from 2006/02/09 to 2015/01/29."
       ]
      },
      {
       "output_type": "stream",
       "stream": "stdout",
       "text": [
        "\n",
        "[http://thredds.cdip.ucsd.edu/thredds/dodsC/cdip/archive/132p1/132p1_historic.nc]: [False]\n",
        "\n",
        "Directional wave and sea surface temperature measurements collected in situ by Datawell Mark 3 directional buoy located near SAN FRANCISCO BAR, CA from 2013/06/19 22:00:00 to 2014/07/24 14:59:59."
       ]
      },
      {
       "output_type": "stream",
       "stream": "stdout",
       "text": [
        "\n",
        "[http://thredds.cdip.ucsd.edu/thredds/dodsC/cdip/archive/142p1/142p1_d14.nc]: [False]\n",
        "\n",
        "Directional wave and sea surface temperature measurements collected in situ by Datawell Waverider buoys located near SAN FRANCISCO BAR, CA from 2007/07/25 to 2014/07/24."
       ]
      },
      {
       "output_type": "stream",
       "stream": "stdout",
       "text": [
        "\n",
        "[http://thredds.cdip.ucsd.edu/thredds/dodsC/cdip/archive/142p1/142p1_historic.nc]: [False]\n",
        "\n",
        "Directional wave and sea surface temperature measurements collected in situ by Datawell Mark 3 directional buoy located near ST. PETERSBURG OFFSHORE, FL from 2013/12/03 19:00:00 to 2015/02/24 15:59:59."
       ]
      },
      {
       "output_type": "stream",
       "stream": "stdout",
       "text": [
        "\n",
        "[http://thredds.cdip.ucsd.edu/thredds/dodsC/cdip/archive/144p1/144p1_d07.nc]: [False]\n",
        "\n",
        "Directional wave and sea surface temperature measurements collected in situ by Datawell Waverider buoys located near ST. PETERSBURG OFFSHORE, FL from 2007/07/10 to 2015/02/24."
       ]
      },
      {
       "output_type": "stream",
       "stream": "stdout",
       "text": [
        "\n",
        "[http://thredds.cdip.ucsd.edu/thredds/dodsC/cdip/archive/144p1/144p1_historic.nc]: [False]\n",
        "\n",
        "Directional wave and sea surface temperature measurements collected in situ by Datawell Mark 3 directional buoy located near MASONBORO INLET, ILM2, NC from 2014/03/14 16:00:00 to 2015/01/06 13:59:59.where the water depth is approximately "
       ]
      },
      {
       "output_type": "stream",
       "stream": "stdout",
       "text": [
        "\n",
        "[http://thredds.cdip.ucsd.edu/thredds/dodsC/cdip/archive/150p1/150p1_d07.nc]: [False]\n",
        "\n",
        "Directional wave and sea surface temperature measurements collected in situ by Datawell Waverider buoys located near MASONBORO INLET, ILM2, NC from 2008/05/07 to 2015/01/06."
       ]
      },
      {
       "output_type": "stream",
       "stream": "stdout",
       "text": [
        "\n",
        "[http://thredds.cdip.ucsd.edu/thredds/dodsC/cdip/archive/150p1/150p1_historic.nc]: [False]\n",
        "\n",
        "Directional wave and sea surface temperature measurements collected in situ by Datawell Mark 3 directional buoy located near MONTEREY CANYON OUTER, CA from 2013/07/11 17:00:00 to 2014/07/01 20:59:59."
       ]
      },
      {
       "output_type": "stream",
       "stream": "stdout",
       "text": [
        "\n",
        "[http://thredds.cdip.ucsd.edu/thredds/dodsC/cdip/archive/156p1/156p1_d07.nc]: [False]\n",
        "\n",
        "Directional wave and sea surface temperature measurements collected in situ by Datawell Mark 3 directional buoy located near CLATSOP SPIT, OR from 2013/07/18 20:00:00 to 2015/01/12 18:59:59."
       ]
      },
      {
       "output_type": "stream",
       "stream": "stdout",
       "text": [
        "\n",
        "[http://thredds.cdip.ucsd.edu/thredds/dodsC/cdip/archive/162p1/162p1_d04.nc]: [False]\n",
        "\n",
        "Directional wave and sea surface temperature measurements collected in situ by Datawell Mark 3 directional buoy located near OCEAN STATION PAPA from 2012/10/04 21:00:00 to 2015/01/01 00:59:59."
       ]
      },
      {
       "output_type": "stream",
       "stream": "stdout",
       "text": [
        "\n",
        "[http://thredds.cdip.ucsd.edu/thredds/dodsC/cdip/archive/166p1/166p1_d02.nc]: [False]\n",
        "\n",
        "Directional wave and sea surface temperature measurements collected in situ by Datawell Mark 3 directional buoy located near HUMBOLDT BAY NORTH SPIT, CA from 2013/08/26 19:00:00 to 2014/07/24 03:59:59."
       ]
      },
      {
       "output_type": "stream",
       "stream": "stdout",
       "text": [
        "\n",
        "[http://thredds.cdip.ucsd.edu/thredds/dodsC/cdip/archive/168p1/168p1_d05.nc]: [False]\n",
        "\n",
        "Directional wave and sea surface temperature measurements collected in situ by Datawell Mark 3 directional buoy located near ASTORIA CANYON, OR from 2014/01/16 20:00:00 to 2014/09/29 22:59:59."
       ]
      },
      {
       "output_type": "stream",
       "stream": "stdout",
       "text": [
        "\n",
        "[http://thredds.cdip.ucsd.edu/thredds/dodsC/cdip/archive/179p1/179p1_d04.nc]: [False]\n",
        "\n",
        "Directional wave and sea surface temperature measurements collected in situ by Datawell Mark 3 directional buoy located near MONTEREY BAY WEST, CA from 2013/06/19 18:00:00 to 2014/07/01 14:59:59."
       ]
      },
      {
       "output_type": "stream",
       "stream": "stdout",
       "text": [
        "\n",
        "[http://thredds.cdip.ucsd.edu/thredds/dodsC/cdip/archive/185p1/185p1_d02.nc]: [False]\n",
        "\n",
        "Directional wave and sea surface temperature measurements collected in situ by Datawell Mark 3 directional buoy located near MONTEREY BAY WEST, CA from 2014/07/01 19:00:00 to 2014/10/04 23:59:59."
       ]
      },
      {
       "output_type": "stream",
       "stream": "stdout",
       "text": [
        "\n",
        "[http://thredds.cdip.ucsd.edu/thredds/dodsC/cdip/archive/185p1/185p1_d03.nc]: [False]\n",
        "\n",
        "Directional wave and sea surface temperature measurements collected in situ by Datawell Mark 3 directional buoy located near NEW RIVER INLET, NC from 2014/03/09 19:00:00 to 2014/07/11 23:59:59."
       ]
      },
      {
       "output_type": "stream",
       "stream": "stdout",
       "text": [
        "\n",
        "[http://thredds.cdip.ucsd.edu/thredds/dodsC/cdip/archive/190p1/190p1_d02.nc]: [False]\n",
        "\n",
        "Directional wave and sea surface temperature measurements collected in situ by Datawell Waverider buoys located near NEW RIVER INLET, NC from 2012/04/14 to 2014/07/11."
       ]
      },
      {
       "output_type": "stream",
       "stream": "stdout",
       "text": [
        "\n",
        "[http://thredds.cdip.ucsd.edu/thredds/dodsC/cdip/archive/190p1/190p1_historic.nc]: [False]\n",
        "\n",
        "Directional wave and sea surface temperature measurements collected in situ by Datawell Mark 3 directional buoy located near POINT LOMA SOUTH, CA from 2013/08/12 20:00:00 to 2014/09/10 07:59:59."
       ]
      },
      {
       "output_type": "stream",
       "stream": "stdout",
       "text": [
        "\n",
        "[http://thredds.cdip.ucsd.edu/thredds/dodsC/cdip/archive/191p1/191p1_d12.nc]: [False]\n",
        "\n",
        "Directional wave and sea surface temperature measurements collected in situ by Datawell Mark 3 directional buoy located near OREGON INLET, NC from 2013/07/17 17:00:00 to 2015/02/01 16:59:59."
       ]
      },
      {
       "output_type": "stream",
       "stream": "stdout",
       "text": [
        "\n",
        "[http://thredds.cdip.ucsd.edu/thredds/dodsC/cdip/archive/192p1/192p1_d02.nc]: [False]\n",
        "\n",
        "Directional wave and sea surface temperature measurements collected in situ by Datawell Waverider buoys located near OREGON INLET, NC from 2012/04/08 to 2015/02/01."
       ]
      },
      {
       "output_type": "stream",
       "stream": "stdout",
       "text": [
        "\n",
        "[http://thredds.cdip.ucsd.edu/thredds/dodsC/cdip/archive/192p1/192p1_historic.nc]: [False]\n",
        "\n",
        "Directional wave and sea surface temperature measurements collected in situ by Datawell Mark 3 directional buoy located near SCRIPPS NEARSHORE, CA from 2013/07/12 20:00:00 to 2015/01/07 17:59:59."
       ]
      },
      {
       "output_type": "stream",
       "stream": "stdout",
       "text": [
        "\n",
        "[http://thredds.cdip.ucsd.edu/thredds/dodsC/cdip/archive/201p1/201p1_d02.nc]: [False]\n",
        "\n",
        "Directional wave and sea surface temperature measurements collected in situ by Datawell Mark 3 directional buoy located near SANTA CRUZ BASIN, CA from 2013/07/09 15:00:00 to 2014/07/14 16:59:59."
       ]
      },
      {
       "output_type": "stream",
       "stream": "stdout",
       "text": [
        "\n",
        "[http://thredds.cdip.ucsd.edu/thredds/dodsC/cdip/archive/203p1/203p1_d01.nc]: [False]\n",
        "\n"
       ]
      }
     ],
     "prompt_number": 7
    },
    {
     "cell_type": "markdown",
     "metadata": {},
     "source": [
      "**GRID [True] (False positive):** http://oos.soest.hawaii.edu/thredds/dodsC/hioos/satellite/dhw\n",
      "\n",
      "NOAA Coral Reef Watch Operational Twice-Weekly Near-Real-Time Global 50km Satellite Coral Bleaching Monitoring Products\n",
      "\n",
      "**GRID [True] (False positive):** http://oos.soest.hawaii.edu/thredds/dodsC/pacioos/hycom/global\n",
      "\n",
      "HYbrid Coordinate Ocean Model (HYCOM): Global\n",
      "\n",
      "**coverage_content_type [True] (Not sure is this is really model data):** http://thredds.axiomalaska.com/thredds/dodsC/G1_SST_GLOBAL.nc\n",
      "\n",
      "G1SST, 1km blended SST\n",
      "\n",
      "\n",
      "PS: If using this to find model data it is preferable to have False positives than false negatives."
     ]
    }
   ],
   "metadata": {}
  }
 ]
}
