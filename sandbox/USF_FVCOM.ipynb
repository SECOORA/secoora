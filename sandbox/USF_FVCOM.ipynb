{
 "metadata": {
  "name": "",
  "signature": "sha256:82c4ea7fac74d9485f6d0b198b6da2d46942ae3095a298f4a46c8d3d2de71c12"
 },
 "nbformat": 3,
 "nbformat_minor": 0,
 "worksheets": [
  {
   "cells": [
    {
     "cell_type": "markdown",
     "metadata": {},
     "source": [
      "### This FVCOM URL works"
     ]
    },
    {
     "cell_type": "code",
     "collapsed": false,
     "input": [
      "import iris\n",
      "iris.FUTURE.netcdf_promote = True\n",
      "\n",
      "url = 'http://www.smast.umassd.edu:8080/thredds/dodsC/FVCOM/NECOFS/Forecasts/NECOFS_GOM3_FORECAST.nc'\n",
      "\n",
      "cubes = iris.load_raw(url)\n",
      "\n",
      "cube = cubes.extract_strict('sea_surface_height_above_geoid')\n",
      "\n",
      "print(cube)"
     ],
     "language": "python",
     "metadata": {},
     "outputs": [
      {
       "output_type": "stream",
       "stream": "stdout",
       "text": [
        "sea_surface_height_above_geoid / (meters) (time: 145; -- : 51216)\n",
        "     Dimension coordinates:\n",
        "          time                                 x         -\n",
        "     Auxiliary coordinates:\n",
        "          latitude                             -         x\n",
        "          longitude                            -         x\n",
        "     Attributes:\n",
        "          Conventions: CF-1.0\n",
        "          CoordinateProjection: init=nad83:1802\n",
        "          CoordinateSystem: Cartesian\n",
        "          DODS.dimName: DateStrLen\n",
        "          DODS.strlen: 26\n",
        "          DODS_EXTRA.Unlimited_Dimension: time\n",
        "          GroundWater_Forcing: GROUND WATER FORCING IS OFF!\n",
        "          Icing_Model_Forcing: FVCOM variable surface icing forcing:\n",
        "FILE NAME:wrf_for.nc\n",
        "SOURCE:wrf2fvcom...\n",
        "          River_Forcing: THERE ARE NO RIVERS IN THIS MODEL\n",
        "          Special_Physical_processes: long shore flow adjustment for thermal wind and wind driven setup\n",
        "          Surface_Heat_Forcing: FVCOM variable surface heat forcing file:\n",
        "FILE NAME:wrf_for.nc\n",
        "SOURCE:wrf2fvcom...\n",
        "          Surface_PrecipEvap_Forcing: FVCOM periodic surface precip forcing:\n",
        "FILE NAME:wrf_for.nc\n",
        "SOURCE:wrf2fvcom...\n",
        "          Surface_Wind_Forcing: FVCOM variable surface Wind forcing:\n",
        "FILE NAME:wrf_for.nc\n",
        "SOURCE:wrf2fvcom...\n",
        "          Tidal_Forcing: Tidal Forcing Time Series Title: JULIAN FVCOM TIDAL FORCING DATA CREATED...\n",
        "          cdm_data_type: any\n",
        "          coverage_content_type: modelResult\n",
        "          field: elev, scalar\n",
        "          history: Wed Jan  7 05:51:40 2015: ncrcat -O -v x,y,lat,lon,xc,yc,lonc,latc,siglay,siglev,nv,nbe,aw0,awx,awy,h,temp,salinity,u,v,ww,ua,va,zeta,icing_0kts,icing_10kts,Times...\n",
        "          institution: School for Marine Science and Technology\n",
        "          location: node\n",
        "          mesh: fvcom_mesh\n",
        "          nco_openmp_thread_number: 1\n",
        "          references: http://fvcom.smast.umassd.edu, http://codfish.smast.umassd.edu\n",
        "          source: FVCOM_3.0\n",
        "          summary: Latest forecast from the FVCOM Northeast Coastal Ocean Forecast System...\n",
        "          title: NECOFS GOM3 (FVCOM) - Northeast US - Latest Forecast\n",
        "          type: data\n"
       ]
      },
      {
       "output_type": "stream",
       "stream": "stderr",
       "text": [
        "/home/filipe/miniconda/envs/ioos/lib/python2.7/site-packages/iris/fileformats/cf.py:1004: UserWarning: Ignoring variable u'siglay' referenced by variable u'v': Dimensions (u'siglay', u'node') do not span (u'time', u'siglay', u'nele')\n",
        "  warnings.warn(msg)\n",
        "/home/filipe/miniconda/envs/ioos/lib/python2.7/site-packages/iris/fileformats/cf.py:1004: UserWarning: Ignoring variable u'siglay' referenced by variable u'ww': Dimensions (u'siglay', u'node') do not span (u'time', u'siglay', u'nele')\n",
        "  warnings.warn(msg)\n",
        "/home/filipe/miniconda/envs/ioos/lib/python2.7/site-packages/iris/fileformats/cf.py:1004: UserWarning: Ignoring variable u'siglay' referenced by variable u'u': Dimensions (u'siglay', u'node') do not span (u'time', u'siglay', u'nele')\n",
        "  warnings.warn(msg)\n"
       ]
      }
     ],
     "prompt_number": 1
    },
    {
     "cell_type": "markdown",
     "metadata": {},
     "source": [
      "### This one has the zeta variable"
     ]
    },
    {
     "cell_type": "code",
     "collapsed": false,
     "input": [
      "from netCDF4 import Dataset\n",
      "\n",
      "url = 'http://crow.marine.usf.edu:8080/thredds/dodsC/FVCOM-Nowcast-Agg.nc'\n",
      "\n",
      "with Dataset(url) as nc:\n",
      "    print(nc.variables['zeta'].long_name)\n",
      "    print(nc.variables['zeta'].standard_name)"
     ],
     "language": "python",
     "metadata": {},
     "outputs": [
      {
       "output_type": "stream",
       "stream": "stdout",
       "text": [
        "Water Surface Elevation\n",
        "sea_surface_height_above_geoid\n"
       ]
      }
     ],
     "prompt_number": 2
    },
    {
     "cell_type": "markdown",
     "metadata": {},
     "source": [
      "### But I cannot read it with iris"
     ]
    },
    {
     "cell_type": "code",
     "collapsed": false,
     "input": [
      "url = 'http://crow.marine.usf.edu:8080/thredds/dodsC/FVCOM-Nowcast-Agg.nc'\n",
      "cubes = iris.load_raw(url)\n",
      "\n",
      "cube = cubes.extract_strict('sea_surface_height_above_geoid')\n",
      "print(cube)"
     ],
     "language": "python",
     "metadata": {},
     "outputs": [
      {
       "output_type": "stream",
       "stream": "stderr",
       "text": [
        "/home/filipe/miniconda/envs/ioos/lib/python2.7/site-packages/iris/fileformats/cf.py:1004: UserWarning: Ignoring variable u'lat' referenced by variable u'hc': Dimensions (u'node',) do not span (u'nele',)\n",
        "  warnings.warn(msg)\n",
        "/home/filipe/miniconda/envs/ioos/lib/python2.7/site-packages/iris/fileformats/cf.py:1004: UserWarning: Ignoring variable u'lon' referenced by variable u'hc': Dimensions (u'node',) do not span (u'nele',)\n",
        "  warnings.warn(msg)\n",
        "/home/filipe/miniconda/envs/ioos/lib/python2.7/site-packages/iris/fileformats/_pyke_rules/compiled_krb/fc_rules_cf_fc.py:1359: UserWarning: Failed to create 'time' dimension coordinate: The points array must be strictly monotonic.\n",
        "Gracefully creating 'time' auxiliary coordinate instead.\n",
        "  error=e_msg))\n"
       ]
      },
      {
       "output_type": "stream",
       "stream": "stderr",
       "text": [
        "/home/filipe/miniconda/envs/ioos/lib/python2.7/site-packages/iris/fileformats/_pyke_rules/compiled_krb/fc_rules_cf_fc.py:1196: UserWarning: Ignoring netCDF variable 'Itime2' invalid units 'msecs since 00:00:00'\n",
        "  warnings.warn(msg.format(msg_name, msg_units))\n",
        "/home/filipe/miniconda/envs/ioos/lib/python2.7/site-packages/iris/fileformats/_pyke_rules/compiled_krb/fc_rules_cf_fc.py:1196: UserWarning: Ignoring netCDF variable 'salinity' invalid units 'psu'\n",
        "  warnings.warn(msg.format(msg_name, msg_units))\n"
       ]
      },
      {
       "ename": "ConstraintMismatchError",
       "evalue": "Got 0 cubes for constraint Constraint(name='sea_surface_height_above_geoid'), expecting 1.",
       "output_type": "pyerr",
       "traceback": [
        "\u001b[1;31m---------------------------------------------------------------------------\u001b[0m\n\u001b[1;31mConstraintMismatchError\u001b[0m                   Traceback (most recent call last)",
        "\u001b[1;32m<ipython-input-3-6d56565b87d9>\u001b[0m in \u001b[0;36m<module>\u001b[1;34m()\u001b[0m\n\u001b[0;32m      2\u001b[0m \u001b[0mcubes\u001b[0m \u001b[1;33m=\u001b[0m \u001b[0miris\u001b[0m\u001b[1;33m.\u001b[0m\u001b[0mload_raw\u001b[0m\u001b[1;33m(\u001b[0m\u001b[0murl\u001b[0m\u001b[1;33m)\u001b[0m\u001b[1;33m\u001b[0m\u001b[0m\n\u001b[0;32m      3\u001b[0m \u001b[1;33m\u001b[0m\u001b[0m\n\u001b[1;32m----> 4\u001b[1;33m \u001b[0mcube\u001b[0m \u001b[1;33m=\u001b[0m \u001b[0mcubes\u001b[0m\u001b[1;33m.\u001b[0m\u001b[0mextract_strict\u001b[0m\u001b[1;33m(\u001b[0m\u001b[1;34m'sea_surface_height_above_geoid'\u001b[0m\u001b[1;33m)\u001b[0m\u001b[1;33m\u001b[0m\u001b[0m\n\u001b[0m\u001b[0;32m      5\u001b[0m \u001b[1;32mprint\u001b[0m\u001b[1;33m(\u001b[0m\u001b[0mcube\u001b[0m\u001b[1;33m)\u001b[0m\u001b[1;33m\u001b[0m\u001b[0m\n",
        "\u001b[1;32m/home/filipe/miniconda/envs/ioos/lib/python2.7/site-packages/iris/cube.pyc\u001b[0m in \u001b[0;36mextract_strict\u001b[1;34m(self, constraints)\u001b[0m\n\u001b[0;32m    308\u001b[0m \u001b[1;33m\u001b[0m\u001b[0m\n\u001b[0;32m    309\u001b[0m         \"\"\"\n\u001b[1;32m--> 310\u001b[1;33m         \u001b[1;32mreturn\u001b[0m \u001b[0mself\u001b[0m\u001b[1;33m.\u001b[0m\u001b[0mextract\u001b[0m\u001b[1;33m(\u001b[0m\u001b[0mconstraints\u001b[0m\u001b[1;33m,\u001b[0m \u001b[0mstrict\u001b[0m\u001b[1;33m=\u001b[0m\u001b[0mTrue\u001b[0m\u001b[1;33m)\u001b[0m\u001b[1;33m\u001b[0m\u001b[0m\n\u001b[0m\u001b[0;32m    311\u001b[0m \u001b[1;33m\u001b[0m\u001b[0m\n\u001b[0;32m    312\u001b[0m     \u001b[1;32mdef\u001b[0m \u001b[0mmerge_cube\u001b[0m\u001b[1;33m(\u001b[0m\u001b[0mself\u001b[0m\u001b[1;33m)\u001b[0m\u001b[1;33m:\u001b[0m\u001b[1;33m\u001b[0m\u001b[0m\n",
        "\u001b[1;32m/home/filipe/miniconda/envs/ioos/lib/python2.7/site-packages/iris/cube.pyc\u001b[0m in \u001b[0;36mextract\u001b[1;34m(self, constraints, strict)\u001b[0m\n\u001b[0;32m    267\u001b[0m         \"\"\"\n\u001b[0;32m    268\u001b[0m         return self._extract_and_merge(self, constraints, strict,\n\u001b[1;32m--> 269\u001b[1;33m                                        merge_unique=None)\n\u001b[0m\u001b[0;32m    270\u001b[0m \u001b[1;33m\u001b[0m\u001b[0m\n\u001b[0;32m    271\u001b[0m     \u001b[1;33m@\u001b[0m\u001b[0mstaticmethod\u001b[0m\u001b[1;33m\u001b[0m\u001b[0m\n",
        "\u001b[1;32m/home/filipe/miniconda/envs/ioos/lib/python2.7/site-packages/iris/cube.pyc\u001b[0m in \u001b[0;36m_extract_and_merge\u001b[1;34m(cubes, constraints, strict, merge_unique)\u001b[0m\n\u001b[0;32m    295\u001b[0m                 \u001b[0mmsg\u001b[0m \u001b[1;33m=\u001b[0m \u001b[1;34m'Got %s cubes for constraint %r, '\u001b[0m\u001b[0;31m \u001b[0m\u001b[0;31m\\\u001b[0m\u001b[1;33m\u001b[0m\u001b[0m\n\u001b[0;32m    296\u001b[0m                       \u001b[1;34m'expecting 1.'\u001b[0m \u001b[1;33m%\u001b[0m \u001b[1;33m(\u001b[0m\u001b[0mlen\u001b[0m\u001b[1;33m(\u001b[0m\u001b[0mconstraint_cubes\u001b[0m\u001b[1;33m)\u001b[0m\u001b[1;33m,\u001b[0m \u001b[0mconstraint\u001b[0m\u001b[1;33m)\u001b[0m\u001b[1;33m\u001b[0m\u001b[0m\n\u001b[1;32m--> 297\u001b[1;33m                 \u001b[1;32mraise\u001b[0m \u001b[0miris\u001b[0m\u001b[1;33m.\u001b[0m\u001b[0mexceptions\u001b[0m\u001b[1;33m.\u001b[0m\u001b[0mConstraintMismatchError\u001b[0m\u001b[1;33m(\u001b[0m\u001b[0mmsg\u001b[0m\u001b[1;33m)\u001b[0m\u001b[1;33m\u001b[0m\u001b[0m\n\u001b[0m\u001b[0;32m    298\u001b[0m             \u001b[0mresult\u001b[0m\u001b[1;33m.\u001b[0m\u001b[0mextend\u001b[0m\u001b[1;33m(\u001b[0m\u001b[0mconstraint_cubes\u001b[0m\u001b[1;33m)\u001b[0m\u001b[1;33m\u001b[0m\u001b[0m\n\u001b[0;32m    299\u001b[0m \u001b[1;33m\u001b[0m\u001b[0m\n",
        "\u001b[1;31mConstraintMismatchError\u001b[0m: Got 0 cubes for constraint Constraint(name='sea_surface_height_above_geoid'), expecting 1."
       ]
      }
     ],
     "prompt_number": 3
    },
    {
     "cell_type": "markdown",
     "metadata": {},
     "source": [
      "Is it possible that the problem is in the aggregation?"
     ]
    }
   ],
   "metadata": {}
  }
 ]
}