{
 "metadata": {
  "kernelspec": {
   "codemirror_mode": {
    "name": "ipython",
    "version": 3
   },
   "display_name": "IOOS (Python 2)",
   "language": "python",
   "name": "ioos_python2"
  },
  "name": "",
  "signature": "sha256:28dec19972826c4f06f7da047349875e878d84b3cd642241d565eb7ea092c1b3"
 },
 "nbformat": 3,
 "nbformat_minor": 0,
 "worksheets": [
  {
   "cells": [
    {
     "cell_type": "code",
     "collapsed": false,
     "input": [
      "import pytz\n",
      "from datetime import datetime, timedelta\n",
      "\n",
      "import iris\n",
      "iris.FUTURE.netcdf_promote = True\n",
      "\n",
      "from iris.cube import CubeList\n",
      "\n",
      "# SECOORA region (NC, SC GA, FL).\n",
      "bbox = [-87.40, 24.25, -74.70, 36.70]\n",
      "\n",
      "url = \"http://geoport-dev.whoi.edu/thredds/dodsC/estofs/atlantic\""
     ],
     "language": "python",
     "metadata": {},
     "outputs": [],
     "prompt_number": 1
    },
    {
     "cell_type": "markdown",
     "metadata": {},
     "source": [
      "# Works fine"
     ]
    },
    {
     "cell_type": "code",
     "collapsed": false,
     "input": [
      "cube = iris.load_cube(url, 'sea_surface_height_above_geoid')\n",
      "\n",
      "lon = iris.Constraint(longitude=lambda l: bbox[0] <= l <= bbox[2])\n",
      "lat = iris.Constraint(latitude=lambda l: bbox[1] <= l < bbox[3])\n",
      "\n",
      "cube = cube.extract(lon & lat)"
     ],
     "language": "python",
     "metadata": {},
     "outputs": [
      {
       "output_type": "stream",
       "stream": "stderr",
       "text": [
        "/home/filipe/.virtualenvs/iris/lib/python2.7/site-packages/iris/fileformats/_pyke_rules/compiled_krb/fc_rules_cf_fc.py:1301: UserWarning: Ignoring netCDF variable 'nbdv' invalid units 'nondimensional'\n",
        "  warnings.warn(msg.format(msg_name, msg_units))\n",
        "/home/filipe/.virtualenvs/iris/lib/python2.7/site-packages/iris/fileformats/_pyke_rules/compiled_krb/fc_rules_cf_fc.py:1301: UserWarning: Ignoring netCDF variable 'neta' invalid units 'nondimensional'\n",
        "  warnings.warn(msg.format(msg_name, msg_units))\n",
        "/home/filipe/.virtualenvs/iris/lib/python2.7/site-packages/iris/fileformats/_pyke_rules/compiled_krb/fc_rules_cf_fc.py:1301: UserWarning: Ignoring netCDF variable 'ibtypee' invalid units 'nondimensional'\n",
        "  warnings.warn(msg.format(msg_name, msg_units))\n"
       ]
      },
      {
       "output_type": "stream",
       "stream": "stderr",
       "text": [
        "/home/filipe/.virtualenvs/iris/lib/python2.7/site-packages/iris/fileformats/_pyke_rules/compiled_krb/fc_rules_cf_fc.py:1301: UserWarning: Ignoring netCDF variable 'nvell' invalid units 'nondimensional'\n",
        "  warnings.warn(msg.format(msg_name, msg_units))\n",
        "/home/filipe/.virtualenvs/iris/lib/python2.7/site-packages/iris/fileformats/_pyke_rules/compiled_krb/fc_rules_cf_fc.py:1301: UserWarning: Ignoring netCDF variable 'ibtype' invalid units 'nondimensional'\n",
        "  warnings.warn(msg.format(msg_name, msg_units))\n",
        "/home/filipe/.virtualenvs/iris/lib/python2.7/site-packages/iris/fileformats/_pyke_rules/compiled_krb/fc_rules_cf_fc.py:1301: UserWarning: Ignoring netCDF variable 'nbvv' invalid units 'nondimensional'\n",
        "  warnings.warn(msg.format(msg_name, msg_units))\n",
        "/home/filipe/.virtualenvs/iris/lib/python2.7/site-packages/iris/fileformats/_pyke_rules/compiled_krb/fc_rules_cf_fc.py:1301: UserWarning: Ignoring netCDF variable 'nvel' invalid units 'nondimensional'\n",
        "  warnings.warn(msg.format(msg_name, msg_units))\n",
        "/home/filipe/.virtualenvs/iris/lib/python2.7/site-packages/iris/fileformats/_pyke_rules/compiled_krb/fc_rules_cf_fc.py:1301: UserWarning: Ignoring netCDF variable 'nvdll' invalid units 'nondimensional'\n",
        "  warnings.warn(msg.format(msg_name, msg_units))\n"
       ]
      }
     ],
     "prompt_number": 2
    },
    {
     "cell_type": "code",
     "collapsed": false,
     "input": [
      "print(cube)"
     ],
     "language": "python",
     "metadata": {},
     "outputs": [
      {
       "output_type": "stream",
       "stream": "stdout",
       "text": [
        "sea_surface_height_above_geoid / (m) (time: 7218; -- : 54731)\n",
        "     Dimension coordinates:\n",
        "          time                            x          -\n",
        "     Auxiliary coordinates:\n",
        "          latitude                        -          x\n",
        "          longitude                       -          x\n",
        "     Attributes:\n",
        "          Conventions: UGRID-0.9\n",
        "          NCO: 20150120\n",
        "          a00: 0.35\n",
        "          b00: 0.3\n",
        "          c00: 0.35\n",
        "          cdm_data_type: ugrid\n",
        "          cf: 0.0025\n",
        "          comments: ESTOFS ATLANTIC V1.0.0\n",
        "          contact: yuji.funakoshi@noaa.gov\n",
        "          cori: 0.0\n",
        "          coverage_content_type: modelResult\n",
        "          creation_date: 2015-01-20 10:26:23  00:00\n",
        "          description: 2015012006\n",
        "          dramp: 0.0\n",
        "          dt: 5.0\n",
        "          eslm: 5.0\n",
        "          fort.15: ==== Input File Parameters (below) ====\n",
        "          grid: ec2001_v2e.grd\n",
        "          grid_type: Triangular\n",
        "          h0: 0.25\n",
        "          history: Tue Jan 20 07:21:01 2015: ncks -O -F -d time,1,6 estofs.atl.t06z.fields.cwl.nc...\n",
        "          host: CSDL/MMAP - NCEP/EMC\n",
        "          ics: 2\n",
        "          id: estofs/atlantic/1.1.0\n",
        "          ihot: 368\n",
        "          institution: CSDL/MMAP - NCEP/EMC\n",
        "          location: node\n",
        "          mesh: adcirc_mesh\n",
        "          model: ADCIRC\n",
        "          modification_date: 2015-01-20 10:39:30  00:00\n",
        "          nbfr: 10\n",
        "          ncor: 1\n",
        "          nolibf: 2\n",
        "          nolica: 0\n",
        "          nolicat: 0\n",
        "          nolifa: 2\n",
        "          nramp: 1\n",
        "          ntif: 8\n",
        "          ntip: 1\n",
        "          nwp: 0\n",
        "          nws: -5\n",
        "          references: http://www.adcirc.org\n",
        "          reftim: 0.0\n",
        "          rnday: 769.75\n",
        "          sfea0: 35.0\n",
        "          slam0: -79.0\n",
        "          source: IBM POWER 6 CIRRUS/STRATUS\n",
        "          statim: 0.0\n",
        "          summary: NOAA Extratropical Surge and Tide Operational Forecast System (ESTOFS),...\n",
        "          tau0: -5.0\n",
        "          title: ESTOFS Storm Surge Model - Atlantic - v1.0.0 - NOAA - NCEP - ADCIRC\n",
        "          version: 49.82.10\n"
       ]
      }
     ],
     "prompt_number": 3
    },
    {
     "cell_type": "markdown",
     "metadata": {},
     "source": [
      "# Hangs and I have to hit the kernel interrupt key"
     ]
    },
    {
     "cell_type": "code",
     "collapsed": false,
     "input": [
      "cube = iris.load_cube(url, 'sea_surface_height_above_geoid')\n",
      "\n",
      "cube = cube.intersection(longitude=(bbox[0], bbox[2]),\n",
      "                         latitude=(bbox[1], bbox[3]))"
     ],
     "language": "python",
     "metadata": {},
     "outputs": [
      {
       "ename": "KeyboardInterrupt",
       "evalue": "",
       "output_type": "pyerr",
       "traceback": [
        "\u001b[1;31m---------------------------------------------------------------------------\u001b[0m\n\u001b[1;31mKeyboardInterrupt\u001b[0m                         Traceback (most recent call last)",
        "\u001b[1;32m<ipython-input-4-65f06dfe8099>\u001b[0m in \u001b[0;36m<module>\u001b[1;34m()\u001b[0m\n\u001b[0;32m      2\u001b[0m \u001b[1;33m\u001b[0m\u001b[0m\n\u001b[0;32m      3\u001b[0m cube = cube.intersection(longitude=(bbox[0], bbox[2]),\n\u001b[1;32m----> 4\u001b[1;33m                          latitude=(bbox[1], bbox[3]))\n\u001b[0m",
        "\u001b[1;32m/home/filipe/.virtualenvs/iris/lib/python2.7/site-packages/iris/cube.py\u001b[0m in \u001b[0;36mintersection\u001b[1;34m(self, *args, **kwargs)\u001b[0m\n\u001b[0;32m   2091\u001b[0m         \u001b[1;32mfor\u001b[0m \u001b[0mname\u001b[0m\u001b[1;33m,\u001b[0m \u001b[0mvalue\u001b[0m \u001b[1;32min\u001b[0m \u001b[0mkwargs\u001b[0m\u001b[1;33m.\u001b[0m\u001b[0miteritems\u001b[0m\u001b[1;33m(\u001b[0m\u001b[1;33m)\u001b[0m\u001b[1;33m:\u001b[0m\u001b[1;33m\u001b[0m\u001b[0m\n\u001b[0;32m   2092\u001b[0m             result = result._intersect(name, *value,\n\u001b[1;32m-> 2093\u001b[1;33m                                        ignore_bounds=ignore_bounds)\n\u001b[0m\u001b[0;32m   2094\u001b[0m         \u001b[1;32mreturn\u001b[0m \u001b[0mresult\u001b[0m\u001b[1;33m\u001b[0m\u001b[0m\n\u001b[0;32m   2095\u001b[0m \u001b[1;33m\u001b[0m\u001b[0m\n",
        "\u001b[1;32m/home/filipe/.virtualenvs/iris/lib/python2.7/site-packages/iris/cube.py\u001b[0m in \u001b[0;36m_intersect\u001b[1;34m(self, name_or_coord, minimum, maximum, min_inclusive, max_inclusive, ignore_bounds)\u001b[0m\n\u001b[0;32m   2113\u001b[0m                                                           \u001b[0mmin_inclusive\u001b[0m\u001b[1;33m,\u001b[0m\u001b[1;33m\u001b[0m\u001b[0m\n\u001b[0;32m   2114\u001b[0m                                                           \u001b[0mmax_inclusive\u001b[0m\u001b[1;33m,\u001b[0m\u001b[1;33m\u001b[0m\u001b[0m\n\u001b[1;32m-> 2115\u001b[1;33m                                                           ignore_bounds)\n\u001b[0m\u001b[0;32m   2116\u001b[0m \u001b[1;33m\u001b[0m\u001b[0m\n\u001b[0;32m   2117\u001b[0m         \u001b[1;31m# By this point we have either one or two subsets along the relevant\u001b[0m\u001b[1;33m\u001b[0m\u001b[1;33m\u001b[0m\u001b[0m\n",
        "\u001b[1;32m/home/filipe/.virtualenvs/iris/lib/python2.7/site-packages/iris/cube.py\u001b[0m in \u001b[0;36m_intersect_modulus\u001b[1;34m(self, coord, minimum, maximum, min_inclusive, max_inclusive, ignore_bounds)\u001b[0m\n\u001b[0;32m   2195\u001b[0m             \u001b[0mvalues\u001b[0m \u001b[1;33m=\u001b[0m \u001b[0mcoord\u001b[0m\u001b[1;33m.\u001b[0m\u001b[0mbounds\u001b[0m\u001b[1;33m\u001b[0m\u001b[0m\n\u001b[0;32m   2196\u001b[0m         \u001b[1;32melse\u001b[0m\u001b[1;33m:\u001b[0m\u001b[1;33m\u001b[0m\u001b[0m\n\u001b[1;32m-> 2197\u001b[1;33m             \u001b[0mvalues\u001b[0m \u001b[1;33m=\u001b[0m \u001b[0mcoord\u001b[0m\u001b[1;33m.\u001b[0m\u001b[0mpoints\u001b[0m\u001b[1;33m\u001b[0m\u001b[0m\n\u001b[0m\u001b[0;32m   2198\u001b[0m         \u001b[1;32mif\u001b[0m \u001b[0mvalues\u001b[0m\u001b[1;33m.\u001b[0m\u001b[0mmax\u001b[0m\u001b[1;33m(\u001b[0m\u001b[1;33m)\u001b[0m \u001b[1;33m>\u001b[0m \u001b[0mvalues\u001b[0m\u001b[1;33m.\u001b[0m\u001b[0mmin\u001b[0m\u001b[1;33m(\u001b[0m\u001b[1;33m)\u001b[0m \u001b[1;33m+\u001b[0m \u001b[0mmodulus\u001b[0m\u001b[1;33m:\u001b[0m\u001b[1;33m\u001b[0m\u001b[0m\n\u001b[0;32m   2199\u001b[0m             raise ValueError(\"coordinate's range greater than coordinate's\"\n",
        "\u001b[1;32m/home/filipe/.virtualenvs/iris/lib/python2.7/site-packages/iris/coords.py\u001b[0m in \u001b[0;36mpoints\u001b[1;34m(self)\u001b[0m\n\u001b[0;32m   1492\u001b[0m         \u001b[0mpoints\u001b[0m \u001b[1;33m=\u001b[0m \u001b[0mself\u001b[0m\u001b[1;33m.\u001b[0m\u001b[0m_points\u001b[0m\u001b[1;33m\u001b[0m\u001b[0m\n\u001b[0;32m   1493\u001b[0m         \u001b[1;32mif\u001b[0m \u001b[0misinstance\u001b[0m\u001b[1;33m(\u001b[0m\u001b[0mpoints\u001b[0m\u001b[1;33m,\u001b[0m \u001b[0mbiggus\u001b[0m\u001b[1;33m.\u001b[0m\u001b[0mArray\u001b[0m\u001b[1;33m)\u001b[0m\u001b[1;33m:\u001b[0m\u001b[1;33m\u001b[0m\u001b[0m\n\u001b[1;32m-> 1494\u001b[1;33m             \u001b[0mpoints\u001b[0m \u001b[1;33m=\u001b[0m \u001b[0mpoints\u001b[0m\u001b[1;33m.\u001b[0m\u001b[0mndarray\u001b[0m\u001b[1;33m(\u001b[0m\u001b[1;33m)\u001b[0m\u001b[1;33m\u001b[0m\u001b[0m\n\u001b[0m\u001b[0;32m   1495\u001b[0m             \u001b[0mself\u001b[0m\u001b[1;33m.\u001b[0m\u001b[0m_points\u001b[0m \u001b[1;33m=\u001b[0m \u001b[0mpoints\u001b[0m\u001b[1;33m\u001b[0m\u001b[0m\n\u001b[0;32m   1496\u001b[0m         \u001b[1;32mreturn\u001b[0m \u001b[0mpoints\u001b[0m\u001b[1;33m.\u001b[0m\u001b[0mview\u001b[0m\u001b[1;33m(\u001b[0m\u001b[1;33m)\u001b[0m\u001b[1;33m\u001b[0m\u001b[0m\n",
        "\u001b[1;32m/home/filipe/.virtualenvs/iris/lib/python2.7/site-packages/biggus/__init__.py\u001b[0m in \u001b[0;36mndarray\u001b[1;34m(self)\u001b[0m\n\u001b[0;32m    805\u001b[0m \u001b[1;33m\u001b[0m\u001b[0m\n\u001b[0;32m    806\u001b[0m     \u001b[1;32mdef\u001b[0m \u001b[0mndarray\u001b[0m\u001b[1;33m(\u001b[0m\u001b[0mself\u001b[0m\u001b[1;33m)\u001b[0m\u001b[1;33m:\u001b[0m\u001b[1;33m\u001b[0m\u001b[0m\n\u001b[1;32m--> 807\u001b[1;33m         \u001b[0marray\u001b[0m \u001b[1;33m=\u001b[0m \u001b[0mself\u001b[0m\u001b[1;33m.\u001b[0m\u001b[0m_apply_keys\u001b[0m\u001b[1;33m(\u001b[0m\u001b[1;33m)\u001b[0m\u001b[1;33m\u001b[0m\u001b[0m\n\u001b[0m\u001b[0;32m    808\u001b[0m         \u001b[1;31m# We want the shape of the result to match the shape of the\u001b[0m\u001b[1;33m\u001b[0m\u001b[1;33m\u001b[0m\u001b[0m\n\u001b[0;32m    809\u001b[0m         \u001b[1;31m# Array, so where we've ended up with an array-scalar,\u001b[0m\u001b[1;33m\u001b[0m\u001b[1;33m\u001b[0m\u001b[0m\n",
        "\u001b[1;32m/home/filipe/.virtualenvs/iris/lib/python2.7/site-packages/biggus/__init__.py\u001b[0m in \u001b[0;36m_apply_keys\u001b[1;34m(self)\u001b[0m\n\u001b[0;32m    901\u001b[0m     \"\"\"\n\u001b[0;32m    902\u001b[0m     \u001b[1;32mdef\u001b[0m \u001b[0m_apply_keys\u001b[0m\u001b[1;33m(\u001b[0m\u001b[0mself\u001b[0m\u001b[1;33m)\u001b[0m\u001b[1;33m:\u001b[0m\u001b[1;33m\u001b[0m\u001b[0m\n\u001b[1;32m--> 903\u001b[1;33m         \u001b[0marray\u001b[0m \u001b[1;33m=\u001b[0m \u001b[0mself\u001b[0m\u001b[1;33m.\u001b[0m\u001b[0mconcrete\u001b[0m\u001b[1;33m.\u001b[0m\u001b[0m__getitem__\u001b[0m\u001b[1;33m(\u001b[0m\u001b[0mself\u001b[0m\u001b[1;33m.\u001b[0m\u001b[0m_keys\u001b[0m\u001b[1;33m)\u001b[0m\u001b[1;33m\u001b[0m\u001b[0m\n\u001b[0m\u001b[0;32m    904\u001b[0m         \u001b[1;32mreturn\u001b[0m \u001b[0marray\u001b[0m\u001b[1;33m\u001b[0m\u001b[0m\n\u001b[0;32m    905\u001b[0m \u001b[1;33m\u001b[0m\u001b[0m\n",
        "\u001b[1;32m/home/filipe/.virtualenvs/iris/lib/python2.7/site-packages/iris/fileformats/netcdf.py\u001b[0m in \u001b[0;36m__getitem__\u001b[1;34m(self, keys)\u001b[0m\n\u001b[0;32m    269\u001b[0m             \u001b[0mvariable\u001b[0m \u001b[1;33m=\u001b[0m \u001b[0mdataset\u001b[0m\u001b[1;33m.\u001b[0m\u001b[0mvariables\u001b[0m\u001b[1;33m[\u001b[0m\u001b[0mself\u001b[0m\u001b[1;33m.\u001b[0m\u001b[0mvariable_name\u001b[0m\u001b[1;33m]\u001b[0m\u001b[1;33m\u001b[0m\u001b[0m\n\u001b[0;32m    270\u001b[0m             \u001b[1;31m# Get the NetCDF variable data and slice.\u001b[0m\u001b[1;33m\u001b[0m\u001b[1;33m\u001b[0m\u001b[0m\n\u001b[1;32m--> 271\u001b[1;33m             \u001b[0mdata\u001b[0m \u001b[1;33m=\u001b[0m \u001b[0mvariable\u001b[0m\u001b[1;33m[\u001b[0m\u001b[0mkeys\u001b[0m\u001b[1;33m]\u001b[0m\u001b[1;33m\u001b[0m\u001b[0m\n\u001b[0m\u001b[0;32m    272\u001b[0m         \u001b[1;32mfinally\u001b[0m\u001b[1;33m:\u001b[0m\u001b[1;33m\u001b[0m\u001b[0m\n\u001b[0;32m    273\u001b[0m             \u001b[0mdataset\u001b[0m\u001b[1;33m.\u001b[0m\u001b[0mclose\u001b[0m\u001b[1;33m(\u001b[0m\u001b[1;33m)\u001b[0m\u001b[1;33m\u001b[0m\u001b[0m\n",
        "\u001b[1;32m/home/filipe/.virtualenvs/iris/lib/python2.7/site-packages/netCDF4.so\u001b[0m in \u001b[0;36mnetCDF4.Variable.__getitem__ (netCDF4.c:41520)\u001b[1;34m()\u001b[0m\n",
        "\u001b[1;32m/home/filipe/.virtualenvs/iris/lib/python2.7/site-packages/netCDF4_utils.py\u001b[0m in \u001b[0;36m_StartCountStride\u001b[1;34m(elem, shape, dimensions, grp, datashape, put)\u001b[0m\n\u001b[0;32m    268\u001b[0m                             \u001b[1;32mif\u001b[0m \u001b[0me\u001b[0m\u001b[1;33m[\u001b[0m\u001b[0mi\u001b[0m\u001b[1;33m]\u001b[0m\u001b[1;33m:\u001b[0m \u001b[0mstep\u001b[0m \u001b[1;33m=\u001b[0m \u001b[0mFalse\u001b[0m\u001b[1;33m\u001b[0m\u001b[0m\n\u001b[0;32m    269\u001b[0m                         \u001b[1;32melse\u001b[0m\u001b[1;33m:\u001b[0m\u001b[1;33m\u001b[0m\u001b[0m\n\u001b[1;32m--> 270\u001b[1;33m                             \u001b[1;32mif\u001b[0m \u001b[1;32mnot\u001b[0m \u001b[0me\u001b[0m\u001b[1;33m[\u001b[0m\u001b[0mi\u001b[0m\u001b[1;33m]\u001b[0m\u001b[1;33m:\u001b[0m \u001b[0mstep\u001b[0m \u001b[1;33m=\u001b[0m \u001b[0mFalse\u001b[0m\u001b[1;33m\u001b[0m\u001b[0m\n\u001b[0m\u001b[0;32m    271\u001b[0m                 \u001b[1;32mif\u001b[0m \u001b[0mstep\u001b[0m\u001b[1;33m:\u001b[0m \u001b[1;31m# it step False, can't convert to slice.\u001b[0m\u001b[1;33m\u001b[0m\u001b[0m\n\u001b[0;32m    272\u001b[0m                     \u001b[0mnewElem\u001b[0m\u001b[1;33m.\u001b[0m\u001b[0mappend\u001b[0m\u001b[1;33m(\u001b[0m\u001b[0mslice\u001b[0m\u001b[1;33m(\u001b[0m\u001b[0mstart\u001b[0m\u001b[1;33m,\u001b[0m\u001b[0mstop\u001b[0m\u001b[1;33m,\u001b[0m\u001b[0mstep\u001b[0m\u001b[1;33m)\u001b[0m\u001b[1;33m)\u001b[0m\u001b[1;33m\u001b[0m\u001b[0m\n",
        "\u001b[1;31mKeyboardInterrupt\u001b[0m: "
       ]
      }
     ],
     "prompt_number": 4
    }
   ],
   "metadata": {}
  }
 ]
}