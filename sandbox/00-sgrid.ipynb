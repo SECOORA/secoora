{
 "metadata": {
  "kernelspec": {
   "codemirror_mode": {
    "name": "ipython",
    "version": 3
   },
   "display_name": "IOOS (Python 2)",
   "language": "python",
   "name": "ioos_python2"
  },
  "name": "",
  "signature": "sha256:c9f2c6ff90130d4b43f84deef377ab1086c75ff753c5b3699d145e7ea3376f99"
 },
 "nbformat": 3,
 "nbformat_minor": 0,
 "worksheets": [
  {
   "cells": [
    {
     "cell_type": "markdown",
     "metadata": {},
     "source": [
      "# SGRID demo notebook\n",
      "\n",
      "## Goal: Develop CF-convention for staggered grids ocean models.\n",
      "\n",
      "See the github issue:\n",
      "\n",
      "https://github.com/axiomalaska/usgs-cmg-portal/issues/25\n",
      "\n",
      "And Bert Jagers' proposal:\n",
      "\n",
      "https://publicwiki.deltares.nl/display/NETCDF/Deltares+proposal+for+Staggered+Grid+data+model+(SGRID)"
     ]
    },
    {
     "cell_type": "markdown",
     "metadata": {},
     "source": [
      "# Test with data\n",
      "\n",
      "The lines below download 4D (time, depth, lon, lat) velocity and rotation\n",
      "angle data,  from a ROMS model output.  The download slices only one time step\n",
      "and one depth for simplicity, but keeps the 4D dimension shape to demonstrate\n",
      "how the proposal should work.\n",
      "\n",
      "The `sgrid` attributes are added to $u$ and $v$ and a `grid_center` is added\n",
      "as a global attribute. `sgrid` attribute example (ROMS):\n",
      "\n",
      " - u: [0 0 0 -1]\n",
      " - v: [0 0 -1 0]\n",
      " - grid_center: [0 0 0 0]\n",
      "\n",
      "This assumes that variables without the `sgrid` attribute are centered."
     ]
    },
    {
     "cell_type": "code",
     "collapsed": false,
     "input": [
      "%%bash\n",
      "\n",
      "url=\"http://omgsrv1.meas.ncsu.edu:8080/thredds/dodsC/fmrc/sabgom/SABGOM_Forecast_Model_Run_Collection_best.ncd\"\n",
      "\n",
      "ncks -F --dimension time,1 \\\n",
      "        --dimension s_rho,36 \\\n",
      "        --variable angle,u,v \\\n",
      "        --overwrite $url ocean_s_coordinate_g1.nc\n",
      "\n",
      "# Add the sgrid attributes.\n",
      "ncatted -O -a grid_center,global,a,c,\"0 0 0 0\" ocean_s_coordinate_g1.nc\n",
      "ncatted -O -a sgrid,v,a,c,\"0 0 -1 0\" ocean_s_coordinate_g1.nc\n",
      "ncatted -O -a sgrid,u,a,c,\"0 0 0 -1\" ocean_s_coordinate_g1.nc"
     ],
     "language": "python",
     "metadata": {},
     "outputs": []
    },
    {
     "cell_type": "markdown",
     "metadata": {},
     "source": [
      "The function `expand2grid` adds singleton dimensions to a array so they are the\n",
      "same dimension.  This is needed because $u$ and $v$ are 4D while `angle` is 2D.\n",
      "\n",
      "One could loop the array dimensions before doing any computation, like the in\n",
      "`shrink` function, but I prefer this method."
     ]
    },
    {
     "cell_type": "code",
     "collapsed": false,
     "input": [
      "import numpy as np\n",
      "\n",
      "def expand2grid(var, n):\n",
      "    \"\"\"Adds `n` singleton dimensions to a array.\"\"\"\n",
      "    if var.ndim > n:\n",
      "        raise ValueError('grid dim is {} and var dim is {}'.format(grid_dim, var.ndim))\n",
      "    while var.ndim < n:\n",
      "        var = np.expand_dims(var, axis=0)\n",
      "    return var"
     ],
     "language": "python",
     "metadata": {},
     "outputs": [],
     "prompt_number": 1
    },
    {
     "cell_type": "code",
     "collapsed": false,
     "input": [
      "from netCDF4 import Dataset\n",
      "\n",
      "fname = \"ocean_s_coordinate_g1.nc\"\n",
      "\n",
      "with Dataset(fname) as nc:\n",
      "    ncv = nc.variables\n",
      "\n",
      "    lat = ncv['lat_rho'][:]  # eta_rho: 320, xi_rho: 440\n",
      "    lon = ncv['lon_rho'][:]  # eta_rho: 320, xi_rho: 440\n",
      "    angle = ncv['angle'][:]  # eta_rho: 320, xi_rho: 440\n",
      "    u = ncv['u'][:]  # time: 1, s_rho: 1, eta_u:320, xi_u: 439\n",
      "    v = ncv['v'][:]  # time: 1, s_rho: 1, eta_v: 319, xi_v: 440\n",
      "    \n",
      "    grid = [int(c) for c in nc.grid_center.split()]\n",
      "    grid_u = [int(c) for c in ncv['u'].sgrid.split()]\n",
      "    grid_v = [int(c) for c in ncv['v'].sgrid.split()]\n",
      "\n",
      "angle = expand2grid(angle, n=len(grid))\n",
      "\n",
      "print(u.shape, v.shape, angle.shape)"
     ],
     "language": "python",
     "metadata": {},
     "outputs": [
      {
       "output_type": "stream",
       "stream": "stdout",
       "text": [
        "((1, 1, 320, 439), (1, 1, 319, 440), (1, 1, 320, 440))\n"
       ]
      }
     ],
     "prompt_number": 2
    },
    {
     "cell_type": "markdown",
     "metadata": {},
     "source": [
      "# Slicer\n",
      "\n",
      "The slicer function is the core of the `sgrid` attribute idea.  The function\n",
      "reads the `sgrid` attribute and construct a slice object.  The object can then\n",
      "be used to get the shape-consistent variables.\n",
      "\n",
      "The slicer **does not**:\n",
      "\n",
      "- choose the grid that will be used (in the ROMS case $\\rho$ or $\\psi$)\n",
      "- operate on more than 1 variable\n",
      "- interpolate/average data\n",
      "\n",
      "The slicer is built to be as simple as possible.  That way, users and\n",
      "automatic tools (like iris), can use it as they please.\n",
      "\n",
      "That means the user needs to:\n",
      "\n",
      "- choose a grid to project the data\n",
      "- use a chained operation for the variables to be project ($u$ and $v$ or more)\n",
      "- choose a interpolation method"
     ]
    },
    {
     "cell_type": "code",
     "collapsed": false,
     "input": [
      "mapping = dict({ 0: slice(None, None, None),  # Centered.\n",
      "                -1: slice(None,   -1, None),  # Staggered backwards.\n",
      "                 1: slice(None,    1, None)}) # Staggered forwards.\n",
      "\n",
      "slicer = lambda attr: [mapping[k] for k in attr]"
     ],
     "language": "python",
     "metadata": {},
     "outputs": [],
     "prompt_number": 3
    },
    {
     "cell_type": "markdown",
     "metadata": {},
     "source": [
      "# Example\n",
      "\n",
      "Project the velocities at the $\\rho$ points where the variable `angle` is\n",
      "defined.\n",
      "\n",
      "(Note: one may also project $angle$, $u$ and $v$ at the $\\psi$ points\n",
      "instead.  All that is needed is the **shape** of the final grid  and the\n",
      "`sgrid` attribute.\n",
      "\n",
      "Also note that automatic tools will take a decision for the users here!\n",
      "Right now iris does nothing.  @rsignell-usgs what is snctools in this case?)"
     ]
    },
    {
     "cell_type": "code",
     "collapsed": false,
     "input": [
      "slicer(grid_u)"
     ],
     "language": "python",
     "metadata": {},
     "outputs": [
      {
       "metadata": {},
       "output_type": "pyout",
       "prompt_number": 4,
       "text": [
        "[slice(None, None, None),\n",
        " slice(None, None, None),\n",
        " slice(None, None, None),\n",
        " slice(None, -1, None)]"
       ]
      }
     ],
     "prompt_number": 4
    },
    {
     "cell_type": "code",
     "collapsed": false,
     "input": [
      "print(angle[slicer(grid_u)].shape, u.shape)"
     ],
     "language": "python",
     "metadata": {},
     "outputs": [
      {
       "output_type": "stream",
       "stream": "stdout",
       "text": [
        "((1, 1, 320, 439), (1, 1, 320, 439))\n"
       ]
      }
     ],
     "prompt_number": 5
    },
    {
     "cell_type": "code",
     "collapsed": false,
     "input": [
      "print(angle[slicer(grid_v)].shape, v.shape)"
     ],
     "language": "python",
     "metadata": {},
     "outputs": []
    },
    {
     "cell_type": "code",
     "collapsed": false,
     "input": [
      "angle_uv = angle[slicer(grid_u)][slicer(grid_v)]\n",
      "\n",
      "print(angle_uv.shape)"
     ],
     "language": "python",
     "metadata": {},
     "outputs": []
    },
    {
     "cell_type": "markdown",
     "metadata": {},
     "source": [
      "# Averaging\n",
      "\n",
      "Simply averaging adjacent points is enough. I opted for a simplified version of\n",
      "[octant's](https://github.com/hetland/octant) [shrink](https://github.com/hetland/octant/blob/b1163e5f462bf954088056aca009fd3f7cb51e86/octant/tools.py#L38) function.\n",
      "The `mod_shrink` takes the array to be averaged and the desired shape."
     ]
    },
    {
     "cell_type": "code",
     "collapsed": false,
     "input": [
      "def mod_shrink(arr, shape):\n",
      "    \"\"\"This is just a modified version of shrink function from octant.\n",
      "    It takes the array to be averaged and the desired shape.\"\"\"\n",
      "    for dim_idx in range(-(len(arr.shape)), 0):\n",
      "        dim = shape[dim_idx]\n",
      "        arr = arr.swapaxes(0, dim_idx)  # Put working dim first.\n",
      "        while arr.shape[0] > dim:\n",
      "            if (arr.shape[0] - dim) >= 2:  # Trim off edges evenly.\n",
      "                a = a[1:-1, :]\n",
      "            if (arr.shape[0] - dim) == 1:  # Or average adjacent cells.\n",
      "                arr = 0.5 * (arr[1:, :] + arr[:-1, :])\n",
      "        arr = arr.swapaxes(0, dim_idx)  # Swap working dim back.\n",
      "    return arr"
     ],
     "language": "python",
     "metadata": {},
     "outputs": []
    },
    {
     "cell_type": "code",
     "collapsed": false,
     "input": [
      "u = mod_shrink(u, angle_uv.shape)\n",
      "v = mod_shrink(v, angle_uv.shape)\n",
      "lon = mod_shrink(lon, angle_uv.shape)\n",
      "lat = mod_shrink(lat, angle_uv.shape)"
     ],
     "language": "python",
     "metadata": {},
     "outputs": []
    },
    {
     "cell_type": "code",
     "collapsed": false,
     "input": [
      "def rot2d(x, y, ang):\n",
      "    \"\"\"Rotate vectors by geometric angle.\"\"\"\n",
      "    xr = x * np.cos(ang) - y * np.sin(ang)\n",
      "    yr = x * np.sin(ang) + y * np.cos(ang)\n",
      "    return xr, yr\n",
      "\n",
      "u, v = rot2d(u, v, angle_uv)"
     ],
     "language": "python",
     "metadata": {},
     "outputs": []
    },
    {
     "cell_type": "markdown",
     "metadata": {},
     "source": [
      "ROMS output stores grids (2D lon, lat information) for $u$ and $v$.  That\n",
      "means, if iris implements 2D regridding, the task above task will be as\n",
      "simple as:\n",
      "\n",
      "```python\n",
      "u = iris.load_cube(url, 'eastward_sea_water_velocity')\n",
      "v = iris.load_cube(url, 'northward_sea_water_velocity')\n",
      "angle = iris.load_cube(url, 'angle between XI-axis and EAST')\n",
      "\n",
      "u = u.regrid(angle, iris.analysis.Linear())\n",
      "v = v.regrid(angle, iris.analysis.Linear())\n",
      "\n",
      "# One should implement a cube preserving `rot2d` function!\n",
      "u, v = rot2d(u.data, v.data, angle.data)\n",
      "```\n",
      "\n",
      "The final shape will be `angle.shape`, but I think iris does not extrapolate,\n",
      "so the actual valid data will be `angle.shape[..., 1:-1, 1:-1]`.\n",
      "\n",
      "In this approach no `sgrid` attribute was used.  But it is nice to have\n",
      "it there in case the user choose another route or needs any sgrid detail."
     ]
    },
    {
     "cell_type": "markdown",
     "metadata": {},
     "source": [
      "# Plotting"
     ]
    },
    {
     "cell_type": "code",
     "collapsed": true,
     "input": [
      "%matplotlib inline\n",
      "\n",
      "import cartopy.crs as ccrs\n",
      "import matplotlib.pyplot as plt\n",
      "import cartopy.feature as cfeature\n",
      "from cartopy.mpl.gridliner import LONGITUDE_FORMATTER, LATITUDE_FORMATTER\n",
      "\n",
      "LAND = cfeature.NaturalEarthFeature('physical', 'land', '50m',\n",
      "                                    edgecolor='face',\n",
      "                                    facecolor=cfeature.COLORS['land'])\n",
      "\n",
      "\n",
      "def make_map(bbox=[-87.4, -74.7, 24.25, 36.70],\n",
      "             projection=ccrs.PlateCarree()):\n",
      "    fig, ax = plt.subplots(figsize=(8, 6),\n",
      "                           subplot_kw=dict(projection=projection))\n",
      "    ax.set_extent(bbox)\n",
      "    ax.add_feature(LAND, facecolor='0.75')\n",
      "    ax.coastlines(resolution='50m')\n",
      "    gl = ax.gridlines(draw_labels=True)\n",
      "    gl.xlabels_top = gl.ylabels_right = False\n",
      "    gl.xformatter = LONGITUDE_FORMATTER\n",
      "    gl.yformatter = LATITUDE_FORMATTER\n",
      "    return fig, ax"
     ],
     "language": "python",
     "metadata": {},
     "outputs": []
    },
    {
     "cell_type": "code",
     "collapsed": true,
     "input": [
      "kw = dict(scale=20, headwidth=2)\n",
      "\n",
      "fig, ax = make_map()\n",
      "Q = ax.quiver(lon, lat,\n",
      "              u[0, 0, ...],\n",
      "              v[0, 0, ...], color='black', regrid_shape=60, **kw)"
     ],
     "language": "python",
     "metadata": {},
     "outputs": []
    }
   ],
   "metadata": {}
  }
 ]
}