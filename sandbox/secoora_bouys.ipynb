{
 "metadata": {
  "gist_id": "eb9bdba501b301a93209",
  "name": "",
  "signature": "sha256:80605b4908f822b0c146b992a4afd239f13daed37972d2e9e130f2fd66e3bd8c"
 },
 "nbformat": 3,
 "nbformat_minor": 0,
 "worksheets": [
  {
   "cells": [
    {
     "cell_type": "code",
     "collapsed": false,
     "input": [
      "import fnmatch\n",
      "from urllib import urlopen\n",
      "\n",
      "import lxml.html\n",
      "\n",
      "\n",
      "def url_lister(url):\n",
      "    urls = []\n",
      "    connection = urlopen(url)\n",
      "    dom = lxml.html.fromstring(connection.read())\n",
      "    for link in dom.xpath('//a/@href'):\n",
      "        urls.append(link)\n",
      "    return urls\n",
      "\n",
      "\n",
      "def scrape_thredds(url, uri):\n",
      "    urls = url_lister(url)\n",
      "    filetype = \"?dataset=\"\n",
      "    file_list = [filename for filename in fnmatch.filter(urls, filetype)]\n",
      "    \n",
      "    files = [fname.split('/')[-1] for fname in file_list]\n",
      "    urls = ['%s/%s' % (uri, fname) for fname in files]\n",
      "    if not urls:\n",
      "        raise Exception(\"Cannot find data at {!r}\".format(url))\n",
      "    return urls\n",
      "\n",
      "def get_secoora_buoys(urls):\n",
      "    base_url = \"http://129.252.139.124/thredds/dodsC\"\n",
      "    for buoy in urls:\n",
      "        if (\"?dataset=\" in buoy) and ('archive' not in buoy):\n",
      "            buoy = buoy.split('id_')[1]\n",
      "            url = '{}/{}.nc'.format(base_url, buoy)\n",
      "            yield url"
     ],
     "language": "python",
     "metadata": {},
     "outputs": [],
     "prompt_number": 1
    },
    {
     "cell_type": "code",
     "collapsed": false,
     "input": [
      "thredds = \"http://129.252.139.124/thredds/catalog_platforms.html\"\n",
      "\n",
      "urls = url_lister(thredds)\n",
      "\n",
      "urls = list(get_secoora_buoys(urls))"
     ],
     "language": "python",
     "metadata": {},
     "outputs": []
    },
    {
     "cell_type": "code",
     "collapsed": false,
     "input": [
      "import warnings\n",
      "\n",
      "\n",
      "import iris\n",
      "from iris.exceptions import ConstraintMismatchError\n",
      "\n",
      "total = len(urls)\n",
      "standard_name = 'sea_water_temperature'\n",
      "\n",
      "for k, url in enumerate(urls):\n",
      "    buoy = url.split('/')[-1].split('.nc')[0]\n",
      "    try:\n",
      "        with warnings.catch_warnings():\n",
      "            warnings.simplefilter(\"ignore\")\n",
      "            cubes = iris.load_raw(url)\n",
      "        try:\n",
      "            cube = cubes.extract_strict(standard_name)\n",
      "            print('[{:2d}/{:2d}]  OK: {}'.format(k+1, total, buoy))\n",
      "        except ConstraintMismatchError:\n",
      "            print('[{:2d}/{:2d}]  OK: {} but no {}'.format(k+1, total, buoy, standard_name))\n",
      "    except (IndexError, RuntimeError) as e:\n",
      "        print('[{:2d}/{:2d}] BAD: {} ({!r})'.format(k+1, total, url, e))"
     ],
     "language": "python",
     "metadata": {},
     "outputs": [
      {
       "output_type": "stream",
       "stream": "stdout",
       "text": [
        "[ 1/67]  OK: fit.sispnj.met\n",
        "[ 2/67]  OK: usf.c12.weatherpak"
       ]
      },
      {
       "output_type": "stream",
       "stream": "stdout",
       "text": [
        "\n",
        "[ 3/67]  OK: usf.nfb.ngwlms but no sea_water_temperature"
       ]
      },
      {
       "output_type": "stream",
       "stream": "stdout",
       "text": [
        "\n",
        "[ 4/67]  OK: usf.tas.ngwlms but no sea_water_temperature"
       ]
      },
      {
       "output_type": "stream",
       "stream": "stdout",
       "text": [
        "\n",
        "[ 5/67]  OK: usf.apk.ngwlms but no sea_water_temperature"
       ]
      },
      {
       "output_type": "stream",
       "stream": "stdout",
       "text": [
        "\n",
        "[ 6/67]  OK: usf.c21.weatherpak but no sea_water_temperature"
       ]
      },
      {
       "output_type": "stream",
       "stream": "stdout",
       "text": [
        "\n",
        "[ 7/67]  OK: usf.shp.ngwlms"
       ]
      },
      {
       "output_type": "stream",
       "stream": "stdout",
       "text": [
        "\n",
        "[ 8/67]  OK: usf.bcp.ngwlms but no sea_water_temperature"
       ]
      },
      {
       "output_type": "stream",
       "stream": "stdout",
       "text": [
        "\n",
        "[ 9/67]  OK: usf.fhp.ngwlms but no sea_water_temperature"
       ]
      },
      {
       "output_type": "stream",
       "stream": "stdout",
       "text": [
        "\n",
        "[10/67]  OK: usf.c10.mcat but no sea_water_temperature"
       ]
      },
      {
       "output_type": "stream",
       "stream": "stdout",
       "text": [
        "\n",
        "[11/67]  OK: usf.c12.mcat but no sea_water_temperature"
       ]
      },
      {
       "output_type": "stream",
       "stream": "stdout",
       "text": [
        "\n",
        "[12/67]  OK: usf.c13.mcat but no sea_water_temperature"
       ]
      },
      {
       "output_type": "stream",
       "stream": "stdout",
       "text": [
        "\n",
        "[13/67]  OK: usf.c10.mcat_2011"
       ]
      },
      {
       "output_type": "stream",
       "stream": "stdout",
       "text": [
        "\n",
        "[14/67]  OK: usf.c12.mcat_2011"
       ]
      },
      {
       "output_type": "stream",
       "stream": "stdout",
       "text": [
        "\n",
        "[15/67]  OK: usf.c13.mcat_2011"
       ]
      },
      {
       "output_type": "stream",
       "stream": "stdout",
       "text": [
        "\n",
        "[16/67]  OK: carocoops.sun2.buoy"
       ]
      },
      {
       "output_type": "stream",
       "stream": "stdout",
       "text": [
        "\n",
        "[17/67]  OK: carocoops.frp2.buoy but no sea_water_temperature"
       ]
      },
      {
       "output_type": "stream",
       "stream": "stdout",
       "text": [
        "\n",
        "[18/67]  OK: carocoops.cap2.buoy but no sea_water_temperature"
       ]
      },
      {
       "output_type": "stream",
       "stream": "stdout",
       "text": [
        "\n",
        "[19/67]  OK: cormp.ilm3.buoy"
       ]
      },
      {
       "output_type": "stream",
       "stream": "stdout",
       "text": [
        "\n",
        "[20/67]  OK: cormp.ilm2.buoy"
       ]
      },
      {
       "output_type": "stream",
       "stream": "stdout",
       "text": [
        "\n",
        "[21/67]  OK: cormp.ilm1.buoy"
       ]
      }
     ]
    },
    {
     "cell_type": "markdown",
     "metadata": {},
     "source": [
      "# Testing the bad URL with pure netCDF4"
     ]
    },
    {
     "cell_type": "code",
     "collapsed": false,
     "input": [
      "from netCDF4 import Dataset\n",
      "\n",
      "url = urls[1]\n",
      "print(url)\n",
      "\n",
      "with Dataset(url) as nc:\n",
      "    print(nc.variables.keys())\n",
      "    \n",
      "    temp = nc.variables['water_temperature']\n",
      "    \n",
      "    print('Shape: {}'.format(temp.shape))\n",
      "    temp[:]"
     ],
     "language": "python",
     "metadata": {},
     "outputs": []
    },
    {
     "cell_type": "code",
     "collapsed": false,
     "input": [
      "url = urls[21]\n",
      "\n",
      "print(url)\n",
      "with Dataset(url) as nc:\n",
      "    print(nc.variables.keys())\n",
      "    \n",
      "    temp = nc.variables['water_temperature']\n",
      "    \n",
      "    print('Shape: {}'.format(temp.shape))\n",
      "    temp[:]"
     ],
     "language": "python",
     "metadata": {},
     "outputs": []
    }
   ],
   "metadata": {}
  }
 ]
}