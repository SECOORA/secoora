{
 "metadata": {
  "gist_id": "eb9bdba501b301a93209",
  "name": "",
  "signature": "sha256:e3c50ddc2807baec26b11f497fea6d28dfb0098c7b9626d665aeb4e2d97b680e"
 },
 "nbformat": 3,
 "nbformat_minor": 0,
 "worksheets": [
  {
   "cells": [
    {
     "cell_type": "code",
     "collapsed": false,
     "input": [
      "import fnmatch\n",
      "from urllib import urlopen\n",
      "\n",
      "import lxml.html\n",
      "\n",
      "\n",
      "def url_lister(url):\n",
      "    urls = []\n",
      "    connection = urlopen(url)\n",
      "    dom = lxml.html.fromstring(connection.read())\n",
      "    for link in dom.xpath('//a/@href'):\n",
      "        urls.append(link)\n",
      "    return urls\n",
      "\n",
      "\n",
      "def scrape_thredds(url, uri):\n",
      "    urls = url_lister(url)\n",
      "    filetype = \"?dataset=\"\n",
      "    file_list = [filename for filename in fnmatch.filter(urls, filetype)]\n",
      "    \n",
      "    files = [fname.split('/')[-1] for fname in file_list]\n",
      "    urls = ['%s/%s' % (uri, fname) for fname in files]\n",
      "    if not urls:\n",
      "        raise Exception(\"Cannot find data at {!r}\".format(url))\n",
      "    return urls\n",
      "\n",
      "def get_secoora_buoys(urls):\n",
      "    base_url = \"http://129.252.139.124/thredds/dodsC\"\n",
      "    for buoy in urls:\n",
      "        if (\"?dataset=\" in buoy) and ('archive' not in buoy):\n",
      "            buoy = buoy.split('id_')[1]\n",
      "            url = '{}/{}.nc'.format(base_url, buoy)\n",
      "            yield url"
     ],
     "language": "python",
     "metadata": {},
     "outputs": [],
     "prompt_number": 1
    },
    {
     "cell_type": "code",
     "collapsed": false,
     "input": [
      "thredds = \"http://129.252.139.124/thredds/catalog_platforms.html\"\n",
      "\n",
      "urls = url_lister(thredds)\n",
      "\n",
      "urls = list(get_secoora_buoys(urls))"
     ],
     "language": "python",
     "metadata": {},
     "outputs": [],
     "prompt_number": 2
    },
    {
     "cell_type": "code",
     "collapsed": false,
     "input": [
      "import warnings\n",
      "\n",
      "\n",
      "import iris\n",
      "from iris.exceptions import ConstraintMismatchError\n",
      "\n",
      "total = len(urls)\n",
      "standard_name = 'sea_water_temperature'\n",
      "\n",
      "for k, url in enumerate(urls):\n",
      "    buoy = url.split('/')[-1].split('.nc')[0]\n",
      "    try:\n",
      "        with warnings.catch_warnings():\n",
      "            warnings.simplefilter(\"ignore\")\n",
      "            cubes = iris.load_raw(url)\n",
      "        try:\n",
      "            cube = cubes.extract_strict(standard_name)\n",
      "            print('[{:2d}/{:2d}]  OK: {}'.format(k+1, total, buoy))\n",
      "        except ConstraintMismatchError:\n",
      "            print('[{:2d}/{:2d}]  OK: {} but no {}'.format(k+1, total, buoy, standard_name))\n",
      "    except (IndexError, RuntimeError) as e:\n",
      "        print('[{:2d}/{:2d}] BAD: {} ({!r})'.format(k+1, total, buoy, e))"
     ],
     "language": "python",
     "metadata": {},
     "outputs": [
      {
       "output_type": "stream",
       "stream": "stdout",
       "text": [
        "[ 1/67]  OK: fit.sispnj.met\n",
        "[ 2/67] BAD: usf.c12.weatherpak (IndexError())"
       ]
      },
      {
       "output_type": "stream",
       "stream": "stdout",
       "text": [
        "\n",
        "[ 3/67]  OK: usf.nfb.ngwlms but no sea_water_temperature"
       ]
      },
      {
       "output_type": "stream",
       "stream": "stdout",
       "text": [
        "\n",
        "[ 4/67]  OK: usf.tas.ngwlms but no sea_water_temperature"
       ]
      },
      {
       "output_type": "stream",
       "stream": "stdout",
       "text": [
        "\n",
        "[ 5/67]  OK: usf.apk.ngwlms but no sea_water_temperature"
       ]
      },
      {
       "output_type": "stream",
       "stream": "stdout",
       "text": [
        "\n",
        "[ 6/67]  OK: usf.c21.weatherpak but no sea_water_temperature"
       ]
      },
      {
       "output_type": "stream",
       "stream": "stdout",
       "text": [
        "\n",
        "[ 7/67]  OK: usf.shp.ngwlms"
       ]
      },
      {
       "output_type": "stream",
       "stream": "stdout",
       "text": [
        "\n",
        "[ 8/67]  OK: usf.bcp.ngwlms but no sea_water_temperature"
       ]
      },
      {
       "output_type": "stream",
       "stream": "stdout",
       "text": [
        "\n",
        "[ 9/67]  OK: usf.fhp.ngwlms but no sea_water_temperature"
       ]
      },
      {
       "output_type": "stream",
       "stream": "stdout",
       "text": [
        "\n",
        "[10/67]  OK: usf.c10.mcat but no sea_water_temperature"
       ]
      },
      {
       "output_type": "stream",
       "stream": "stdout",
       "text": [
        "\n",
        "[11/67]  OK: usf.c12.mcat but no sea_water_temperature"
       ]
      },
      {
       "output_type": "stream",
       "stream": "stdout",
       "text": [
        "\n",
        "[12/67]  OK: usf.c13.mcat but no sea_water_temperature"
       ]
      },
      {
       "output_type": "stream",
       "stream": "stdout",
       "text": [
        "\n",
        "[13/67]  OK: usf.c10.mcat_2011"
       ]
      },
      {
       "output_type": "stream",
       "stream": "stdout",
       "text": [
        "\n",
        "[14/67]  OK: usf.c12.mcat_2011"
       ]
      },
      {
       "output_type": "stream",
       "stream": "stdout",
       "text": [
        "\n",
        "[15/67]  OK: usf.c13.mcat_2011"
       ]
      },
      {
       "output_type": "stream",
       "stream": "stdout",
       "text": [
        "\n",
        "[16/67]  OK: carocoops.sun2.buoy"
       ]
      },
      {
       "output_type": "stream",
       "stream": "stdout",
       "text": [
        "\n",
        "[17/67]  OK: carocoops.frp2.buoy but no sea_water_temperature"
       ]
      },
      {
       "output_type": "stream",
       "stream": "stdout",
       "text": [
        "\n",
        "[18/67]  OK: carocoops.cap2.buoy but no sea_water_temperature"
       ]
      },
      {
       "output_type": "stream",
       "stream": "stdout",
       "text": [
        "\n",
        "[19/67]  OK: cormp.ilm3.buoy"
       ]
      },
      {
       "output_type": "stream",
       "stream": "stdout",
       "text": [
        "\n",
        "[20/67]  OK: cormp.ilm2.buoy"
       ]
      },
      {
       "output_type": "stream",
       "stream": "stdout",
       "text": [
        "\n",
        "[21/67]  OK: cormp.ilm1.buoy"
       ]
      },
      {
       "output_type": "stream",
       "stream": "stdout",
       "text": [
        "\n",
        "[22/67] BAD: cormp.ocp1.buoy (RuntimeError(u'NetCDF: Malformed or inaccessible DAP DDS',))"
       ]
      },
      {
       "output_type": "stream",
       "stream": "stdout",
       "text": [
        "\n",
        "[23/67]  OK: cormp.lej3.buoy"
       ]
      },
      {
       "output_type": "stream",
       "stream": "stdout",
       "text": [
        "\n",
        "[24/67]  OK: sccf.gulfofmexico.wq"
       ]
      },
      {
       "output_type": "stream",
       "stream": "stdout",
       "text": [
        "\n",
        "[25/67]  OK: sccf.shellpoint.wq"
       ]
      },
      {
       "output_type": "stream",
       "stream": "stdout",
       "text": [
        "\n",
        "[26/67]  OK: sccf.redfishpass.wq"
       ]
      },
      {
       "output_type": "stream",
       "stream": "stdout",
       "text": [
        "\n",
        "[27/67]  OK: sccf.tarponbay.wq"
       ]
      },
      {
       "output_type": "stream",
       "stream": "stdout",
       "text": [
        "\n",
        "[28/67]  OK: sccf.fortmyers.wq"
       ]
      },
      {
       "output_type": "stream",
       "stream": "stdout",
       "text": [
        "\n",
        "[29/67]  OK: fldep.stlucieinlet. but no sea_water_temperature"
       ]
      },
      {
       "output_type": "stream",
       "stream": "stdout",
       "text": [
        "\n",
        "[30/67]  OK: fldep.poncedeleonsouth. but no sea_water_temperature"
       ]
      },
      {
       "output_type": "stream",
       "stream": "stdout",
       "text": [
        "\n",
        "[31/67]  OK: fldep.bingslanding."
       ]
      },
      {
       "output_type": "stream",
       "stream": "stdout",
       "text": [
        "\n",
        "[32/67]  OK: fldep.redbaypoint. but no sea_water_temperature"
       ]
      },
      {
       "output_type": "stream",
       "stream": "stdout",
       "text": [
        "\n",
        "[33/67]  OK: fldep.tolomatoriver."
       ]
      },
      {
       "output_type": "stream",
       "stream": "stdout",
       "text": [
        "\n",
        "[34/67]  OK: fldep.naplesbay. but no sea_water_temperature"
       ]
      },
      {
       "output_type": "stream",
       "stream": "stdout",
       "text": [
        "\n",
        "[35/67]  OK: fldep.gordonriverinlet. but no sea_water_temperature"
       ]
      },
      {
       "output_type": "stream",
       "stream": "stdout",
       "text": [
        "\n",
        "[36/67]  OK: fldep.melbourne. but no sea_water_temperature"
       ]
      },
      {
       "output_type": "stream",
       "stream": "stdout",
       "text": [
        "\n",
        "[37/67]  OK: fldep.binneydock. but no sea_water_temperature"
       ]
      },
      {
       "output_type": "stream",
       "stream": "stdout",
       "text": [
        "\n",
        "[38/67]  OK: fldep.verobeach. but no sea_water_temperature"
       ]
      },
      {
       "output_type": "stream",
       "stream": "stdout",
       "text": [
        "\n",
        "[39/67]  OK: lbhmc.2ndave.pier but no sea_water_temperature"
       ]
      },
      {
       "output_type": "stream",
       "stream": "stdout",
       "text": [
        "\n",
        "[40/67]  OK: lbhmc.cherrygrove.pier but no sea_water_temperature"
       ]
      },
      {
       "output_type": "stream",
       "stream": "stdout",
       "text": [
        "\n",
        "[41/67]  OK: lbhmc.apachepier.pier"
       ]
      },
      {
       "output_type": "stream",
       "stream": "stdout",
       "text": [
        "\n",
        "[42/67]  OK: enp.wiwf1.met"
       ]
      },
      {
       "output_type": "stream",
       "stream": "stdout",
       "text": [
        "\n",
        "[43/67]  OK: enp.lbrf1.met"
       ]
      },
      {
       "output_type": "stream",
       "stream": "stdout",
       "text": [
        "\n",
        "[44/67]  OK: enp.bobf1.met"
       ]
      },
      {
       "output_type": "stream",
       "stream": "stdout",
       "text": [
        "\n",
        "[45/67]  OK: enp.trrf1.met"
       ]
      },
      {
       "output_type": "stream",
       "stream": "stdout",
       "text": [
        "\n",
        "[46/67]  OK: enp.wwef1.met"
       ]
      },
      {
       "output_type": "stream",
       "stream": "stdout",
       "text": [
        "\n",
        "[47/67]  OK: enp.lrif1.met"
       ]
      },
      {
       "output_type": "stream",
       "stream": "stdout",
       "text": [
        "\n",
        "[48/67]  OK: enp.bwsf1.met"
       ]
      },
      {
       "output_type": "stream",
       "stream": "stdout",
       "text": [
        "\n",
        "[49/67]  OK: enp.pkyf1.met"
       ]
      },
      {
       "output_type": "stream",
       "stream": "stdout",
       "text": [
        "\n",
        "[50/67]  OK: enp.lmdf1.met"
       ]
      },
      {
       "output_type": "stream",
       "stream": "stdout",
       "text": [
        "\n",
        "[51/67]  OK: enp.cnbf1.met"
       ]
      },
      {
       "output_type": "stream",
       "stream": "stdout",
       "text": [
        "\n",
        "[52/67]  OK: enp.hcef1.met"
       ]
      },
      {
       "output_type": "stream",
       "stream": "stdout",
       "text": [
        "\n",
        "[53/67]  OK: enp.jkyf1.met"
       ]
      },
      {
       "output_type": "stream",
       "stream": "stdout",
       "text": [
        "\n",
        "[54/67]  OK: enp.wrbf1.met"
       ]
      },
      {
       "output_type": "stream",
       "stream": "stdout",
       "text": [
        "\n",
        "[55/67]  OK: enp.gbif1.met"
       ]
      },
      {
       "output_type": "stream",
       "stream": "stdout",
       "text": [
        "\n",
        "[56/67]  OK: enp.ppta1.met but no sea_water_temperature"
       ]
      },
      {
       "output_type": "stream",
       "stream": "stdout",
       "text": [
        "\n",
        "[57/67]  OK: enp.bdvf1.met"
       ]
      },
      {
       "output_type": "stream",
       "stream": "stdout",
       "text": [
        "\n",
        "[58/67]  OK: enp.lrkf1.met"
       ]
      },
      {
       "output_type": "stream",
       "stream": "stdout",
       "text": [
        "\n",
        "[59/67]  OK: enp.bnkf1.met"
       ]
      },
      {
       "output_type": "stream",
       "stream": "stdout",
       "text": [
        "\n",
        "[60/67]  OK: enp.gbtf1.met"
       ]
      },
      {
       "output_type": "stream",
       "stream": "stdout",
       "text": [
        "\n",
        "[61/67]  OK: enp.tcvf1.met"
       ]
      },
      {
       "output_type": "stream",
       "stream": "stdout",
       "text": [
        "\n",
        "[62/67]  OK: enp.canf1.met"
       ]
      },
      {
       "output_type": "stream",
       "stream": "stdout",
       "text": [
        "\n",
        "[63/67]  OK: enp.lbsf1.met"
       ]
      },
      {
       "output_type": "stream",
       "stream": "stdout",
       "text": [
        "\n",
        "[64/67]  OK: enp.mukf1.met"
       ]
      },
      {
       "output_type": "stream",
       "stream": "stdout",
       "text": [
        "\n",
        "[65/67]  OK: enp.dkkf1.met"
       ]
      },
      {
       "output_type": "stream",
       "stream": "stdout",
       "text": [
        "\n",
        "[66/67]  OK: enp.cwaf1.met"
       ]
      },
      {
       "output_type": "stream",
       "stream": "stdout",
       "text": [
        "\n",
        "[67/67]  OK: fau.lobo.1"
       ]
      },
      {
       "output_type": "stream",
       "stream": "stdout",
       "text": [
        "\n"
       ]
      },
      {
       "output_type": "stream",
       "stream": "stderr",
       "text": [
        "Exception AttributeError: \"'CFReader' object has no attribute '_dataset'\" in <bound method CFReader.__del__ of CFReader('http://129.252.139.124/thredds/dodsC/cormp.ocp1.buoy.nc')> ignored\n"
       ]
      }
     ],
     "prompt_number": 3
    },
    {
     "cell_type": "markdown",
     "metadata": {},
     "source": [
      "# Testing the bad URL with pure netCDF4"
     ]
    },
    {
     "cell_type": "code",
     "collapsed": false,
     "input": [
      "from netCDF4 import Dataset\n",
      "\n",
      "url = urls[1]\n",
      "\n",
      "print(url)\n",
      "\n",
      "with Dataset(url) as nc:\n",
      "    print(nc.variables.keys())\n",
      "    \n",
      "    temp = nc.variables['water_temperature']\n",
      "    \n",
      "    print('Shape: {}'.format(temp.shape))\n",
      "    temp[:]"
     ],
     "language": "python",
     "metadata": {},
     "outputs": [
      {
       "output_type": "stream",
       "stream": "stdout",
       "text": [
        "http://129.252.139.124/thredds/dodsC/usf.c12.weatherpak.nc\n",
        "[u'lat', u'lon', u'station_name', u'crs', u'time', u'air_pressure', u'air_temperature', u'relative_humidity', u'salinity', u'water_temperature', u'wind_from_direction', u'wind_speed']"
       ]
      },
      {
       "output_type": "stream",
       "stream": "stdout",
       "text": [
        "\n",
        "Shape: (1146,)\n"
       ]
      },
      {
       "ename": "IndexError",
       "evalue": "",
       "output_type": "pyerr",
       "traceback": [
        "\u001b[1;31m---------------------------------------------------------------------------\u001b[0m\n\u001b[1;31mIndexError\u001b[0m                                Traceback (most recent call last)",
        "\u001b[1;32m<ipython-input-4-26cb658af10b>\u001b[0m in \u001b[0;36m<module>\u001b[1;34m()\u001b[0m\n\u001b[0;32m     11\u001b[0m \u001b[1;33m\u001b[0m\u001b[0m\n\u001b[0;32m     12\u001b[0m     \u001b[1;32mprint\u001b[0m\u001b[1;33m(\u001b[0m\u001b[1;34m'Shape: {}'\u001b[0m\u001b[1;33m.\u001b[0m\u001b[0mformat\u001b[0m\u001b[1;33m(\u001b[0m\u001b[0mtemp\u001b[0m\u001b[1;33m.\u001b[0m\u001b[0mshape\u001b[0m\u001b[1;33m)\u001b[0m\u001b[1;33m)\u001b[0m\u001b[1;33m\u001b[0m\u001b[0m\n\u001b[1;32m---> 13\u001b[1;33m     \u001b[0mtemp\u001b[0m\u001b[1;33m[\u001b[0m\u001b[1;33m:\u001b[0m\u001b[1;33m]\u001b[0m\u001b[1;33m\u001b[0m\u001b[0m\n\u001b[0m",
        "\u001b[1;32m/home/filipe/miniconda/envs/ioos/lib/python2.7/site-packages/netCDF4.so\u001b[0m in \u001b[0;36mnetCDF4.Variable.__getitem__ (netCDF4.c:37286)\u001b[1;34m()\u001b[0m\n",
        "\u001b[1;32m/home/filipe/miniconda/envs/ioos/lib/python2.7/site-packages/netCDF4.so\u001b[0m in \u001b[0;36mnetCDF4.Variable._get (netCDF4.c:44233)\u001b[1;34m()\u001b[0m\n",
        "\u001b[1;31mIndexError\u001b[0m: "
       ]
      }
     ],
     "prompt_number": 4
    },
    {
     "cell_type": "code",
     "collapsed": false,
     "input": [
      "url = urls[21]\n",
      "\n",
      "print(url)\n",
      "with Dataset(url) as nc:\n",
      "    print(nc.variables.keys())\n",
      "    \n",
      "    temp = nc.variables['water_temperature']\n",
      "    \n",
      "    print('Shape: {}'.format(temp.shape))\n",
      "    temp[:]"
     ],
     "language": "python",
     "metadata": {},
     "outputs": [
      {
       "output_type": "stream",
       "stream": "stdout",
       "text": [
        "http://129.252.139.124/thredds/dodsC/cormp.ocp1.buoy.nc\n"
       ]
      },
      {
       "ename": "RuntimeError",
       "evalue": "NetCDF: Malformed or inaccessible DAP DDS",
       "output_type": "pyerr",
       "traceback": [
        "\u001b[1;31m---------------------------------------------------------------------------\u001b[0m\n\u001b[1;31mRuntimeError\u001b[0m                              Traceback (most recent call last)",
        "\u001b[1;32m<ipython-input-5-48b82c727672>\u001b[0m in \u001b[0;36m<module>\u001b[1;34m()\u001b[0m\n\u001b[0;32m      2\u001b[0m \u001b[1;33m\u001b[0m\u001b[0m\n\u001b[0;32m      3\u001b[0m \u001b[1;32mprint\u001b[0m\u001b[1;33m(\u001b[0m\u001b[0murl\u001b[0m\u001b[1;33m)\u001b[0m\u001b[1;33m\u001b[0m\u001b[0m\n\u001b[1;32m----> 4\u001b[1;33m \u001b[1;32mwith\u001b[0m \u001b[0mDataset\u001b[0m\u001b[1;33m(\u001b[0m\u001b[0murl\u001b[0m\u001b[1;33m)\u001b[0m \u001b[1;32mas\u001b[0m \u001b[0mnc\u001b[0m\u001b[1;33m:\u001b[0m\u001b[1;33m\u001b[0m\u001b[0m\n\u001b[0m\u001b[0;32m      5\u001b[0m     \u001b[1;32mprint\u001b[0m\u001b[1;33m(\u001b[0m\u001b[0mnc\u001b[0m\u001b[1;33m.\u001b[0m\u001b[0mvariables\u001b[0m\u001b[1;33m.\u001b[0m\u001b[0mkeys\u001b[0m\u001b[1;33m(\u001b[0m\u001b[1;33m)\u001b[0m\u001b[1;33m)\u001b[0m\u001b[1;33m\u001b[0m\u001b[0m\n\u001b[0;32m      6\u001b[0m \u001b[1;33m\u001b[0m\u001b[0m\n",
        "\u001b[1;32m/home/filipe/miniconda/envs/ioos/lib/python2.7/site-packages/netCDF4.so\u001b[0m in \u001b[0;36mnetCDF4.Dataset.__init__ (netCDF4.c:19736)\u001b[1;34m()\u001b[0m\n",
        "\u001b[1;31mRuntimeError\u001b[0m: NetCDF: Malformed or inaccessible DAP DDS"
       ]
      }
     ],
     "prompt_number": 5
    }
   ],
   "metadata": {}
  }
 ]
}