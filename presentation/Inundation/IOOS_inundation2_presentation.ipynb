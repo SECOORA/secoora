{
 "metadata": {
  "celltoolbar": "Slideshow",
  "name": "",
  "signature": "sha256:12d0b404a6a31efdf1c0d8170d5a9bfc46ef5c7b5a62ad622dc02c9e9272d6d4"
 },
 "nbformat": 3,
 "nbformat_minor": 0,
 "worksheets": [
  {
   "cells": [
    {
     "cell_type": "markdown",
     "metadata": {
      "slideshow": {
       "slide_type": "slide"
      }
     },
     "source": [
      "# IOOS System Test: [Extreme Events Theme]\n",
      "(https://github.com/ioos/system-test/wiki/Development-of-Test-Themes#wiki-theme-2-extreme-events):  Inundation\n",
      "\n",
      "### Compare modeled water levels with observations for a specified bounding box\n",
      "and time period using IOOS recommended service standards for catalog search\n",
      "(CSW) and data retrieval (OPeNDAP & SOS).\n",
      "\n",
      "* Query CSW to find datasets that match criteria\n",
      "* Extract OPeNDAP data endpoints from model datasets and SOS endpoints from\n",
      "  observational datasets\n",
      "* OPeNDAP model datasets will be granules\n",
      "* SOS endpoints may be datasets (from ncSOS) or collections of datasets (from\n",
      "  NDBC, CO-OPS SOS servers)\n",
      "* Filter SOS services to obtain datasets\n",
      "* Extract data from SOS datasets\n",
      "* Extract data from model datasets at locations of observations\n",
      "* Compare time series data on same vertical datum"
     ]
    },
    {
     "cell_type": "code",
     "collapsed": false,
     "input": [
      "# Presentation mode:\n",
      "import warnings\n",
      "warnings.filterwarnings(\"ignore\")\n",
      "\n",
      "%run talktools"
     ],
     "language": "python",
     "metadata": {
      "slideshow": {
       "slide_type": "skip"
      }
     },
     "outputs": []
    },
    {
     "cell_type": "code",
     "collapsed": false,
     "input": [
      "# Standard Library.\n",
      "from datetime import datetime, timedelta\n",
      "\n",
      "# Scientific stack.\n",
      "import iris\n",
      "import numpy as np\n",
      "import cartopy.crs as ccrs\n",
      "from cartopy.io.img_tiles import MapQuestOpenAerial\n",
      "from pandas import Panel, DataFrame, concat, read_csv, date_range\n",
      "\n",
      "# Custom IOOS/ASA modules (available at PyPI).\n",
      "from owslib import fes\n",
      "from owslib.csw import CatalogueServiceWeb\n",
      "from pyoos.collectors.coops.coops_sos import CoopsSos\n",
      "\n",
      "# Local imports\n",
      "if False:\n",
      "    from utilities import name_list, sos_name\n",
      "    from utilities import (dateRange, service_urls, coops2df,\n",
      "                           find_timevar, find_ij, mod_df, nearxy)\n",
      "\n",
      "%run utilities.ipynb"
     ],
     "language": "python",
     "metadata": {
      "code_folding": [
       16
      ],
      "input_collapsed": false,
      "slideshow": {
       "slide_type": "slide"
      }
     },
     "outputs": []
    },
    {
     "cell_type": "markdown",
     "metadata": {
      "slideshow": {
       "slide_type": "slide"
      }
     },
     "source": [
      "### Specify a time range and bounding box of interest:"
     ]
    },
    {
     "cell_type": "code",
     "collapsed": false,
     "input": [
      "# Specific specific times (UTC).\n",
      "dates = {'Hurricane sandy':\n",
      "         [datetime(2012, 10, 26), datetime(2012, 11, 2)],\n",
      "         '2014 Feb 10-15 Storm':\n",
      "         [datetime(2014, 2, 10), datetime(2014, 2, 15)],\n",
      "         '2014 Recent': [datetime(2014, 3, 8), datetime(2014, 3, 11)],\n",
      "         '2011': [datetime(2013, 4, 20), datetime(2013, 4, 24)]}\n",
      "jd_now = datetime.utcnow()\n",
      "jd_start,  jd_stop = jd_now - timedelta(days=3), jd_now + timedelta(days=3)\n",
      "\n",
      "start_date = jd_start.strftime('%Y-%m-%d %H:00')\n",
      "stop_date = jd_stop.strftime('%Y-%m-%d %H:00')\n",
      "\n",
      "jd_start = datetime.strptime(start_date, '%Y-%m-%d %H:%M')\n",
      "jd_stop = datetime.strptime(stop_date, '%Y-%m-%d %H:%M')\n",
      "\n",
      "print('%s to %s' % (start_date, stop_date))"
     ],
     "language": "python",
     "metadata": {
      "code_folding": [],
      "slideshow": {
       "slide_type": "fragment"
      }
     },
     "outputs": []
    },
    {
     "cell_type": "code",
     "collapsed": false,
     "input": [
      "# Bounding Box [lon_min, lat_min, lon_max, lat_max]\n",
      "area = {'New York harbor region': [-75., 39., -71., 41.5],\n",
      "        'Gulf of Maine': [-72.0, 41.0, -69.0, 43.0],\n",
      "        'Hawaii': [-160.0, 18.0, -154., 23.0]}\n",
      "box = area['New York harbor region']"
     ],
     "language": "python",
     "metadata": {
      "code_folding": [],
      "slideshow": {
       "slide_type": "fragment"
      }
     },
     "outputs": []
    },
    {
     "cell_type": "markdown",
     "metadata": {
      "slideshow": {
       "slide_type": "slide"
      }
     },
     "source": [
      "### Search CSW for datasets of interest"
     ]
    },
    {
     "cell_type": "code",
     "collapsed": false,
     "input": [
      "website('www.ngdc.noaa.gov/geoportal/', 'CSW datasets')"
     ],
     "language": "python",
     "metadata": {
      "code_folding": [],
      "slideshow": {
       "slide_type": "slide"
      }
     },
     "outputs": []
    },
    {
     "cell_type": "markdown",
     "metadata": {
      "slideshow": {
       "slide_type": "slide"
      }
     },
     "source": [
      "# Connect to CSW, explore it's properties."
     ]
    },
    {
     "cell_type": "code",
     "collapsed": false,
     "input": [
      "CSW = {'NGDC Geoportal': 'http://www.ngdc.noaa.gov/geoportal/csw',\n",
      "       'USGS WHSC Geoportal': 'http://geoport.whoi.edu/geoportal/csw',\n",
      "       'NODC Geoportal: granule level': 'http://www.nodc.noaa.gov/geoportal/csw',\n",
      "       'NODC Geoportal: collection level': 'http://data.nodc.noaa.gov/geoportal/csw',\n",
      "       'NRCAN CUSTOM': 'http://geodiscover.cgdi.ca/wes/serviceManagerCSW/csw',\n",
      "       'USGS Woods Hole GI_CAT': 'http://geoport.whoi.edu/gi-cat/services/cswiso',\n",
      "       'USGS CIDA Geonetwork': 'http://cida.usgs.gov/gdp/geonetwork/srv/en/csw',\n",
      "       'USGS Coastal and Marine Program': 'http://cmgds.marine.usgs.gov/geonetwork/srv/en/csw',\n",
      "       'USGS Woods Hole Geoportal': 'http://geoport.whoi.edu/geoportal/csw',\n",
      "       'CKAN testing site for new Data.gov': 'http://geo.gov.ckan.org/csw',\n",
      "       'EPA': 'https://edg.epa.gov/metadata/csw',\n",
      "       'CWIC': 'http://cwic.csiss.gmu.edu/cwicv1/discovery'}\n",
      "\n",
      "endpoint = CSW['NGDC Geoportal']\n",
      "csw = CatalogueServiceWeb(endpoint, timeout=60)\n",
      "\n",
      "print(csw.version)"
     ],
     "language": "python",
     "metadata": {
      "code_folding": [],
      "slideshow": {
       "slide_type": "fragment"
      }
     },
     "outputs": []
    },
    {
     "cell_type": "code",
     "collapsed": false,
     "input": [
      "for operation in csw.operations:\n",
      "    if operation.name == 'GetRecords':\n",
      "        print('ISO Queryables:\\n%s' %\n",
      "              '\\n'.join(operation.constraints['SupportedISOQueryables']['values']))"
     ],
     "language": "python",
     "metadata": {
      "code_folding": [],
      "slideshow": {
       "slide_type": "slide"
      }
     },
     "outputs": []
    },
    {
     "cell_type": "markdown",
     "metadata": {
      "slideshow": {
       "slide_type": "slide"
      }
     },
     "source": [
      "# Convert User Input into FES filters."
     ]
    },
    {
     "cell_type": "code",
     "collapsed": false,
     "input": [
      "start, stop = dateRange(start_date, stop_date)\n",
      "bbox = fes.BBox(box)"
     ],
     "language": "python",
     "metadata": {
      "code_folding": [],
      "slideshow": {
       "slide_type": "fragment"
      }
     },
     "outputs": []
    },
    {
     "cell_type": "code",
     "collapsed": false,
     "input": [
      "or_filt = fes.Or([fes.PropertyIsLike(propertyname='apiso:AnyText',\n",
      "                                     literal=('*%s*' % val),\n",
      "                                     escapeChar='\\\\',\n",
      "                                     wildCard='*',\n",
      "                                     singleChar='?') for val in name_list])"
     ],
     "language": "python",
     "metadata": {
      "code_folding": [
       0
      ],
      "slideshow": {
       "slide_type": "fragment"
      }
     },
     "outputs": []
    },
    {
     "cell_type": "markdown",
     "metadata": {
      "slideshow": {
       "slide_type": "subslide"
      }
     },
     "source": [
      "ROMS model output often has Averages and History files.  The Averages files are usually averaged over a tidal cycle or more, while the History files are snapshots at that time instant.  We are not interested in averaged data for this test, so in the cell below we remove any Averages files here by removing any datasets that have the term \"Averages\" in the metadata text.  A better approach would be to look at the `cell_methods` attributes propagated through to some term in the ISO metadata, but this is not implemented yet, as far as I know."
     ]
    },
    {
     "cell_type": "code",
     "collapsed": false,
     "input": [
      "val = 'Averages'\n",
      "not_filt = fes.Not([fes.PropertyIsLike(propertyname='apiso:AnyText',\n",
      "                                       literal=('*%s*' % val),\n",
      "                                       escapeChar='\\\\',\n",
      "                                       wildCard='*',\n",
      "                                       singleChar='?')])\n",
      "\n",
      "filter_list = [fes.And([bbox, start, stop, or_filt, not_filt])]"
     ],
     "language": "python",
     "metadata": {
      "code_folding": [],
      "slideshow": {
       "slide_type": "subslide"
      }
     },
     "outputs": []
    },
    {
     "cell_type": "markdown",
     "metadata": {
      "slideshow": {
       "slide_type": "subslide"
      }
     },
     "source": [
      "Try request using multiple filters \"and\" syntax: [[filter1, filter2]]."
     ]
    },
    {
     "cell_type": "code",
     "collapsed": false,
     "input": [
      "csw.getrecords2(constraints=filter_list, maxrecords=1000, esn='full')\n",
      "print(len(csw.records.keys()))"
     ],
     "language": "python",
     "metadata": {
      "slideshow": {
       "slide_type": "subslide"
      }
     },
     "outputs": []
    },
    {
     "cell_type": "markdown",
     "metadata": {
      "slideshow": {
       "slide_type": "slide"
      }
     },
     "source": [
      "Now print out some titles"
     ]
    },
    {
     "cell_type": "code",
     "collapsed": false,
     "input": [
      "for rec, item in csw.records.iteritems():\n",
      "    print(item.title)"
     ],
     "language": "python",
     "metadata": {
      "slideshow": {
       "slide_type": "fragment"
      }
     },
     "outputs": []
    },
    {
     "cell_type": "markdown",
     "metadata": {
      "slideshow": {
       "slide_type": "skip"
      }
     },
     "source": [
      "Print out all the OPeNDAP Data URL endpoints"
     ]
    },
    {
     "cell_type": "code",
     "collapsed": false,
     "input": [
      "service = 'odp:url'\n",
      "dap_urls = service_urls(csw.records, service=service)\n",
      "print(\"\\n\".join(dap_urls))"
     ],
     "language": "python",
     "metadata": {
      "slideshow": {
       "slide_type": "skip"
      }
     },
     "outputs": []
    },
    {
     "cell_type": "markdown",
     "metadata": {
      "slideshow": {
       "slide_type": "skip"
      }
     },
     "source": [
      "Print out all the SOS Data URL endpoints"
     ]
    },
    {
     "cell_type": "code",
     "collapsed": false,
     "input": [
      "service = 'sos:url'\n",
      "sos_urls = service_urls(csw.records, service=service)\n",
      "print(\"\\n\".join(sos_urls))"
     ],
     "language": "python",
     "metadata": {
      "slideshow": {
       "slide_type": "skip"
      }
     },
     "outputs": []
    },
    {
     "cell_type": "markdown",
     "metadata": {
      "slideshow": {
       "slide_type": "slide"
      }
     },
     "source": [
      "## 1. Get observations from SOS\n",
      "Here we are using a custom class from pyoos to read the CO-OPS SOS.  This is definitely unsavory, as the whole point of using a standard is avoid the need for custom classes for each service.  Need to examine the consequences of removing this and just going with straight SOS service using OWSLib. "
     ]
    },
    {
     "cell_type": "code",
     "collapsed": false,
     "input": [
      "collector = CoopsSos()\n",
      "collector.datum = 'NAVD'  # 'MSL'"
     ],
     "language": "python",
     "metadata": {
      "slideshow": {
       "slide_type": "fragment"
      }
     },
     "outputs": []
    },
    {
     "cell_type": "code",
     "collapsed": false,
     "input": [
      "print(collector.server.identification.title)"
     ],
     "language": "python",
     "metadata": {
      "slideshow": {
       "slide_type": "fragment"
      }
     },
     "outputs": []
    },
    {
     "cell_type": "code",
     "collapsed": false,
     "input": [
      "collector.start_time = jd_start\n",
      "collector.end_time = jd_stop\n",
      "collector.variables = [sos_name]"
     ],
     "language": "python",
     "metadata": {
      "slideshow": {
       "slide_type": "subslide"
      }
     },
     "outputs": []
    },
    {
     "cell_type": "code",
     "collapsed": false,
     "input": [
      "ofrs = collector.server.offerings"
     ],
     "language": "python",
     "metadata": {
      "slideshow": {
       "slide_type": "subslide"
      }
     },
     "outputs": []
    },
    {
     "cell_type": "code",
     "collapsed": false,
     "input": [
      "print(len(ofrs))\n",
      "for p in ofrs[700:710]:\n",
      "    print(p)"
     ],
     "language": "python",
     "metadata": {
      "slideshow": {
       "slide_type": "subslide"
      }
     },
     "outputs": []
    },
    {
     "cell_type": "markdown",
     "metadata": {
      "slideshow": {
       "slide_type": "slide"
      }
     },
     "source": [
      "### Find the SOS stations within our bounding box and time extent\n",
      "We would like to just use a filter on a collection to get a new collection, but PYOOS doesn't do that yet. So we do a GetObservation request for a collection, including a bounding box, and asking for one value at the start of the time period of interest.   We use that to do a bounding box filter on the SOS server, which returns 1 point for each station found.  So for 3 stations, we get back 3 records, in CSV format.  We can strip the station ids from the CSV, and then we have a list of stations we can use with pyoos.  The template for the GetObservation query for the bounding box filtered collection was generated using the GUI at http://opendap.co-ops.nos.noaa.gov/ioos-dif-sos/"
     ]
    },
    {
     "cell_type": "code",
     "collapsed": false,
     "input": [
      "iso_start = jd_start.strftime('%Y-%m-%dT%H:%M:%SZ')\n",
      "box_str = ','.join(str(e) for e in box)\n",
      "print('Start date:\\t%s\\nBoundary box:\\t%s' % (iso_start, box_str))"
     ],
     "language": "python",
     "metadata": {
      "slideshow": {
       "slide_type": "slide"
      }
     },
     "outputs": []
    },
    {
     "cell_type": "code",
     "collapsed": false,
     "input": [
      "url = (('http://opendap.co-ops.nos.noaa.gov/ioos-dif-sos/SOS?'\n",
      "        'service=SOS&request=GetObservation&version=1.0.0&'\n",
      "        'observedProperty=%s&offering='\n",
      "        'urn:ioos:network:NOAA.NOS.CO-OPS:WaterLevelActive&'\n",
      "        'featureOfInterest=BBOX:%s&responseFormat=text/csv&eventTime=%s') %\n",
      "       (sos_name, box_str, iso_start))\n",
      "\n",
      "print(url)\n",
      "obs_loc_df = read_csv(url)"
     ],
     "language": "python",
     "metadata": {
      "code_folding": [],
      "slideshow": {
       "slide_type": "fragment"
      }
     },
     "outputs": []
    },
    {
     "cell_type": "code",
     "collapsed": false,
     "input": [
      "# Clean-up some names:\n",
      "obs_loc_df['station_id'] = [sta.split(':')[-1] for sta in obs_loc_df['station_id']]\n",
      "obs_loc_df['sensor_id'] = [sta.split(':')[-1] for sta in obs_loc_df['sensor_id']]\n",
      "obs_loc_df['datum_id'] = [sta.split(':')[-1] for sta in obs_loc_df['datum_id']]\n",
      "\n",
      "obs_loc_df.head()"
     ],
     "language": "python",
     "metadata": {
      "slideshow": {
       "slide_type": "slide"
      }
     },
     "outputs": []
    },
    {
     "cell_type": "code",
     "collapsed": false,
     "input": [
      "names = [get_Coops_longName(sta) for sta in obs_loc_df['station_id']]\n",
      "stations = dict(zip(obs_loc_df['station_id'],\n",
      "                    zip(names,\n",
      "                        zip(obs_loc_df['longitude (degree)'],\n",
      "                            obs_loc_df['latitude (degree)']))))\n",
      "stations"
     ],
     "language": "python",
     "metadata": {
      "slideshow": {
       "slide_type": "subslide"
      }
     },
     "outputs": []
    },
    {
     "cell_type": "markdown",
     "metadata": {
      "slideshow": {
       "slide_type": "slide"
      }
     },
     "source": [
      "Generate a uniform 6-min time base for model/data comparison:"
     ]
    },
    {
     "cell_type": "code",
     "collapsed": false,
     "input": [
      "ts_rng = date_range(start=jd_start, end=jd_stop, freq='6Min')\n",
      "ts = DataFrame(index=ts_rng)\n",
      "print(jd_start, jd_stop)\n",
      "print(len(ts))"
     ],
     "language": "python",
     "metadata": {
      "slideshow": {
       "slide_type": "fragment"
      }
     },
     "outputs": []
    },
    {
     "cell_type": "markdown",
     "metadata": {
      "slideshow": {
       "slide_type": "slide"
      }
     },
     "source": [
      "Create a list of obs dataframes, one for each station:"
     ]
    },
    {
     "cell_type": "code",
     "collapsed": false,
     "input": [
      "obs_df = []\n",
      "sta_failed = []\n",
      "for sta in stations:\n",
      "    b = coops2df(collector, sta, sos_name)\n",
      "    if b.empty:\n",
      "        sta_failed.append(b.name)\n",
      "    else:\n",
      "        print(b.name)\n",
      "        # Limit interpolation to 10 points (10 @ 6min = 1 hour).\n",
      "        col = 'Observed Data'\n",
      "        obs_df.append(DataFrame(concat([b, ts],\n",
      "                                       axis=1).interpolate(limit=10)[col]))\n",
      "        obs_df[-1].name = b.name"
     ],
     "language": "python",
     "metadata": {
      "slideshow": {
       "slide_type": "fragment"
      }
     },
     "outputs": []
    },
    {
     "cell_type": "code",
     "collapsed": false,
     "input": [
      "import matplotlib.pyplot as plt\n",
      "from matplotlib.transforms import offset_copy\n",
      "def make_map(datum='WGS84', zoom=8, figsize=(10, 10)):\n",
      "    geodetic = ccrs.Geodetic(globe=ccrs.Globe(datum=datum))\n",
      "    tiler = MapQuestOpenAerial()\n",
      "    fig, ax = plt.subplots(figsize=figsize,\n",
      "                           subplot_kw=dict(projection=tiler.crs))\n",
      "    extent = [box[0], box[2], box[1], box[3]]\n",
      "    ax.set_extent(extent, geodetic)\n",
      "    ax.add_image(tiler, zoom)\n",
      "    ax.set_title('Water Level Gauge Locations')\n",
      "    gl = ax.gridlines(draw_labels=True)\n",
      "    gl.xlabels_top = gl.ylabels_right = False\n",
      "    return fig, ax"
     ],
     "language": "python",
     "metadata": {
      "slideshow": {
       "slide_type": "fragment"
      }
     },
     "outputs": []
    },
    {
     "cell_type": "code",
     "collapsed": false,
     "input": [
      "zoom = 8\n",
      "fig, ax = make_map(zoom=zoom)\n",
      "kw = dict(marker='o', s=30, color='cyan', transform=ccrs.PlateCarree())\n",
      "ax.scatter(obs_loc_df['longitude (degree)'], obs_loc_df['latitude (degree)'], **kw)\n",
      "geodetic_transform = ccrs.Geodetic()._as_mpl_transform(ax)\n",
      "text_transform = offset_copy(geodetic_transform, units='dots', x=-zoom, y=+zoom)\n",
      "\n",
      "kw = dict(horizontalalignment='left', transform=text_transform,)\n",
      "for station in stations.items():\n",
      "    number, (name, (lon, lat)) = station\n",
      "    if name in sta_failed:\n",
      "        color = 'red'\n",
      "    else:\n",
      "        color = 'white'\n",
      "    ax.text(lon, lat, name, color=color, **kw)"
     ],
     "language": "python",
     "metadata": {
      "code_folding": [],
      "slideshow": {
       "slide_type": "slide"
      }
     },
     "outputs": []
    },
    {
     "cell_type": "markdown",
     "metadata": {
      "slideshow": {
       "slide_type": "slide"
      }
     },
     "source": [
      "### Get model output from OPeNDAP URLS\n",
      "Try to open all the OPeNDAP URLS using Iris from the British Met Office.  If 1D, assume dataset is data, if 2D assume dataset is an unstructured grid model, and if 3D, assume it's a structured grid model."
     ]
    },
    {
     "cell_type": "markdown",
     "metadata": {
      "slideshow": {
       "slide_type": "fragment"
      }
     },
     "source": [
      "Construct an Iris contraint to load only cubes that match the std_name_list:"
     ]
    },
    {
     "cell_type": "code",
     "collapsed": false,
     "input": [
      "name_in_list = lambda cube: cube.standard_name in name_list\n",
      "constraint = iris.Constraint(cube_func=name_in_list)\n",
      "print('\\n'.join(name_list))"
     ],
     "language": "python",
     "metadata": {
      "slideshow": {
       "slide_type": "fragment"
      }
     },
     "outputs": []
    },
    {
     "cell_type": "markdown",
     "metadata": {
      "slideshow": {
       "slide_type": "slide"
      }
     },
     "source": [
      "### Use only data within 0.04 degrees (about 4 km)."
     ]
    },
    {
     "cell_type": "code",
     "collapsed": false,
     "input": [
      "max_dist = 0.04"
     ],
     "language": "python",
     "metadata": {
      "slideshow": {
       "slide_type": "fragment"
      }
     },
     "outputs": []
    },
    {
     "cell_type": "markdown",
     "metadata": {
      "slideshow": {
       "slide_type": "fragment"
      }
     },
     "source": [
      "### Use only data where the standard deviation of the time series exceeds 0.01 m (1 cm) this eliminates flat line model time series that come from land points that should have had missing values."
     ]
    },
    {
     "cell_type": "code",
     "collapsed": false,
     "input": [
      "min_var = 0.01"
     ],
     "language": "python",
     "metadata": {
      "slideshow": {
       "slide_type": "fragment"
      }
     },
     "outputs": []
    },
    {
     "cell_type": "markdown",
     "metadata": {
      "slideshow": {
       "slide_type": "fragment"
      }
     },
     "source": [
      "### Loop through all dap url."
     ]
    },
    {
     "cell_type": "code",
     "collapsed": false,
     "input": [
      "print('\\n'.join(dap_urls))"
     ],
     "language": "python",
     "metadata": {
      "slideshow": {
       "slide_type": "fragment"
      }
     },
     "outputs": []
    },
    {
     "cell_type": "code",
     "collapsed": false,
     "input": [
      "def load_dap(url, constraint):\n",
      "    \"\"\"Modifies obs_df to include model data.\"\"\"\n",
      "    cube = iris.load_cube(url, constraint)\n",
      "    # Convert to units of meters.\n",
      "    # FIXME: cube.convert_units('m') is not working for unstructured data!\n",
      "    # Take first 20 chars for model name.\n",
      "    mod_name = cube.attributes['title'][0:20]\n",
      "    lat = cube.coord(axis='Y').points\n",
      "    lon = cube.coord(axis='X').points\n",
      "    time = find_timevar(cube)\n",
      "    jd = time.units.num2date(time.points)\n",
      "    istart = time.nearest_neighbour_index(time.units.date2num(jd_start))\n",
      "    istop = time.nearest_neighbour_index(time.units.date2num(jd_stop))\n",
      "\n",
      "    # Only proceed if we have data in the range requested.\n",
      "    if istart != istop:\n",
      "        nsta = len(obs_loc_df['longitude (degree)'])\n",
      "        if len(cube.shape) == 3:\n",
      "            print('[Structured grid model]: %s' % url)\n",
      "            model_type = 'structured'\n",
      "        elif len(cube.shape) == 2:\n",
      "            print('[Unstructured grid model]:%s' % url)\n",
      "            model_type = 'unstructured'\n",
      "        elif len(cube.shape) == 1:\n",
      "            print('[Data]:%s' % url)\n",
      "            model_type = 'data'\n",
      "        else:\n",
      "            print('Unrecognized cube shape: %s' % cube.shape)\n",
      "            model_type = None\n",
      "\n",
      "        # Find the closest non-land point from a structured grid model.\n",
      "        if model_type == 'structured':\n",
      "            if len(lon.shape) == 1:\n",
      "                lon, lat = np.meshgrid(lon, lat)\n",
      "                j, i, dd = find_ij(lon, lat, cube[0, ...].data,\n",
      "                                   obs_loc_df['longitude (degree)'].values,\n",
      "                                   obs_loc_df['latitude (degree)'].values)\n",
      "            for n in range(nsta):\n",
      "                # Only use cell is within 0.1 degree of requested location.\n",
      "                if dd[n] <= max_dist:\n",
      "                    arr = cube[istart:istop, j[n], i[n]].data\n",
      "                    if arr.std() >= min_var:\n",
      "                        model_df = mod_df(arr, time, istart, istop, mod_name, ts)\n",
      "                        name = obs_df[n].name\n",
      "                        obs_df[n] = concat([obs_df[n], model_df], axis=1)\n",
      "                        obs_df[n].name = name\n",
      "\n",
      "        # Find the closest point from an unstructured grid model.\n",
      "        if model_type == 'unstructured':\n",
      "            i, dd = nearxy(lon.flatten(), lat.flatten(),\n",
      "                                obs_loc_df['longitude (degree)'],\n",
      "                                obs_loc_df['latitude (degree)'])\n",
      "            for n in range(nsta):\n",
      "                # Only use cell is within 0.1 degree of requested location.\n",
      "                if dd[n] <= max_dist:\n",
      "                    arr = cube[istart:istop, i[n]].data\n",
      "                    if arr.std() >= min_var:\n",
      "                        model_df = mod_df(arr, time, istart, istop, mod_name, ts)\n",
      "                        name = obs_df[n].name\n",
      "                        obs_df[n] = concat([obs_df[n], model_df], axis=1)\n",
      "                        obs_df[n].name = name\n",
      "    return obs_df"
     ],
     "language": "python",
     "metadata": {
      "slideshow": {
       "slide_type": "subslide"
      }
     },
     "outputs": []
    },
    {
     "cell_type": "code",
     "collapsed": false,
     "input": [
      "for url in dap_urls:\n",
      "    try:\n",
      "        print(url)\n",
      "        obs_df = load_dap(url, constraint)\n",
      "    except:\n",
      "        pass"
     ],
     "language": "python",
     "metadata": {
      "code_folding": [],
      "slideshow": {
       "slide_type": "slide"
      }
     },
     "outputs": []
    },
    {
     "cell_type": "code",
     "collapsed": false,
     "input": [
      "panel = dict()\n",
      "for df in obs_df:\n",
      "    panel.update({df.name: df})\n",
      "    \n",
      "dfs = Panel.from_dict(panel)"
     ],
     "language": "python",
     "metadata": {
      "slideshow": {
       "slide_type": "subslide"
      }
     },
     "outputs": []
    },
    {
     "cell_type": "code",
     "collapsed": false,
     "input": [
      "import seaborn\n",
      "seaborn.set_context(\"talk\", {\"lines.linewidth\": 2})"
     ],
     "language": "python",
     "metadata": {
      "slideshow": {
       "slide_type": "skip"
      }
     },
     "outputs": []
    },
    {
     "cell_type": "code",
     "collapsed": false,
     "input": [
      "for df in obs_df:\n",
      "    ax = df.plot(figsize=(14, 6), title=df.name, legend=False)\n",
      "    plt.setp(ax.lines[0], linewidth=4.0, color='.7', zorder=1)\n",
      "    ax.legend()\n",
      "    ax.set_ylabel('m')"
     ],
     "language": "python",
     "metadata": {
      "code_folding": [],
      "slideshow": {
       "slide_type": "subslide"
      }
     },
     "outputs": []
    },
    {
     "cell_type": "code",
     "collapsed": false,
     "input": [
      "name = 'Atlantic City, NJ'\n",
      "ax = dfs[name].plot(figsize=(13, 5.75), title=name, legend=True)\n",
      "_ = ax.set_ylabel('m')"
     ],
     "language": "python",
     "metadata": {
      "slideshow": {
       "slide_type": "slide"
      }
     },
     "outputs": []
    },
    {
     "cell_type": "code",
     "collapsed": false,
     "input": [
      "# Plot again, but now remove the mean offset (relative to data) from all plots.\n",
      "for df in obs_df:\n",
      "    name = df.name\n",
      "    amean = df[jd_start:jd_now].mean()\n",
      "    df = df - amean + amean.ix[0]\n",
      "    val = amean.ix[0] - amean\n",
      "    print('%s\\n%s\\n' % (name, val))"
     ],
     "language": "python",
     "metadata": {
      "code_folding": [],
      "slideshow": {
       "slide_type": "skip"
      }
     },
     "outputs": []
    },
    {
     "cell_type": "markdown",
     "metadata": {
      "slideshow": {
       "slide_type": "skip"
      }
     },
     "source": [
      "FIXME: the values are different from above!"
     ]
    },
    {
     "cell_type": "code",
     "collapsed": false,
     "input": [
      "vals = dfs.loc[:, jd_start:jd_stop, :]  # Not necessary, the axis are already in the time interval.\n",
      "amean = vals.mean()\n",
      "amean.ix['Observed Data'] - amean"
     ],
     "language": "python",
     "metadata": {
      "slideshow": {
       "slide_type": "slide"
      }
     },
     "outputs": []
    }
   ],
   "metadata": {}
  }
 ]
}