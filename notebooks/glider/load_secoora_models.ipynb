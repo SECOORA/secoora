{
 "metadata": {
  "name": "",
  "signature": "sha256:b71d760832bcd783badb5f39692f3744557f6bf73b71880d949cbaa68e16b83d"
 },
 "nbformat": 3,
 "nbformat_minor": 0,
 "worksheets": [
  {
   "cells": [
    {
     "cell_type": "markdown",
     "metadata": {},
     "source": [
      "Compare with: https://github.com/nctoolbox/nctoolbox/blob/master/demos/contrib"
     ]
    },
    {
     "cell_type": "code",
     "collapsed": false,
     "input": [
      "from datetime import datetime\n",
      "\n",
      "import iris\n",
      "import numpy as np\n",
      "import numpy.ma as ma\n",
      "import seawater as sw\n",
      "import matplotlib.pyplot as plt"
     ],
     "language": "python",
     "metadata": {},
     "outputs": [],
     "prompt_number": 1
    },
    {
     "cell_type": "code",
     "collapsed": false,
     "input": [
      "variable = 'temp'  # 'salt'.\n",
      "\n",
      "obs = dict()  # Single glider transect.\n",
      "if False:\n",
      "    uri = 'http://tds.marine.rutgers.edu/thredds/dodsC/cool/glider/mab/Gridded'\n",
      "    obs['url'] = '%s/20101025T000000_20101117T000000_marcoos_ru22.nc' % uri\n",
      "    obs['url'] = '%s/20100402T000000_20100511T000000_cara_ru26d.nc' % uri\n",
      "    obs['url'] = '%s/20130813T000000_20130826T000000_njdep_ru28.nc' % uri\n",
      "\n",
      "uri = 'http://tds.marine.rutgers.edu:8080/thredds/dodsC/cool/glider/mab/Gridded'\n",
      "obs['url'] = '%s/20130911T000000_20130920T000000_gp2013_modena.nc' % uri\n",
      "obs['file'] = obs['url']\n",
      "obs['temp'] = dict(name='temperature')\n",
      "obs['salt'] = dict(name='salinity')\n",
      "obs['lonname'] = 'longitude'\n",
      "obs['latname'] = 'latitude'\n",
      "obs['zname']  = 'depth'\n",
      "\n",
      "cubes = iris.load(obs['url'])\n",
      "\n",
      "# Load the observations.\n",
      "print(cubes)\n",
      "print('Loading obs from \"%s\"' % obs['url'])\n",
      "print('  Variable is %s' % obs[variable]['name'])\n",
      "\n",
      "for cube in cubes:\n",
      "    if cube.name().lower() == obs[variable]['name']:\n",
      "        obs['data'] = cube.data\n",
      "        obs['z'] = cube.coord(obs['zname']).points\n",
      "        time_coord = cube.coord(axis='T')\n",
      "        obs['time'] = time_coord.units.num2date(time_coord.points)\n",
      "    elif cube.name().lower() == obs['lonname']:\n",
      "        obs['lon']  = cube.data\n",
      "    elif cube.name().lower() == obs['latname']:\n",
      "        obs['lat']  = cube.data\n",
      "\n",
      "obs['dist'] = np.cumsum(np.r_[0, sw.dist(obs['lat'], obs['lon'], units='km')[0]])\n",
      "obs[variable]['data'] = obs['data']\n",
      "obs[variable]['dist'] = obs['dist']\n",
      "obs[variable]['z'] = obs['z']\n",
      "\n",
      "tstart = min(obs['time'])\n",
      "tend = max(obs['time'])\n",
      "print('  Time interval of obs:')\n",
      "print('    %s to %s' % (tstart, tend))"
     ],
     "language": "python",
     "metadata": {
      "code_folding": []
     },
     "outputs": [
      {
       "output_type": "stream",
       "stream": "stdout",
       "text": [
        "0: Latitude / (degrees)                (-- : 2440)\n",
        "1: Temperature / (Celsius)             (-- : 2440; depth: 60)\n",
        "2: Longitude / (degrees)               (-- : 2440)\n",
        "3: Salinity / (unknown)                (-- : 2440; depth: 60)\n",
        "Loading obs from \"http://tds.marine.rutgers.edu:8080/thredds/dodsC/cool/glider/mab/Gridded/20130911T000000_20130920T000000_gp2013_modena.nc\"\n",
        "  Variable is temperature\n",
        "  Time interval of obs:"
       ]
      },
      {
       "output_type": "stream",
       "stream": "stdout",
       "text": [
        "\n",
        "    2013-09-11 16:35:11 to 2013-09-20 09:48:13\n"
       ]
      },
      {
       "output_type": "stream",
       "stream": "stderr",
       "text": [
        "/home/filipe/.virtualenvs/iris/lib/python2.7/site-packages/iris/fileformats/_pyke_rules/compiled_krb/fc_rules_cf_fc.py:1195: UserWarning: Ignoring netCDF variable 'salinity' invalid units 'psu'\n",
        "  warnings.warn(msg.format(msg_name, msg_units))\n"
       ]
      }
     ],
     "prompt_number": 2
    },
    {
     "cell_type": "markdown",
     "metadata": {},
     "source": [
      "# Probably iris will change all this part.  No need to define all those parameters."
     ]
    },
    {
     "cell_type": "markdown",
     "metadata": {},
     "source": [
      "Model: Global NCOM CF-compliant aggregation."
     ]
    },
    {
     "cell_type": "code",
     "collapsed": false,
     "input": [
      "ncom = dict()\n",
      "ncom['name'] = 'global_ncom'\n",
      "uri = 'http://ecowatch.ncddc.noaa.gov/thredds/dodsC/ncom/ncom_reg1_agg'\n",
      "ncom['url'] = '%s/NCOM_Region_1_Aggregation_best.ncd' % uri\n",
      "ncom['file'] = 'ncom.nc'\n",
      "ncom['temp'] = dict(name='water_temp')\n",
      "ncom['salt'] = dict(name='salinity')"
     ],
     "language": "python",
     "metadata": {},
     "outputs": [],
     "prompt_number": 3
    },
    {
     "cell_type": "markdown",
     "metadata": {},
     "source": [
      "Model: US-EAST (NCOM) CF-compliant aggregation."
     ]
    },
    {
     "cell_type": "code",
     "collapsed": false,
     "input": [
      "useast = dict()\n",
      "useast['name'] = 'useast'\n",
      "uri = 'http://ecowatch.ncddc.noaa.gov/thredds/dodsC/ncom_us_east_agg'\n",
      "useast['url'] = '%s/US_East_Apr_05_2013_to_Current_best.ncd' % uri\n",
      "useast['file'] = 'useast.nc'\n",
      "useast['temp'] = dict(name='water_temp')\n",
      "useast['salt'] = dict(name='salinity')"
     ],
     "language": "python",
     "metadata": {},
     "outputs": [],
     "prompt_number": 4
    },
    {
     "cell_type": "markdown",
     "metadata": {},
     "source": [
      "Model: MERCATOR CF-compliant nc file extracted at myocean.eu.\n",
      "Registration and user/password authentication required."
     ]
    },
    {
     "cell_type": "code",
     "collapsed": false,
     "input": [
      "mercator = dict()\n",
      "mercator['name'] = 'mercator'\n",
      "mercator['url'] = 'dataset-psy2v4-pgs-nat-myocean-bestestimate_1295878772263.nc'\n",
      "mercator['file'] = mercator['url']\n",
      "mercator['temp'] = dict(name='temperature')\n",
      "mercator['salt'] = dict(name='salinity')"
     ],
     "language": "python",
     "metadata": {},
     "outputs": [],
     "prompt_number": 5
    },
    {
     "cell_type": "markdown",
     "metadata": {},
     "source": [
      "Model: COAWST CF-compliant ROMS aggregation."
     ]
    },
    {
     "cell_type": "code",
     "collapsed": false,
     "input": [
      "coawst = dict()\n",
      "coawst['name'] = 'coawst'\n",
      "uri = 'http://geoport.whoi.edu/thredds/dodsC'\n",
      "if tend <= datetime(2012, 6, 25):\n",
      "    coawst['u# FIXME:rl'] = '%s/coawst_2_2/fmrc/coawst_2_2_best.ncd' % uri\n",
      "else:\n",
      "    coawst['url'] = '%s/coawst_4/use/fmrc/coawst_4_use_best.ncd' % uri\n",
      "\n",
      "coawst['file'] = 'coawst.nc'\n",
      "coawst['temp'] = dict(name='temp')\n",
      "coawst['salt'] = dict(name='salt')"
     ],
     "language": "python",
     "metadata": {},
     "outputs": [],
     "prompt_number": 6
    },
    {
     "cell_type": "markdown",
     "metadata": {},
     "source": [
      "Model: ESPreSSO CF-compliant ROMS aggregation."
     ]
    },
    {
     "cell_type": "code",
     "collapsed": false,
     "input": [
      "espresso = dict()\n",
      "espresso['name'] = 'espresso'\n",
      "uri = 'http://tds.marine.rutgers.edu:8080/thredds/dodsC'\n",
      "espresso['url'] = '%s/roms/espresso/2009_da/his' % uri\n",
      "espresso['file'] = 'espresso.nc'\n",
      "espresso['temp'] = dict(name='temp')\n",
      "espresso['salt'] = dict(name='salt')"
     ],
     "language": "python",
     "metadata": {},
     "outputs": [],
     "prompt_number": 7
    },
    {
     "cell_type": "markdown",
     "metadata": {},
     "source": [
      "Model: SABGOM CF-compliant ROMS aggregation."
     ]
    },
    {
     "cell_type": "code",
     "collapsed": false,
     "input": [
      "sabgom = dict()\n",
      "sabgom['name'] = 'sabgom'\n",
      "uri = 'http://omgsrv1.meas.ncsu.edu:8080/thredds/dodsC/fmrc/sabgom'\n",
      "sabgom['url'] = '%s/SABGOM_Forecast_Model_Run_Collection_best.ncd' % uri\n",
      "sabgom['file'] = 'sabgom.nc'\n",
      "sabgom['temp'] = dict(name='temp')\n",
      "sabgom['salt'] = dict(name='salt')"
     ],
     "language": "python",
     "metadata": {},
     "outputs": [],
     "prompt_number": 8
    },
    {
     "cell_type": "markdown",
     "metadata": {},
     "source": [
      "Model: AMSEAS CF-compliant NCOM aggregation"
     ]
    },
    {
     "cell_type": "code",
     "collapsed": false,
     "input": [
      "amseas = dict()\n",
      "amseas['name'] = 'amseas'\n",
      "uri = 'http://edac-dap3.northerngulfinstitute.org/thredds/dodsC'\n",
      "amseas['url'] = '%s/ncom_amseas_agg/AmSeas_Aggregation_best.ncd' % uri\n",
      "amseas['file'] = 'amseas.nc'\n",
      "amseas['temp'] = dict(name='water_temp')\n",
      "amseas['salt'] = dict(name='salinity')"
     ],
     "language": "python",
     "metadata": {},
     "outputs": [],
     "prompt_number": 9
    },
    {
     "cell_type": "markdown",
     "metadata": {},
     "source": [
      "Model: Global HYCOM RTOFS (HYCOM) Region 1."
     ]
    },
    {
     "cell_type": "code",
     "collapsed": false,
     "input": [
      "hycom = dict()\n",
      "hycom['name'] = 'hycom'\n",
      "uri = 'http://ecowatch.ncddc.noaa.gov/thredds/dodsC/hycom/hycom_reg1_agg'\n",
      "hycom['url'] = '%s/HYCOM_Region_1_Aggregation_best.ncd' % uri\n",
      "hycom['file'] = 'hycom.nc'\n",
      "hycom['temp'] = dict(name='water_temp')\n",
      "hycom['salt'] = dict(name='salinity')"
     ],
     "language": "python",
     "metadata": {},
     "outputs": [],
     "prompt_number": 10
    },
    {
     "cell_type": "code",
     "collapsed": false,
     "input": [
      "# Models to compare with data.\n",
      "model_list = {'USEAST', 'ESPreSSO', 'HYCOM'}  # MARACOOS.\n",
      "model_list = ['USEAST', 'SABGOM', 'HYCOM']  # SECOORA."
     ],
     "language": "python",
     "metadata": {},
     "outputs": [],
     "prompt_number": 11
    },
    {
     "cell_type": "code",
     "collapsed": false,
     "input": [
      "ncks = False\n",
      "for m = 1:length(model_list)\n",
      "    mname = char(model_list{m})\n",
      "\n",
      "    # Work with a temporary structure named 'model'.\n",
      "    # FIXME:\n",
      "    eval(['model = ' lower(mname)])\n",
      "\n",
      "    if ncks:\n",
      "        string = nc_genslice(model['url'], model[variable]['name'],\n",
      "                             obs['lon'], obs['lat'], obs['time'], 'ncks')\n",
      "        print(['%s  %s.nc' % (string, model['name']))\n",
      "\n",
      "    # TODO: Develop `nc_genslice` using iris!\n",
      "    Tvar, Tdis, Tzed = nc_genslice(model['url'], model[variable]['name'],\n",
      "                                   obs['lon'], obs['lat'], obs['time'],\n",
      "                                   'verbose')\n",
      "\n",
      "    if ~isempty(findstr(model['url'], 'myocean')) && strcmp(variable, 'temp')\n",
      "        # FIXME: cube.convert_units('celsius')\n",
      "        Tvar = Tvar - 272.15\n",
      "\n",
      "    model[variable]['data'] = Tvar\n",
      "    model[variable]['dist'] = Tdis\n",
      "    model[variable]['z'] = Tzed\n",
      "\n",
      "    # Copy 'model' back to the original named structure for this model.\n",
      "    # FIXME:\n",
      "    eval([model.name ' = model'])\n",
      "\n",
      "\n",
      "#save secoora_models.mat"
     ],
     "language": "python",
     "metadata": {},
     "outputs": []
    }
   ],
   "metadata": {}
  }
 ]
}