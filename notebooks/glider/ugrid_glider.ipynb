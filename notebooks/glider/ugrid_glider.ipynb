{
 "cells": [
  {
   "cell_type": "code",
   "execution_count": null,
   "metadata": {
    "collapsed": false
   },
   "outputs": [],
   "source": [
    "import iris\n",
    "iris.FUTURE.netcdf_promote = True\n",
    "\n",
    "\n",
    "url = \"http://www.smast.umassd.edu:8080/thredds/dodsC/FVCOM/NECOFS/Forecasts/NECOFS_GOM3_FORECAST.nc\"\n",
    "cubes = iris.load_raw(url)\n",
    "\n",
    "print(cubes)"
   ]
  },
  {
   "cell_type": "code",
   "execution_count": null,
   "metadata": {
    "collapsed": false
   },
   "outputs": [],
   "source": [
    "cube = cubes.extract_strict(\"sea_water_potential_temperature\")"
   ]
  },
  {
   "cell_type": "code",
   "execution_count": null,
   "metadata": {
    "collapsed": false
   },
   "outputs": [],
   "source": [
    "import pyugrid\n",
    "import matplotlib.tri as tri\n",
    "\n",
    "\n",
    "def get_mesh(cube, url):\n",
    "    ug = pyugrid.UGrid.from_ncfile(url)\n",
    "    cube.mesh = ug\n",
    "    cube.mesh_dimension = 1\n",
    "    return cube\n",
    "    \n",
    "def get_triang(cube):\n",
    "    lon = cube.mesh.nodes[:, 0]\n",
    "    lat = cube.mesh.nodes[:, 1]\n",
    "    nv = cube.mesh.faces\n",
    "    return tri.Triangulation(lon, lat, triangles=nv)"
   ]
  },
  {
   "cell_type": "code",
   "execution_count": null,
   "metadata": {
    "collapsed": false
   },
   "outputs": [],
   "source": [
    "%matplotlib inline\n",
    "\n",
    "import numpy as np\n",
    "import numpy.ma as ma\n",
    "import cartopy.crs as ccrs\n",
    "import matplotlib.pyplot as plt\n",
    "\n",
    "def plot_model(cube, time_idx=-1, depth_idx=None):\n",
    "    lon = cube.mesh.nodes[:, 0]\n",
    "    lat = cube.mesh.nodes[:, 1]\n",
    "    triang = get_triang(cube)\n",
    "    data = cube[time_idx, ...].data\n",
    "    if depth_idx is not None:\n",
    "        data = data[depth_idx, ...]\n",
    "    print(data.shape)\n",
    "    data = ma.masked_invalid(data)\n",
    "\n",
    "    fig, ax = plt.subplots(figsize=(7, 7),\n",
    "                           subplot_kw=dict(projection=ccrs.PlateCarree()))\n",
    "    ax.set_extent([lon.min(), lon.max(), lat.min(), lat.max()])\n",
    "    ax.coastlines()\n",
    "    levs = np.arange(-1, 5, 0.2)\n",
    "    cs = ax.tricontourf(triang, data, levels=levs)\n",
    "    fig.colorbar(cs)\n",
    "    ax.tricontour(triang, data, colors='k',levels=levs)\n",
    "    gl = ax.gridlines(draw_labels=True)\n",
    "    gl.xlabels_top = gl.ylabels_right = False\n",
    "    return fig, ax"
   ]
  },
  {
   "cell_type": "code",
   "execution_count": null,
   "metadata": {
    "collapsed": false
   },
   "outputs": [],
   "source": [
    "cube = get_mesh(cube, url)\n",
    "\n",
    "fig, ax = plot_model(cube, time_idx=-1, depth_idx=0)"
   ]
  },
  {
   "cell_type": "code",
   "execution_count": null,
   "metadata": {
    "collapsed": false
   },
   "outputs": [],
   "source": [
    "from iris.analysis import trajectory\n",
    "\n",
    "ax.plot([-69, -63], [42, 44])\n",
    "\n",
    "waypoints = [{'longitude': -69, 'latitude': 42}, {'longitude': -36, 'latitude': 44}]\n",
    "\n",
    "traj = trajectory.Trajectory(waypoints)\n",
    "\n",
    "lons = [d['longitude'] for d in traj.sampled_points]\n",
    "lats = [d['latitude'] for d in traj.sampled_points]\n",
    "\n",
    "sampled_points = [('longitude', lon),\n",
    "                  ('latitude', lat)]"
   ]
  },
  {
   "cell_type": "code",
   "execution_count": null,
   "metadata": {
    "collapsed": false
   },
   "outputs": [],
   "source": [
    "c = cube[-1, ...]\n",
    "\n",
    "for aux in c.aux_factories:\n",
    "    c.remove_aux_factory(aux)"
   ]
  },
  {
   "cell_type": "code",
   "execution_count": null,
   "metadata": {
    "collapsed": false
   },
   "outputs": [],
   "source": [
    "glider = iris.analysis.trajectory.interpolate(c, sampled_points, method=\"nearest\")"
   ]
  }
 ],
 "metadata": {
  "kernelspec": {
   "display_name": "Iris (Python 2)",
   "language": "python",
   "name": "iris_python2"
  },
  "language_info": {
   "codemirror_mode": {
    "name": "ipython",
    "version": 2
   },
   "file_extension": ".py",
   "mimetype": "text/x-python",
   "name": "python",
   "nbconvert_exporter": "python",
   "pygments_lexer": "ipython2",
   "version": "2.7.8"
  }
 },
 "nbformat": 4,
 "nbformat_minor": 0
}
