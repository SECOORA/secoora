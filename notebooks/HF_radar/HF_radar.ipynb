{
 "metadata": {
  "name": "",
  "signature": "sha256:ff7cfcb0087d746e7e68eb85893fc7a78820f6a7a03d338b2874fc3482e8478d"
 },
 "nbformat": 3,
 "nbformat_minor": 0,
 "worksheets": [
  {
   "cells": [
    {
     "cell_type": "code",
     "collapsed": false,
     "input": [
      "import iris\n",
      "from warnings import warn\n",
      "from iris.exceptions import ConstraintMismatchError"
     ],
     "language": "python",
     "metadata": {
      "slideshow": {
       "slide_type": "slide"
      }
     },
     "outputs": [],
     "prompt_number": 4
    },
    {
     "cell_type": "code",
     "collapsed": false,
     "input": [
      "hfradar = dict(longbay=\"http://129.252.139.124/thredds/dodsC/longbay.nc\",\n",
      "               savannah=\"http://129.252.139.124/thredds/dodsC/savannah.nc\",\n",
      "               miami_wera=\"http://129.252.139.124/thredds/dodsC/miami_wera.nc\",\n",
      "               tampa_codar=\"http://129.252.139.124/thredds/dodsC/tampa_codar.nc\",\n",
      "               tampa_wera=\"http://129.252.139.124/thredds/dodsC/tampa_wera.nc\")"
     ],
     "language": "python",
     "metadata": {},
     "outputs": [],
     "prompt_number": 5
    },
    {
     "cell_type": "code",
     "collapsed": false,
     "input": [
      "for region in hfradar.keys():\n",
      "    print(region)\n",
      "    try:\n",
      "        cube = iris.load_cube(hfradar[region])\n",
      "    except (ConstraintMismatchError, ValueError, TypeError) as e:\n",
      "        warn(\"Unable to load %s. %s\\n\" % (region, e))"
     ],
     "language": "python",
     "metadata": {},
     "outputs": [
      {
       "output_type": "stream",
       "stream": "stderr",
       "text": [
        "-c:5: UserWarning: Unable to load savannah. Not implemented for this type\n",
        "\n",
        "-c:5: UserWarning: Unable to load longbay. Not implemented for this type\n",
        "\n"
       ]
      },
      {
       "output_type": "stream",
       "stream": "stderr",
       "text": [
        "-c:5: UserWarning: Unable to load tampa_codar. '_FillValue' is not a permitted attribute\n",
        "\n",
        "-c:5: UserWarning: Unable to load miami_wera. '_FillValue' is not a permitted attribute\n",
        "\n"
       ]
      },
      {
       "output_type": "stream",
       "stream": "stderr",
       "text": [
        "-c:5: UserWarning: Unable to load tampa_wera. Not implemented for this type\n",
        "\n"
       ]
      }
     ],
     "prompt_number": 7
    }
   ],
   "metadata": {}
  }
 ]
}