{
 "metadata": {
  "name": "",
  "signature": "sha256:7232e0c79d4d5c138be24f520233fc0a3c56ce689da1c1718c480a976254e9eb"
 },
 "nbformat": 3,
 "nbformat_minor": 0,
 "worksheets": [
  {
   "cells": [
    {
     "cell_type": "code",
     "collapsed": false,
     "input": [
      "import iris\n",
      "from iris.exceptions import ConstraintMismatchError"
     ],
     "language": "python",
     "metadata": {
      "slideshow": {
       "slide_type": "slide"
      }
     },
     "outputs": []
    },
    {
     "cell_type": "code",
     "collapsed": false,
     "input": [
      "hfradar = dict(longbay=\"http://129.252.139.124/thredds/dodsC/longbay.nc\",\n",
      "               savannah=\"http://129.252.139.124/thredds/dodsC/savannah.nc\",\n",
      "               miami_wera=\"http://129.252.139.124/thredds/dodsC/miami_wera.nc\",\n",
      "               tampa_codar=\"http://129.252.139.124/thredds/dodsC/tampa_codar.nc\",\n",
      "               tampa_wera=\"http://129.252.139.124/thredds/dodsC/tampa_wera.nc\")"
     ],
     "language": "python",
     "metadata": {},
     "outputs": []
    },
    {
     "cell_type": "code",
     "collapsed": false,
     "input": [
      "for region in hfradar.keys():\n",
      "    try:\n",
      "        cube = iris.load_cube(hfradar[region])\n",
      "    except (ConstraintMismatchError, ValueError) as e:\n",
      "        warn(\"Unable to load %s. %s\\n\" % (region, e))"
     ],
     "language": "python",
     "metadata": {},
     "outputs": []
    },
    {
     "cell_type": "code",
     "collapsed": false,
     "input": [
      "from netCDF4 import Dataset"
     ],
     "language": "python",
     "metadata": {},
     "outputs": []
    },
    {
     "cell_type": "code",
     "collapsed": false,
     "input": [
      "nc = Dataset(hfradar['tampa_codar'])"
     ],
     "language": "python",
     "metadata": {},
     "outputs": []
    },
    {
     "cell_type": "code",
     "collapsed": false,
     "input": [
      "nc"
     ],
     "language": "python",
     "metadata": {},
     "outputs": []
    },
    {
     "cell_type": "code",
     "collapsed": false,
     "input": [
      "import folium\n",
      "from warnings import warn\n",
      "folium.initialize_notebook()\n",
      "\n",
      "hf_radar = folium.Map(location=[40, -122], zoom_start=5,\n",
      "                      tiles='OpenStreetMap')\n",
      "\n",
      "for name, location in locations.items():\n",
      "    hf_radar.polygon_marker(location=location, fill_color='#6a9fb5',\n",
      "                            radius=12, popup=name)\n",
      "\n",
      "hf_radar.render_iframe = True\n",
      "hf_radar\n",
      "\n",
      "if False:\n",
      "    hf_radar.create_map('map.html')"
     ],
     "language": "python",
     "metadata": {},
     "outputs": []
    }
   ],
   "metadata": {}
  }
 ]
}