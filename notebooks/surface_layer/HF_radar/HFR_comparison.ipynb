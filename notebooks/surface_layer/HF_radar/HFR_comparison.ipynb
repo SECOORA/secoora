{
 "metadata": {
  "kernelspec": {
   "codemirror_mode": {
    "name": "ipython",
    "version": 3
   },
   "display_name": "ocefpaf (Python 2)",
   "language": "python",
   "name": "ocefpaf_python2"
  },
  "name": "",
  "signature": "sha256:3685b2054e1d4e22bff8285b9ae738aeed640f6e8c7cb8fccda9ae8d7eb93234"
 },
 "nbformat": 3,
 "nbformat_minor": 0,
 "worksheets": [
  {
   "cells": [
    {
     "cell_type": "code",
     "collapsed": true,
     "input": [
      "import os\n",
      "import sys\n",
      "root = os.path.abspath(os.path.join(os.getcwd(), os.pardir,))\n",
      "sys.path.append(root)"
     ],
     "language": "python",
     "metadata": {},
     "outputs": []
    },
    {
     "cell_type": "code",
     "collapsed": false,
     "input": [
      "# Standard Library.\n",
      "from datetime import datetime, timedelta\n",
      "\n",
      "# Scientific stack.\n",
      "import mplleaflet\n",
      "import numpy as np\n",
      "from iris.unit import Unit\n",
      "import matplotlib.pyplot as plt\n",
      "\n",
      "# Local imports.\n",
      "from utilities import get_roms, get_cube"
     ],
     "language": "python",
     "metadata": {},
     "outputs": []
    },
    {
     "cell_type": "code",
     "collapsed": false,
     "input": [
      "bbox = [-87.4, 24.25, -74.7, 36.70]  # SECOORA: NC, SC GA, FL\n",
      "\n",
      "time = datetime.utcnow() - timedelta(hours=6)"
     ],
     "language": "python",
     "metadata": {},
     "outputs": []
    },
    {
     "cell_type": "markdown",
     "metadata": {},
     "source": [
      "### HF radar"
     ]
    },
    {
     "cell_type": "code",
     "collapsed": false,
     "input": [
      "url = 'http://hfrnet.ucsd.edu/thredds/dodsC/HFRNet/USEGC/6km/hourly/RTV'\n",
      "\n",
      "u_name_list = ['x_sea_water_velocity',\n",
      "               'sea_water_x_velocity',\n",
      "               'eastward_sea_water_velocity',\n",
      "               'surface_eastward_sea_water_velocity']\n",
      "\n",
      "v_name_list = ['y_sea_water_velocity',\n",
      "               'sea_water_y_velocity',\n",
      "               'northward_sea_water_velocity',\n",
      "               'surface_northward_sea_water_velocity']\n",
      "\n",
      "u_cube = get_cube(url, name_list=u_name_list,\n",
      "                  time=time, bbox=bbox, units=Unit('m s-1'))\n",
      "\n",
      "v_cube = get_cube(url, name_list=v_name_list,\n",
      "                  time=time, bbox=bbox, units=Unit('m s-1'))"
     ],
     "language": "python",
     "metadata": {
      "code_folding": []
     },
     "outputs": []
    },
    {
     "cell_type": "code",
     "collapsed": false,
     "input": [
      "# This is just for plotting.  If using cartopy do not\n",
      "# subsample.  Use cartopy's resample instead.\n",
      "\n",
      "\n",
      "def subsample_cubes(u_cube, v_cube, n=6):\n",
      "    u = u_cube[::n, ::n]\n",
      "    v = v_cube[::n, ::n]\n",
      "    lon = u.coord(axis='X').points\n",
      "    lat = u.coord(axis='Y').points\n",
      "    if (lon.ndim == 1) and (lat.ndim == 1):\n",
      "        lon, lat = np.meshgrid(lon, lat)\n",
      "    time = u.coord('time')\n",
      "    time.units.num2date(time.points)\n",
      "    return dict(lon=lon, lat=lat, u=u.data, v=v.data, time=time)\n",
      "\n",
      "hf_radar = subsample_cubes(u_cube, v_cube, n=6)"
     ],
     "language": "python",
     "metadata": {},
     "outputs": []
    },
    {
     "cell_type": "markdown",
     "metadata": {},
     "source": [
      "### SABGOM model"
     ]
    },
    {
     "cell_type": "code",
     "collapsed": false,
     "input": [
      "model_url = ('http://omgsrv1.meas.ncsu.edu:8080/thredds/dodsC/fmrc/sabgom/'\n",
      "             'SABGOM_Forecast_Model_Run_Collection_best.ncd')\n",
      "\n",
      "model = get_roms(model_url, time, n=6)"
     ],
     "language": "python",
     "metadata": {},
     "outputs": []
    },
    {
     "cell_type": "code",
     "collapsed": false,
     "input": [
      "fig, ax = plt.subplots()\n",
      "kw = dict(scale=20, headwidth=2)\n",
      "\n",
      "# NOTE: mplleaflet does not support masked array.\n",
      "mask = ~hf_radar['u'].mask\n",
      "\n",
      "Q = ax.quiver(hf_radar['lon'][mask], hf_radar['lat'][mask],\n",
      "              hf_radar['u'][mask], hf_radar['v'][mask], color='black', **kw)\n",
      "\n",
      "mask = ~model['u'].mask\n",
      "\n",
      "Q = ax.quiver(model['lon'][mask], model['lat'][mask],\n",
      "              model['u'][mask], model['v'][mask], color='red', **kw)\n",
      "\n",
      "mplleaflet.display(fig=ax.figure)"
     ],
     "language": "python",
     "metadata": {},
     "outputs": []
    }
   ],
   "metadata": {}
  }
 ]
}