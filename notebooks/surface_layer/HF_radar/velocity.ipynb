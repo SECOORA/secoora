{
 "metadata": {
  "kernelspec": {
   "codemirror_mode": {
    "name": "ipython",
    "version": 3
   },
   "display_name": "ocefpaf (Python 2)",
   "language": "python",
   "name": "ocefpaf_python2"
  },
  "name": "",
  "signature": "sha256:cbdfb04d12e48e74b48eae0ca740356d5ebbedfc964bc39ecfe211af4d4c4da4"
 },
 "nbformat": 3,
 "nbformat_minor": 0,
 "worksheets": [
  {
   "cells": [
    {
     "cell_type": "code",
     "collapsed": true,
     "input": [
      "import os\n",
      "import sys\n",
      "\n",
      "root = os.path.abspath(os.path.join(os.getcwd(), os.pardir, os.pardir))\n",
      "sys.path.append(root)"
     ],
     "language": "python",
     "metadata": {},
     "outputs": []
    },
    {
     "cell_type": "code",
     "collapsed": false,
     "input": [
      "from datetime import datetime, timedelta\n",
      "\n",
      "bbox = [-87.4, 24.25, -74.7, 36.70]  # SECOORA: NC, SC GA, FL\n",
      "\n",
      "time = datetime.utcnow() - timedelta(hours=6)"
     ],
     "language": "python",
     "metadata": {},
     "outputs": []
    },
    {
     "cell_type": "markdown",
     "metadata": {},
     "source": [
      "### HF radar"
     ]
    },
    {
     "cell_type": "code",
     "collapsed": false,
     "input": [
      "from iris.unit import Unit\n",
      "from utilities import get_cube\n",
      "\n",
      "url = 'http://hfrnet.ucsd.edu/thredds/dodsC/HFRNet/USEGC/6km/hourly/RTV'\n",
      "\n",
      "u_name_list = ['x_sea_water_velocity',\n",
      "               'sea_water_x_velocity',\n",
      "               'eastward_sea_water_velocity',\n",
      "               'surface_eastward_sea_water_velocity']\n",
      "\n",
      "v_name_list = ['y_sea_water_velocity',\n",
      "               'sea_water_y_velocity',\n",
      "               'northward_sea_water_velocity',\n",
      "               'surface_northward_sea_water_velocity']\n",
      "\n",
      "u_cube = get_cube(url, name_list=u_name_list,\n",
      "                  time=time, bbox=bbox, units=Unit('m s-1'))\n",
      "\n",
      "v_cube = get_cube(url, name_list=v_name_list,\n",
      "                  time=time, bbox=bbox, units=Unit('m s-1'))"
     ],
     "language": "python",
     "metadata": {
      "code_folding": []
     },
     "outputs": []
    },
    {
     "cell_type": "code",
     "collapsed": false,
     "input": [
      "import numpy as np\n",
      "\n",
      "def subsample_cubes(u_cube, v_cube, n=6):\n",
      "    \"\"\"This is just for plotting.  If using cartopy do not\n",
      "    subsample.  Use cartopy's resample instead.\"\"\"\n",
      "    u = u_cube[::n, ::n]\n",
      "    v = v_cube[::n, ::n]\n",
      "    lon = u.coord(axis='X').points\n",
      "    lat = u.coord(axis='Y').points\n",
      "    if (lon.ndim == 1) and (lat.ndim == 1):\n",
      "        lon, lat = np.meshgrid(lon, lat)\n",
      "    time = u.coord('time')\n",
      "    time.units.num2date(time.points)\n",
      "    return dict(lon=lon, lat=lat, u=u.data, v=v.data, time=time)\n",
      "\n",
      "\n",
      "hf_radar = subsample_cubes(u_cube, v_cube, n=6)"
     ],
     "language": "python",
     "metadata": {},
     "outputs": []
    },
    {
     "cell_type": "markdown",
     "metadata": {},
     "source": [
      "### SABGOM model"
     ]
    },
    {
     "cell_type": "code",
     "collapsed": false,
     "input": [
      "from utilities import get_roms\n",
      "\n",
      "\n",
      "model_url = ('http://omgsrv1.meas.ncsu.edu:8080/thredds/dodsC/fmrc/sabgom/'\n",
      "             'SABGOM_Forecast_Model_Run_Collection_best.ncd')\n",
      "\n",
      "model = get_roms(model_url, time, n=6)"
     ],
     "language": "python",
     "metadata": {},
     "outputs": []
    },
    {
     "cell_type": "code",
     "collapsed": false,
     "input": [
      "import mplleaflet\n",
      "import matplotlib.pyplot as plt\n",
      "\n",
      "fig, ax = plt.subplots()\n",
      "kw = dict(scale=20, headwidth=2, alpha=0.5)\n",
      "\n",
      "mask = ~hf_radar['u'].mask  # mplleaflet does not support masked array.\n",
      "\n",
      "Q = ax.quiver(hf_radar['lon'][mask], hf_radar['lat'][mask],\n",
      "              hf_radar['u'][mask], hf_radar['v'][mask], color='black', **kw)\n",
      "\n",
      "mask = ~model['u'].mask\n",
      "\n",
      "Q = ax.quiver(model['lon'][mask], model['lat'][mask],\n",
      "              model['u'][mask], model['v'][mask], color='red', **kw)\n",
      "\n",
      "mplleaflet.display(fig=ax.figure)"
     ],
     "language": "python",
     "metadata": {},
     "outputs": []
    }
   ],
   "metadata": {}
  }
 ]
}