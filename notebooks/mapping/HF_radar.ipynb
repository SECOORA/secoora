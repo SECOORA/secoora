{
 "metadata": {
  "name": "",
  "signature": "sha256:5cff2aec3cd87bec06977a29fccd894311809abe8688cc7031bfe3e12c37c9d0"
 },
 "nbformat": 3,
 "nbformat_minor": 0,
 "worksheets": [
  {
   "cells": [
    {
     "cell_type": "code",
     "collapsed": false,
     "input": [
      "import iris\n",
      "from iris.exceptions import ConstraintMismatchError"
     ],
     "language": "python",
     "metadata": {
      "slideshow": {
       "slide_type": "slide"
      }
     },
     "outputs": [
      {
       "html": [
        "<link rel=\"stylesheet\" href=\"http://cdn.leafletjs.com/leaflet-0.7.2/leaflet.css\" />\n",
        "<style>\n",
        "    .leaflet-popup-content {\n",
        "        color: black !important;\n",
        "    }\n",
        "\n",
        "    .leaflet-control-zoom-in {\n",
        "        text-decoration: none !important;\n",
        "    }\n",
        "\n",
        "    .leaflet-control-zoom-out {\n",
        "        text-decoration: none !important;\n",
        "    }\n",
        "</style>"
       ],
       "metadata": {},
       "output_type": "display_data",
       "text": [
        "<IPython.core.display.HTML at 0x62e3d50>"
       ]
      },
      {
       "html": [
        "<script>\n",
        "\n",
        "  var folium_event = new CustomEvent(\n",
        "    \"folium_libs_loaded\",\n",
        "    {bubbles: true, cancelable: true}\n",
        "  );\n",
        "\n",
        "  var load_folium_charts = function(){\n",
        "    window.dispatchEvent(folium_event);\n",
        "  };\n",
        "\n",
        " var load_folium_libs = function(){\n",
        "    console.log('Loading all Folium libraries...')\n",
        "    $.getScript(\"http://cdn.leafletjs.com/leaflet-0.7.2/leaflet.js\", function(){\n",
        "      $.getScript('https://wrobstory.github.io/leaflet-dvf/leaflet-dvf.markers.min.js', function(){\n",
        "          if (window['vg'] === undefined){\n",
        "            $.getScript(\"http://wrobstory.github.io/vega/vega.v1.3.3.js\", function(){\n",
        "              load_folium_charts();\n",
        "          });\n",
        "        } else {\n",
        "          load_folium_charts();\n",
        "        }\n",
        "      });\n",
        "    });\n",
        "  };\n",
        "\n",
        " if(typeof define === \"function\" && define.amd){\n",
        "      var load_paths = {\n",
        "        paths: {\n",
        "          topojson:'http://d3js.org/topojson.v1.min',\n",
        "          queue: 'http://d3js.org/queue.v1.min',\n",
        "          d3: 'http://d3js.org/d3.v3.min'\n",
        "        }\n",
        "      };\n",
        "      var libs = ['d3', 'queue', 'topojson'];\n",
        "      for (var i=0; i < libs.length; i++){\n",
        "        lib = libs[i]\n",
        "        if (window[lib] !== undefined){\n",
        "          delete load_paths.paths[lib]\n",
        "        };\n",
        "      };\n",
        "      if (Object.keys(load_paths.paths).length != 0){\n",
        "        require.config(load_paths);\n",
        "        require([\"queue\"], function(queue){\n",
        "          window.queue = queue;\n",
        "        });\n",
        "        require([\"d3\"], function(d3){\n",
        "            console.log('Loading from require.js...')\n",
        "            window.d3 = d3;\n",
        "            require([\"topojson\"], function(topojson){\n",
        "                window.topojson = topojson;\n",
        "                load_folium_libs();\n",
        "            });\n",
        "        });\n",
        "      } else {\n",
        "        load_folium_libs();\n",
        "      }\n",
        "\n",
        " }else{\n",
        "      console.log('Require.js not found!');\n",
        "      throw \"Require.js not found!\"\n",
        " };\n",
        "\n",
        "</script>"
       ],
       "metadata": {},
       "output_type": "display_data",
       "text": [
        "<IPython.core.display.HTML at 0x62de850>"
       ]
      }
     ],
     "prompt_number": 13
    },
    {
     "cell_type": "code",
     "collapsed": false,
     "input": [
      "hfradar = dict(longbay=\"http://129.252.139.124/thredds/dodsC/longbay.nc\",\n",
      "               savannah=\"http://129.252.139.124/thredds/dodsC/savannah.nc\",\n",
      "               miami_wera=\"http://129.252.139.124/thredds/dodsC/miami_wera.nc\",\n",
      "               tampa_codar=\"http://129.252.139.124/thredds/dodsC/tampa_codar.nc\",\n",
      "               tampa_wera=\"http://129.252.139.124/thredds/dodsC/tampa_wera.nc\")"
     ],
     "language": "python",
     "metadata": {},
     "outputs": [],
     "prompt_number": 14
    },
    {
     "cell_type": "code",
     "collapsed": false,
     "input": [
      "for region in hfradar.keys():\n",
      "    try:\n",
      "        cube = iris.load_cube(hfradar[region])\n",
      "    except (ConstraintMismatchError, ValueError) as e:\n",
      "        warn(\"Unable to load %s. %s\\n\" % (region, e))"
     ],
     "language": "python",
     "metadata": {},
     "outputs": [
      {
       "output_type": "stream",
       "stream": "stderr",
       "text": [
        "-c:5: UserWarning: Unable to load tampa_codar. '_FillValue' is not a permitted attribute\n",
        "-c:5: UserWarning: Unable to load miami_wera. '_FillValue' is not a permitted attribute\n"
       ]
      },
      {
       "output_type": "stream",
       "stream": "stderr",
       "text": [
        "-c:5: UserWarning: Unable to load tampa_wera. failed to merge into a single cube.\n",
        "  cube.long_name differs: u'accuracy of northward surface current' != u'Sample Time String UTC'\n",
        "  cube.var_name differs: u'northward_current_accuracy' != u'time_string'\n",
        "  cube.units differs: Unit('cm/s') != Unit('no_unit')\n",
        "  cube.attributes keys differ: 'invalid_units', 'c_format'\n",
        "  cube.shape differs: (1638, 250, 250) != (1638, 64)\n",
        "  cube data dtype differs: float32 != |S1\n",
        "  cube data fill_value differs: -999.90002 != '\\x00'\n"
       ]
      }
     ],
     "prompt_number": 17
    },
    {
     "cell_type": "code",
     "collapsed": false,
     "input": [
      "from netCDF4 import Dataset"
     ],
     "language": "python",
     "metadata": {},
     "outputs": [],
     "prompt_number": 18
    },
    {
     "cell_type": "code",
     "collapsed": false,
     "input": [
      "nc = Dataset(hfradar['tampa_codar'])"
     ],
     "language": "python",
     "metadata": {},
     "outputs": [],
     "prompt_number": 20
    },
    {
     "cell_type": "code",
     "collapsed": false,
     "input": [
      "nc"
     ],
     "language": "python",
     "metadata": {},
     "outputs": [
      {
       "metadata": {},
       "output_type": "pyout",
       "prompt_number": 21,
       "text": [
        "<netCDF4.Dataset at 0x645a510>"
       ]
      }
     ],
     "prompt_number": 21
    },
    {
     "cell_type": "code",
     "collapsed": false,
     "input": [
      "import folium\n",
      "from warnings import warn\n",
      "folium.initialize_notebook()\n",
      "\n",
      "hf_radar = folium.Map(location=[40, -122], zoom_start=5,\n",
      "                      tiles='OpenStreetMap')\n",
      "\n",
      "for name, location in locations.items():\n",
      "    hf_radar.polygon_marker(location=location, fill_color='#6a9fb5',\n",
      "                            radius=12, popup=name)\n",
      "\n",
      "hf_radar.render_iframe = True\n",
      "hf_radar\n",
      "\n",
      "if False:\n",
      "    hf_radar.create_map('map.html')"
     ],
     "language": "python",
     "metadata": {},
     "outputs": []
    }
   ],
   "metadata": {}
  }
 ]
}