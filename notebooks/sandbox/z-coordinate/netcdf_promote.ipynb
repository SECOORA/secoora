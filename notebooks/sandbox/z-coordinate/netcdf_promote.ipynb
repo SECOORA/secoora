{
 "metadata": {
  "gist_id": "d9f2e8f113a7d4d06cb2",
  "name": "",
  "signature": "sha256:a2073a3567feeab0ec6e871a586d0a78bb3ec5a3cf13132106cf9dff1a682785"
 },
 "nbformat": 3,
 "nbformat_minor": 0,
 "worksheets": [
  {
   "cells": [
    {
     "cell_type": "markdown",
     "metadata": {},
     "source": [
      "https://github.com/SciTools/iris/pull/1070\n",
      "\n",
      "https://github.com/SciTools/iris/pull/1159"
     ]
    },
    {
     "cell_type": "code",
     "collapsed": false,
     "input": [
      "import iris\n",
      "print(iris.__version__)  # remotes/origin/netcdf_promote 9f6e7ce"
     ],
     "language": "python",
     "metadata": {},
     "outputs": []
    },
    {
     "cell_type": "code",
     "collapsed": false,
     "input": [
      "print(iris.FUTURE.netcdf_promote)"
     ],
     "language": "python",
     "metadata": {},
     "outputs": []
    },
    {
     "cell_type": "code",
     "collapsed": false,
     "input": [
      "url = 'http://geoport.whoi.edu/thredds/dodsC/coawst_4/use/fmrc/coawst_4_use_best.ncd'\n",
      "constraint = 'water_surface_height_above_reference_datum'\n",
      "\n",
      "cube = iris.load_cube(url, constraint)\n",
      "print(cube)"
     ],
     "language": "python",
     "metadata": {},
     "outputs": []
    },
    {
     "cell_type": "code",
     "collapsed": false,
     "input": [
      "iris.FUTURE.netcdf_promote = True\n",
      "\n",
      "cube = iris.load_cube(url, constraint)\n",
      "print(cube)"
     ],
     "language": "python",
     "metadata": {},
     "outputs": []
    },
    {
     "cell_type": "code",
     "collapsed": false,
     "input": [
      "from iris.fileformats.cf import reference_terms\n",
      "reference_terms"
     ],
     "language": "python",
     "metadata": {},
     "outputs": []
    },
    {
     "cell_type": "markdown",
     "metadata": {},
     "source": [
      "We can add non-standard names!  (Not really needed for the URL below.  See https://github.com/SciTools/iris/pull/1159#issuecomment-45201929)"
     ]
    },
    {
     "cell_type": "code",
     "collapsed": false,
     "input": [
      "reference_terms['ocean_sigma/general_coordinate'] = 'eta'\n",
      "reference_terms"
     ],
     "language": "python",
     "metadata": {},
     "outputs": []
    },
    {
     "cell_type": "code",
     "collapsed": false,
     "input": [
      "url = \"http://fvcom.smast.umassd.edu:8080/thredds/dodsC/FVCOM/NECOFS/Forecasts/NECOFS_GOM3_FORECAST.nc\"\n",
      "\n",
      "cube = iris.load_cube(url, 'sea_surface_height_above_geoid')\n",
      "\n",
      "print(cube)"
     ],
     "language": "python",
     "metadata": {},
     "outputs": []
    }
   ],
   "metadata": {}
  }
 ]
}