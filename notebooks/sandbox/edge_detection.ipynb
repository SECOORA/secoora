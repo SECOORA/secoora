{
 "metadata": {
  "gist_id": "480fe4f7370ca9d60111",
  "name": "",
  "signature": "sha256:dff0cc8fc2cb274611ecbfe222a72ccfe3e5dfaf806b3fd7b81b1537133ce9a1"
 },
 "nbformat": 3,
 "nbformat_minor": 0,
 "worksheets": [
  {
   "cells": [
    {
     "cell_type": "markdown",
     "metadata": {},
     "source": [
      "### Last time step at the surface"
     ]
    },
    {
     "cell_type": "code",
     "collapsed": false,
     "input": [
      "from netCDF4 import Dataset\n",
      "\n",
      "url = 'http://omgsrv1.meas.ncsu.edu:8080/thredds/dodsC/fmrc/sabgom/'\n",
      "url += 'SABGOM_Forecast_Model_Run_Collection_best.ncd'\n",
      "\n",
      "nc = Dataset(url)\n",
      "temp = nc.variables['temp']\n",
      "if temp.standard_name == 'sea_water_potential_temperature':\n",
      "    temp = temp[-1, -1, ...]"
     ],
     "language": "python",
     "metadata": {},
     "outputs": []
    },
    {
     "cell_type": "code",
     "collapsed": false,
     "input": [
      "import matplotlib.pyplot as plt\n",
      "\n",
      "figsize = (7, 7)\n",
      "cbarkw = dict(shrink=0.6, extend='both')\n",
      "\n",
      "fig, ax = plt.subplots(figsize=figsize)\n",
      "\n",
      "i = ax.imshow(temp, origin='lower')\n",
      "cbar = fig.colorbar(i, **cbarkw)\n",
      "_ = ax.axis('off')"
     ],
     "language": "python",
     "metadata": {},
     "outputs": []
    },
    {
     "cell_type": "code",
     "collapsed": false,
     "input": [
      "import cv2\n",
      "import numpy as np\n",
      "\n",
      "def matplotlib_to_opencv(i):\n",
      "    image = i._rgbacache\n",
      "    # RGB to BGR.\n",
      "    r, g, b, a = cv2.split(image)\n",
      "    return np.flipud(cv2.merge([b, g, r, a]))\n",
      "\n",
      "image = matplotlib_to_opencv(i)\n",
      "img = cv2.GaussianBlur(image, (3, 3), 0)\n",
      "gray = cv2.cvtColor(image, cv2.COLOR_BGR2GRAY)\n",
      "\n",
      "fig, ax = plt.subplots(figsize=figsize)\n",
      "ax.imshow(gray, cmap=plt.cm.gray)\n",
      "_ = ax.axis('off')"
     ],
     "language": "python",
     "metadata": {},
     "outputs": []
    },
    {
     "cell_type": "markdown",
     "metadata": {},
     "source": [
      "### Sobel"
     ]
    },
    {
     "cell_type": "code",
     "collapsed": false,
     "input": [
      "ddepth = cv2.CV_16S\n",
      "kw = dict(ksize=3, scale=1, delta=0, borderType=cv2.BORDER_DEFAULT)\n",
      "\n",
      "# Gradient-X.\n",
      "grad_x = cv2.Sobel(gray, ddepth, 1, 0, **kw)\n",
      "\n",
      "# Gradient-Y.\n",
      "grad_y = cv2.Sobel(gray, ddepth, 0, 1, **kw)\n",
      "\n",
      "# Converting back to uint8.\n",
      "abs_grad_x = cv2.convertScaleAbs(grad_x)\n",
      "abs_grad_y = cv2.convertScaleAbs(grad_y)\n",
      "\n",
      "sobel = cv2.addWeighted(abs_grad_x, 0.5, abs_grad_y, 0.5, 0)\n",
      "sobel_no_blend = cv2.add(abs_grad_x, abs_grad_y)"
     ],
     "language": "python",
     "metadata": {},
     "outputs": []
    },
    {
     "cell_type": "markdown",
     "metadata": {},
     "source": [
      "### Scharr"
     ]
    },
    {
     "cell_type": "code",
     "collapsed": false,
     "input": [
      "# Gradient-X\n",
      "grad_x = cv2.Scharr(gray, ddepth, 1, 0)\n",
      "\n",
      "# Gradient-Y.\n",
      "grad_y = cv2.Scharr(gray, ddepth, 0, 1)\n",
      "\n",
      "# Converting back to uint8.\n",
      "abs_grad_x = cv2.convertScaleAbs(grad_x)\n",
      "abs_grad_y = cv2.convertScaleAbs(grad_y)\n",
      "\n",
      "scharr = cv2.addWeighted(abs_grad_x, 0.5, abs_grad_y, 0.5, 0)\n",
      "scharr_no_blend = cv2.add(abs_grad_x, abs_grad_y)"
     ],
     "language": "python",
     "metadata": {},
     "outputs": []
    },
    {
     "cell_type": "code",
     "collapsed": false,
     "input": [
      "def turn_off_labels(ax):\n",
      "    ax.axes.get_xaxis().set_visible(False)\n",
      "    ax.axes.get_yaxis().set_visible(False)\n",
      "\n",
      "\n",
      "kw = dict(cmap=plt.cm.Greys_r)\n",
      "\n",
      "fig, ((ax0, ax1), (ax2, ax3)) = plt.subplots(ncols=2, nrows=2, figsize=(9, 8))\n",
      "ax0.imshow(sobel, **kw)\n",
      "ax0.set_title('Sobel')\n",
      "\n",
      "ax1.imshow(scharr, **kw)\n",
      "ax1.set_title('Scharr')\n",
      "\n",
      "ax2.imshow(sobel_no_blend, **kw)\n",
      "ax2.set_title('Sobel no weights')\n",
      "\n",
      "ax3.imshow(scharr_no_blend, **kw)\n",
      "ax3.set_title('Scharr no weights')\n",
      "\n",
      "map(turn_off_labels, (ax0, ax1, ax2, ax3))\n",
      "fig.tight_layout(h_pad=0.1, w_pad=0.5)"
     ],
     "language": "python",
     "metadata": {},
     "outputs": []
    },
    {
     "cell_type": "markdown",
     "metadata": {},
     "source": [
      "### Laplacian"
     ]
    },
    {
     "cell_type": "code",
     "collapsed": false,
     "input": [
      "ddepth = cv2.CV_16S\n",
      "kw = dict(ksize=3, scale=1, delta=0, borderType=cv2.BORDER_DEFAULT)\n",
      "\n",
      "gray_lap = cv2.Laplacian(gray, ddepth, **kw)\n",
      "laplacian = cv2.convertScaleAbs(gray_lap)\n",
      "\n",
      "fig, ax = plt.subplots(figsize=figsize)\n",
      "ax.imshow(laplacian, cmap=plt.cm.Greys_r)\n",
      "_ = ax.axis('off')"
     ],
     "language": "python",
     "metadata": {},
     "outputs": []
    },
    {
     "cell_type": "markdown",
     "metadata": {},
     "source": [
      "### Interactive Canny"
     ]
    },
    {
     "cell_type": "code",
     "collapsed": false,
     "input": [
      "from IPython.display import display\n",
      "from IPython.html.widgets import interact, fixed\n",
      "\n",
      "def canny_threshold(image, gray, threshold=0, ratio=3, ksize=3):\n",
      "    detected_edges = cv2.GaussianBlur(gray, (3, 3), 0)\n",
      "    detected_edges = cv2.Canny(detected_edges, threshold,\n",
      "                               threshold*ratio,\n",
      "                               apertureSize=ksize)\n",
      "    # Just add some colours to edges from original data.\n",
      "    mask = np.ma.masked_equal(detected_edges, 0).mask\n",
      "    img = np.ma.masked_array(np.flipud(temp), mask)\n",
      "    \n",
      "    fig, ax = plt.subplots(figsize=figsize)\n",
      "    cs = ax.imshow(img)\n",
      "    cbar = fig.colorbar(cs, ax=ax, **cbarkw)\n",
      "    ax.axis('off')\n",
      "    plt.show()\n",
      "\n",
      "lims = (0, 100)\n",
      "w = interact(canny_threshold, threshold=lims,\n",
      "             image=fixed(image), gray=fixed(gray),\n",
      "             ratio=fixed(3), ksize=fixed(3))\n",
      "\n",
      "display(w)"
     ],
     "language": "python",
     "metadata": {},
     "outputs": []
    },
    {
     "cell_type": "markdown",
     "metadata": {},
     "source": [
      "### Contour problem"
     ]
    },
    {
     "cell_type": "code",
     "collapsed": false,
     "input": [
      "from skimage import measure\n",
      "\n",
      "contours = measure.find_contours(temp, 28.1)\n",
      "\n",
      "fig, ax = plt.subplots(figsize=figsize)\n",
      "kw = dict(interpolation='nearest', cmap=plt.cm.gray,\n",
      "          origin='lower')\n",
      "ax.imshow(temp, **kw)\n",
      "\n",
      "for n, contour in enumerate(contours):\n",
      "    ax.plot(contour[:, 1], contour[:, 0], linewidth=2, color='r')\n",
      "\n",
      "_ = ax.axis('off')"
     ],
     "language": "python",
     "metadata": {},
     "outputs": []
    }
   ],
   "metadata": {}
  }
 ]
}