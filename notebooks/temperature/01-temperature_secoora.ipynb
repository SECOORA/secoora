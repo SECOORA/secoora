{
 "metadata": {
  "kernelspec": {
   "codemirror_mode": {
    "name": "ipython",
    "version": 3
   },
   "display_name": "IOOS (Python 2)",
   "language": "python",
   "name": "ioos_python2"
  },
  "name": "",
  "signature": "sha256:0a93ce8ffdb967314119d086f8402521cedcc25a05ad7ecbb0b7335933907745"
 },
 "nbformat": 3,
 "nbformat_minor": 0,
 "worksheets": [
  {
   "cells": [
    {
     "cell_type": "markdown",
     "metadata": {},
     "source": [
      "### This notebook is a run example frozen at the hurricane Arthur event."
     ]
    },
    {
     "cell_type": "code",
     "collapsed": false,
     "input": [
      "import iris\n",
      "import pyoos\n",
      "import owslib\n",
      "\n",
      "import time\n",
      "start_time = time.time()"
     ],
     "language": "python",
     "metadata": {},
     "outputs": [],
     "prompt_number": 1
    },
    {
     "cell_type": "code",
     "collapsed": false,
     "input": [
      "import os\n",
      "import sys\n",
      "\n",
      "utilities_path = os.path.join(os.getcwd(), os.pardir)\n",
      "root = os.path.abspath(utilities_path)\n",
      "sys.path.append(root)\n",
      "\n",
      "style = '../style.css'"
     ],
     "language": "python",
     "metadata": {},
     "outputs": [],
     "prompt_number": 2
    },
    {
     "cell_type": "markdown",
     "metadata": {},
     "source": [
      "### SECOORA temperature notebook\n",
      "Based on IOOS system-test [notebook](http://nbviewer.ipython.org/github/Bobfrat/system-test/blob/temp_nb/Theme_1_Baseline/Scenario_1F_Temperature/Temperature.ipynb)."
     ]
    },
    {
     "cell_type": "code",
     "collapsed": false,
     "input": [
      "import pytz\n",
      "from datetime import datetime, timedelta\n",
      "\n",
      "from utilities import CF_names\n",
      "\n",
      "\n",
      "# Choose the date range.\n",
      "stop = datetime(2014, 7, 7, 12)\n",
      "\n",
      "stop = stop.replace(tzinfo=pytz.utc)\n",
      "start = stop - timedelta(days=7)\n",
      "\n",
      "# SECOORA region (NC, SC GA, FL).\n",
      "bbox = [-87.40, 24.25, -74.70, 36.70]\n",
      "\n",
      "# CF-names to look for (Sea Surface Temperature).\n",
      "name_list = CF_names['sea_water_temperature']"
     ],
     "language": "python",
     "metadata": {},
     "outputs": [],
     "prompt_number": 3
    },
    {
     "cell_type": "code",
     "collapsed": false,
     "input": [
      "directory = '{:%Y-%m-%d}'.format(stop)\n",
      "\n",
      "if not os.path.exists(directory):\n",
      "    os.makedirs(directory)"
     ],
     "language": "python",
     "metadata": {},
     "outputs": [],
     "prompt_number": 4
    },
    {
     "cell_type": "code",
     "collapsed": false,
     "input": [
      "fmt = '{:*^64}'.format\n",
      "\n",
      "print(fmt(' Run information '))\n",
      "print('Run date: {:%Y-%m-%d %H:%M:%S}'.format(datetime.utcnow()))\n",
      "print('Download start: {:%Y-%m-%d %H:%M:%S}'.format(start))\n",
      "print('Download stop: {:%Y-%m-%d %H:%M:%S}'.format(stop))\n",
      "print('Bounding box: {0:3.2f}, {1:3.2f},'\n",
      "      '{2:3.2f}, {3:3.2f}'.format(*bbox))\n",
      "print(fmt(' Software version '))\n",
      "print('Iris version: {}'.format(iris.__version__))\n",
      "print('owslib version: {}'.format(owslib.__version__))\n",
      "print('pyoos version: {}'.format(pyoos.__version__))"
     ],
     "language": "python",
     "metadata": {},
     "outputs": [
      {
       "output_type": "stream",
       "stream": "stdout",
       "text": [
        "*********************** Run information ************************\n",
        "Run date: 2014-11-07 14:57:12\n",
        "Download start: 2014-06-30 12:00:00\n",
        "Download stop: 2014-07-07 12:00:00\n",
        "Bounding box: -87.40, 24.25,-74.70, 36.70\n",
        "*********************** Software version ***********************\n",
        "Iris version: 1.7.2-DEV\n",
        "owslib version: 0.8.9\n",
        "pyoos version: 0.6.1\n"
       ]
      }
     ],
     "prompt_number": 5
    },
    {
     "cell_type": "code",
     "collapsed": false,
     "input": [
      "from owslib import fes\n",
      "from utilities import fes_date_filter\n",
      "\n",
      "kw = dict(wildCard='*',\n",
      "          escapeChar='\\\\',\n",
      "          singleChar='?',\n",
      "          propertyname='apiso:AnyText')\n",
      "\n",
      "or_filt = fes.Or([fes.PropertyIsLike(literal=('*%s*' % val), **kw)\n",
      "                  for val in name_list])\n",
      "\n",
      "# Exculde ROMS Averages and History files.\n",
      "not_filt = fes.Not([fes.PropertyIsLike(literal='*Averages*', **kw)])\n",
      "\n",
      "begin, end = fes_date_filter(start, stop)\n",
      "filter_list = [fes.And([fes.BBox(bbox), begin, end, or_filt, not_filt])]"
     ],
     "language": "python",
     "metadata": {},
     "outputs": [],
     "prompt_number": 6
    },
    {
     "cell_type": "code",
     "collapsed": false,
     "input": [
      "from owslib.csw import CatalogueServiceWeb\n",
      "\n",
      "endpoint = 'http://www.ngdc.noaa.gov/geoportal/csw'\n",
      "csw = CatalogueServiceWeb(endpoint, timeout=60)\n",
      "csw.getrecords2(constraints=filter_list, maxrecords=1000, esn='full')\n",
      "\n",
      "print(fmt(' Catalog information '))\n",
      "print(\"URL: {}\".format(endpoint))\n",
      "print(\"CSW version: {}\".format(csw.version))\n",
      "print(\"Number of datasets available: {}\".format(len(csw.records.keys())))"
     ],
     "language": "python",
     "metadata": {
      "code_folding": []
     },
     "outputs": [
      {
       "output_type": "stream",
       "stream": "stdout",
       "text": [
        "********************* Catalog information **********************\n",
        "URL: http://www.ngdc.noaa.gov/geoportal/csw\n",
        "CSW version: 2.0.2\n",
        "Number of datasets available: 31\n"
       ]
      }
     ],
     "prompt_number": 7
    },
    {
     "cell_type": "code",
     "collapsed": false,
     "input": [
      "from utilities import service_urls\n",
      "\n",
      "dap_urls = service_urls(csw.records, service='odp:url')\n",
      "sos_urls = service_urls(csw.records, service='sos:url')\n",
      "\n",
      "print(fmt(' CSW URLs '))\n",
      "for rec, item in csw.records.items():\n",
      "    print('{}'.format(item.title))\n",
      "\n",
      "print(fmt(' DAP URLs '))\n",
      "for url in dap_urls:\n",
      "    print('{}.html'.format(url))\n",
      "\n",
      "print(fmt(' SOS URLs '))\n",
      "for url in sos_urls:\n",
      "    print('{}'.format(url))"
     ],
     "language": "python",
     "metadata": {
      "code_folding": []
     },
     "outputs": [
      {
       "output_type": "stream",
       "stream": "stdout",
       "text": [
        "*************************** CSW URLs ***************************\n",
        "USF FVCOM - Nowcast Aggregation\n",
        "ROMS/TOMS 3.0 - New Floria Shelf Application\n",
        "ROMS/TOMS 3.0 - South-Atlantic Bight and Gulf of Mexico\n",
        "COAWST Forecast System : USGS : US East Coast and Gulf of Mexico (Experimental)\n",
        "Directional wave and sea surface temperature measurements collected in situ by Datawell Mark 3 directional buoy located near MONTEREY CANYON OUTER, CA from 2013/07/11 17:00:00 to 2014/07/01 20:59:59.\n",
        "Directional wave and sea surface temperature measurements collected in situ by Datawell Mark 3 directional buoy located near MONTEREY BAY WEST, CA from 2013/06/19 18:00:00 to 2014/07/01 14:59:59.\n",
        "Directional wave and sea surface temperature measurements collected in situ by Datawell Mark 3 directional buoy located near MONTEREY BAY WEST, CA from 2014/07/01 19:00:00 to 2014/10/04 23:59:59.\n",
        "Directional wave and sea surface temperature measurements collected in situ by Datawell Mark 3 directional buoy located near SAN FRANCISCO BAR, CA from 2013/06/19 22:00:00 to 2014/07/24 14:59:59.\n",
        "Directional wave and sea surface temperature measurements collected in situ by Datawell Mark 3 directional buoy located near POINT REYES, CA from 2013/10/16 21:00:00 to 2014/09/05 11:59:59.\n",
        "Directional wave and sea surface temperature measurements collected in situ by Datawell Mark 3 directional buoy located near HUMBOLDT BAY NORTH SPIT, CA from 2013/08/26 19:00:00 to 2014/07/24 03:59:59.\n",
        "Directional wave and sea surface temperature measurements collected in situ by Datawell Mark 3 directional buoy located near DIABLO CANYON, CA from 2013/08/28 23:00:00 to 2014/10/29 16:59:59.\n",
        "Directional wave and sea surface temperature measurements collected in situ by Datawell Mark 3 directional buoy located near ASTORIA CANYON, OR from 2014/01/16 20:00:00 to 2014/09/29 22:59:59.\n",
        "Directional wave and sea surface temperature measurements collected in situ by Datawell Waverider buoys located near SAN FRANCISCO BAR, CA from 2007/07/25 to 2014/07/24.\n",
        "Directional wave and sea surface temperature measurements collected in situ by Datawell Mark 3 directional buoy located near SANTA CRUZ BASIN, CA from 2013/07/09 15:00:00 to 2014/07/14 16:59:59.\n",
        "Directional wave and sea surface temperature measurements collected in situ by Datawell Mark 3 directional buoy located near CAMP PENDLETON NEARSHORE, CA from 2014/04/24 22:00:00 to 2014/06/06 16:59:59.\n",
        "Directional wave and sea surface temperature measurements collected in situ by Datawell Mark 3 directional buoy located near SAN NICOLAS ISLAND, CA from 2013/04/19 17:00:00 to 2014/06/08 21:59:59.\n",
        "Directional wave and sea surface temperature measurements collected in situ by Datawell Mark 3 directional buoy located near TORREY PINES OUTER, CA from 2014/06/10 21:00:00 to 2014/06/12 15:59:59.\n",
        "Directional wave and sea surface temperature measurements collected in situ by Datawell Mark 3 directional buoy located near MISSION BAY OFFSHORE, CA from 2014/04/28 21:00:00 to 2014/06/24 09:59:59.\n",
        "Directional wave and sea surface temperature measurements collected in situ by Datawell Waverider buoys located near OCEANSIDE OFFSHORE, CA from 1997/05/19 to 2014/10/14.\n",
        "Directional wave and sea surface temperature measurements collected in situ by Datawell Mark 3 directional buoy located near POINT LOMA SOUTH, CA from 2013/08/12 20:00:00 to 2014/09/10 07:59:59.\n",
        "Directional wave and sea surface temperature measurements collected in situ by Datawell Waverider buoys located near MOKAPU POINT, HI from 2000/08/09 to 2014/09/10.\n",
        "Directional wave and sea surface temperature measurements collected in situ by Datawell Waverider buoys located near TORREY PINES OUTER, CA from 2001/01/30 to 2014/06/06.\n",
        "ROMS ESPRESSO Real-Time Operational IS4DVAR Forecast System Version 2 (NEW) 2013-present FMRC History (Best)\n",
        "Directional wave and sea surface temperature measurements collected in situ by Datawell Waverider buoys located near SAN NICOLAS ISLAND, CA from 1991/09/10 to 2014/06/08.\n",
        "NDBC Standard Meteorological Buoy Data\n",
        "Directional wave and sea surface temperature measurements collected in situ by Datawell Waverider buoys located near POINT REYES, CA from 1996/12/06 to 2014/09/05.\n",
        "HYbrid Coordinate Ocean Model (HYCOM): Global\n",
        "National Data Buoy Center SOS\n",
        "NOAA Coral Reef Watch Operational Twice-Weekly Near-Real-Time Global 50km Satellite Coral Bleaching Monitoring Products\n",
        "Directional wave and sea surface temperature measurements collected in situ by Datawell Waverider buoys located near NEW RIVER INLET, NC from 2012/04/14 to 2014/07/11.\n",
        "Directional wave and sea surface temperature measurements collected in situ by Datawell Mark 3 directional buoy located near NEW RIVER INLET, NC from 2014/03/09 19:00:00 to 2014/07/11 23:59:59.\n",
        "*************************** DAP URLs ***************************\n",
        "http://crow.marine.usf.edu:8080/thredds/dodsC/FVCOM-Nowcast-Agg.nc.html\n",
        "http://crow.marine.usf.edu:8080/thredds/dodsC/WFS_ROMS_NF_model/USF_Ocean_Circulation_Group_West_Florida_Shelf_Daily_ROMS_Nowcast_Forecast_Model_Data_best.ncd.html\n",
        "http://geoport.whoi.edu/thredds/dodsC/coawst_4/use/fmrc/coawst_4_use_best.ncd.html\n",
        "http://omgsrv1.meas.ncsu.edu:8080/thredds/dodsC/fmrc/sabgom/SABGOM_Forecast_Model_Run_Collection_best.ncd.html\n",
        "http://oos.soest.hawaii.edu/thredds/dodsC/hioos/satellite/dhw.html\n",
        "http://oos.soest.hawaii.edu/thredds/dodsC/pacioos/hycom/global.html\n",
        "http://tds.marine.rutgers.edu/thredds/dodsC/roms/espresso/2013_da/his_Best/ESPRESSO_Real-Time_v2_History_Best_Available_best.ncd.html\n",
        "http://thredds.cdip.ucsd.edu/thredds/dodsC/cdip/archive/029p1/029p1_d19.nc.html\n",
        "http://thredds.cdip.ucsd.edu/thredds/dodsC/cdip/archive/029p1/029p1_historic.nc.html\n",
        "http://thredds.cdip.ucsd.edu/thredds/dodsC/cdip/archive/043p1/043p1_d16.nc.html\n",
        "http://thredds.cdip.ucsd.edu/thredds/dodsC/cdip/archive/045p1/045p1_historic.nc.html\n",
        "http://thredds.cdip.ucsd.edu/thredds/dodsC/cdip/archive/067p1/067p1_d22.nc.html\n",
        "http://thredds.cdip.ucsd.edu/thredds/dodsC/cdip/archive/067p1/067p1_historic.nc.html\n",
        "http://thredds.cdip.ucsd.edu/thredds/dodsC/cdip/archive/076p1/076p1_d27.nc.html\n",
        "http://thredds.cdip.ucsd.edu/thredds/dodsC/cdip/archive/093p1/093p1_d40.nc.html\n",
        "http://thredds.cdip.ucsd.edu/thredds/dodsC/cdip/archive/098p1/098p1_historic.nc.html\n",
        "http://thredds.cdip.ucsd.edu/thredds/dodsC/cdip/archive/100p1/100p1_d13.nc.html\n",
        "http://thredds.cdip.ucsd.edu/thredds/dodsC/cdip/archive/100p1/100p1_historic.nc.html\n",
        "http://thredds.cdip.ucsd.edu/thredds/dodsC/cdip/archive/142p1/142p1_d14.nc.html\n",
        "http://thredds.cdip.ucsd.edu/thredds/dodsC/cdip/archive/142p1/142p1_historic.nc.html\n",
        "http://thredds.cdip.ucsd.edu/thredds/dodsC/cdip/archive/156p1/156p1_d07.nc.html\n",
        "http://thredds.cdip.ucsd.edu/thredds/dodsC/cdip/archive/168p1/168p1_d05.nc.html\n",
        "http://thredds.cdip.ucsd.edu/thredds/dodsC/cdip/archive/179p1/179p1_d04.nc.html\n",
        "http://thredds.cdip.ucsd.edu/thredds/dodsC/cdip/archive/185p1/185p1_d02.nc.html\n",
        "http://thredds.cdip.ucsd.edu/thredds/dodsC/cdip/archive/185p1/185p1_d03.nc.html\n",
        "http://thredds.cdip.ucsd.edu/thredds/dodsC/cdip/archive/190p1/190p1_d02.nc.html\n",
        "http://thredds.cdip.ucsd.edu/thredds/dodsC/cdip/archive/190p1/190p1_historic.nc.html\n",
        "http://thredds.cdip.ucsd.edu/thredds/dodsC/cdip/archive/191p1/191p1_d12.nc.html\n",
        "http://thredds.cdip.ucsd.edu/thredds/dodsC/cdip/archive/203p1/203p1_d01.nc.html\n",
        "*************************** SOS URLs ***************************\n",
        "http://sdf.ndbc.noaa.gov/sos/server.php?service=SOS&request=GetCapabilities&acceptVersions=1.0.0\n",
        "http://thredds.cdip.ucsd.edu/thredds/sos/cdip/archive/029p1/029p1_d19.nc?service=SOS&version=1.0.0&request=GetCapabilities\n",
        "http://thredds.cdip.ucsd.edu/thredds/sos/cdip/archive/029p1/029p1_historic.nc?service=SOS&version=1.0.0&request=GetCapabilities\n",
        "http://thredds.cdip.ucsd.edu/thredds/sos/cdip/archive/043p1/043p1_d16.nc?service=SOS&version=1.0.0&request=GetCapabilities\n",
        "http://thredds.cdip.ucsd.edu/thredds/sos/cdip/archive/045p1/045p1_historic.nc?service=SOS&version=1.0.0&request=GetCapabilities\n",
        "http://thredds.cdip.ucsd.edu/thredds/sos/cdip/archive/067p1/067p1_d22.nc?service=SOS&version=1.0.0&request=GetCapabilities\n",
        "http://thredds.cdip.ucsd.edu/thredds/sos/cdip/archive/067p1/067p1_historic.nc?service=SOS&version=1.0.0&request=GetCapabilities\n",
        "http://thredds.cdip.ucsd.edu/thredds/sos/cdip/archive/076p1/076p1_d27.nc?service=SOS&version=1.0.0&request=GetCapabilities\n",
        "http://thredds.cdip.ucsd.edu/thredds/sos/cdip/archive/093p1/093p1_d40.nc?service=SOS&version=1.0.0&request=GetCapabilities\n",
        "http://thredds.cdip.ucsd.edu/thredds/sos/cdip/archive/098p1/098p1_historic.nc?service=SOS&version=1.0.0&request=GetCapabilities\n",
        "http://thredds.cdip.ucsd.edu/thredds/sos/cdip/archive/100p1/100p1_d13.nc?service=SOS&version=1.0.0&request=GetCapabilities\n",
        "http://thredds.cdip.ucsd.edu/thredds/sos/cdip/archive/100p1/100p1_historic.nc?service=SOS&version=1.0.0&request=GetCapabilities\n",
        "http://thredds.cdip.ucsd.edu/thredds/sos/cdip/archive/142p1/142p1_d14.nc?service=SOS&version=1.0.0&request=GetCapabilities\n",
        "http://thredds.cdip.ucsd.edu/thredds/sos/cdip/archive/142p1/142p1_historic.nc?service=SOS&version=1.0.0&request=GetCapabilities\n",
        "http://thredds.cdip.ucsd.edu/thredds/sos/cdip/archive/156p1/156p1_d07.nc?service=SOS&version=1.0.0&request=GetCapabilities\n",
        "http://thredds.cdip.ucsd.edu/thredds/sos/cdip/archive/168p1/168p1_d05.nc?service=SOS&version=1.0.0&request=GetCapabilities\n",
        "http://thredds.cdip.ucsd.edu/thredds/sos/cdip/archive/179p1/179p1_d04.nc?service=SOS&version=1.0.0&request=GetCapabilities\n",
        "http://thredds.cdip.ucsd.edu/thredds/sos/cdip/archive/185p1/185p1_d02.nc?service=SOS&version=1.0.0&request=GetCapabilities\n",
        "http://thredds.cdip.ucsd.edu/thredds/sos/cdip/archive/185p1/185p1_d03.nc?service=SOS&version=1.0.0&request=GetCapabilities\n",
        "http://thredds.cdip.ucsd.edu/thredds/sos/cdip/archive/190p1/190p1_d02.nc?service=SOS&version=1.0.0&request=GetCapabilities\n",
        "http://thredds.cdip.ucsd.edu/thredds/sos/cdip/archive/190p1/190p1_historic.nc?service=SOS&version=1.0.0&request=GetCapabilities\n",
        "http://thredds.cdip.ucsd.edu/thredds/sos/cdip/archive/191p1/191p1_d12.nc?service=SOS&version=1.0.0&request=GetCapabilities\n",
        "http://thredds.cdip.ucsd.edu/thredds/sos/cdip/archive/203p1/203p1_d01.nc?service=SOS&version=1.0.0&request=GetCapabilities\n"
       ]
      }
     ],
     "prompt_number": 8
    },
    {
     "cell_type": "code",
     "collapsed": true,
     "input": [
      "# Force SABGOM and USEAST into the URL list.\n",
      "from utilities import titles\n",
      "if titles['SABGOM'] not in dap_urls:\n",
      "    print('SABGOM not in the catalog')\n",
      "    dap_urls.append(titles['SABGOM'])\n",
      "\n",
      "if titles['USEAST'] not in dap_urls:\n",
      "    print('USEAST not in the catalog')\n",
      "    dap_urls.append(titles['USEAST'])"
     ],
     "language": "python",
     "metadata": {},
     "outputs": [
      {
       "output_type": "stream",
       "stream": "stdout",
       "text": [
        "USEAST not in the catalog\n"
       ]
      }
     ],
     "prompt_number": 9
    },
    {
     "cell_type": "code",
     "collapsed": false,
     "input": [
      "from pyoos.collectors.coops.coops_sos import CoopsSos\n",
      "\n",
      "collector = CoopsSos()\n",
      "sos_name = 'sea_water_temperature'\n",
      "\n",
      "collector.end_time = stop\n",
      "collector.start_time = start\n",
      "collector.variables = [sos_name]\n",
      "\n",
      "ofrs = collector.server.offerings\n",
      "title = collector.server.identification.title\n",
      "print(fmt(' Collector offerings '))\n",
      "print('{}: {} offerings'.format(title, len(ofrs)))"
     ],
     "language": "python",
     "metadata": {
      "code_folding": []
     },
     "outputs": [
      {
       "output_type": "stream",
       "stream": "stdout",
       "text": [
        "********************* Collector offerings **********************\n",
        "NOAA.NOS.CO-OPS SOS: 1030 offerings\n"
       ]
      }
     ],
     "prompt_number": 10
    },
    {
     "cell_type": "code",
     "collapsed": false,
     "input": [
      "from pandas import read_csv\n",
      "from utilities import sos_request\n",
      "\n",
      "params = dict(observedProperty=sos_name,\n",
      "              eventTime=start.strftime('%Y-%m-%dT%H:%M:%SZ'),\n",
      "              featureOfInterest='BBOX:{0},{1},{2},{3}'.format(*bbox),\n",
      "              offering='urn:ioos:network:NOAA.NOS.CO-OPS:MetActive')\n",
      "\n",
      "uri = 'http://opendap.co-ops.nos.noaa.gov/ioos-dif-sos/SOS'\n",
      "url = sos_request(uri, **params)\n",
      "observations = read_csv(url)\n",
      "\n",
      "print('SOS URL request: {}'.format(url))"
     ],
     "language": "python",
     "metadata": {},
     "outputs": [
      {
       "output_type": "stream",
       "stream": "stdout",
       "text": [
        "SOS URL request: http://opendap.co-ops.nos.noaa.gov/ioos-dif-sos/SOS?eventTime=2014-06-30T12%3A00%3A00Z&service=SOS&offering=urn%3Aioos%3Anetwork%3ANOAA.NOS.CO-OPS%3AMetActive&request=GetObservation&version=1.0.0&responseFormat=text%2Fcsv&featureOfInterest=BBOX%3A-87.4%2C24.25%2C-74.7%2C36.7&observedProperty=sea_water_temperature\n"
       ]
      }
     ],
     "prompt_number": 11
    },
    {
     "cell_type": "markdown",
     "metadata": {},
     "source": [
      "#### Clean the dataframe (visualization purpose only)"
     ]
    },
    {
     "cell_type": "code",
     "collapsed": false,
     "input": [
      "from utilities import get_coops_longname, to_html\n",
      "\n",
      "columns = {'sensor_id': 'sensor',\n",
      "           'station_id': 'station',\n",
      "           'latitude (degree)': 'lat',\n",
      "           'longitude (degree)': 'lon',\n",
      "           'sea_water_temperature (C)': 'sea_water_temperature'}\n",
      "\n",
      "observations.rename(columns=columns, inplace=True)\n",
      "\n",
      "observations['sensor'] = [s.split(':')[-1] for s in observations['sensor']]\n",
      "observations['station'] = [s.split(':')[-1] for s in observations['station']]\n",
      "observations['name'] = [get_coops_longname(s) for s in observations['station']]\n",
      "\n",
      "observations.set_index('name', inplace=True)\n",
      "to_html(observations.head(), style)"
     ],
     "language": "python",
     "metadata": {},
     "outputs": [
      {
       "html": [
        "<style>.info {\n",
        "    background-color:#fcf8e3;\n",
        "    border-color:#faebcc;\n",
        "    border-left:5px solid #8a6d3b;\n",
        "    padding:.5em;\n",
        "    color:#8a6d3b\n",
        "}\n",
        "\n",
        ".success {\n",
        "    background-color:#d9edf7;\n",
        "    border-color:#bce8f1;\n",
        "    border-left:5px solid #31708f;\n",
        "    padding:.5em;\n",
        "    color:#31708f\n",
        "}\n",
        "\n",
        ".error {\n",
        "    background-color:#f2dede;\n",
        "    border-color:#ebccd1;\n",
        "    border-left:5px solid #a94442;\n",
        "    padding:.5em;\n",
        "    color:#a94442\n",
        "}\n",
        "\n",
        ".warning {\n",
        "    background-color:#fcf8e3;\n",
        "    border-color:#faebcc;\n",
        "    border-left:5px solid #8a6d3b;\n",
        "    padding:.5em;\n",
        "    color:#8a6d3b\n",
        "}\n",
        "\n",
        ".text-shadow {\n",
        "    text-shadow:0 1px 0 #ccc,0 2px 0 #c9c9c9,0 3px 0 #bbb,0 4px 0 #b9b9b9,0 5px 0 #aaa,0 6px 1px rgba(0,0,0,.1)\n",
        "}\n",
        "\n",
        ".datagrid table {\n",
        "    border-collapse:collapse;\n",
        "    text-align:left;\n",
        "    width:65%\n",
        "}\n",
        "\n",
        ".datagrid td {\n",
        "    border-collapse:collapse;\n",
        "    text-align:right;\n",
        "}\n",
        "\n",
        ".datagrid {\n",
        "    font:normal 12px/150% Arial,Helvetica,sans-serif;\n",
        "    background:#fff;\n",
        "    overflow:hidden;\n",
        "    border:1px solid #069;\n",
        "    -webkit-border-radius:3px;\n",
        "    -moz-border-radius:3px;\n",
        "    border-radius:3px\n",
        "}\n",
        "\n",
        ".datagrid table td,.datagrid table th {\n",
        "    padding:3px 10px\n",
        "}\n",
        "\n",
        ".datagrid table thead th {\n",
        "    background:-webkit-gradient(linear,left top,left bottom,color-stop(0.05,#069),color-stop(1,#00557F));\n",
        "    background:-moz-linear-gradient(center top,#069 5%,#00557F 100%);\n",
        "    filter:progid:DXImageTransform.Microsoft.gradient(startColorstr='#006699',endColorstr='#00557F');\n",
        "    background-color:#069;\n",
        "    color:#FFF;\n",
        "    font-size:15px;\n",
        "    font-weight:700;\n",
        "    border-left:1px solid #0070A8\n",
        "}\n",
        "\n",
        ".datagrid table thead th:first-child {\n",
        "    border:none\n",
        "}\n",
        "\n",
        ".datagrid table tbody td {\n",
        "    color:#00496B;\n",
        "    border-left:1px solid #E1EEF4;\n",
        "    font-size:12px;\n",
        "    font-weight:400\n",
        "}\n",
        "\n",
        ".datagrid table tbody .alt td {\n",
        "    background:#E1EEF4;\n",
        "    color:#00496B\n",
        "}\n",
        "\n",
        ".datagrid table tbody td:first-child {\n",
        "    border-left:none\n",
        "}\n",
        "\n",
        ".datagrid table tbody tr:last-child td {\n",
        "    border-bottom:none\n",
        "}\n",
        "\n",
        ".datagrid table tfoot td div {\n",
        "    border-top:1px solid #069;\n",
        "    background:#E1EEF4\n",
        "}\n",
        "\n",
        ".datagrid table tfoot td {\n",
        "    padding:0;\n",
        "    font-size:12px\n",
        "}\n",
        "\n",
        ".datagrid table tfoot td div {\n",
        "    padding:2px\n",
        "}\n",
        "\n",
        ".datagrid table tfoot td ul {\n",
        "    margin:0;\n",
        "    padding:0;\n",
        "    list-style:none;\n",
        "    text-align:right\n",
        "}\n",
        "\n",
        ".datagrid table tfoot li {\n",
        "    display:inline\n",
        "}\n",
        "\n",
        ".datagrid table tfoot li a {\n",
        "    text-decoration:none;\n",
        "    display:inline-block;\n",
        "    padding:2px 8px;\n",
        "    margin:1px;\n",
        "    color:#FFF;\n",
        "    border:1px solid #069;\n",
        "    -webkit-border-radius:3px;\n",
        "    -moz-border-radius:3px;\n",
        "    border-radius:3px;\n",
        "    background:-webkit-gradient(linear,left top,left bottom,color-stop(0.05,#069),color-stop(1,#00557F));\n",
        "    background:-moz-linear-gradient(center top,#069 5%,#00557F 100%);\n",
        "    filter:progid:DXImageTransform.Microsoft.gradient(startColorstr='#006699',endColorstr='#00557F');\n",
        "    background-color:#069\n",
        "}\n",
        "\n",
        ".datagrid table tfoot ul.active,.datagrid table tfoot ul a:hover {\n",
        "    text-decoration:none;\n",
        "    border-color:#069;\n",
        "    color:#FFF;\n",
        "    background:none;\n",
        "    background-color:#00557F\n",
        "}\n",
        "\n",
        "div.dhtmlx_window_active,div.dhx_modal_cover_dv {\n",
        "    position:fixed!important\n",
        "}\n",
        "</style><div class=\"datagrid\"><table border=\"1\" class=\"dataframe\">\n",
        "  <thead>\n",
        "    <tr style=\"text-align: right;\">\n",
        "      <th></th>\n",
        "      <th>station</th>\n",
        "      <th>sensor</th>\n",
        "      <th>lat</th>\n",
        "      <th>lon</th>\n",
        "      <th>date_time</th>\n",
        "      <th>sea_water_temperature</th>\n",
        "    </tr>\n",
        "    <tr>\n",
        "      <th>name</th>\n",
        "      <th></th>\n",
        "      <th></th>\n",
        "      <th></th>\n",
        "      <th></th>\n",
        "      <th></th>\n",
        "      <th></th>\n",
        "    </tr>\n",
        "  </thead>\n",
        "  <tbody>\n",
        "    <tr>\n",
        "      <th>Duck, NC</th>\n",
        "      <td> 8651370</td>\n",
        "      <td> E1</td>\n",
        "      <td> 36.1833</td>\n",
        "      <td>-75.7467</td>\n",
        "      <td> 2014-06-30T12:00:00Z</td>\n",
        "      <td> 25.5</td>\n",
        "    </tr>\n",
        "    <tr>\n",
        "      <th>Oregon Inlet Marina, NC</th>\n",
        "      <td> 8652587</td>\n",
        "      <td> E1</td>\n",
        "      <td> 35.7950</td>\n",
        "      <td>-75.5483</td>\n",
        "      <td> 2014-06-30T12:00:00Z</td>\n",
        "      <td> 24.7</td>\n",
        "    </tr>\n",
        "    <tr>\n",
        "      <th>USCG Station Hatteras, NC</th>\n",
        "      <td> 8654467</td>\n",
        "      <td> E1</td>\n",
        "      <td> 35.2086</td>\n",
        "      <td>-75.7042</td>\n",
        "      <td> 2014-06-30T12:00:00Z</td>\n",
        "      <td> 26.2</td>\n",
        "    </tr>\n",
        "    <tr>\n",
        "      <th>Beaufort, NC</th>\n",
        "      <td> 8656483</td>\n",
        "      <td> E1</td>\n",
        "      <td> 34.7200</td>\n",
        "      <td>-76.6700</td>\n",
        "      <td> 2014-06-30T12:00:00Z</td>\n",
        "      <td> 26.7</td>\n",
        "    </tr>\n",
        "    <tr>\n",
        "      <th>Wilmington, NC</th>\n",
        "      <td> 8658120</td>\n",
        "      <td> E1</td>\n",
        "      <td> 34.2267</td>\n",
        "      <td>-77.9533</td>\n",
        "      <td> 2014-06-30T12:00:00Z</td>\n",
        "      <td> 28.6</td>\n",
        "    </tr>\n",
        "  </tbody>\n",
        "</table></div>"
       ],
       "metadata": {},
       "output_type": "pyout",
       "prompt_number": 12,
       "text": [
        "<IPython.core.display.HTML at 0x7f8d3a1aaf10>"
       ]
      }
     ],
     "prompt_number": 12
    },
    {
     "cell_type": "markdown",
     "metadata": {},
     "source": [
      "#### Generate a uniform 6-min time base for model/data comparison"
     ]
    },
    {
     "cell_type": "code",
     "collapsed": false,
     "input": [
      "import iris\n",
      "from pandas import DataFrame\n",
      "from owslib.ows import ExceptionReport\n",
      "from utilities import coops2df, save_timeseries\n",
      "\n",
      "iris.FUTURE.netcdf_promote = True\n",
      "\n",
      "print(fmt(' Observations (station data) '))\n",
      "fname = '{:%Y-%m-%d}-OBS_DATA.nc'.format(stop)\n",
      "fname = os.path.join(directory, fname)\n",
      "\n",
      "print(fmt(' Downloading to file {} '.format(fname)))\n",
      "data = dict()\n",
      "bad_station = []\n",
      "for station in observations.station:\n",
      "    try:\n",
      "        df = coops2df(collector, station)\n",
      "        col = 'sea_water_temperature (C)'\n",
      "        data.update({station: df[col]})\n",
      "    except ExceptionReport as e:\n",
      "        bad_station.append(station)\n",
      "        name = get_coops_longname(station)\n",
      "        print(\"[{}] {}:\\n{}\".format(station, name, e))\n",
      "obs_data = DataFrame.from_dict(data)\n",
      "\n",
      "# Split good and bad stations.\n",
      "pattern = '|'.join(bad_station)\n",
      "if pattern:\n",
      "    mask = observations.station.str.contains(pattern)\n",
      "    bad_station = observations[mask]\n",
      "    bservations = observations[~mask]\n",
      "\n",
      "comment = \"Several stations from http://opendap.co-ops.nos.noaa.gov\"\n",
      "kw = dict(longitude=observations.lon,\n",
      "          latitude=observations.lat,\n",
      "          station_attr=dict(cf_role=\"timeseries_id\"),\n",
      "          cube_attr=dict(featureType='timeSeries',\n",
      "                         Conventions='CF-1.6',\n",
      "                         standard_name_vocabulary='CF-1.6',\n",
      "                         cdm_data_type=\"Station\",\n",
      "                         comment=comment,\n",
      "                         url=url))\n",
      "\n",
      "save_timeseries(obs_data, outfile=fname,\n",
      "                standard_name=sos_name, **kw)\n",
      "\n",
      "to_html(obs_data.head(), style)"
     ],
     "language": "python",
     "metadata": {},
     "outputs": [
      {
       "output_type": "stream",
       "stream": "stdout",
       "text": [
        "***************** Observations (station data) ******************\n",
        "**** Downloading to file 2014-07-07/2014-07-07-OBS_DATA.nc *****\n"
       ]
      },
      {
       "html": [
        "<style>.info {\n",
        "    background-color:#fcf8e3;\n",
        "    border-color:#faebcc;\n",
        "    border-left:5px solid #8a6d3b;\n",
        "    padding:.5em;\n",
        "    color:#8a6d3b\n",
        "}\n",
        "\n",
        ".success {\n",
        "    background-color:#d9edf7;\n",
        "    border-color:#bce8f1;\n",
        "    border-left:5px solid #31708f;\n",
        "    padding:.5em;\n",
        "    color:#31708f\n",
        "}\n",
        "\n",
        ".error {\n",
        "    background-color:#f2dede;\n",
        "    border-color:#ebccd1;\n",
        "    border-left:5px solid #a94442;\n",
        "    padding:.5em;\n",
        "    color:#a94442\n",
        "}\n",
        "\n",
        ".warning {\n",
        "    background-color:#fcf8e3;\n",
        "    border-color:#faebcc;\n",
        "    border-left:5px solid #8a6d3b;\n",
        "    padding:.5em;\n",
        "    color:#8a6d3b\n",
        "}\n",
        "\n",
        ".text-shadow {\n",
        "    text-shadow:0 1px 0 #ccc,0 2px 0 #c9c9c9,0 3px 0 #bbb,0 4px 0 #b9b9b9,0 5px 0 #aaa,0 6px 1px rgba(0,0,0,.1)\n",
        "}\n",
        "\n",
        ".datagrid table {\n",
        "    border-collapse:collapse;\n",
        "    text-align:left;\n",
        "    width:65%\n",
        "}\n",
        "\n",
        ".datagrid td {\n",
        "    border-collapse:collapse;\n",
        "    text-align:right;\n",
        "}\n",
        "\n",
        ".datagrid {\n",
        "    font:normal 12px/150% Arial,Helvetica,sans-serif;\n",
        "    background:#fff;\n",
        "    overflow:hidden;\n",
        "    border:1px solid #069;\n",
        "    -webkit-border-radius:3px;\n",
        "    -moz-border-radius:3px;\n",
        "    border-radius:3px\n",
        "}\n",
        "\n",
        ".datagrid table td,.datagrid table th {\n",
        "    padding:3px 10px\n",
        "}\n",
        "\n",
        ".datagrid table thead th {\n",
        "    background:-webkit-gradient(linear,left top,left bottom,color-stop(0.05,#069),color-stop(1,#00557F));\n",
        "    background:-moz-linear-gradient(center top,#069 5%,#00557F 100%);\n",
        "    filter:progid:DXImageTransform.Microsoft.gradient(startColorstr='#006699',endColorstr='#00557F');\n",
        "    background-color:#069;\n",
        "    color:#FFF;\n",
        "    font-size:15px;\n",
        "    font-weight:700;\n",
        "    border-left:1px solid #0070A8\n",
        "}\n",
        "\n",
        ".datagrid table thead th:first-child {\n",
        "    border:none\n",
        "}\n",
        "\n",
        ".datagrid table tbody td {\n",
        "    color:#00496B;\n",
        "    border-left:1px solid #E1EEF4;\n",
        "    font-size:12px;\n",
        "    font-weight:400\n",
        "}\n",
        "\n",
        ".datagrid table tbody .alt td {\n",
        "    background:#E1EEF4;\n",
        "    color:#00496B\n",
        "}\n",
        "\n",
        ".datagrid table tbody td:first-child {\n",
        "    border-left:none\n",
        "}\n",
        "\n",
        ".datagrid table tbody tr:last-child td {\n",
        "    border-bottom:none\n",
        "}\n",
        "\n",
        ".datagrid table tfoot td div {\n",
        "    border-top:1px solid #069;\n",
        "    background:#E1EEF4\n",
        "}\n",
        "\n",
        ".datagrid table tfoot td {\n",
        "    padding:0;\n",
        "    font-size:12px\n",
        "}\n",
        "\n",
        ".datagrid table tfoot td div {\n",
        "    padding:2px\n",
        "}\n",
        "\n",
        ".datagrid table tfoot td ul {\n",
        "    margin:0;\n",
        "    padding:0;\n",
        "    list-style:none;\n",
        "    text-align:right\n",
        "}\n",
        "\n",
        ".datagrid table tfoot li {\n",
        "    display:inline\n",
        "}\n",
        "\n",
        ".datagrid table tfoot li a {\n",
        "    text-decoration:none;\n",
        "    display:inline-block;\n",
        "    padding:2px 8px;\n",
        "    margin:1px;\n",
        "    color:#FFF;\n",
        "    border:1px solid #069;\n",
        "    -webkit-border-radius:3px;\n",
        "    -moz-border-radius:3px;\n",
        "    border-radius:3px;\n",
        "    background:-webkit-gradient(linear,left top,left bottom,color-stop(0.05,#069),color-stop(1,#00557F));\n",
        "    background:-moz-linear-gradient(center top,#069 5%,#00557F 100%);\n",
        "    filter:progid:DXImageTransform.Microsoft.gradient(startColorstr='#006699',endColorstr='#00557F');\n",
        "    background-color:#069\n",
        "}\n",
        "\n",
        ".datagrid table tfoot ul.active,.datagrid table tfoot ul a:hover {\n",
        "    text-decoration:none;\n",
        "    border-color:#069;\n",
        "    color:#FFF;\n",
        "    background:none;\n",
        "    background-color:#00557F\n",
        "}\n",
        "\n",
        "div.dhtmlx_window_active,div.dhx_modal_cover_dv {\n",
        "    position:fixed!important\n",
        "}\n",
        "</style><div class=\"datagrid\"><table border=\"1\" class=\"dataframe\">\n",
        "  <thead>\n",
        "    <tr style=\"text-align: right;\">\n",
        "      <th></th>\n",
        "      <th>8651370</th>\n",
        "      <th>8652587</th>\n",
        "      <th>8654467</th>\n",
        "      <th>8656483</th>\n",
        "      <th>8658120</th>\n",
        "      <th>8658163</th>\n",
        "      <th>8661070</th>\n",
        "      <th>8665530</th>\n",
        "      <th>8670870</th>\n",
        "      <th>8720030</th>\n",
        "      <th>8720218</th>\n",
        "      <th>8720219</th>\n",
        "      <th>8720245</th>\n",
        "      <th>8720357</th>\n",
        "      <th>8720503</th>\n",
        "      <th>8720625</th>\n",
        "      <th>8721604</th>\n",
        "      <th>8722670</th>\n",
        "      <th>8723970</th>\n",
        "      <th>8724580</th>\n",
        "      <th>8725110</th>\n",
        "      <th>8725520</th>\n",
        "      <th>8726384</th>\n",
        "      <th>8726520</th>\n",
        "      <th>8726607</th>\n",
        "      <th>8728690</th>\n",
        "      <th>8729108</th>\n",
        "      <th>8729210</th>\n",
        "      <th>8729840</th>\n",
        "    </tr>\n",
        "    <tr>\n",
        "      <th>date_time</th>\n",
        "      <th></th>\n",
        "      <th></th>\n",
        "      <th></th>\n",
        "      <th></th>\n",
        "      <th></th>\n",
        "      <th></th>\n",
        "      <th></th>\n",
        "      <th></th>\n",
        "      <th></th>\n",
        "      <th></th>\n",
        "      <th></th>\n",
        "      <th></th>\n",
        "      <th></th>\n",
        "      <th></th>\n",
        "      <th></th>\n",
        "      <th></th>\n",
        "      <th></th>\n",
        "      <th></th>\n",
        "      <th></th>\n",
        "      <th></th>\n",
        "      <th></th>\n",
        "      <th></th>\n",
        "      <th></th>\n",
        "      <th></th>\n",
        "      <th></th>\n",
        "      <th></th>\n",
        "      <th></th>\n",
        "      <th></th>\n",
        "      <th></th>\n",
        "    </tr>\n",
        "  </thead>\n",
        "  <tbody>\n",
        "    <tr>\n",
        "      <th>2014-06-30 12:00:00</th>\n",
        "      <td> 25.5</td>\n",
        "      <td> 24.7</td>\n",
        "      <td> 26.2</td>\n",
        "      <td> 26.7</td>\n",
        "      <td> 28.6</td>\n",
        "      <td> 27.5</td>\n",
        "      <td> 28.0</td>\n",
        "      <td> 28.6</td>\n",
        "      <td> 25.5</td>\n",
        "      <td> 29.3</td>\n",
        "      <td> 28.6</td>\n",
        "      <td> 29.3</td>\n",
        "      <td> 29.4</td>\n",
        "      <td> 29.9</td>\n",
        "      <td> 30</td>\n",
        "      <td> 29.4</td>\n",
        "      <td> 29.2</td>\n",
        "      <td> 27.9</td>\n",
        "      <td> 30.7</td>\n",
        "      <td> 30.8</td>\n",
        "      <td> 31.900</td>\n",
        "      <td> 31.9</td>\n",
        "      <td> 30.6</td>\n",
        "      <td> 31.8</td>\n",
        "      <td> 31.1</td>\n",
        "      <td> 29.5</td>\n",
        "      <td> 29.7</td>\n",
        "      <td> 24.2</td>\n",
        "      <td> 28.7</td>\n",
        "    </tr>\n",
        "    <tr>\n",
        "      <th>2014-06-30 12:06:00</th>\n",
        "      <td> 25.4</td>\n",
        "      <td> 24.7</td>\n",
        "      <td> 26.2</td>\n",
        "      <td> 26.7</td>\n",
        "      <td> 28.6</td>\n",
        "      <td> 27.5</td>\n",
        "      <td> 28.0</td>\n",
        "      <td> 28.6</td>\n",
        "      <td> 25.5</td>\n",
        "      <td> 29.3</td>\n",
        "      <td> 28.6</td>\n",
        "      <td> 29.3</td>\n",
        "      <td> 29.4</td>\n",
        "      <td> 29.9</td>\n",
        "      <td> 30</td>\n",
        "      <td> 29.4</td>\n",
        "      <td> 29.2</td>\n",
        "      <td> 27.9</td>\n",
        "      <td> 30.7</td>\n",
        "      <td> 30.8</td>\n",
        "      <td> 31.816</td>\n",
        "      <td> 31.9</td>\n",
        "      <td> 30.6</td>\n",
        "      <td> 31.8</td>\n",
        "      <td> 31.1</td>\n",
        "      <td> 29.5</td>\n",
        "      <td> 29.6</td>\n",
        "      <td> 24.1</td>\n",
        "      <td> 28.6</td>\n",
        "    </tr>\n",
        "    <tr>\n",
        "      <th>2014-06-30 12:12:00</th>\n",
        "      <td> 25.4</td>\n",
        "      <td> 24.7</td>\n",
        "      <td> 26.1</td>\n",
        "      <td> 26.7</td>\n",
        "      <td> 28.6</td>\n",
        "      <td> 27.4</td>\n",
        "      <td> 28.0</td>\n",
        "      <td> 28.6</td>\n",
        "      <td> 25.5</td>\n",
        "      <td> 29.3</td>\n",
        "      <td> 28.6</td>\n",
        "      <td> 29.3</td>\n",
        "      <td> 29.3</td>\n",
        "      <td> 29.9</td>\n",
        "      <td> 30</td>\n",
        "      <td> 29.5</td>\n",
        "      <td> 29.2</td>\n",
        "      <td> 27.8</td>\n",
        "      <td> 30.7</td>\n",
        "      <td> 30.8</td>\n",
        "      <td> 31.800</td>\n",
        "      <td> 31.9</td>\n",
        "      <td> 30.5</td>\n",
        "      <td> 31.8</td>\n",
        "      <td> 31.1</td>\n",
        "      <td> 29.5</td>\n",
        "      <td> 29.4</td>\n",
        "      <td> 24.1</td>\n",
        "      <td> 28.6</td>\n",
        "    </tr>\n",
        "    <tr>\n",
        "      <th>2014-06-30 12:18:00</th>\n",
        "      <td> 25.4</td>\n",
        "      <td> 24.7</td>\n",
        "      <td> 26.1</td>\n",
        "      <td> 26.7</td>\n",
        "      <td> 28.6</td>\n",
        "      <td> 27.4</td>\n",
        "      <td> 28.1</td>\n",
        "      <td> 28.6</td>\n",
        "      <td> 25.5</td>\n",
        "      <td> 29.3</td>\n",
        "      <td> 28.7</td>\n",
        "      <td> 29.3</td>\n",
        "      <td> 29.3</td>\n",
        "      <td> 29.9</td>\n",
        "      <td> 30</td>\n",
        "      <td> 29.5</td>\n",
        "      <td> 29.2</td>\n",
        "      <td> 27.8</td>\n",
        "      <td> 30.7</td>\n",
        "      <td> 30.8</td>\n",
        "      <td> 31.765</td>\n",
        "      <td> 31.9</td>\n",
        "      <td> 30.5</td>\n",
        "      <td> 31.8</td>\n",
        "      <td> 31.1</td>\n",
        "      <td> 29.5</td>\n",
        "      <td> 29.4</td>\n",
        "      <td> 24.2</td>\n",
        "      <td> 28.6</td>\n",
        "    </tr>\n",
        "    <tr>\n",
        "      <th>2014-06-30 12:24:00</th>\n",
        "      <td> 25.4</td>\n",
        "      <td> 24.7</td>\n",
        "      <td> 26.1</td>\n",
        "      <td> 26.7</td>\n",
        "      <td> 28.6</td>\n",
        "      <td> 27.4</td>\n",
        "      <td> 28.1</td>\n",
        "      <td> 28.6</td>\n",
        "      <td> 25.5</td>\n",
        "      <td> 29.3</td>\n",
        "      <td> 28.6</td>\n",
        "      <td> 29.3</td>\n",
        "      <td> 29.3</td>\n",
        "      <td> 29.9</td>\n",
        "      <td> 30</td>\n",
        "      <td> 29.5</td>\n",
        "      <td> 29.2</td>\n",
        "      <td> 27.8</td>\n",
        "      <td> 30.6</td>\n",
        "      <td> 30.8</td>\n",
        "      <td> 31.800</td>\n",
        "      <td> 31.9</td>\n",
        "      <td> 30.4</td>\n",
        "      <td> 31.8</td>\n",
        "      <td> 31.1</td>\n",
        "      <td> 29.5</td>\n",
        "      <td> 29.2</td>\n",
        "      <td> 24.1</td>\n",
        "      <td> 28.6</td>\n",
        "    </tr>\n",
        "  </tbody>\n",
        "</table></div>"
       ],
       "metadata": {},
       "output_type": "pyout",
       "prompt_number": 13,
       "text": [
        "<IPython.core.display.HTML at 0x7f8d3a18c610>"
       ]
      }
     ],
     "prompt_number": 13
    },
    {
     "cell_type": "markdown",
     "metadata": {},
     "source": [
      "#### Loop discovered models and save the nearest time-series"
     ]
    },
    {
     "cell_type": "code",
     "collapsed": false,
     "input": [
      "from iris.exceptions import (CoordinateNotFoundError, ConstraintMismatchError,\n",
      "                             MergeError)\n",
      "\n",
      "from utilities import (TimeoutException, time_limit,\n",
      "                       get_cube, get_model_name, get_surface)\n",
      "\n",
      "\n",
      "# FIXME: Filtering bad URLs.\n",
      "dap_urls = [link for link in dap_urls\n",
      "            if 'NECOFS' not in link]  # Cartesian coords are not implemented.\n",
      "\n",
      "print(fmt(' Models (simulated data) '))\n",
      "cubes = dict()\n",
      "for k, url in enumerate(dap_urls):\n",
      "    print('\\n[Reading url {}/{}]: {}'.format(k+1, len(dap_urls), url))\n",
      "    try:\n",
      "        with time_limit(60*5):\n",
      "            cube = get_cube(url, name_list=name_list,\n",
      "                            bbox=bbox, time=(start, stop),\n",
      "                            units=iris.unit.Unit('celsius'))\n",
      "            # FIXME: Surface data only!\n",
      "            cube = get_surface(cube)\n",
      "        # FIXME: We Need a better way to identify model data.\n",
      "        if cube.ndim > 1:\n",
      "            mod_name, model_full_name = get_model_name(cube, url)\n",
      "            cubes.update({mod_name: cube})\n",
      "        else:\n",
      "            print('url {} is probably a timeSeries!'.format(url))\n",
      "    except (TimeoutException, RuntimeError, ValueError, MergeError,\n",
      "            ConstraintMismatchError, CoordinateNotFoundError) as e:\n",
      "        print('Cannot get cube for: {}\\n{}'.format(url, e))"
     ],
     "language": "python",
     "metadata": {},
     "outputs": [
      {
       "output_type": "stream",
       "stream": "stderr",
       "text": [
        "/home/filipe/miniconda/envs/ioos/lib/python2.7/site-packages/iris/fileformats/cf.py:1004: UserWarning: Ignoring variable u'lat' referenced by variable u'hc': Dimensions (u'node',) do not span (u'nele',)\n",
        "  warnings.warn(msg)\n",
        "/home/filipe/miniconda/envs/ioos/lib/python2.7/site-packages/iris/fileformats/cf.py:1004: UserWarning: Ignoring variable u'lon' referenced by variable u'hc': Dimensions (u'node',) do not span (u'nele',)\n",
        "  warnings.warn(msg)\n",
        "/home/filipe/miniconda/envs/ioos/lib/python2.7/site-packages/iris/fileformats/cf.py:1004: UserWarning: Ignoring variable u'siglay' referenced by variable u'u': Dimensions (u'siglay', u'node') do not span (u'time', u'siglay', u'nele')\n",
        "  warnings.warn(msg)\n",
        "/home/filipe/miniconda/envs/ioos/lib/python2.7/site-packages/iris/fileformats/cf.py:1004: UserWarning: Ignoring variable u'siglay' referenced by variable u'v': Dimensions (u'siglay', u'node') do not span (u'time', u'siglay', u'nele')\n",
        "  warnings.warn(msg)\n",
        "/home/filipe/miniconda/envs/ioos/lib/python2.7/site-packages/iris/fileformats/_pyke_rules/compiled_krb/fc_rules_cf_fc.py:1359: UserWarning: Failed to create 'time' dimension coordinate: The points array must be strictly monotonic.\n",
        "Gracefully creating 'time' auxiliary coordinate instead.\n",
        "  error=e_msg))\n"
       ]
      },
      {
       "output_type": "stream",
       "stream": "stdout",
       "text": [
        "******************* Models (simulated data) ********************\n",
        "\n",
        "[Reading url 1/30]: http://crow.marine.usf.edu:8080/thredds/dodsC/FVCOM-Nowcast-Agg.nc\n",
        "Cannot get cube for: http://crow.marine.usf.edu:8080/thredds/dodsC/FVCOM-Nowcast-Agg.nc\n",
        "Timed out!"
       ]
      },
      {
       "output_type": "stream",
       "stream": "stderr",
       "text": [
        "/home/filipe/miniconda/envs/ioos/lib/python2.7/site-packages/iris/fileformats/_pyke_rules/compiled_krb/fc_rules_cf_fc.py:1196: UserWarning: Ignoring netCDF variable 'Itime2' invalid units 'msecs since 00:00:00'\n",
        "  warnings.warn(msg.format(msg_name, msg_units))\n",
        "/home/filipe/miniconda/envs/ioos/lib/python2.7/site-packages/iris/fileformats/_pyke_rules/compiled_krb/fc_rules_cf_fc.py:1196: UserWarning: Ignoring netCDF variable 'salinity' invalid units 'psu'\n",
        "  warnings.warn(msg.format(msg_name, msg_units))\n",
        "/home/filipe/miniconda/envs/ioos/lib/python2.7/site-packages/iris/fileformats/cf.py:1038: UserWarning: Ignoring formula terms variable u'h' referenced by data variable u'v' via variable u's_rho': Dimensions (u'eta_rho', u'xi_rho') do not span (u'time', u's_rho', u'eta_v', u'xi_v')\n",
        "  warnings.warn(msg)\n"
       ]
      },
      {
       "output_type": "stream",
       "stream": "stderr",
       "text": [
        "/home/filipe/miniconda/envs/ioos/lib/python2.7/site-packages/iris/fileformats/cf.py:1038: UserWarning: Ignoring formula terms variable u'zeta' referenced by data variable u'v' via variable u's_rho': Dimensions (u'time', u'eta_rho', u'xi_rho') do not span (u'time', u's_rho', u'eta_v', u'xi_v')\n",
        "  warnings.warn(msg)\n",
        "/home/filipe/miniconda/envs/ioos/lib/python2.7/site-packages/iris/fileformats/cf.py:1038: UserWarning: Ignoring formula terms variable u'h' referenced by data variable u'u' via variable u's_rho': Dimensions (u'eta_rho', u'xi_rho') do not span (u'time', u's_rho', u'eta_u', u'xi_u')\n",
        "  warnings.warn(msg)\n",
        "/home/filipe/miniconda/envs/ioos/lib/python2.7/site-packages/iris/fileformats/cf.py:1038: UserWarning: Ignoring formula terms variable u'zeta' referenced by data variable u'u' via variable u's_rho': Dimensions (u'time', u'eta_rho', u'xi_rho') do not span (u'time', u's_rho', u'eta_u', u'xi_u')\n",
        "  warnings.warn(msg)\n",
        "/home/filipe/miniconda/envs/ioos/lib/python2.7/site-packages/iris/fileformats/_pyke_rules/compiled_krb/fc_rules_cf_fc.py:1291: UserWarning: Gracefully filling 'time' dimension coordinate masked points\n",
        "  warnings.warn(msg.format(str(cf_coord_var.cf_name)))\n"
       ]
      },
      {
       "output_type": "stream",
       "stream": "stderr",
       "text": [
        "/home/filipe/miniconda/envs/ioos/lib/python2.7/site-packages/iris/fileformats/_pyke_rules/compiled_krb/fc_rules_cf_fc.py:1196: UserWarning: Ignoring netCDF variable 'Cs_r' invalid units 'nondimensional'\n",
        "  warnings.warn(msg.format(msg_name, msg_units))\n",
        "/home/filipe/miniconda/envs/ioos/lib/python2.7/site-packages/iris/fileformats/_pyke_rules/compiled_krb/fc_rules_cf_fc.py:1196: UserWarning: Ignoring netCDF variable 's_rho' invalid units 'nondimensional'\n",
        "  warnings.warn(msg.format(msg_name, msg_units))\n",
        "/home/filipe/miniconda/envs/ioos/lib/python2.7/site-packages/iris/fileformats/_pyke_rules/compiled_krb/fc_rules_cf_fc.py:1196: UserWarning: Ignoring netCDF variable 'Cs_w' invalid units 'nondimensional'\n",
        "  warnings.warn(msg.format(msg_name, msg_units))\n"
       ]
      },
      {
       "output_type": "stream",
       "stream": "stdout",
       "text": [
        "\n",
        "\n",
        "[Reading url 2/30]: http://crow.marine.usf.edu:8080/thredds/dodsC/WFS_ROMS_NF_model/USF_Ocean_Circulation_Group_West_Florida_Shelf_Daily_ROMS_Nowcast_Forecast_Model_Data_best.ncd\n",
        "\n",
        "[Reading url 3/30]: http://geoport.whoi.edu/thredds/dodsC/coawst_4/use/fmrc/coawst_4_use_best.ncd"
       ]
      },
      {
       "output_type": "stream",
       "stream": "stdout",
       "text": [
        "\n",
        "\n",
        "[Reading url 4/30]: http://omgsrv1.meas.ncsu.edu:8080/thredds/dodsC/fmrc/sabgom/SABGOM_Forecast_Model_Run_Collection_best.ncd"
       ]
      },
      {
       "output_type": "stream",
       "stream": "stderr",
       "text": [
        "/home/filipe/miniconda/envs/ioos/lib/python2.7/site-packages/iris/fileformats/_pyke_rules/compiled_krb/fc_rules_cf_fc.py:1196: UserWarning: Ignoring netCDF variable 's_w' invalid units 'nondimensional'\n",
        "  warnings.warn(msg.format(msg_name, msg_units))\n",
        "/home/filipe/miniconda/envs/ioos/lib/python2.7/site-packages/iris/fileformats/_pyke_rules/compiled_krb/fc_rules_cf_fc.py:1196: UserWarning: Ignoring netCDF variable 'salt' invalid units 'PSU'\n",
        "  warnings.warn(msg.format(msg_name, msg_units))\n",
        "/home/filipe/miniconda/envs/ioos/lib/python2.7/site-packages/iris/fileformats/_pyke_rules/compiled_krb/fc_rules_cf_fc.py:1196: UserWarning: Ignoring netCDF variable 'chlorophyll' invalid units 'milligrams_chlorophyll meter-3'\n",
        "  warnings.warn(msg.format(msg_name, msg_units))\n"
       ]
      },
      {
       "output_type": "stream",
       "stream": "stderr",
       "text": [
        "/home/filipe/miniconda/envs/ioos/lib/python2.7/site-packages/iris/fileformats/_pyke_rules/compiled_krb/fc_rules_cf_fc.py:1196: UserWarning: Ignoring netCDF variable 'phytoplankton' invalid units 'millimole_nitrogen meter-3'\n",
        "  warnings.warn(msg.format(msg_name, msg_units))\n",
        "/home/filipe/miniconda/envs/ioos/lib/python2.7/site-packages/iris/fileformats/_pyke_rules/compiled_krb/fc_rules_cf_fc.py:1196: UserWarning: Ignoring netCDF variable 'NO3' invalid units 'millimole_N03 meter-3'\n",
        "  warnings.warn(msg.format(msg_name, msg_units))\n",
        "/home/filipe/miniconda/envs/ioos/lib/python2.7/site-packages/iris/fileformats/_pyke_rules/compiled_krb/fc_rules_cf_fc.py:1196: UserWarning: Ignoring netCDF variable 'zooplankton' invalid units 'millimole_nitrogen meter-3'\n",
        "  warnings.warn(msg.format(msg_name, msg_units))\n",
        "/home/filipe/miniconda/envs/ioos/lib/python2.7/site-packages/iris/fileformats/_pyke_rules/compiled_krb/fc_rules_cf_fc.py:1196: UserWarning: Ignoring netCDF variable 'NH4' invalid units 'millimole_NH4 meter-3'\n",
        "  warnings.warn(msg.format(msg_name, msg_units))\n"
       ]
      },
      {
       "output_type": "stream",
       "stream": "stdout",
       "text": [
        "\n",
        "Cannot get cube for: http://omgsrv1.meas.ncsu.edu:8080/thredds/dodsC/fmrc/sabgom/SABGOM_Forecast_Model_Run_Collection_best.ncd\n",
        "istart must be different from istop! Got istart 0 and  istop 0"
       ]
      },
      {
       "output_type": "stream",
       "stream": "stdout",
       "text": [
        "\n",
        "\n",
        "[Reading url 5/30]: http://oos.soest.hawaii.edu/thredds/dodsC/hioos/satellite/dhw\n",
        "\n",
        "[Reading url 6/30]: http://oos.soest.hawaii.edu/thredds/dodsC/pacioos/hycom/global"
       ]
      },
      {
       "output_type": "stream",
       "stream": "stdout",
       "text": [
        "\n",
        "Cannot get cube for: http://oos.soest.hawaii.edu/thredds/dodsC/pacioos/hycom/global\n",
        "The points array must be strictly monotonic."
       ]
      },
      {
       "output_type": "stream",
       "stream": "stdout",
       "text": [
        "\n",
        "\n",
        "[Reading url 7/30]: http://tds.marine.rutgers.edu/thredds/dodsC/roms/espresso/2013_da/his_Best/ESPRESSO_Real-Time_v2_History_Best_Available_best.ncd\n",
        "\n",
        "[Reading url 8/30]: http://thredds.cdip.ucsd.edu/thredds/dodsC/cdip/archive/029p1/029p1_d19.nc"
       ]
      },
      {
       "output_type": "stream",
       "stream": "stdout",
       "text": [
        "\n",
        "Cannot get cube for: http://thredds.cdip.ucsd.edu/thredds/dodsC/cdip/archive/029p1/029p1_d19.nc\n",
        "No cube using [-87.4, 24.25, -74.7, 36.7]"
       ]
      },
      {
       "output_type": "stream",
       "stream": "stdout",
       "text": [
        "\n",
        "\n",
        "[Reading url 9/30]: http://thredds.cdip.ucsd.edu/thredds/dodsC/cdip/archive/029p1/029p1_historic.nc\n",
        "Cannot get cube for: http://thredds.cdip.ucsd.edu/thredds/dodsC/cdip/archive/029p1/029p1_historic.nc\n",
        "No cube using [-87.4, 24.25, -74.7, 36.7]"
       ]
      },
      {
       "output_type": "stream",
       "stream": "stdout",
       "text": [
        "\n",
        "\n",
        "[Reading url 10/30]: http://thredds.cdip.ucsd.edu/thredds/dodsC/cdip/archive/043p1/043p1_d16.nc\n",
        "Cannot get cube for: http://thredds.cdip.ucsd.edu/thredds/dodsC/cdip/archive/043p1/043p1_d16.nc\n",
        "No cube using [-87.4, 24.25, -74.7, 36.7]"
       ]
      },
      {
       "output_type": "stream",
       "stream": "stdout",
       "text": [
        "\n",
        "\n",
        "[Reading url 11/30]: http://thredds.cdip.ucsd.edu/thredds/dodsC/cdip/archive/045p1/045p1_historic.nc\n",
        "Cannot get cube for: http://thredds.cdip.ucsd.edu/thredds/dodsC/cdip/archive/045p1/045p1_historic.nc\n",
        "No cube using [-87.4, 24.25, -74.7, 36.7]"
       ]
      },
      {
       "output_type": "stream",
       "stream": "stdout",
       "text": [
        "\n",
        "\n",
        "[Reading url 12/30]: http://thredds.cdip.ucsd.edu/thredds/dodsC/cdip/archive/067p1/067p1_d22.nc\n",
        "Cannot get cube for: http://thredds.cdip.ucsd.edu/thredds/dodsC/cdip/archive/067p1/067p1_d22.nc\n",
        "No cube using [-87.4, 24.25, -74.7, 36.7]"
       ]
      },
      {
       "output_type": "stream",
       "stream": "stderr",
       "text": [
        "/home/filipe/miniconda/envs/ioos/lib/python2.7/site-packages/iris/fileformats/_pyke_rules/compiled_krb/fc_rules_cf_fc.py:1196: UserWarning: Ignoring netCDF variable 'surface_flag' invalid units 'none'\n",
        "  warnings.warn(msg.format(msg_name, msg_units))\n",
        "/home/filipe/miniconda/envs/ioos/lib/python2.7/site-packages/iris/fileformats/_pyke_rules/compiled_krb/fc_rules_cf_fc.py:1359: UserWarning: Failed to create 'waveTime' dimension coordinate: The points array must be strictly monotonic.\n",
        "Gracefully creating 'waveTime' auxiliary coordinate instead.\n",
        "  error=e_msg))\n"
       ]
      },
      {
       "output_type": "stream",
       "stream": "stderr",
       "text": [
        "/home/filipe/miniconda/envs/ioos/lib/python2.7/site-packages/iris/fileformats/_pyke_rules/compiled_krb/fc_rules_cf_fc.py:1359: UserWarning: Failed to create 'sstTime' dimension coordinate: The points array must be strictly monotonic.\n",
        "Gracefully creating 'sstTime' auxiliary coordinate instead.\n",
        "  error=e_msg))\n",
        "/home/filipe/miniconda/envs/ioos/lib/python2.7/site-packages/iris/fileformats/_pyke_rules/compiled_krb/fc_rules_cf_fc.py:1359: UserWarning: Failed to create 'dwrTime' dimension coordinate: The points array must be strictly monotonic.\n",
        "Gracefully creating 'dwrTime' auxiliary coordinate instead.\n",
        "  error=e_msg))\n"
       ]
      },
      {
       "output_type": "stream",
       "stream": "stdout",
       "text": [
        "\n",
        "\n",
        "[Reading url 13/30]: http://thredds.cdip.ucsd.edu/thredds/dodsC/cdip/archive/067p1/067p1_historic.nc\n",
        "Cannot get cube for: http://thredds.cdip.ucsd.edu/thredds/dodsC/cdip/archive/067p1/067p1_historic.nc\n",
        "No cube using [-87.4, 24.25, -74.7, 36.7]"
       ]
      },
      {
       "output_type": "stream",
       "stream": "stdout",
       "text": [
        "\n",
        "\n",
        "[Reading url 14/30]: http://thredds.cdip.ucsd.edu/thredds/dodsC/cdip/archive/076p1/076p1_d27.nc\n",
        "Cannot get cube for: http://thredds.cdip.ucsd.edu/thredds/dodsC/cdip/archive/076p1/076p1_d27.nc\n",
        "No cube using [-87.4, 24.25, -74.7, 36.7]"
       ]
      },
      {
       "output_type": "stream",
       "stream": "stdout",
       "text": [
        "\n",
        "\n",
        "[Reading url 15/30]: http://thredds.cdip.ucsd.edu/thredds/dodsC/cdip/archive/093p1/093p1_d40.nc\n",
        "Cannot get cube for: http://thredds.cdip.ucsd.edu/thredds/dodsC/cdip/archive/093p1/093p1_d40.nc\n",
        "No cube using [-87.4, 24.25, -74.7, 36.7]"
       ]
      },
      {
       "output_type": "stream",
       "stream": "stdout",
       "text": [
        "\n",
        "\n",
        "[Reading url 16/30]: http://thredds.cdip.ucsd.edu/thredds/dodsC/cdip/archive/098p1/098p1_historic.nc\n",
        "Cannot get cube for: http://thredds.cdip.ucsd.edu/thredds/dodsC/cdip/archive/098p1/098p1_historic.nc\n",
        "No cube using [-87.4, 24.25, -74.7, 36.7]"
       ]
      },
      {
       "output_type": "stream",
       "stream": "stdout",
       "text": [
        "\n",
        "\n",
        "[Reading url 17/30]: http://thredds.cdip.ucsd.edu/thredds/dodsC/cdip/archive/100p1/100p1_d13.nc\n",
        "Cannot get cube for: http://thredds.cdip.ucsd.edu/thredds/dodsC/cdip/archive/100p1/100p1_d13.nc\n",
        "No cube using [-87.4, 24.25, -74.7, 36.7]"
       ]
      },
      {
       "output_type": "stream",
       "stream": "stdout",
       "text": [
        "\n",
        "\n",
        "[Reading url 18/30]: http://thredds.cdip.ucsd.edu/thredds/dodsC/cdip/archive/100p1/100p1_historic.nc\n",
        "Cannot get cube for: http://thredds.cdip.ucsd.edu/thredds/dodsC/cdip/archive/100p1/100p1_historic.nc\n",
        "No cube using [-87.4, 24.25, -74.7, 36.7]"
       ]
      },
      {
       "output_type": "stream",
       "stream": "stdout",
       "text": [
        "\n",
        "\n",
        "[Reading url 19/30]: http://thredds.cdip.ucsd.edu/thredds/dodsC/cdip/archive/142p1/142p1_d14.nc\n",
        "Cannot get cube for: http://thredds.cdip.ucsd.edu/thredds/dodsC/cdip/archive/142p1/142p1_d14.nc\n",
        "No cube using [-87.4, 24.25, -74.7, 36.7]"
       ]
      },
      {
       "output_type": "stream",
       "stream": "stdout",
       "text": [
        "\n",
        "\n",
        "[Reading url 20/30]: http://thredds.cdip.ucsd.edu/thredds/dodsC/cdip/archive/142p1/142p1_historic.nc\n",
        "Cannot get cube for: http://thredds.cdip.ucsd.edu/thredds/dodsC/cdip/archive/142p1/142p1_historic.nc\n",
        "No cube using [-87.4, 24.25, -74.7, 36.7]"
       ]
      },
      {
       "output_type": "stream",
       "stream": "stdout",
       "text": [
        "\n",
        "\n",
        "[Reading url 21/30]: http://thredds.cdip.ucsd.edu/thredds/dodsC/cdip/archive/156p1/156p1_d07.nc\n",
        "Cannot get cube for: http://thredds.cdip.ucsd.edu/thredds/dodsC/cdip/archive/156p1/156p1_d07.nc\n",
        "No cube using [-87.4, 24.25, -74.7, 36.7]"
       ]
      },
      {
       "output_type": "stream",
       "stream": "stdout",
       "text": [
        "\n",
        "\n",
        "[Reading url 22/30]: http://thredds.cdip.ucsd.edu/thredds/dodsC/cdip/archive/168p1/168p1_d05.nc\n",
        "Cannot get cube for: http://thredds.cdip.ucsd.edu/thredds/dodsC/cdip/archive/168p1/168p1_d05.nc\n",
        "No cube using [-87.4, 24.25, -74.7, 36.7]"
       ]
      },
      {
       "output_type": "stream",
       "stream": "stdout",
       "text": [
        "\n",
        "\n",
        "[Reading url 23/30]: http://thredds.cdip.ucsd.edu/thredds/dodsC/cdip/archive/179p1/179p1_d04.nc\n",
        "Cannot get cube for: http://thredds.cdip.ucsd.edu/thredds/dodsC/cdip/archive/179p1/179p1_d04.nc\n",
        "No cube using [-87.4, 24.25, -74.7, 36.7]"
       ]
      },
      {
       "output_type": "stream",
       "stream": "stdout",
       "text": [
        "\n",
        "\n",
        "[Reading url 24/30]: http://thredds.cdip.ucsd.edu/thredds/dodsC/cdip/archive/185p1/185p1_d02.nc\n",
        "Cannot get cube for: http://thredds.cdip.ucsd.edu/thredds/dodsC/cdip/archive/185p1/185p1_d02.nc\n",
        "No cube using [-87.4, 24.25, -74.7, 36.7]"
       ]
      },
      {
       "output_type": "stream",
       "stream": "stdout",
       "text": [
        "\n",
        "\n",
        "[Reading url 25/30]: http://thredds.cdip.ucsd.edu/thredds/dodsC/cdip/archive/185p1/185p1_d03.nc\n",
        "Cannot get cube for: http://thredds.cdip.ucsd.edu/thredds/dodsC/cdip/archive/185p1/185p1_d03.nc\n",
        "No cube using [-87.4, 24.25, -74.7, 36.7]"
       ]
      },
      {
       "output_type": "stream",
       "stream": "stdout",
       "text": [
        "\n",
        "\n",
        "[Reading url 26/30]: http://thredds.cdip.ucsd.edu/thredds/dodsC/cdip/archive/190p1/190p1_d02.nc\n",
        "url http://thredds.cdip.ucsd.edu/thredds/dodsC/cdip/archive/190p1/190p1_d02.nc is probably a timeSeries!"
       ]
      },
      {
       "output_type": "stream",
       "stream": "stdout",
       "text": [
        "\n",
        "\n",
        "[Reading url 27/30]: http://thredds.cdip.ucsd.edu/thredds/dodsC/cdip/archive/190p1/190p1_historic.nc\n",
        "url http://thredds.cdip.ucsd.edu/thredds/dodsC/cdip/archive/190p1/190p1_historic.nc is probably a timeSeries!"
       ]
      },
      {
       "output_type": "stream",
       "stream": "stdout",
       "text": [
        "\n",
        "\n",
        "[Reading url 28/30]: http://thredds.cdip.ucsd.edu/thredds/dodsC/cdip/archive/191p1/191p1_d12.nc\n",
        "Cannot get cube for: http://thredds.cdip.ucsd.edu/thredds/dodsC/cdip/archive/191p1/191p1_d12.nc\n",
        "No cube using [-87.4, 24.25, -74.7, 36.7]"
       ]
      },
      {
       "output_type": "stream",
       "stream": "stdout",
       "text": [
        "\n",
        "\n",
        "[Reading url 29/30]: http://thredds.cdip.ucsd.edu/thredds/dodsC/cdip/archive/203p1/203p1_d01.nc\n",
        "Cannot get cube for: http://thredds.cdip.ucsd.edu/thredds/dodsC/cdip/archive/203p1/203p1_d01.nc\n",
        "No cube using [-87.4, 24.25, -74.7, 36.7]"
       ]
      },
      {
       "output_type": "stream",
       "stream": "stdout",
       "text": [
        "\n",
        "\n",
        "[Reading url 30/30]: http://omgsrv1.meas.ncsu.edu:8080/thredds/dodsC/fmrc/us_east/US_East_Forecast_Model_Run_Collection_best.ncd\n",
        "Cannot get cube for: http://omgsrv1.meas.ncsu.edu:8080/thredds/dodsC/fmrc/us_east/US_East_Forecast_Model_Run_Collection_best.ncd\n",
        "istart must be different from istop! Got istart 0 and  istop 0"
       ]
      },
      {
       "output_type": "stream",
       "stream": "stdout",
       "text": [
        "\n"
       ]
      }
     ],
     "prompt_number": 14
    },
    {
     "cell_type": "code",
     "collapsed": false,
     "input": [
      "from iris.pandas import as_series\n",
      "\n",
      "from utilities import (standardize_fill_value,\n",
      "                       make_tree, get_nearest_water,\n",
      "                       add_station, ensure_timeseries, remove_ssh)\n",
      "\n",
      "for mod_name, cube in cubes.items():\n",
      "    fname = '{:%Y-%m-%d}-{}.nc'.format(stop, mod_name)\n",
      "    fname = os.path.join(directory, fname)\n",
      "    print(fmt(' Downloading to file {} '.format(fname)))\n",
      "    try:  # Make tree.\n",
      "        tree, lon, lat = make_tree(cube)\n",
      "    except CoordinateNotFoundError as e:\n",
      "        print('Cannot make KDTree for: {}'.format(mod_name))\n",
      "        continue\n",
      "    # Get model series at observed locations.\n",
      "    raw_series = dict()\n",
      "    for station, obs in observations.iterrows():\n",
      "        a = obs_data[obs['station']]\n",
      "        try:\n",
      "            kw = dict(k=10, max_dist=0.04, min_var=0.01)\n",
      "            args = cube, tree, obs.lon, obs.lat\n",
      "            series, dist, idx = get_nearest_water(*args, **kw)\n",
      "        # RuntimeError may occurs, but you should run it again!\n",
      "        except ValueError as e:\n",
      "            print(e)\n",
      "            continue\n",
      "        if not series:\n",
      "            status = \"Found Land\"\n",
      "        else:\n",
      "            raw_series.update({obs['station']: series})\n",
      "            series = as_series(series)\n",
      "            status = \"Found Water\"\n",
      "\n",
      "        print('[{}] {}'.format(status, obs.name))\n",
      "\n",
      "    if raw_series:  # Save cube.\n",
      "        for station, cube in raw_series.items():\n",
      "            cube = standardize_fill_value(cube)\n",
      "            cube = add_station(cube, station)\n",
      "            cube = remove_ssh(cube)\n",
      "        try:\n",
      "            cube = iris.cube.CubeList(raw_series.values()).merge_cube()\n",
      "        except MergeError as e:\n",
      "            print(e)\n",
      "\n",
      "        ensure_timeseries(cube)\n",
      "        iris.save(cube, fname)\n",
      "        del cube\n",
      "        \n",
      "    print('[{}]: {}'.format(mod_name, url))"
     ],
     "language": "python",
     "metadata": {},
     "outputs": [
      {
       "output_type": "stream",
       "stream": "stdout",
       "text": [
        "******* Downloading to file 2014-07-07/2014-07-07-USF.nc *******\n",
        "No data found for (-75.7467,36.1833) using max_dist=0.04."
       ]
      },
      {
       "output_type": "stream",
       "stream": "stdout",
       "text": [
        "\n",
        "No data found for (-75.5483,35.795) using max_dist=0.04.\n",
        "No data found for (-75.7042,35.2086) using max_dist=0.04.\n",
        "No data found for (-76.67,34.72) using max_dist=0.04."
       ]
      },
      {
       "output_type": "stream",
       "stream": "stdout",
       "text": [
        "\n",
        "No data found for (-77.9533,34.2267) using max_dist=0.04.\n",
        "No data found for (-77.7867,34.2133) using max_dist=0.04.\n",
        "No data found for (-78.9183,33.655) using max_dist=0.04.\n",
        "No data found for (-79.925,32.7817) using max_dist=0.04.\n",
        "No data found for (-80.9017,32.0333) using max_dist=0.04.\n",
        "No data found for (-81.465,30.6717) using max_dist=0.04.\n",
        "No data found for (-81.43,30.3967) using max_dist=0.04.\n",
        "No data found for (-81.5583,30.3867) using max_dist=0.04.\n",
        "No data found for (-81.6118,30.3541) using max_dist=0.04.\n",
        "No data found for (-81.6917,30.1917) using max_dist=0.04.\n",
        "No data found for (-81.6283,29.9783) using max_dist=0.04.\n",
        "No data found for (-81.5483,29.8017) using max_dist=0.04.\n",
        "No data found for (-80.5931,28.4158) using max_dist=0.04.\n",
        "No data found for (-80.0333,26.6117) using max_dist=0.04.\n",
        "No data found for (-81.105,24.7117) using max_dist=0.04.\n",
        "No data found for (-81.8079,24.5557) using max_dist=0.04.\n",
        "[Found Water] Naples, FL"
       ]
      },
      {
       "output_type": "stream",
       "stream": "stdout",
       "text": [
        "\n",
        "[Found Water] Fort Myers, FL"
       ]
      },
      {
       "output_type": "stream",
       "stream": "stdout",
       "text": [
        "\n",
        "[Found Water] Port Manatee, FL"
       ]
      },
      {
       "output_type": "stream",
       "stream": "stdout",
       "text": [
        "\n",
        "No data found for (-82.6269,27.7606) using max_dist=0.04.\n",
        "[Found Water] Old Port Tampa, FL"
       ]
      },
      {
       "output_type": "stream",
       "stream": "stdout",
       "text": [
        "\n",
        "[Found Water] Apalachicola, FL"
       ]
      },
      {
       "output_type": "stream",
       "stream": "stdout",
       "text": [
        "\n",
        "[Found Water] Panama City, FL"
       ]
      },
      {
       "output_type": "stream",
       "stream": "stdout",
       "text": [
        "\n",
        "[Found Water] Panama City Beach, FL"
       ]
      },
      {
       "output_type": "stream",
       "stream": "stdout",
       "text": [
        "\n",
        "No data found for (-87.2112,30.4044) using max_dist=0.04.\n",
        "[USF]: http://omgsrv1.meas.ncsu.edu:8080/thredds/dodsC/fmrc/us_east/US_East_Forecast_Model_Run_Collection_best.ncd"
       ]
      },
      {
       "output_type": "stream",
       "stream": "stdout",
       "text": [
        "\n",
        "**** Downloading to file 2014-07-07/2014-07-07-COAWST_4.nc *****\n",
        "[Found Land] Duck, NC"
       ]
      },
      {
       "output_type": "stream",
       "stream": "stdout",
       "text": [
        "\n",
        "[Found Water] Oregon Inlet Marina, NC"
       ]
      },
      {
       "output_type": "stream",
       "stream": "stdout",
       "text": [
        "\n",
        "[Found Water] USCG Station Hatteras, NC"
       ]
      },
      {
       "output_type": "stream",
       "stream": "stdout",
       "text": [
        "\n",
        "[Found Land] Beaufort, NC"
       ]
      },
      {
       "output_type": "stream",
       "stream": "stdout",
       "text": [
        "\n",
        "[Found Land] Wilmington, NC"
       ]
      },
      {
       "output_type": "stream",
       "stream": "stdout",
       "text": [
        "\n",
        "[Found Water] Wrightsville Beach, NC"
       ]
      },
      {
       "output_type": "stream",
       "stream": "stdout",
       "text": [
        "\n",
        "[Found Water] Springmaid Pier, SC"
       ]
      },
      {
       "output_type": "stream",
       "stream": "stdout",
       "text": [
        "\n",
        "[Found Land] Charleston, SC"
       ]
      },
      {
       "output_type": "stream",
       "stream": "stdout",
       "text": [
        "\n",
        "[Found Land] Fort Pulaski, GA"
       ]
      },
      {
       "output_type": "stream",
       "stream": "stdout",
       "text": [
        "\n",
        "[Found Land] Fernandina Beach, FL"
       ]
      },
      {
       "output_type": "stream",
       "stream": "stdout",
       "text": [
        "\n",
        "[Found Land] Mayport (Bar Pilots Dock), FL"
       ]
      },
      {
       "output_type": "stream",
       "stream": "stdout",
       "text": [
        "\n",
        "[Found Land] Dames Point, FL"
       ]
      },
      {
       "output_type": "stream",
       "stream": "stdout",
       "text": [
        "\n",
        "[Found Land] Jacksonville University, FL"
       ]
      },
      {
       "output_type": "stream",
       "stream": "stdout",
       "text": [
        "\n",
        "[Found Land] I-295 Bridge, St Johns River, FL"
       ]
      },
      {
       "output_type": "stream",
       "stream": "stdout",
       "text": [
        "\n",
        "[Found Land] Red Bay Point, St Johns River, FL"
       ]
      },
      {
       "output_type": "stream",
       "stream": "stdout",
       "text": [
        "\n",
        "[Found Land] Racy Point, St Johns River, FL"
       ]
      },
      {
       "output_type": "stream",
       "stream": "stdout",
       "text": [
        "\n",
        "[Found Land] Trident Pier, FL"
       ]
      },
      {
       "output_type": "stream",
       "stream": "stdout",
       "text": [
        "\n",
        "[Found Water] Lake Worth Pier, FL"
       ]
      },
      {
       "output_type": "stream",
       "stream": "stdout",
       "text": [
        "\n",
        "[Found Land] Vaca Key, FL"
       ]
      },
      {
       "output_type": "stream",
       "stream": "stdout",
       "text": [
        "\n",
        "[Found Water] Key West, FL"
       ]
      },
      {
       "output_type": "stream",
       "stream": "stdout",
       "text": [
        "\n",
        "[Found Land] Naples, FL"
       ]
      },
      {
       "output_type": "stream",
       "stream": "stdout",
       "text": [
        "\n",
        "[Found Land] Fort Myers, FL"
       ]
      },
      {
       "output_type": "stream",
       "stream": "stdout",
       "text": [
        "\n",
        "[Found Land] Port Manatee, FL"
       ]
      },
      {
       "output_type": "stream",
       "stream": "stdout",
       "text": [
        "\n",
        "[Found Land] St Petersburg, FL"
       ]
      },
      {
       "output_type": "stream",
       "stream": "stdout",
       "text": [
        "\n",
        "[Found Water] Old Port Tampa, FL"
       ]
      },
      {
       "output_type": "stream",
       "stream": "stdout",
       "text": [
        "\n",
        "[Found Water] Apalachicola, FL"
       ]
      },
      {
       "output_type": "stream",
       "stream": "stdout",
       "text": [
        "\n",
        "[Found Water] Panama City, FL"
       ]
      },
      {
       "output_type": "stream",
       "stream": "stdout",
       "text": [
        "\n",
        "[Found Land] Panama City Beach, FL"
       ]
      },
      {
       "output_type": "stream",
       "stream": "stdout",
       "text": [
        "\n",
        "[Found Water] Pensacola, FL"
       ]
      },
      {
       "output_type": "stream",
       "stream": "stdout",
       "text": [
        "\n",
        "[COAWST_4]: http://omgsrv1.meas.ncsu.edu:8080/thredds/dodsC/fmrc/us_east/US_East_Forecast_Model_Run_Collection_best.ncd"
       ]
      },
      {
       "output_type": "stream",
       "stream": "stdout",
       "text": [
        "\n",
        "**** Downloading to file 2014-07-07/2014-07-07-ESPRESSO.nc *****\n",
        "[Found Land] Duck, NC"
       ]
      },
      {
       "output_type": "stream",
       "stream": "stdout",
       "text": [
        "\n",
        "[Found Water] Oregon Inlet Marina, NC"
       ]
      },
      {
       "output_type": "stream",
       "stream": "stdout",
       "text": [
        "\n",
        "[Found Land] USCG Station Hatteras, NC"
       ]
      },
      {
       "output_type": "stream",
       "stream": "stdout",
       "text": [
        "\n",
        "[Found Water] Beaufort, NC"
       ]
      },
      {
       "output_type": "stream",
       "stream": "stdout",
       "text": [
        "\n",
        "No data found for (-77.9533,34.2267) using max_dist=0.04.\n",
        "No data found for (-77.7867,34.2133) using max_dist=0.04.\n",
        "No data found for (-78.9183,33.655) using max_dist=0.04.\n",
        "No data found for (-79.925,32.7817) using max_dist=0.04.\n",
        "No data found for (-80.9017,32.0333) using max_dist=0.04.\n",
        "No data found for (-81.465,30.6717) using max_dist=0.04.\n",
        "No data found for (-81.43,30.3967) using max_dist=0.04.\n",
        "No data found for (-81.5583,30.3867) using max_dist=0.04.\n",
        "No data found for (-81.6118,30.3541) using max_dist=0.04.\n",
        "No data found for (-81.6917,30.1917) using max_dist=0.04.\n",
        "No data found for (-81.6283,29.9783) using max_dist=0.04.\n",
        "No data found for (-81.5483,29.8017) using max_dist=0.04.\n",
        "No data found for (-80.5931,28.4158) using max_dist=0.04.\n",
        "No data found for (-80.0333,26.6117) using max_dist=0.04.\n",
        "No data found for (-81.105,24.7117) using max_dist=0.04.\n",
        "No data found for (-81.8079,24.5557) using max_dist=0.04.\n",
        "No data found for (-81.8075,26.1317) using max_dist=0.04.\n",
        "No data found for (-81.8712,26.6477) using max_dist=0.04.\n",
        "No data found for (-82.5621,27.6387) using max_dist=0.04.\n",
        "No data found for (-82.6269,27.7606) using max_dist=0.04.\n",
        "No data found for (-82.5527,27.8578) using max_dist=0.04.\n",
        "No data found for (-84.9817,29.7267) using max_dist=0.04."
       ]
      },
      {
       "output_type": "stream",
       "stream": "stdout",
       "text": [
        "\n",
        "No data found for (-85.6669,30.1523) using max_dist=0.04.\n",
        "No data found for (-85.8783,30.2133) using max_dist=0.04.\n",
        "No data found for (-87.2112,30.4044) using max_dist=0.04.\n",
        "[ESPRESSO]: http://omgsrv1.meas.ncsu.edu:8080/thredds/dodsC/fmrc/us_east/US_East_Forecast_Model_Run_Collection_best.ncd"
       ]
      },
      {
       "output_type": "stream",
       "stream": "stdout",
       "text": [
        "\n",
        " Downloading to file 2014-07-07/2014-07-07-NECOFS_GOM3_WAVE.nc *\n",
        "No data found for (-75.7467,36.1833) using max_dist=0.04.\n",
        "No data found for (-75.5483,35.795) using max_dist=0.04.\n",
        "No data found for (-75.7042,35.2086) using max_dist=0.04.\n",
        "No data found for (-76.67,34.72) using max_dist=0.04.\n",
        "No data found for (-77.9533,34.2267) using max_dist=0.04.\n",
        "No data found for (-77.7867,34.2133) using max_dist=0.04.\n",
        "No data found for (-78.9183,33.655) using max_dist=0.04.\n",
        "No data found for (-79.925,32.7817) using max_dist=0.04.\n",
        "No data found for (-80.9017,32.0333) using max_dist=0.04.\n",
        "No data found for (-81.465,30.6717) using max_dist=0.04.\n",
        "No data found for (-81.43,30.3967) using max_dist=0.04.\n",
        "No data found for (-81.5583,30.3867) using max_dist=0.04.\n",
        "No data found for (-81.6118,30.3541) using max_dist=0.04.\n",
        "No data found for (-81.6917,30.1917) using max_dist=0.04.\n",
        "No data found for (-81.6283,29.9783) using max_dist=0.04.\n",
        "No data found for (-81.5483,29.8017) using max_dist=0.04.\n",
        "No data found for (-80.5931,28.4158) using max_dist=0.04.\n",
        "No data found for (-80.0333,26.6117) using max_dist=0.04.\n",
        "No data found for (-81.105,24.7117) using max_dist=0.04.\n",
        "No data found for (-81.8079,24.5557) using max_dist=0.04.\n",
        "No data found for (-81.8075,26.1317) using max_dist=0.04.\n",
        "No data found for (-81.8712,26.6477) using max_dist=0.04.\n",
        "No data found for (-82.5621,27.6387) using max_dist=0.04.\n",
        "No data found for (-82.6269,27.7606) using max_dist=0.04.\n",
        "No data found for (-82.5527,27.8578) using max_dist=0.04.\n",
        "No data found for (-84.9817,29.7267) using max_dist=0.04.\n",
        "No data found for (-85.6669,30.1523) using max_dist=0.04.\n",
        "No data found for (-85.8783,30.2133) using max_dist=0.04.\n",
        "No data found for (-87.2112,30.4044) using max_dist=0.04."
       ]
      },
      {
       "output_type": "stream",
       "stream": "stdout",
       "text": [
        "\n",
        "[NECOFS_GOM3_WAVE]: http://omgsrv1.meas.ncsu.edu:8080/thredds/dodsC/fmrc/us_east/US_East_Forecast_Model_Run_Collection_best.ncd\n"
       ]
      }
     ],
     "prompt_number": 15
    },
    {
     "cell_type": "markdown",
     "metadata": {},
     "source": [
      "#### Load saved files and interpolate to the observations time interval"
     ]
    },
    {
     "cell_type": "code",
     "collapsed": false,
     "input": [
      "from glob import glob\n",
      "from operator import itemgetter\n",
      "\n",
      "from pandas import Panel\n",
      "from utilities import nc2df\n",
      "\n",
      "fname = '{}-OBS_DATA.nc'.format(directory)\n",
      "fname = os.path.join(directory, fname)\n",
      "OBS_DATA = nc2df(fname)\n",
      "index = OBS_DATA.index\n",
      "\n",
      "dfs = dict(OBS_DATA=OBS_DATA)\n",
      "for fname in glob(os.path.join(directory, \"*.nc\")):\n",
      "    if 'OBS_DATA' in fname:\n",
      "        continue\n",
      "    else:\n",
      "        model = fname.split('.')[0].split('-')[-1]\n",
      "        df = nc2df(fname)\n",
      "        kw = dict(method='time', limit=30)\n",
      "        df = df.reindex(index).interpolate(**kw).ix[index]\n",
      "        dfs.update({model: df})\n",
      "\n",
      "dfs = Panel.fromDict(dfs).swapaxes(0, 2)\n",
      "\n",
      "# Clusters.\n",
      "big_list = []\n",
      "for fname in glob(os.path.join(directory, \"*.nc\")):\n",
      "    if 'OBS_DATA' in fname:\n",
      "        continue\n",
      "    nc = iris.load_cube(fname)\n",
      "    model = fname.split('-')[-1].split('.')[0]\n",
      "    lons = nc.coord(axis='X').points\n",
      "    lats = nc.coord(axis='Y').points\n",
      "    stations = nc.coord('station name').points\n",
      "    models = [model]*lons.size\n",
      "    lista = zip(models, lons.tolist(), lats.tolist(), stations.tolist())\n",
      "    big_list.extend(lista)\n",
      "\n",
      "big_list.sort(key=itemgetter(3))\n",
      "df = DataFrame(big_list, columns=['name', 'lon', 'lat', 'station'])\n",
      "df.set_index('station', drop=True, inplace=True)\n",
      "groups = df.groupby(df.index)"
     ],
     "language": "python",
     "metadata": {},
     "outputs": [],
     "prompt_number": 16
    },
    {
     "cell_type": "code",
     "collapsed": false,
     "input": [
      "import vincent\n",
      "from utilities import inline_map, make_map\n",
      "\n",
      "temperature = make_map(bbox, line=True, states=False)\n",
      "\n",
      "# Clusters.\n",
      "for station, info in groups:\n",
      "    station = get_coops_longname(station)\n",
      "    for lat, lon, name in zip(info.lat, info.lon, info.name):\n",
      "        location = lat, lon\n",
      "        popup = '<b>{}</b>\\n{}'.format(station, name)\n",
      "        temperature.simple_marker(location=location, popup=popup,\n",
      "                                  clustered_marker=True)\n",
      "\n",
      "# Model and observations.\n",
      "for station in dfs:\n",
      "    sta_name = get_coops_longname(station)\n",
      "    df = dfs[station].dropna(axis=1, how='all')\n",
      "    # FIXME: This is bad!  But I cannot represent NaN with Vega!\n",
      "    df.fillna(value='null', inplace=True)\n",
      "    vis = vincent.Line(df, width=500, height=150)\n",
      "    vis.axis_titles(x='Time', y='Sea surface Temperature (celsius)')\n",
      "    vis.legend(title=sta_name)\n",
      "    vis.name = sta_name\n",
      "    vis.scales[0].zero = False\n",
      "    vis.scales[1].zero = False\n",
      "    json = 'station_{}.json'.format(station)\n",
      "    vis.to_json(os.path.join(directory, json))\n",
      "    obs = observations[observations['station'] == station].squeeze()\n",
      "    popup = (vis, json)\n",
      "    if (df.columns == 'OBS_DATA').all():\n",
      "        kw = dict(popup=popup, marker_color=\"blue\", marker_icon=\"ok\")\n",
      "    else:\n",
      "        if 'SABGOM' in df.columns or 'USEAST' in df.columns:\n",
      "            kw = dict(popup=popup, marker_color=\"green\", marker_icon=\"ok-sign\")\n",
      "        else:\n",
      "            kw = dict(popup=popup, marker_color=\"green\", marker_icon=\"ok\")\n",
      "    temperature.simple_marker(location=[obs['lat'], obs['lon']], **kw)\n",
      "\n",
      "# Bad stations.\n",
      "if isinstance(bad_station, DataFrame):\n",
      "    for station, obs in bad_station.iterrows():\n",
      "        popup = '<b>Station:</b> {}'\n",
      "        popup = popup.format(station)\n",
      "        kw = dict(popup=popup, marker_color=\"red\", marker_icon=\"question-sign\")\n",
      "        temperature.simple_marker(location=[obs['lat'], obs['lon']], **kw)"
     ],
     "language": "python",
     "metadata": {},
     "outputs": [
      {
       "output_type": "stream",
       "stream": "stderr",
       "text": [
        "-c:20: SettingWithCopyWarning: A value is trying to be set on a copy of a slice from a DataFrame\n"
       ]
      }
     ],
     "prompt_number": 17
    },
    {
     "cell_type": "code",
     "collapsed": false,
     "input": [
      "temperature.create_map(path=os.path.join(directory, 'temperature.html'))\n",
      "inline_map(os.path.join(directory, 'temperature.html'))"
     ],
     "language": "python",
     "metadata": {},
     "outputs": [
      {
       "html": [
        "\n",
        "        <iframe\n",
        "            width=\"750\"\n",
        "            height=500\"\n",
        "            src=\"2014-07-07/temperature.html\"\n",
        "            frameborder=\"0\"\n",
        "            allowfullscreen\n",
        "        ></iframe>\n",
        "        "
       ],
       "metadata": {},
       "output_type": "pyout",
       "prompt_number": 18,
       "text": [
        "<IPython.lib.display.IFrame at 0x7f8d3b3c2210>"
       ]
      }
     ],
     "prompt_number": 18
    },
    {
     "cell_type": "code",
     "collapsed": false,
     "input": [
      "elapsed = time.time() - start_time\n",
      "print('{:.2f} minutes'.format(elapsed/60.))"
     ],
     "language": "python",
     "metadata": {},
     "outputs": [
      {
       "output_type": "stream",
       "stream": "stdout",
       "text": [
        "23.03 minutes\n"
       ]
      }
     ],
     "prompt_number": 19
    }
   ],
   "metadata": {}
  }
 ]
}