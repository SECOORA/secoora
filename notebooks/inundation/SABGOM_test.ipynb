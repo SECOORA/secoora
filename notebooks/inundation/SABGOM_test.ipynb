{
 "metadata": {
  "name": "",
  "signature": "sha256:1beb8698bb20946e2f24f96e9ccf6378adc3759ccbb701582cd4413c2eb0f334"
 },
 "nbformat": 3,
 "nbformat_minor": 0,
 "worksheets": [
  {
   "cells": [
    {
     "cell_type": "markdown",
     "metadata": {},
     "source": [
      "<font color='red'>Cannot use now, dates are a few days behind:</font>"
     ]
    },
    {
     "cell_type": "code",
     "collapsed": false,
     "input": [
      "from netCDF4 import Dataset, num2date\n",
      "\n",
      "sabgom = 'http://omgsrv1.meas.ncsu.edu:8080/thredds/dodsC/fmrc/sabgom/'\n",
      "sabgom += 'SABGOM_Forecast_Model_Run_Collection_best.ncd'\n",
      "\n",
      "with Dataset(sabgom) as nc:\n",
      "    ocean_time = nc.variables['ocean_time']\n",
      "    time = num2date(ocean_time[:], ocean_time.units)\n",
      "    print('Model date range is from %s to %s' % (time[0], time[-1]))"
     ],
     "language": "python",
     "metadata": {},
     "outputs": [
      {
       "output_type": "stream",
       "stream": "stdout",
       "text": [
        "Model date range is from 2014-05-29 15:00:00 to 2014-06-03 12:00:00\n"
       ]
      }
     ],
     "prompt_number": 1
    },
    {
     "cell_type": "markdown",
     "metadata": {},
     "source": [
      "<font color='red'>Cannot load using standard names:</font>"
     ]
    },
    {
     "cell_type": "code",
     "collapsed": false,
     "input": [
      "import iris\n",
      "from iris.exceptions import ConstraintMismatchError\n",
      "iris.FUTURE.netcdf_promote = True\n",
      "\n",
      "name_list = ['water level',\n",
      "             'sea_surface_height',\n",
      "             'sea_surface_elevation',\n",
      "             'sea_surface_height_above_geoid',\n",
      "             'sea_surface_height_above_sea_level',\n",
      "             'water_surface_height_above_reference_datum',\n",
      "             'sea_surface_height_above_reference_ellipsoid']\n",
      "\n",
      "name_in_list = lambda cube: cube.standard_name in name_list\n",
      "constraint = iris.Constraint(cube_func=name_in_list)\n",
      "\n",
      "import warnings\n",
      "with warnings.catch_warnings():\n",
      "    # Less noise and more attetion to the issue!\n",
      "    warnings.simplefilter(\"ignore\")\n",
      "    try:\n",
      "        cube = iris.load_cube(sabgom, constraint)\n",
      "    except ConstraintMismatchError as e:\n",
      "        print(e)\n",
      "    "
     ],
     "language": "python",
     "metadata": {},
     "outputs": [
      {
       "output_type": "stream",
       "stream": "stdout",
       "text": [
        "no cubes found\n"
       ]
      }
     ],
     "prompt_number": 2
    },
    {
     "cell_type": "markdown",
     "metadata": {},
     "source": [
      "<font color='red'>Here is CF-checker output:</font>"
     ]
    },
    {
     "cell_type": "code",
     "collapsed": false,
     "input": [
      "from tempfile import NamedTemporaryFile\n",
      "from sh import ncdump, ncgen, cfchecker\n",
      "\n",
      "def call_cf_checker(url):\n",
      "    cdl = ncdump('-h', url)\n",
      "    if cdl.exit_code == 0:\n",
      "        with NamedTemporaryFile(suffix='.cdl') as cdl_file:\n",
      "            cdl_file.write(cdl.stdout)\n",
      "            cdl_file.flush()\n",
      "            with NamedTemporaryFile(suffix='.nc') as nc_file:\n",
      "                out = ncgen('-x', cdl_file.name, o=nc_file.name, _ok_code=1)\n",
      "                if out.exit_code == 0:\n",
      "                    out = cfchecker(nc_file.name, _ok_code=1)\n",
      "    return cdl, out"
     ],
     "language": "python",
     "metadata": {},
     "outputs": [],
     "prompt_number": 3
    },
    {
     "cell_type": "code",
     "collapsed": false,
     "input": [
      "cdl, out = call_cf_checker(sabgom)\n",
      "\n",
      "print('CF Checker:\\n%s\\nCF Error:\\n%s' % (out.stdout, out.stderr))"
     ],
     "language": "python",
     "metadata": {},
     "outputs": [
      {
       "output_type": "stream",
       "stream": "stdout",
       "text": [
        "CF Checker:\n",
        "\n",
        "CF Error:\n",
        "ncgen: NetCDF: One or more variable sizes violate format constraints\n",
        "\t(genbin.c:158)\n",
        "\n"
       ]
      }
     ],
     "prompt_number": 4
    },
    {
     "cell_type": "code",
     "collapsed": false,
     "input": [
      "for line in cdl.stdout.split('\\n'):\n",
      "    if 'zeta' in line:\n",
      "        print(line.strip())"
     ],
     "language": "python",
     "metadata": {},
     "outputs": [
      {
       "output_type": "stream",
       "stream": "stdout",
       "text": [
        "float zeta(time, eta_rho, xi_rho) ;\n",
        "zeta:units = \"meter\" ;\n",
        "zeta:long_name = \"free-surface\" ;\n",
        "zeta:time = \"ocean_time\" ;\n",
        "zeta:coordinates = \"time_run time lat_rho lon_rho \" ;\n",
        "zeta:field = \"free-surface, scalar, series\" ;\n",
        "zeta:_FillValue = 0.f ;\n",
        "s_rho:formula_terms = \"s: s_rho C: Cs_r eta: zeta depth: h depth_c: hc\" ;\n",
        "s_w:formula_terms = \"s: s_w C: Cs_w eta: zeta depth: h depth_c: hc\" ;\n"
       ]
      }
     ],
     "prompt_number": 5
    },
    {
     "cell_type": "markdown",
     "metadata": {},
     "source": [
      "<font color='red'>Example of a \"healthy\" url:</font>"
     ]
    },
    {
     "cell_type": "code",
     "collapsed": false,
     "input": [
      "espresso = 'http://tds.marine.rutgers.edu/thredds/dodsC/roms/espresso/2013_da/his_Best/'\n",
      "espresso +='ESPRESSO_Real-Time_v2_History_Best_Available_best.ncd'\n",
      "\n",
      "cdl, out = call_cf_checker(espresso)\n",
      "\n",
      "for line in cdl.stdout.split('\\n'):\n",
      "    if 'zeta' in line:\n",
      "        print(line.strip())"
     ],
     "language": "python",
     "metadata": {},
     "outputs": [
      {
       "output_type": "stream",
       "stream": "stdout",
       "text": [
        "float zeta(time, eta_rho, xi_rho) ;\n",
        "zeta:units = \"meter\" ;\n",
        "zeta:long_name = \"free-surface\" ;\n",
        "zeta:time = \"ocean_time\" ;\n",
        "zeta:coordinates = \"time_run time lat_rho lon_rho \" ;\n",
        "zeta:field = \"free-surface, scalar, series\" ;\n",
        "zeta:_FillValue = 1.e+37f ;\n",
        "zeta:_ChunkSize = 1, 82, 130 ;\n",
        "zeta:standard_name = \"sea_surface_height\" ;\n",
        "s_rho:formula_terms = \"s: s_rho C: Cs_r eta: zeta depth: h depth_c: hc\" ;\n",
        "s_w:formula_terms = \"s: s_w C: Cs_w eta: zeta depth: h depth_c: hc\" ;\n"
       ]
      }
     ],
     "prompt_number": 6
    }
   ],
   "metadata": {}
  }
 ]
}