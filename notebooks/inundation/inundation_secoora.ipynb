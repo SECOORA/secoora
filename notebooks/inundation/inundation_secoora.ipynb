{
 "metadata": {
  "name": "",
  "signature": "sha256:2bf98dfe2ffe690c7f5d2a89d80c7346de7991da0822141e06a3143e65e20d43"
 },
 "nbformat": 3,
 "nbformat_minor": 0,
 "worksheets": [
  {
   "cells": [
    {
     "cell_type": "code",
     "collapsed": false,
     "input": [
      "# Standard Library.\n",
      "import os\n",
      "import warnings\n",
      "warnings.filterwarnings(\"ignore\")\n",
      "from datetime import datetime, timedelta\n",
      "\n",
      "# Scientific stack.\n",
      "import iris\n",
      "from iris.pandas import as_series\n",
      "from iris.exceptions import CoordinateNotFoundError\n",
      "\n",
      "iris.FUTURE.netcdf_promote = True\n",
      "\n",
      "import folium\n",
      "import vincent\n",
      "import numpy as np\n",
      "import matplotlib.pyplot as plt\n",
      "\n",
      "from pandas import Series, DataFrame, read_csv, concat\n",
      "\n",
      "# Custom IOOS/ASA modules (available at PyPI).\n",
      "from owslib import fes\n",
      "from owslib.csw import CatalogueServiceWeb\n",
      "from pyoos.collectors.coops.coops_sos import CoopsSos\n",
      "\n",
      "# Local imports\n",
      "# Local imports\n",
      "from utilities import (dateRange, get_coops_longname, coops2df,\n",
      "                       service_urls, inline_map, get_coordinates,\n",
      "                       get_cube, make_tree, get_nearest_water, get_model_name)"
     ],
     "language": "python",
     "metadata": {
      "code_folding": [],
      "input_collapsed": false
     },
     "outputs": [],
     "prompt_number": 1
    },
    {
     "cell_type": "code",
     "collapsed": false,
     "input": [
      "now = datetime(2014, 7, 6, 12, 0, 0, 0)\n",
      "\n",
      "start = now - timedelta(days=3)\n",
      "stop = now + timedelta(days=3)\n",
      "\n",
      "start_date = start.strftime('%Y-%m-%d %H:00')\n",
      "stop_date = stop.strftime('%Y-%m-%d %H:00')\n",
      "\n",
      "jd_start = datetime.strptime(start_date, '%Y-%m-%d %H:%M')\n",
      "jd_stop = datetime.strptime(stop_date, '%Y-%m-%d %H:%M')\n",
      "\n",
      "print('%s to %s' % (start_date, stop_date))"
     ],
     "language": "python",
     "metadata": {
      "code_folding": []
     },
     "outputs": [
      {
       "output_type": "stream",
       "stream": "stdout",
       "text": [
        "2014-07-03 12:00 to 2014-07-09 12:00\n"
       ]
      }
     ],
     "prompt_number": 2
    },
    {
     "cell_type": "code",
     "collapsed": false,
     "input": [
      "name_list = ['water level',\n",
      "             'sea_surface_height',\n",
      "             'sea_surface_elevation',\n",
      "             'sea_surface_height_above_geoid',\n",
      "             'sea_surface_height_above_sea_level',\n",
      "             'water_surface_height_above_reference_datum',\n",
      "             'sea_surface_height_above_reference_ellipsoid']\n",
      "\n",
      "bounding_box_type = \"box\"\n",
      "bounding_box = [[-87.4, 24.25],\n",
      "                [-74.7, 36.70]]  # SECOORA: NC, SC GA, FL\n",
      "\n",
      "box = []\n",
      "box.append(bounding_box[0][0])\n",
      "box.append(bounding_box[0][1])\n",
      "box.append(bounding_box[1][0])\n",
      "box.append(bounding_box[1][1])\n",
      "\n",
      "start, stop = dateRange(start_date, stop_date)\n",
      "bbox = fes.BBox(box)\n",
      "\n",
      "or_filt = fes.Or([fes.PropertyIsLike(propertyname='apiso:AnyText',\n",
      "                                     literal=('*%s*' % val),\n",
      "                                     escapeChar='\\\\',\n",
      "                                     wildCard='*',\n",
      "                                     singleChar='?') for val in name_list])\n",
      "\n",
      "val = 'Averages'\n",
      "not_filt = fes.Not([fes.PropertyIsLike(propertyname='apiso:AnyText',\n",
      "                                       literal=('*%s*' % val),\n",
      "                                       escapeChar='\\\\',\n",
      "                                       wildCard='*',\n",
      "                                       singleChar='?')])\n",
      "\n",
      "filter_list = [fes.And([bbox, start, stop, or_filt, not_filt])]"
     ],
     "language": "python",
     "metadata": {
      "code_folding": []
     },
     "outputs": [],
     "prompt_number": 3
    },
    {
     "cell_type": "code",
     "collapsed": false,
     "input": [
      "endpoint = 'http://www.ngdc.noaa.gov/geoportal/csw'\n",
      "csw = CatalogueServiceWeb(endpoint, timeout=60)\n",
      "csw.getrecords2(constraints=filter_list, maxrecords=1000, esn='full')\n",
      "\n",
      "if True:\n",
      "    print(\"CSW version: %s\" % csw.version)\n",
      "    print(\"Number of datasets available: %s\" % len(csw.records.keys()))"
     ],
     "language": "python",
     "metadata": {
      "code_folding": []
     },
     "outputs": [
      {
       "output_type": "stream",
       "stream": "stdout",
       "text": [
        "CSW version: 2.0.2\n",
        "Number of datasets available: 10\n"
       ]
      }
     ],
     "prompt_number": 4
    },
    {
     "cell_type": "code",
     "collapsed": false,
     "input": [
      "dap_urls = service_urls(csw.records, service='odp:url')\n",
      "sos_urls = service_urls(csw.records, service='sos:url')\n",
      "\n",
      "if True:\n",
      "    print(\"CSW:\")\n",
      "    for rec, item in csw.records.items():\n",
      "        print(item.title)\n",
      "    print(\"\\nDAP:\")\n",
      "    print(\"\\n\".join(dap_urls))\n",
      "    print(\"\\nSOS:\")\n",
      "    print(\"\\n\".join(sos_urls))"
     ],
     "language": "python",
     "metadata": {
      "code_folding": []
     },
     "outputs": [
      {
       "output_type": "stream",
       "stream": "stdout",
       "text": [
        "CSW:\n",
        "COAWST Forecast System : USGS : US East Coast and Gulf of Mexico (Experimental)\n",
        "ROMS ESPRESSO Real-Time Operational IS4DVAR Forecast System Version 2 (NEW) 2013-present FMRC History (Best)\n",
        "Barotropic Tide Model for the Pacific Basin\n",
        "TBOFS - Tampa Bay Operational Forecast System - NOAA CO-OPS - POM\n",
        "NDBC Standard Meteorological Buoy Data\n",
        "HYbrid Coordinate Ocean Model (HYCOM): Global\n",
        "CBOFS - Chesapeake Bay Operational Forecast System - NOAA CO-OPS - POM\n",
        "ESTOFS Storm Surge Model - Atlantic - v1.0.0 - NOAA - NCEP - ADCIRC\n",
        "NECOFS GOM3 (FVCOM) - Northeast US - Latest Forecast\n",
        "NECOFS GOM3 Wave - Northeast US - Latest Forecast\n",
        "\n",
        "DAP:\n",
        "http://geoport.whoi.edu/thredds/dodsC/coawst_4/use/fmrc/coawst_4_use_best.ncd\n",
        "http://tds.marine.rutgers.edu/thredds/dodsC/roms/espresso/2013_da/his_Best/ESPRESSO_Real-Time_v2_History_Best_Available_best.ncd\n",
        "http://oos.soest.hawaii.edu/thredds/dodsC/hioos/tide_pac\n",
        "http://opendap.co-ops.nos.noaa.gov/thredds/dodsC/TBOFS/fmrc/Aggregated_7_day_TBOFS_Fields_Forecast_best.ncd\n",
        "http://oos.soest.hawaii.edu/thredds/dodsC/pacioos/hycom/global\n",
        "http://opendap.co-ops.nos.noaa.gov/thredds/dodsC/CBOFS/fmrc/Aggregated_7_day_CBOFS_Fields_Forecast_best.ncd\n",
        "http://geoport-dev.whoi.edu/thredds/dodsC/estofs/atlantic\n",
        "http://www.smast.umassd.edu:8080/thredds/dodsC/FVCOM/NECOFS/Forecasts/NECOFS_GOM3_FORECAST.nc\n",
        "http://www.smast.umassd.edu:8080/thredds/dodsC/FVCOM/NECOFS/Forecasts/NECOFS_WAVE_FORECAST.nc\n",
        "\n",
        "SOS:\n",
        "\n"
       ]
      }
     ],
     "prompt_number": 5
    },
    {
     "cell_type": "code",
     "collapsed": false,
     "input": [
      "sos_name = 'water_surface_height_above_reference_datum'\n",
      "\n",
      "collector = CoopsSos()\n",
      "\n",
      "collector.set_datum('NAVD')\n",
      "collector.server.identification.title\n",
      "collector.start_time = jd_start\n",
      "collector.end_time = jd_stop\n",
      "collector.variables = [sos_name]\n",
      "\n",
      "ofrs = collector.server.offerings\n",
      "if True:\n",
      "    print(len(ofrs))"
     ],
     "language": "python",
     "metadata": {
      "code_folding": []
     },
     "outputs": [
      {
       "output_type": "stream",
       "stream": "stdout",
       "text": [
        "1026\n"
       ]
      }
     ],
     "prompt_number": 6
    },
    {
     "cell_type": "code",
     "collapsed": false,
     "input": [
      "iso_start = jd_start.strftime('%Y-%m-%dT%H:%M:%SZ')\n",
      "iso_stop = jd_stop.strftime('%Y-%m-%dT%H:%M:%SZ')\n",
      "box_str = ','.join(str(e) for e in box)\n",
      "\n",
      "print(\"Date: %s to %s\" % (iso_start, iso_stop))\n",
      "print(\"Lat/Lon Box: %s\" % box_str)"
     ],
     "language": "python",
     "metadata": {},
     "outputs": [
      {
       "output_type": "stream",
       "stream": "stdout",
       "text": [
        "Date: 2014-07-03T12:00:00Z to 2014-07-09T12:00:00Z\n",
        "Lat/Lon Box: -87.4,24.25,-74.7,36.7\n"
       ]
      }
     ],
     "prompt_number": 7
    },
    {
     "cell_type": "code",
     "collapsed": false,
     "input": [
      "url = ('http://opendap.co-ops.nos.noaa.gov/ioos-dif-sos/SOS?'\n",
      "       'service=SOS&request=GetObservation&version=1.0.0&'\n",
      "       'observedProperty=%s&offering=urn:ioos:network:NOAA.NOS.CO-OPS:'\n",
      "       'WaterLevelActive&featureOfInterest=BBOX:%s&responseFormat='\n",
      "       'text/csv&eventTime=%s' % (sos_name, box_str, iso_start))\n",
      "\n",
      "print(url)\n",
      "\n",
      "observations = read_csv(url)"
     ],
     "language": "python",
     "metadata": {
      "code_folding": []
     },
     "outputs": [
      {
       "output_type": "stream",
       "stream": "stdout",
       "text": [
        "http://opendap.co-ops.nos.noaa.gov/ioos-dif-sos/SOS?service=SOS&request=GetObservation&version=1.0.0&observedProperty=water_surface_height_above_reference_datum&offering=urn:ioos:network:NOAA.NOS.CO-OPS:WaterLevelActive&featureOfInterest=BBOX:-87.4,24.25,-74.7,36.7&responseFormat=text/csv&eventTime=2014-07-03T12:00:00Z\n"
       ]
      }
     ],
     "prompt_number": 8
    },
    {
     "cell_type": "code",
     "collapsed": false,
     "input": [
      "# Clean the dataframe.\n",
      "columns = {'station_id': 'station',\n",
      "           'sensor_id': 'sensor',\n",
      "           'datum_id': 'datum',\n",
      "           'latitude (degree)': 'lat',\n",
      "           'longitude (degree)': 'lon',\n",
      "           'vertical_position (m)': 'height',\n",
      "           'water_surface_height_above_reference_datum (m)': 'ssh above datum'}\n",
      "\n",
      "observations.rename(columns=columns, inplace=True)\n",
      "\n",
      "observations['station'] = [s.split(':')[-1] for s in observations['station']]\n",
      "observations['sensor'] = [s.split(':')[-1] for s in observations['sensor']]\n",
      "observations['datum'] = [s.split(':')[-1] for s in observations['datum']]\n",
      "observations['name'] = [get_coops_longname(s) for s in observations['station']]\n",
      "\n",
      "observations.set_index('name', inplace=True)"
     ],
     "language": "python",
     "metadata": {
      "code_folding": []
     },
     "outputs": [],
     "prompt_number": 9
    },
    {
     "cell_type": "code",
     "collapsed": false,
     "input": [
      "observations.head()"
     ],
     "language": "python",
     "metadata": {},
     "outputs": [
      {
       "html": [
        "<div style=\"max-height:1000px;max-width:1500px;overflow:auto;\">\n",
        "<table border=\"1\" class=\"dataframe\">\n",
        "  <thead>\n",
        "    <tr style=\"text-align: right;\">\n",
        "      <th></th>\n",
        "      <th>station</th>\n",
        "      <th>sensor</th>\n",
        "      <th>lat</th>\n",
        "      <th>lon</th>\n",
        "      <th>date_time</th>\n",
        "      <th>ssh above datum</th>\n",
        "      <th>datum</th>\n",
        "      <th>height</th>\n",
        "    </tr>\n",
        "    <tr>\n",
        "      <th>name</th>\n",
        "      <th></th>\n",
        "      <th></th>\n",
        "      <th></th>\n",
        "      <th></th>\n",
        "      <th></th>\n",
        "      <th></th>\n",
        "      <th></th>\n",
        "      <th></th>\n",
        "    </tr>\n",
        "  </thead>\n",
        "  <tbody>\n",
        "    <tr>\n",
        "      <th>Duck, NC</th>\n",
        "      <td> 8651370</td>\n",
        "      <td> A1</td>\n",
        "      <td> 36.1833</td>\n",
        "      <td>-75.7467</td>\n",
        "      <td> 2014-07-03T12:00:00Z</td>\n",
        "      <td> 0.222</td>\n",
        "      <td> MLLW</td>\n",
        "      <td> 5.663</td>\n",
        "    </tr>\n",
        "    <tr>\n",
        "      <th>Oregon Inlet Marina, NC</th>\n",
        "      <td> 8652587</td>\n",
        "      <td> A1</td>\n",
        "      <td> 35.7950</td>\n",
        "      <td>-75.5483</td>\n",
        "      <td> 2014-07-03T12:00:00Z</td>\n",
        "      <td> 0.199</td>\n",
        "      <td> MLLW</td>\n",
        "      <td> 0.788</td>\n",
        "    </tr>\n",
        "    <tr>\n",
        "      <th>USCG Station Hatteras, NC</th>\n",
        "      <td> 8654467</td>\n",
        "      <td> A1</td>\n",
        "      <td> 35.2086</td>\n",
        "      <td>-75.7042</td>\n",
        "      <td> 2014-07-03T12:00:00Z</td>\n",
        "      <td> 0.037</td>\n",
        "      <td> MLLW</td>\n",
        "      <td> 8.345</td>\n",
        "    </tr>\n",
        "    <tr>\n",
        "      <th>Beaufort, NC</th>\n",
        "      <td> 8656483</td>\n",
        "      <td> A1</td>\n",
        "      <td> 34.7200</td>\n",
        "      <td>-76.6700</td>\n",
        "      <td> 2014-07-03T12:00:00Z</td>\n",
        "      <td> 0.335</td>\n",
        "      <td> MLLW</td>\n",
        "      <td> 0.562</td>\n",
        "    </tr>\n",
        "    <tr>\n",
        "      <th>Wilmington, NC</th>\n",
        "      <td> 8658120</td>\n",
        "      <td> A1</td>\n",
        "      <td> 34.2267</td>\n",
        "      <td>-77.9533</td>\n",
        "      <td> 2014-07-03T12:00:00Z</td>\n",
        "      <td> 0.362</td>\n",
        "      <td> MLLW</td>\n",
        "      <td> 0.747</td>\n",
        "    </tr>\n",
        "  </tbody>\n",
        "</table>\n",
        "</div>"
       ],
       "metadata": {},
       "output_type": "pyout",
       "prompt_number": 10,
       "text": [
        "                           station sensor      lat      lon  \\\n",
        "name                                                          \n",
        "Duck, NC                   8651370     A1  36.1833 -75.7467   \n",
        "Oregon Inlet Marina, NC    8652587     A1  35.7950 -75.5483   \n",
        "USCG Station Hatteras, NC  8654467     A1  35.2086 -75.7042   \n",
        "Beaufort, NC               8656483     A1  34.7200 -76.6700   \n",
        "Wilmington, NC             8658120     A1  34.2267 -77.9533   \n",
        "\n",
        "                                      date_time  ssh above datum datum  height  \n",
        "name                                                                            \n",
        "Duck, NC                   2014-07-03T12:00:00Z            0.222  MLLW   5.663  \n",
        "Oregon Inlet Marina, NC    2014-07-03T12:00:00Z            0.199  MLLW   0.788  \n",
        "USCG Station Hatteras, NC  2014-07-03T12:00:00Z            0.037  MLLW   8.345  \n",
        "Beaufort, NC               2014-07-03T12:00:00Z            0.335  MLLW   0.562  \n",
        "Wilmington, NC             2014-07-03T12:00:00Z            0.362  MLLW   0.747  "
       ]
      }
     ],
     "prompt_number": 10
    },
    {
     "cell_type": "markdown",
     "metadata": {},
     "source": [
      "### Generate a uniform 6-min time base for model/data comparison:"
     ]
    },
    {
     "cell_type": "code",
     "collapsed": false,
     "input": [
      "from owslib.ows import ExceptionReport\n",
      "\n",
      "fname = 'OBS_DATA.csv'\n",
      "if not os.path.isfile(fname):\n",
      "    data = dict()\n",
      "    for s in observations.station:\n",
      "        try:\n",
      "            b = coops2df(collector, s, sos_name)\n",
      "            b = b['water_surface_height_above_reference_datum (m)']\n",
      "            data.update({s: b})\n",
      "        except ExceptionReport as e:\n",
      "            print(\"Station %s:\\n%s\" % (s, e))\n",
      "            \n",
      "    obs_data = DataFrame.from_dict(data)\n",
      "    obs_data.to_csv(fname)\n",
      "else:\n",
      "    obs_data = read_csv(fname, parse_dates=True, index_col=0)\n",
      "\n",
      "obs_data.head()"
     ],
     "language": "python",
     "metadata": {
      "code_folding": []
     },
     "outputs": [
      {
       "output_type": "stream",
       "stream": "stdout",
       "text": [
        "Station 8654467:\n",
        "'Wrong Datum for this station: The correct Datum values are: MHHW, MHW, MTL, MSL, MLW, MLLW, STND'\n",
        "Station 8656483:\n",
        "'Wrong Datum for this station: The correct Datum values are: MHHW, MHW, MTL, MSL, MLW, MLLW, STND'"
       ]
      },
      {
       "output_type": "stream",
       "stream": "stdout",
       "text": [
        "\n",
        "Station 8658120:\n",
        "'Wrong Datum for this station: The correct Datum values are: MHHW, MHW, MTL, MSL, MLW, MLLW, STND'"
       ]
      },
      {
       "output_type": "stream",
       "stream": "stdout",
       "text": [
        "\n",
        "Station 8726520:\n",
        "'Wrong Datum for this station: The correct Datum values are: MHHW, MHW, MTL, MSL, MLW, MLLW, STND'"
       ]
      },
      {
       "output_type": "stream",
       "stream": "stdout",
       "text": [
        "\n",
        "Station 8726607:\n",
        "'Wrong Datum for this station: The correct Datum values are: MHHW, MHW, MTL, MSL, MLW, MLLW, STND'"
       ]
      },
      {
       "output_type": "stream",
       "stream": "stdout",
       "text": [
        "\n",
        "Station 8729210:\n",
        "'Wrong Datum for this station: The correct Datum values are: MHHW, MHW, MTL, MSL, MLW, MLLW, STND'"
       ]
      },
      {
       "output_type": "stream",
       "stream": "stdout",
       "text": [
        "\n"
       ]
      },
      {
       "html": [
        "<div style=\"max-height:1000px;max-width:1500px;overflow:auto;\">\n",
        "<table border=\"1\" class=\"dataframe\">\n",
        "  <thead>\n",
        "    <tr style=\"text-align: right;\">\n",
        "      <th></th>\n",
        "      <th>8651370</th>\n",
        "      <th>8652587</th>\n",
        "      <th>8658163</th>\n",
        "      <th>8661070</th>\n",
        "      <th>8662245</th>\n",
        "      <th>8665530</th>\n",
        "      <th>8720030</th>\n",
        "      <th>8720218</th>\n",
        "      <th>8720219</th>\n",
        "      <th>8720226</th>\n",
        "      <th>...</th>\n",
        "      <th>8724580</th>\n",
        "      <th>8725110</th>\n",
        "      <th>8725520</th>\n",
        "      <th>8726384</th>\n",
        "      <th>8726667</th>\n",
        "      <th>8726724</th>\n",
        "      <th>8727520</th>\n",
        "      <th>8728690</th>\n",
        "      <th>8729108</th>\n",
        "      <th>8729840</th>\n",
        "    </tr>\n",
        "    <tr>\n",
        "      <th>date_time</th>\n",
        "      <th></th>\n",
        "      <th></th>\n",
        "      <th></th>\n",
        "      <th></th>\n",
        "      <th></th>\n",
        "      <th></th>\n",
        "      <th></th>\n",
        "      <th></th>\n",
        "      <th></th>\n",
        "      <th></th>\n",
        "      <th></th>\n",
        "      <th></th>\n",
        "      <th></th>\n",
        "      <th></th>\n",
        "      <th></th>\n",
        "      <th></th>\n",
        "      <th></th>\n",
        "      <th></th>\n",
        "      <th></th>\n",
        "      <th></th>\n",
        "      <th></th>\n",
        "    </tr>\n",
        "  </thead>\n",
        "  <tbody>\n",
        "    <tr>\n",
        "      <th>2014-07-03 12:00:00</th>\n",
        "      <td>-0.445</td>\n",
        "      <td>-0.016</td>\n",
        "      <td>-0.337</td>\n",
        "      <td>-0.264</td>\n",
        "      <td>-0.194</td>\n",
        "      <td>-0.286</td>\n",
        "      <td>-0.708</td>\n",
        "      <td>-0.502</td>\n",
        "      <td>-0.400</td>\n",
        "      <td>-0.156</td>\n",
        "      <td>...</td>\n",
        "      <td>-0.263</td>\n",
        "      <td> 0.005</td>\n",
        "      <td> 0.134</td>\n",
        "      <td> 0.135</td>\n",
        "      <td> 0.284</td>\n",
        "      <td> 0.001</td>\n",
        "      <td> 0.376</td>\n",
        "      <td> 0.208</td>\n",
        "      <td> 0.184</td>\n",
        "      <td> 0.187</td>\n",
        "    </tr>\n",
        "    <tr>\n",
        "      <th>2014-07-03 12:06:00</th>\n",
        "      <td>-0.413</td>\n",
        "      <td>-0.015</td>\n",
        "      <td>-0.288</td>\n",
        "      <td>-0.217</td>\n",
        "      <td>-0.173</td>\n",
        "      <td>-0.275</td>\n",
        "      <td>-0.689</td>\n",
        "      <td>-0.472</td>\n",
        "      <td>-0.402</td>\n",
        "      <td>-0.156</td>\n",
        "      <td>...</td>\n",
        "      <td>-0.263</td>\n",
        "      <td> 0.000</td>\n",
        "      <td> 0.136</td>\n",
        "      <td> 0.139</td>\n",
        "      <td> 0.272</td>\n",
        "      <td>-0.048</td>\n",
        "      <td> 0.366</td>\n",
        "      <td> 0.237</td>\n",
        "      <td> 0.189</td>\n",
        "      <td> 0.185</td>\n",
        "    </tr>\n",
        "    <tr>\n",
        "      <th>2014-07-03 12:12:00</th>\n",
        "      <td>-0.414</td>\n",
        "      <td>-0.017</td>\n",
        "      <td>-0.231</td>\n",
        "      <td>-0.190</td>\n",
        "      <td>-0.153</td>\n",
        "      <td>-0.267</td>\n",
        "      <td>-0.674</td>\n",
        "      <td>-0.456</td>\n",
        "      <td>-0.402</td>\n",
        "      <td>-0.156</td>\n",
        "      <td>...</td>\n",
        "      <td>-0.259</td>\n",
        "      <td> 0.026</td>\n",
        "      <td> 0.139</td>\n",
        "      <td> 0.148</td>\n",
        "      <td> 0.269</td>\n",
        "      <td>-0.059</td>\n",
        "      <td> 0.358</td>\n",
        "      <td> 0.260</td>\n",
        "      <td> 0.182</td>\n",
        "      <td> 0.182</td>\n",
        "    </tr>\n",
        "    <tr>\n",
        "      <th>2014-07-03 12:18:00</th>\n",
        "      <td>-0.372</td>\n",
        "      <td>-0.015</td>\n",
        "      <td>-0.210</td>\n",
        "      <td>-0.164</td>\n",
        "      <td>-0.126</td>\n",
        "      <td>-0.247</td>\n",
        "      <td>-0.665</td>\n",
        "      <td>-0.441</td>\n",
        "      <td>-0.400</td>\n",
        "      <td>-0.159</td>\n",
        "      <td>...</td>\n",
        "      <td>-0.257</td>\n",
        "      <td> 0.006</td>\n",
        "      <td> 0.146</td>\n",
        "      <td> 0.154</td>\n",
        "      <td> 0.252</td>\n",
        "      <td>-0.033</td>\n",
        "      <td> 0.333</td>\n",
        "      <td> 0.266</td>\n",
        "      <td> 0.180</td>\n",
        "      <td> 0.185</td>\n",
        "    </tr>\n",
        "    <tr>\n",
        "      <th>2014-07-03 12:24:00</th>\n",
        "      <td>-0.369</td>\n",
        "      <td>-0.012</td>\n",
        "      <td>-0.184</td>\n",
        "      <td>-0.138</td>\n",
        "      <td>-0.105</td>\n",
        "      <td>-0.214</td>\n",
        "      <td>-0.637</td>\n",
        "      <td>-0.446</td>\n",
        "      <td>-0.394</td>\n",
        "      <td>-0.162</td>\n",
        "      <td>...</td>\n",
        "      <td>-0.246</td>\n",
        "      <td>-0.026</td>\n",
        "      <td> 0.151</td>\n",
        "      <td> 0.152</td>\n",
        "      <td> 0.246</td>\n",
        "      <td>-0.027</td>\n",
        "      <td> 0.305</td>\n",
        "      <td> 0.258</td>\n",
        "      <td> 0.176</td>\n",
        "      <td> 0.184</td>\n",
        "    </tr>\n",
        "  </tbody>\n",
        "</table>\n",
        "<p>5 rows \u00d7 27 columns</p>\n",
        "</div>"
       ],
       "metadata": {},
       "output_type": "pyout",
       "prompt_number": 11,
       "text": [
        "                     8651370  8652587  8658163  8661070  8662245  8665530  \\\n",
        "date_time                                                                   \n",
        "2014-07-03 12:00:00   -0.445   -0.016   -0.337   -0.264   -0.194   -0.286   \n",
        "2014-07-03 12:06:00   -0.413   -0.015   -0.288   -0.217   -0.173   -0.275   \n",
        "2014-07-03 12:12:00   -0.414   -0.017   -0.231   -0.190   -0.153   -0.267   \n",
        "2014-07-03 12:18:00   -0.372   -0.015   -0.210   -0.164   -0.126   -0.247   \n",
        "2014-07-03 12:24:00   -0.369   -0.012   -0.184   -0.138   -0.105   -0.214   \n",
        "\n",
        "                     8720030  8720218  8720219  8720226   ...     8724580  \\\n",
        "date_time                                                 ...               \n",
        "2014-07-03 12:00:00   -0.708   -0.502   -0.400   -0.156   ...      -0.263   \n",
        "2014-07-03 12:06:00   -0.689   -0.472   -0.402   -0.156   ...      -0.263   \n",
        "2014-07-03 12:12:00   -0.674   -0.456   -0.402   -0.156   ...      -0.259   \n",
        "2014-07-03 12:18:00   -0.665   -0.441   -0.400   -0.159   ...      -0.257   \n",
        "2014-07-03 12:24:00   -0.637   -0.446   -0.394   -0.162   ...      -0.246   \n",
        "\n",
        "                     8725110  8725520  8726384  8726667  8726724  8727520  \\\n",
        "date_time                                                                   \n",
        "2014-07-03 12:00:00    0.005    0.134    0.135    0.284    0.001    0.376   \n",
        "2014-07-03 12:06:00    0.000    0.136    0.139    0.272   -0.048    0.366   \n",
        "2014-07-03 12:12:00    0.026    0.139    0.148    0.269   -0.059    0.358   \n",
        "2014-07-03 12:18:00    0.006    0.146    0.154    0.252   -0.033    0.333   \n",
        "2014-07-03 12:24:00   -0.026    0.151    0.152    0.246   -0.027    0.305   \n",
        "\n",
        "                     8728690  8729108  8729840  \n",
        "date_time                                       \n",
        "2014-07-03 12:00:00    0.208    0.184    0.187  \n",
        "2014-07-03 12:06:00    0.237    0.189    0.185  \n",
        "2014-07-03 12:12:00    0.260    0.182    0.182  \n",
        "2014-07-03 12:18:00    0.266    0.180    0.185  \n",
        "2014-07-03 12:24:00    0.258    0.176    0.184  \n",
        "\n",
        "[5 rows x 27 columns]"
       ]
      }
     ],
     "prompt_number": 11
    },
    {
     "cell_type": "code",
     "collapsed": false,
     "input": [
      "diff = set(observations['station'].values).difference(obs_data.columns)\n",
      "non_navd = [c not in diff for c in observations['station']]\n",
      "observations = observations[non_navd]"
     ],
     "language": "python",
     "metadata": {},
     "outputs": [],
     "prompt_number": 12
    },
    {
     "cell_type": "markdown",
     "metadata": {},
     "source": [
      "### Get model output from OPeNDAP URLS"
     ]
    },
    {
     "cell_type": "code",
     "collapsed": false,
     "input": [
      "name_in_list = lambda cube: cube.standard_name in name_list\n",
      "constraint = iris.Constraint(cube_func=name_in_list)"
     ],
     "language": "python",
     "metadata": {},
     "outputs": [],
     "prompt_number": 13
    },
    {
     "cell_type": "code",
     "collapsed": false,
     "input": [
      "# Use only data where the standard deviation of the time series exceeds 0.01 m\n",
      "# (1 cm) this eliminates flat line model time series that come from land\n",
      "# points that should have had missing values.\n",
      "min_var = 0.01\n",
      "\n",
      "# Use only data within 0.04 degrees (about 4 km).\n",
      "max_dist = 0.04"
     ],
     "language": "python",
     "metadata": {
      "code_folding": []
     },
     "outputs": [],
     "prompt_number": 14
    },
    {
     "cell_type": "markdown",
     "metadata": {},
     "source": [
      "### Loop the models and save a csv series at each station."
     ]
    },
    {
     "cell_type": "code",
     "collapsed": false,
     "input": [
      "for url in dap_urls:\n",
      "    try:  # Download cube.\n",
      "        cube = get_cube(url, constraint, jd_start, jd_stop)\n",
      "        print(cube.attributes['title'])\n",
      "    except RuntimeError as e:\n",
      "        print('Cannot get cube for: %s' % url)\n",
      "        print(e)\n",
      "        continue\n",
      "\n",
      "    mod_name, model_full_name = get_model_name(cube, url)\n",
      "    print('\\n%s:\\n%s\\n' % (mod_name, url))\n",
      "    fname = '%s.csv' % mod_name\n",
      "\n",
      "    if not os.path.isfile(fname):\n",
      "        try:  # Make tree.\n",
      "            tree, lon, lat = make_tree(cube)\n",
      "        except CoordinateNotFoundError as e:\n",
      "            # FIXME: NECOFS_GOM3_WAVE use in meters instead of lon, lat.\n",
      "            print('Cannot make KDTree for: %s' % mod_name)\n",
      "            print(e)\n",
      "            continue\n",
      "        # Get model series at observed locations.\n",
      "        model = dict()\n",
      "        for station, obs in observations.iterrows():\n",
      "            kw = dict(shape=lon.shape, k=100)\n",
      "            a = obs_data[obs['station']]\n",
      "            try:\n",
      "                model_data = get_nearest_water(cube, tree, obs.lon, obs.lat, **kw)\n",
      "                model_data = as_series(model_data)\n",
      "            except (ValueError, AttributeError) as e:\n",
      "                print('No data found for *%s*' % obs.name)\n",
      "                model_data = Series(np.empty_like(a) * np.NaN, index=a.index)\n",
      "            model_data.name = mod_name\n",
      "\n",
      "            kw = dict(method='time')\n",
      "            model_data = model_data.reindex(a.index).interpolate(**kw).ix[a.index]\n",
      "            model.update({obs['station']: model_data})\n",
      "\n",
      "        model = DataFrame.from_dict(model)\n",
      "        model.to_csv(fname)"
     ],
     "language": "python",
     "metadata": {
      "code_folding": []
     },
     "outputs": [
      {
       "output_type": "stream",
       "stream": "stdout",
       "text": [
        "Cannot get cube for: http://geoport.whoi.edu/thredds/dodsC/coawst_4/use/fmrc/coawst_4_use_best.ncd\n",
        "NetCDF: DAP server error\n",
        "ROMS ESPRESSO Real-Time Operational IS4DVAR Forecast System Version 2 (NEW) 2013-present FMRC History (Best)"
       ]
      },
      {
       "output_type": "stream",
       "stream": "stdout",
       "text": [
        "\n",
        "\n",
        "ESPRESSO:\n",
        "http://tds.marine.rutgers.edu/thredds/dodsC/roms/espresso/2013_da/his_Best/ESPRESSO_Real-Time_v2_History_Best_Available_best.ncd\n",
        "\n",
        "No data found for *Duck, NC*"
       ]
      },
      {
       "output_type": "stream",
       "stream": "stdout",
       "text": [
        "\n",
        "No data found for *Wrightsville Beach, NC*"
       ]
      },
      {
       "output_type": "stream",
       "stream": "stdout",
       "text": [
        "\n",
        "No data found for *Springmaid Pier, SC*\n",
        "No data found for *Oyster Landing (N Inlet Estuary), SC*\n",
        "No data found for *Charleston, SC*\n",
        "No data found for *Fernandina Beach, FL*"
       ]
      },
      {
       "output_type": "stream",
       "stream": "stdout",
       "text": [
        "\n",
        "No data found for *Mayport (Bar Pilots Dock), FL*\n",
        "No data found for *Dames Point, FL*\n",
        "No data found for *Southbank Riverwalk, St Johns River, FL*\n",
        "No data found for *I-295 Bridge, St Johns River, FL*\n",
        "No data found for *Red Bay Point, St Johns River, FL*"
       ]
      },
      {
       "output_type": "stream",
       "stream": "stdout",
       "text": [
        "\n",
        "No data found for *Racy Point, St Johns River, FL*\n",
        "No data found for *Trident Pier, FL*\n",
        "No data found for *Lake Worth Pier, FL*\n",
        "No data found for *Virginia Key, FL*\n",
        "No data found for *Vaca Key, FL*"
       ]
      },
      {
       "output_type": "stream",
       "stream": "stdout",
       "text": [
        "\n",
        "No data found for *Key West, FL*"
       ]
      },
      {
       "output_type": "stream",
       "stream": "stdout",
       "text": [
        "\n",
        "No data found for *Naples, FL*\n",
        "No data found for *Fort Myers, FL*\n",
        "No data found for *Port Manatee, FL*\n",
        "No data found for *Mckay Bay Entrance, FL*\n",
        "No data found for *Clearwater Beach, FL*"
       ]
      },
      {
       "output_type": "stream",
       "stream": "stdout",
       "text": [
        "\n",
        "No data found for *Cedar Key, FL*\n",
        "No data found for *Apalachicola, FL*\n",
        "No data found for *Panama City, FL*\n",
        "No data found for *Pensacola, FL*\n",
        "Barotropic Tide Model for the Pacific Basin"
       ]
      },
      {
       "output_type": "stream",
       "stream": "stdout",
       "text": [
        "\n",
        "\n",
        "BTMPB:\n",
        "http://oos.soest.hawaii.edu/thredds/dodsC/hioos/tide_pac\n",
        "\n",
        "No data found for *Duck, NC*\n",
        "No data found for *Oregon Inlet Marina, NC*"
       ]
      },
      {
       "output_type": "stream",
       "stream": "stdout",
       "text": [
        "\n",
        "No data found for *Wrightsville Beach, NC*\n",
        "No data found for *Springmaid Pier, SC*\n",
        "No data found for *Oyster Landing (N Inlet Estuary), SC*\n",
        "No data found for *Charleston, SC*\n",
        "No data found for *Fernandina Beach, FL*"
       ]
      },
      {
       "output_type": "stream",
       "stream": "stdout",
       "text": [
        "\n",
        "No data found for *Mayport (Bar Pilots Dock), FL*\n",
        "No data found for *Dames Point, FL*\n",
        "No data found for *Southbank Riverwalk, St Johns River, FL*\n",
        "No data found for *I-295 Bridge, St Johns River, FL*\n",
        "No data found for *Red Bay Point, St Johns River, FL*"
       ]
      },
      {
       "output_type": "stream",
       "stream": "stdout",
       "text": [
        "\n",
        "No data found for *Racy Point, St Johns River, FL*\n",
        "No data found for *Trident Pier, FL*\n",
        "No data found for *Lake Worth Pier, FL*\n",
        "No data found for *Virginia Key, FL*\n",
        "No data found for *Vaca Key, FL*"
       ]
      },
      {
       "output_type": "stream",
       "stream": "stdout",
       "text": [
        "\n",
        "No data found for *Key West, FL*\n",
        "No data found for *Naples, FL*\n",
        "No data found for *Fort Myers, FL*\n",
        "No data found for *Port Manatee, FL*\n",
        "No data found for *Mckay Bay Entrance, FL*"
       ]
      },
      {
       "output_type": "stream",
       "stream": "stdout",
       "text": [
        "\n",
        "No data found for *Clearwater Beach, FL*\n",
        "No data found for *Cedar Key, FL*\n",
        "No data found for *Apalachicola, FL*\n",
        "No data found for *Panama City, FL*\n",
        "No data found for *Pensacola, FL*"
       ]
      },
      {
       "output_type": "stream",
       "stream": "stdout",
       "text": [
        "\n",
        "TBOFS - Tampa Bay Operational Forecast System - NOAA CO-OPS - POM"
       ]
      },
      {
       "output_type": "stream",
       "stream": "stdout",
       "text": [
        "\n",
        "\n",
        "TBOFS:\n",
        "http://opendap.co-ops.nos.noaa.gov/thredds/dodsC/TBOFS/fmrc/Aggregated_7_day_TBOFS_Fields_Forecast_best.ncd\n",
        "\n",
        "No data found for *Duck, NC*"
       ]
      },
      {
       "output_type": "stream",
       "stream": "stdout",
       "text": [
        "\n",
        "No data found for *Oregon Inlet Marina, NC*"
       ]
      },
      {
       "output_type": "stream",
       "stream": "stdout",
       "text": [
        "\n",
        "No data found for *Wrightsville Beach, NC*\n",
        "No data found for *Springmaid Pier, SC*\n",
        "No data found for *Oyster Landing (N Inlet Estuary), SC*\n",
        "No data found for *Charleston, SC*\n",
        "No data found for *Fernandina Beach, FL*"
       ]
      },
      {
       "output_type": "stream",
       "stream": "stdout",
       "text": [
        "\n",
        "No data found for *Mayport (Bar Pilots Dock), FL*\n",
        "No data found for *Dames Point, FL*\n",
        "No data found for *Southbank Riverwalk, St Johns River, FL*\n",
        "No data found for *I-295 Bridge, St Johns River, FL*\n",
        "No data found for *Red Bay Point, St Johns River, FL*"
       ]
      },
      {
       "output_type": "stream",
       "stream": "stdout",
       "text": [
        "\n",
        "No data found for *Racy Point, St Johns River, FL*\n",
        "No data found for *Trident Pier, FL*\n",
        "No data found for *Lake Worth Pier, FL*\n",
        "No data found for *Virginia Key, FL*\n",
        "No data found for *Vaca Key, FL*"
       ]
      },
      {
       "output_type": "stream",
       "stream": "stdout",
       "text": [
        "\n",
        "No data found for *Key West, FL*\n",
        "No data found for *Naples, FL*\n",
        "No data found for *Fort Myers, FL*\n",
        "No data found for *Clearwater Beach, FL*"
       ]
      },
      {
       "output_type": "stream",
       "stream": "stdout",
       "text": [
        "\n",
        "No data found for *Cedar Key, FL*\n",
        "No data found for *Apalachicola, FL*\n",
        "No data found for *Panama City, FL*"
       ]
      },
      {
       "output_type": "stream",
       "stream": "stdout",
       "text": [
        "\n",
        "No data found for *Pensacola, FL*\n",
        "HYbrid Coordinate Ocean Model (HYCOM): Global"
       ]
      },
      {
       "output_type": "stream",
       "stream": "stdout",
       "text": [
        "\n",
        "\n",
        "HYCOM:\n",
        "http://oos.soest.hawaii.edu/thredds/dodsC/pacioos/hycom/global\n",
        "\n",
        "No data found for *Duck, NC*"
       ]
      },
      {
       "output_type": "stream",
       "stream": "stdout",
       "text": [
        "\n",
        "No data found for *Oregon Inlet Marina, NC*\n",
        "No data found for *Wrightsville Beach, NC*\n",
        "No data found for *Springmaid Pier, SC*\n",
        "No data found for *Oyster Landing (N Inlet Estuary), SC*"
       ]
      },
      {
       "output_type": "stream",
       "stream": "stdout",
       "text": [
        "\n",
        "No data found for *Charleston, SC*\n",
        "No data found for *Fernandina Beach, FL*\n",
        "No data found for *Mayport (Bar Pilots Dock), FL*\n",
        "No data found for *Dames Point, FL*"
       ]
      },
      {
       "output_type": "stream",
       "stream": "stdout",
       "text": [
        "\n",
        "No data found for *Southbank Riverwalk, St Johns River, FL*\n",
        "No data found for *I-295 Bridge, St Johns River, FL*\n",
        "No data found for *Red Bay Point, St Johns River, FL*\n",
        "No data found for *Racy Point, St Johns River, FL*"
       ]
      },
      {
       "output_type": "stream",
       "stream": "stdout",
       "text": [
        "\n",
        "No data found for *Trident Pier, FL*\n",
        "No data found for *Lake Worth Pier, FL*\n",
        "No data found for *Virginia Key, FL*\n",
        "No data found for *Vaca Key, FL*"
       ]
      },
      {
       "output_type": "stream",
       "stream": "stdout",
       "text": [
        "\n",
        "No data found for *Key West, FL*\n",
        "No data found for *Naples, FL*\n",
        "No data found for *Fort Myers, FL*"
       ]
      },
      {
       "output_type": "stream",
       "stream": "stdout",
       "text": [
        "\n",
        "No data found for *Port Manatee, FL*\n",
        "No data found for *Mckay Bay Entrance, FL*\n",
        "No data found for *Clearwater Beach, FL*"
       ]
      },
      {
       "output_type": "stream",
       "stream": "stdout",
       "text": [
        "\n",
        "No data found for *Cedar Key, FL*\n",
        "No data found for *Apalachicola, FL*\n",
        "No data found for *Panama City, FL*\n",
        "No data found for *Pensacola, FL*"
       ]
      },
      {
       "output_type": "stream",
       "stream": "stdout",
       "text": [
        "\n",
        "CBOFS - Chesapeake Bay Operational Forecast System - NOAA CO-OPS - POM"
       ]
      },
      {
       "output_type": "stream",
       "stream": "stdout",
       "text": [
        "\n",
        "\n",
        "CBOFS:\n",
        "http://opendap.co-ops.nos.noaa.gov/thredds/dodsC/CBOFS/fmrc/Aggregated_7_day_CBOFS_Fields_Forecast_best.ncd\n",
        "\n",
        "No data found for *Oregon Inlet Marina, NC*"
       ]
      },
      {
       "output_type": "stream",
       "stream": "stdout",
       "text": [
        "\n",
        "No data found for *Wrightsville Beach, NC*\n",
        "No data found for *Springmaid Pier, SC*\n",
        "No data found for *Oyster Landing (N Inlet Estuary), SC*\n",
        "No data found for *Charleston, SC*"
       ]
      },
      {
       "output_type": "stream",
       "stream": "stdout",
       "text": [
        "\n",
        "No data found for *Fernandina Beach, FL*\n",
        "No data found for *Mayport (Bar Pilots Dock), FL*\n",
        "No data found for *Dames Point, FL*\n",
        "No data found for *Southbank Riverwalk, St Johns River, FL*\n",
        "No data found for *I-295 Bridge, St Johns River, FL*"
       ]
      },
      {
       "output_type": "stream",
       "stream": "stdout",
       "text": [
        "\n",
        "No data found for *Red Bay Point, St Johns River, FL*\n",
        "No data found for *Racy Point, St Johns River, FL*\n",
        "No data found for *Trident Pier, FL*\n",
        "No data found for *Lake Worth Pier, FL*\n",
        "No data found for *Virginia Key, FL*"
       ]
      },
      {
       "output_type": "stream",
       "stream": "stdout",
       "text": [
        "\n",
        "No data found for *Vaca Key, FL*\n",
        "No data found for *Key West, FL*\n",
        "No data found for *Naples, FL*\n",
        "No data found for *Fort Myers, FL*\n",
        "No data found for *Port Manatee, FL*"
       ]
      },
      {
       "output_type": "stream",
       "stream": "stdout",
       "text": [
        "\n",
        "No data found for *Mckay Bay Entrance, FL*\n",
        "No data found for *Clearwater Beach, FL*\n",
        "No data found for *Cedar Key, FL*\n",
        "No data found for *Apalachicola, FL*\n",
        "No data found for *Panama City, FL*"
       ]
      },
      {
       "output_type": "stream",
       "stream": "stdout",
       "text": [
        "\n",
        "No data found for *Pensacola, FL*\n",
        "ESTOFS Storm Surge Model - Atlantic - v1.0.0 - NOAA - NCEP - ADCIRC"
       ]
      },
      {
       "output_type": "stream",
       "stream": "stdout",
       "text": [
        "\n",
        "\n",
        "ESTOFS:\n",
        "http://geoport-dev.whoi.edu/thredds/dodsC/estofs/atlantic\n",
        "\n",
        "No data found for *Duck, NC*"
       ]
      },
      {
       "output_type": "stream",
       "stream": "stdout",
       "text": [
        "\n",
        "No data found for *Oregon Inlet Marina, NC*\n",
        "No data found for *Wrightsville Beach, NC*\n",
        "No data found for *Springmaid Pier, SC*\n",
        "No data found for *Oyster Landing (N Inlet Estuary), SC*"
       ]
      },
      {
       "output_type": "stream",
       "stream": "stdout",
       "text": [
        "\n",
        "No data found for *Charleston, SC*\n",
        "No data found for *Fernandina Beach, FL*\n",
        "No data found for *Mayport (Bar Pilots Dock), FL*\n",
        "No data found for *Dames Point, FL*\n",
        "No data found for *Southbank Riverwalk, St Johns River, FL*"
       ]
      },
      {
       "output_type": "stream",
       "stream": "stdout",
       "text": [
        "\n",
        "No data found for *I-295 Bridge, St Johns River, FL*\n",
        "No data found for *Red Bay Point, St Johns River, FL*\n",
        "No data found for *Racy Point, St Johns River, FL*\n",
        "No data found for *Trident Pier, FL*\n",
        "No data found for *Lake Worth Pier, FL*"
       ]
      },
      {
       "output_type": "stream",
       "stream": "stdout",
       "text": [
        "\n",
        "No data found for *Virginia Key, FL*\n",
        "No data found for *Vaca Key, FL*\n",
        "No data found for *Key West, FL*\n",
        "No data found for *Naples, FL*\n",
        "No data found for *Fort Myers, FL*"
       ]
      },
      {
       "output_type": "stream",
       "stream": "stdout",
       "text": [
        "\n",
        "No data found for *Port Manatee, FL*\n",
        "No data found for *Mckay Bay Entrance, FL*\n",
        "No data found for *Clearwater Beach, FL*\n",
        "No data found for *Cedar Key, FL*\n",
        "No data found for *Apalachicola, FL*"
       ]
      },
      {
       "output_type": "stream",
       "stream": "stdout",
       "text": [
        "\n",
        "No data found for *Panama City, FL*\n",
        "No data found for *Pensacola, FL*\n",
        "NECOFS GOM3 (FVCOM) - Northeast US - Latest Forecast"
       ]
      },
      {
       "output_type": "stream",
       "stream": "stdout",
       "text": [
        "\n",
        "\n",
        "NECOFS_GOM3_FVCOM:\n",
        "http://www.smast.umassd.edu:8080/thredds/dodsC/FVCOM/NECOFS/Forecasts/NECOFS_GOM3_FORECAST.nc\n",
        "\n",
        "No data found for *Duck, NC*"
       ]
      },
      {
       "output_type": "stream",
       "stream": "stdout",
       "text": [
        "\n",
        "No data found for *Oregon Inlet Marina, NC*\n",
        "No data found for *Wrightsville Beach, NC*\n",
        "No data found for *Springmaid Pier, SC*\n",
        "No data found for *Oyster Landing (N Inlet Estuary), SC*"
       ]
      },
      {
       "output_type": "stream",
       "stream": "stdout",
       "text": [
        "\n",
        "No data found for *Charleston, SC*\n",
        "No data found for *Fernandina Beach, FL*\n",
        "No data found for *Mayport (Bar Pilots Dock), FL*\n",
        "No data found for *Dames Point, FL*"
       ]
      },
      {
       "output_type": "stream",
       "stream": "stdout",
       "text": [
        "\n",
        "No data found for *Southbank Riverwalk, St Johns River, FL*\n",
        "No data found for *I-295 Bridge, St Johns River, FL*\n",
        "No data found for *Red Bay Point, St Johns River, FL*\n",
        "No data found for *Racy Point, St Johns River, FL*"
       ]
      },
      {
       "output_type": "stream",
       "stream": "stdout",
       "text": [
        "\n",
        "No data found for *Trident Pier, FL*\n",
        "No data found for *Lake Worth Pier, FL*\n",
        "No data found for *Virginia Key, FL*\n",
        "No data found for *Vaca Key, FL*"
       ]
      },
      {
       "output_type": "stream",
       "stream": "stdout",
       "text": [
        "\n",
        "No data found for *Key West, FL*\n",
        "No data found for *Naples, FL*\n",
        "No data found for *Fort Myers, FL*\n",
        "No data found for *Port Manatee, FL*"
       ]
      },
      {
       "output_type": "stream",
       "stream": "stdout",
       "text": [
        "\n",
        "No data found for *Mckay Bay Entrance, FL*\n",
        "No data found for *Clearwater Beach, FL*\n",
        "No data found for *Cedar Key, FL*\n",
        "No data found for *Apalachicola, FL*"
       ]
      },
      {
       "output_type": "stream",
       "stream": "stdout",
       "text": [
        "\n",
        "No data found for *Panama City, FL*\n",
        "No data found for *Pensacola, FL*\n",
        "NECOFS GOM3 Wave - Northeast US - Latest Forecast"
       ]
      },
      {
       "output_type": "stream",
       "stream": "stdout",
       "text": [
        "\n",
        "\n",
        "NECOFS_GOM3_WAVE:\n",
        "http://www.smast.umassd.edu:8080/thredds/dodsC/FVCOM/NECOFS/Forecasts/NECOFS_WAVE_FORECAST.nc\n",
        "\n",
        "Cannot make KDTree for: NECOFS_GOM3_WAVE\n",
        "'Expected to find exactly 1  coordinate, but found none.'\n"
       ]
      },
      {
       "output_type": "stream",
       "stream": "stderr",
       "text": [
        "Exception AttributeError: \"'CFReader' object has no attribute '_dataset'\" in <bound method CFReader.__del__ of CFReader('http://geoport.whoi.edu/thredds/dodsC/coawst_4/use/fmrc/coawst_4_use_best.ncd')> ignored\n"
       ]
      }
     ],
     "prompt_number": 15
    },
    {
     "cell_type": "code",
     "collapsed": false,
     "input": [
      "from glob import glob\n",
      "from pandas import Panel\n",
      "\n",
      "dfs = dict()\n",
      "kw = dict(parse_dates=True, index_col=0)\n",
      "for fname in glob('*.csv'):\n",
      "    df = read_csv(fname, **kw)\n",
      "    dfs.update({fname[:-4]: df})\n",
      "    \n",
      "dfs = Panel.fromDict(dfs)\n",
      "dfs = dfs.swapaxes(0, 2)"
     ],
     "language": "python",
     "metadata": {
      "code_folding": []
     },
     "outputs": [],
     "prompt_number": 16
    },
    {
     "cell_type": "code",
     "collapsed": false,
     "input": [
      "m = folium.Map(location=[np.mean(bounding_box, axis=0)[1],\n",
      "                         np.mean(bounding_box, axis=0)[0]],\n",
      "               zoom_start=5)\n",
      "\n",
      "# Create the map and add the bounding box line.\n",
      "m.line(get_coordinates(bounding_box, bounding_box_type),\n",
      "       line_color='#FF0000', line_weight=2)\n",
      "\n",
      "html = '<b>Station:</b><br>%s<br><b>Long Name:</b><br>%s'\n",
      "\n",
      "for station in dfs:\n",
      "    sta_name = get_coops_longname(station)\n",
      "    df = dfs[station].dropna(axis=1, how='all')\n",
      "    df.fillna(value=0, inplace=True)  # FIXME: This is bad!  But I cannot represent NaN with Vega!\n",
      "    vis = vincent.Line(df, width=400, height=200)\n",
      "    vis.axis_titles(x='Time', y='Sea surface height (m)')\n",
      "    vis.legend(title=sta_name)\n",
      "    json = 'station_%s.json' % station\n",
      "    vis.to_json(json)\n",
      "    obs = observations[observations['station'] == station]\n",
      "    m.simple_marker(location=[obs['lat'].values[0], obs['lon'].values[0]], popup=(vis, json))\n",
      "    m.create_map(path='inundation.html')\n",
      "\n",
      "inline_map(m)"
     ],
     "language": "python",
     "metadata": {
      "code_folding": []
     },
     "outputs": [
      {
       "html": [
        "<iframe srcdoc=\"<!DOCTYPE html>\n",
        "<head>\n",
        "   <meta http-equiv=&quot;content-type&quot; content=&quot;text/html; charset=UTF-8&quot; />\n",
        "   <link rel=&quot;stylesheet&quot; href=&quot;http://cdn.leafletjs.com/leaflet-0.7.2/leaflet.css&quot; />\n",
        "   <script src=&quot;http://cdn.leafletjs.com/leaflet-0.7.2/leaflet.js&quot;></script>\n",
        "\n",
        "   \n",
        "   <script src=&quot;http://d3js.org/d3.v3.min.js&quot; charset=&quot;utf-8&quot;></script>\n",
        "   <script src=&quot;http://trifacta.github.io/vega/vega.js&quot;></script>\n",
        "   <script src=&quot;https://code.jquery.com/jquery-2.1.0.min.js&quot;></script>\n",
        "\n",
        "\n",
        "   <style>\n",
        "\n",
        "      #map {\n",
        "        position:absolute;\n",
        "        top:0;\n",
        "        bottom:0;\n",
        "        right:0;\n",
        "        left:0;\n",
        "      }\n",
        "\n",
        "   </style>\n",
        "</head>\n",
        "\n",
        "<body>\n",
        "\n",
        "   <div class=&quot;folium-map&quot; id=&quot;folium_a271773559d44802a053b24c4c116352&quot; style=&quot;width: 960px; height: 500px&quot;></div>\n",
        "\n",
        "   <script>\n",
        "\n",
        "      function parse(spec, div) {\n",
        "\n",
        "    vg.parse.spec(spec, function(chart) { chart({el:div}).update(); });\n",
        "\n",
        "}\n",
        "\n",
        "      var map = L.map('folium_a271773559d44802a053b24c4c116352').setView([30.475, -81.05], 5);\n",
        "\n",
        "      L.tileLayer('http://{s}.tile.openstreetmap.org/{z}/{x}/{y}.png', {\n",
        "          maxZoom: 18,\n",
        "          attribution: 'Map data (c) <a href=&quot;http://openstreetmap.org&quot;>OpenStreetMap</a> contributors'\n",
        "      }).addTo(map);\n",
        "\n",
        "      \n",
        "      var marker_1 = L.marker([36.1833, -75.7467]);\n",
        "      marker_1.on('click', function() {\n",
        "      var div = $('<div id=&quot;station_8651370&quot; style=&quot;width: 475px; height: 250px;&quot;></div>')[0];\n",
        "      marker_1.bindPopup(div);\n",
        "      marker_1._popup.options.maxWidth = 960;\n",
        "      marker_1.openPopup();\n",
        "      parse('station_8651370.json', '#station_8651370');\n",
        "    });\n",
        "      map.addLayer(marker_1)\n",
        "      \n",
        "      var marker_2 = L.marker([35.795, -75.5483]);\n",
        "      marker_2.on('click', function() {\n",
        "      var div = $('<div id=&quot;station_8652587&quot; style=&quot;width: 475px; height: 250px;&quot;></div>')[0];\n",
        "      marker_2.bindPopup(div);\n",
        "      marker_2._popup.options.maxWidth = 960;\n",
        "      marker_2.openPopup();\n",
        "      parse('station_8652587.json', '#station_8652587');\n",
        "    });\n",
        "      map.addLayer(marker_2)\n",
        "      \n",
        "      var marker_3 = L.marker([34.2133, -77.7867]);\n",
        "      marker_3.on('click', function() {\n",
        "      var div = $('<div id=&quot;station_8658163&quot; style=&quot;width: 475px; height: 250px;&quot;></div>')[0];\n",
        "      marker_3.bindPopup(div);\n",
        "      marker_3._popup.options.maxWidth = 960;\n",
        "      marker_3.openPopup();\n",
        "      parse('station_8658163.json', '#station_8658163');\n",
        "    });\n",
        "      map.addLayer(marker_3)\n",
        "      \n",
        "      var marker_4 = L.marker([33.655, -78.9183]);\n",
        "      marker_4.on('click', function() {\n",
        "      var div = $('<div id=&quot;station_8661070&quot; style=&quot;width: 475px; height: 250px;&quot;></div>')[0];\n",
        "      marker_4.bindPopup(div);\n",
        "      marker_4._popup.options.maxWidth = 960;\n",
        "      marker_4.openPopup();\n",
        "      parse('station_8661070.json', '#station_8661070');\n",
        "    });\n",
        "      map.addLayer(marker_4)\n",
        "      \n",
        "      var marker_5 = L.marker([33.3517, -79.1867]);\n",
        "      marker_5.on('click', function() {\n",
        "      var div = $('<div id=&quot;station_8662245&quot; style=&quot;width: 475px; height: 250px;&quot;></div>')[0];\n",
        "      marker_5.bindPopup(div);\n",
        "      marker_5._popup.options.maxWidth = 960;\n",
        "      marker_5.openPopup();\n",
        "      parse('station_8662245.json', '#station_8662245');\n",
        "    });\n",
        "      map.addLayer(marker_5)\n",
        "      \n",
        "      var marker_6 = L.marker([32.7817, -79.925]);\n",
        "      marker_6.on('click', function() {\n",
        "      var div = $('<div id=&quot;station_8665530&quot; style=&quot;width: 475px; height: 250px;&quot;></div>')[0];\n",
        "      marker_6.bindPopup(div);\n",
        "      marker_6._popup.options.maxWidth = 960;\n",
        "      marker_6.openPopup();\n",
        "      parse('station_8665530.json', '#station_8665530');\n",
        "    });\n",
        "      map.addLayer(marker_6)\n",
        "      \n",
        "      var marker_7 = L.marker([30.6717, -81.465]);\n",
        "      marker_7.on('click', function() {\n",
        "      var div = $('<div id=&quot;station_8720030&quot; style=&quot;width: 475px; height: 250px;&quot;></div>')[0];\n",
        "      marker_7.bindPopup(div);\n",
        "      marker_7._popup.options.maxWidth = 960;\n",
        "      marker_7.openPopup();\n",
        "      parse('station_8720030.json', '#station_8720030');\n",
        "    });\n",
        "      map.addLayer(marker_7)\n",
        "      \n",
        "      var marker_8 = L.marker([30.3967, -81.43]);\n",
        "      marker_8.on('click', function() {\n",
        "      var div = $('<div id=&quot;station_8720218&quot; style=&quot;width: 475px; height: 250px;&quot;></div>')[0];\n",
        "      marker_8.bindPopup(div);\n",
        "      marker_8._popup.options.maxWidth = 960;\n",
        "      marker_8.openPopup();\n",
        "      parse('station_8720218.json', '#station_8720218');\n",
        "    });\n",
        "      map.addLayer(marker_8)\n",
        "      \n",
        "      var marker_9 = L.marker([30.3867, -81.5583]);\n",
        "      marker_9.on('click', function() {\n",
        "      var div = $('<div id=&quot;station_8720219&quot; style=&quot;width: 475px; height: 250px;&quot;></div>')[0];\n",
        "      marker_9.bindPopup(div);\n",
        "      marker_9._popup.options.maxWidth = 960;\n",
        "      marker_9.openPopup();\n",
        "      parse('station_8720219.json', '#station_8720219');\n",
        "    });\n",
        "      map.addLayer(marker_9)\n",
        "      \n",
        "      var marker_10 = L.marker([30.32, -81.6583]);\n",
        "      marker_10.on('click', function() {\n",
        "      var div = $('<div id=&quot;station_8720226&quot; style=&quot;width: 475px; height: 250px;&quot;></div>')[0];\n",
        "      marker_10.bindPopup(div);\n",
        "      marker_10._popup.options.maxWidth = 960;\n",
        "      marker_10.openPopup();\n",
        "      parse('station_8720226.json', '#station_8720226');\n",
        "    });\n",
        "      map.addLayer(marker_10)\n",
        "      \n",
        "      var marker_11 = L.marker([30.1917, -81.6917]);\n",
        "      marker_11.on('click', function() {\n",
        "      var div = $('<div id=&quot;station_8720357&quot; style=&quot;width: 475px; height: 250px;&quot;></div>')[0];\n",
        "      marker_11.bindPopup(div);\n",
        "      marker_11._popup.options.maxWidth = 960;\n",
        "      marker_11.openPopup();\n",
        "      parse('station_8720357.json', '#station_8720357');\n",
        "    });\n",
        "      map.addLayer(marker_11)\n",
        "      \n",
        "      var marker_12 = L.marker([29.9783, -81.6283]);\n",
        "      marker_12.on('click', function() {\n",
        "      var div = $('<div id=&quot;station_8720503&quot; style=&quot;width: 475px; height: 250px;&quot;></div>')[0];\n",
        "      marker_12.bindPopup(div);\n",
        "      marker_12._popup.options.maxWidth = 960;\n",
        "      marker_12.openPopup();\n",
        "      parse('station_8720503.json', '#station_8720503');\n",
        "    });\n",
        "      map.addLayer(marker_12)\n",
        "      \n",
        "      var marker_13 = L.marker([29.8017, -81.5483]);\n",
        "      marker_13.on('click', function() {\n",
        "      var div = $('<div id=&quot;station_8720625&quot; style=&quot;width: 475px; height: 250px;&quot;></div>')[0];\n",
        "      marker_13.bindPopup(div);\n",
        "      marker_13._popup.options.maxWidth = 960;\n",
        "      marker_13.openPopup();\n",
        "      parse('station_8720625.json', '#station_8720625');\n",
        "    });\n",
        "      map.addLayer(marker_13)\n",
        "      \n",
        "      var marker_14 = L.marker([28.4158, -80.5931]);\n",
        "      marker_14.on('click', function() {\n",
        "      var div = $('<div id=&quot;station_8721604&quot; style=&quot;width: 475px; height: 250px;&quot;></div>')[0];\n",
        "      marker_14.bindPopup(div);\n",
        "      marker_14._popup.options.maxWidth = 960;\n",
        "      marker_14.openPopup();\n",
        "      parse('station_8721604.json', '#station_8721604');\n",
        "    });\n",
        "      map.addLayer(marker_14)\n",
        "      \n",
        "      var marker_15 = L.marker([26.6117, -80.0333]);\n",
        "      marker_15.on('click', function() {\n",
        "      var div = $('<div id=&quot;station_8722670&quot; style=&quot;width: 475px; height: 250px;&quot;></div>')[0];\n",
        "      marker_15.bindPopup(div);\n",
        "      marker_15._popup.options.maxWidth = 960;\n",
        "      marker_15.openPopup();\n",
        "      parse('station_8722670.json', '#station_8722670');\n",
        "    });\n",
        "      map.addLayer(marker_15)\n",
        "      \n",
        "      var marker_16 = L.marker([25.7314, -80.1618]);\n",
        "      marker_16.on('click', function() {\n",
        "      var div = $('<div id=&quot;station_8723214&quot; style=&quot;width: 475px; height: 250px;&quot;></div>')[0];\n",
        "      marker_16.bindPopup(div);\n",
        "      marker_16._popup.options.maxWidth = 960;\n",
        "      marker_16.openPopup();\n",
        "      parse('station_8723214.json', '#station_8723214');\n",
        "    });\n",
        "      map.addLayer(marker_16)\n",
        "      \n",
        "      var marker_17 = L.marker([24.7117, -81.105]);\n",
        "      marker_17.on('click', function() {\n",
        "      var div = $('<div id=&quot;station_8723970&quot; style=&quot;width: 475px; height: 250px;&quot;></div>')[0];\n",
        "      marker_17.bindPopup(div);\n",
        "      marker_17._popup.options.maxWidth = 960;\n",
        "      marker_17.openPopup();\n",
        "      parse('station_8723970.json', '#station_8723970');\n",
        "    });\n",
        "      map.addLayer(marker_17)\n",
        "      \n",
        "      var marker_18 = L.marker([24.5557, -81.8079]);\n",
        "      marker_18.on('click', function() {\n",
        "      var div = $('<div id=&quot;station_8724580&quot; style=&quot;width: 475px; height: 250px;&quot;></div>')[0];\n",
        "      marker_18.bindPopup(div);\n",
        "      marker_18._popup.options.maxWidth = 960;\n",
        "      marker_18.openPopup();\n",
        "      parse('station_8724580.json', '#station_8724580');\n",
        "    });\n",
        "      map.addLayer(marker_18)\n",
        "      \n",
        "      var marker_19 = L.marker([26.1317, -81.8075]);\n",
        "      marker_19.on('click', function() {\n",
        "      var div = $('<div id=&quot;station_8725110&quot; style=&quot;width: 475px; height: 250px;&quot;></div>')[0];\n",
        "      marker_19.bindPopup(div);\n",
        "      marker_19._popup.options.maxWidth = 960;\n",
        "      marker_19.openPopup();\n",
        "      parse('station_8725110.json', '#station_8725110');\n",
        "    });\n",
        "      map.addLayer(marker_19)\n",
        "      \n",
        "      var marker_20 = L.marker([26.6477, -81.8712]);\n",
        "      marker_20.on('click', function() {\n",
        "      var div = $('<div id=&quot;station_8725520&quot; style=&quot;width: 475px; height: 250px;&quot;></div>')[0];\n",
        "      marker_20.bindPopup(div);\n",
        "      marker_20._popup.options.maxWidth = 960;\n",
        "      marker_20.openPopup();\n",
        "      parse('station_8725520.json', '#station_8725520');\n",
        "    });\n",
        "      map.addLayer(marker_20)\n",
        "      \n",
        "      var marker_21 = L.marker([27.6387, -82.5621]);\n",
        "      marker_21.on('click', function() {\n",
        "      var div = $('<div id=&quot;station_8726384&quot; style=&quot;width: 475px; height: 250px;&quot;></div>')[0];\n",
        "      marker_21.bindPopup(div);\n",
        "      marker_21._popup.options.maxWidth = 960;\n",
        "      marker_21.openPopup();\n",
        "      parse('station_8726384.json', '#station_8726384');\n",
        "    });\n",
        "      map.addLayer(marker_21)\n",
        "      \n",
        "      var marker_22 = L.marker([27.9133, -82.425]);\n",
        "      marker_22.on('click', function() {\n",
        "      var div = $('<div id=&quot;station_8726667&quot; style=&quot;width: 475px; height: 250px;&quot;></div>')[0];\n",
        "      marker_22.bindPopup(div);\n",
        "      marker_22._popup.options.maxWidth = 960;\n",
        "      marker_22.openPopup();\n",
        "      parse('station_8726667.json', '#station_8726667');\n",
        "    });\n",
        "      map.addLayer(marker_22)\n",
        "      \n",
        "      var marker_23 = L.marker([27.9783, -82.8317]);\n",
        "      marker_23.on('click', function() {\n",
        "      var div = $('<div id=&quot;station_8726724&quot; style=&quot;width: 475px; height: 250px;&quot;></div>')[0];\n",
        "      marker_23.bindPopup(div);\n",
        "      marker_23._popup.options.maxWidth = 960;\n",
        "      marker_23.openPopup();\n",
        "      parse('station_8726724.json', '#station_8726724');\n",
        "    });\n",
        "      map.addLayer(marker_23)\n",
        "      \n",
        "      var marker_24 = L.marker([29.135, -83.0317]);\n",
        "      marker_24.on('click', function() {\n",
        "      var div = $('<div id=&quot;station_8727520&quot; style=&quot;width: 475px; height: 250px;&quot;></div>')[0];\n",
        "      marker_24.bindPopup(div);\n",
        "      marker_24._popup.options.maxWidth = 960;\n",
        "      marker_24.openPopup();\n",
        "      parse('station_8727520.json', '#station_8727520');\n",
        "    });\n",
        "      map.addLayer(marker_24)\n",
        "      \n",
        "      var marker_25 = L.marker([29.7267, -84.9817]);\n",
        "      marker_25.on('click', function() {\n",
        "      var div = $('<div id=&quot;station_8728690&quot; style=&quot;width: 475px; height: 250px;&quot;></div>')[0];\n",
        "      marker_25.bindPopup(div);\n",
        "      marker_25._popup.options.maxWidth = 960;\n",
        "      marker_25.openPopup();\n",
        "      parse('station_8728690.json', '#station_8728690');\n",
        "    });\n",
        "      map.addLayer(marker_25)\n",
        "      \n",
        "      var marker_26 = L.marker([30.1523, -85.6669]);\n",
        "      marker_26.on('click', function() {\n",
        "      var div = $('<div id=&quot;station_8729108&quot; style=&quot;width: 475px; height: 250px;&quot;></div>')[0];\n",
        "      marker_26.bindPopup(div);\n",
        "      marker_26._popup.options.maxWidth = 960;\n",
        "      marker_26.openPopup();\n",
        "      parse('station_8729108.json', '#station_8729108');\n",
        "    });\n",
        "      map.addLayer(marker_26)\n",
        "      \n",
        "      var marker_27 = L.marker([30.4044, -87.2112]);\n",
        "      marker_27.on('click', function() {\n",
        "      var div = $('<div id=&quot;station_8729840&quot; style=&quot;width: 475px; height: 250px;&quot;></div>')[0];\n",
        "      marker_27.bindPopup(div);\n",
        "      marker_27._popup.options.maxWidth = 960;\n",
        "      marker_27.openPopup();\n",
        "      parse('station_8729840.json', '#station_8729840');\n",
        "    });\n",
        "      map.addLayer(marker_27)\n",
        "      \n",
        "\n",
        "      \n",
        "      var latLngs = [ [24.25, -87.4],  [24.25, -74.7],  [36.7, -74.7],  [36.7, -87.4],  [24.25, -87.4], ];\n",
        "var line_1 = L.polyline(latLngs,{\n",
        "color: '#FF0000',\n",
        "weight: 2,\n",
        "\n",
        "});\n",
        "      map.addLayer(line_1);\n",
        "      \n",
        "\n",
        "      \n",
        "\n",
        "      \n",
        "\n",
        "   </script>\n",
        "\n",
        "</body>\" style=\"width: 100%; height: 500px; border: none\"></iframe>"
       ],
       "metadata": {},
       "output_type": "pyout",
       "prompt_number": 17,
       "text": [
        "<IPython.core.display.HTML at 0xb091ad50>"
       ]
      }
     ],
     "prompt_number": 17
    },
    {
     "cell_type": "markdown",
     "metadata": {},
     "source": [
      "```python\n",
      "for station in dfs:\n",
      "    ax = dfs[station].dropna(axis=1, how='all').plot()\n",
      "    ax.set_title(get_coops_longname(station))\n",
      "    ax.set_ylim(-1, 1)\n",
      "```"
     ]
    }
   ],
   "metadata": {}
  }
 ]
}