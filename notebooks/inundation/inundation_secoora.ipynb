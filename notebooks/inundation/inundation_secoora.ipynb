{
 "metadata": {
  "name": "",
  "signature": "sha256:91d73e170542629ff06400562dda85f1da3d29035143655510880d2501462cc9"
 },
 "nbformat": 3,
 "nbformat_minor": 0,
 "worksheets": [
  {
   "cells": [
    {
     "cell_type": "code",
     "collapsed": false,
     "input": [
      "# Standard Library.\n",
      "import warnings\n",
      "warnings.filterwarnings(\"ignore\")\n",
      "from datetime import datetime, timedelta\n",
      "\n",
      "# Scientific stack.\n",
      "import iris\n",
      "iris.FUTURE.netcdf_promote = True\n",
      "import folium\n",
      "import vincent\n",
      "import numpy as np\n",
      "import matplotlib.pyplot as plt\n",
      "\n",
      "from pandas import DataFrame, read_csv, concat\n",
      "\n",
      "# Custom IOOS/ASA modules (available at PyPI).\n",
      "from owslib import fes\n",
      "from owslib.csw import CatalogueServiceWeb\n",
      "from pyoos.collectors.coops.coops_sos import CoopsSos\n",
      "\n",
      "# Local imports\n",
      "from utilities import (dateRange, get_coops_longname, coops2df,\n",
      "                       service_urls, inline_map, get_coordinates,\n",
      "                       get_cube, make_tree, get_nearest_water)"
     ],
     "language": "python",
     "metadata": {
      "input_collapsed": false
     },
     "outputs": [],
     "prompt_number": 1
    },
    {
     "cell_type": "code",
     "collapsed": false,
     "input": [
      "now = datetime.utcnow()\n",
      "\n",
      "start = now - timedelta(days=3)\n",
      "stop = now + timedelta(days=3)\n",
      "\n",
      "start_date = start.strftime('%Y-%m-%d %H:00')\n",
      "stop_date = stop.strftime('%Y-%m-%d %H:00')\n",
      "\n",
      "jd_start = datetime.strptime(start_date, '%Y-%m-%d %H:%M')\n",
      "jd_stop = datetime.strptime(stop_date, '%Y-%m-%d %H:%M')\n",
      "\n",
      "print('%s to %s' % (start_date, stop_date))"
     ],
     "language": "python",
     "metadata": {
      "code_folding": []
     },
     "outputs": [
      {
       "output_type": "stream",
       "stream": "stdout",
       "text": [
        "2014-06-30 11:00 to 2014-07-06 11:00\n"
       ]
      }
     ],
     "prompt_number": 2
    },
    {
     "cell_type": "code",
     "collapsed": false,
     "input": [
      "name_list = ['water level',\n",
      "             'sea_surface_height',\n",
      "             'sea_surface_elevation',\n",
      "             'sea_surface_height_above_geoid',\n",
      "             'sea_surface_height_above_sea_level',\n",
      "             'water_surface_height_above_reference_datum',\n",
      "             'sea_surface_height_above_reference_ellipsoid']\n",
      "\n",
      "bounding_box_type = \"box\"\n",
      "bounding_box = [[-87.4, 24.25],\n",
      "                [-74.7, 36.70]]  # SECOORA: NC, SC GA, FL\n",
      "\n",
      "box = []\n",
      "box.append(bounding_box[0][0])\n",
      "box.append(bounding_box[0][1])\n",
      "box.append(bounding_box[1][0])\n",
      "box.append(bounding_box[1][1])\n",
      "\n",
      "start, stop = dateRange(start_date, stop_date)\n",
      "bbox = fes.BBox(box)\n",
      "\n",
      "or_filt = fes.Or([fes.PropertyIsLike(propertyname='apiso:AnyText',\n",
      "                                     literal=('*%s*' % val),\n",
      "                                     escapeChar='\\\\',\n",
      "                                     wildCard='*',\n",
      "                                     singleChar='?') for val in name_list])\n",
      "\n",
      "val = 'Averages'\n",
      "not_filt = fes.Not([fes.PropertyIsLike(propertyname='apiso:AnyText',\n",
      "                                       literal=('*%s*' % val),\n",
      "                                       escapeChar='\\\\',\n",
      "                                       wildCard='*',\n",
      "                                       singleChar='?')])\n",
      "\n",
      "filter_list = [fes.And([bbox, start, stop, or_filt, not_filt])]"
     ],
     "language": "python",
     "metadata": {
      "code_folding": []
     },
     "outputs": [],
     "prompt_number": 3
    },
    {
     "cell_type": "code",
     "collapsed": false,
     "input": [
      "endpoint = 'http://www.ngdc.noaa.gov/geoportal/csw'\n",
      "csw = CatalogueServiceWeb(endpoint, timeout=60)\n",
      "csw.getrecords2(constraints=filter_list, maxrecords=1000, esn='full')\n",
      "\n",
      "if True:\n",
      "    print(\"CSW version: %s\" % csw.version)\n",
      "    print(\"Number of datasets available: %s\" % len(csw.records.keys()))"
     ],
     "language": "python",
     "metadata": {
      "code_folding": []
     },
     "outputs": [
      {
       "output_type": "stream",
       "stream": "stdout",
       "text": [
        "CSW version: 2.0.2\n",
        "Number of datasets available: 13\n"
       ]
      }
     ],
     "prompt_number": 4
    },
    {
     "cell_type": "code",
     "collapsed": false,
     "input": [
      "dap_urls = service_urls(csw.records, service='odp:url')\n",
      "sos_urls = service_urls(csw.records, service='sos:url')\n",
      "\n",
      "if True:\n",
      "    print(\"CSW:\")\n",
      "    for rec, item in csw.records.items():\n",
      "        print(item.title)\n",
      "    print(\"\\nDAP:\")\n",
      "    print(\"\\n\".join(dap_urls))\n",
      "    print(\"\\nSOS:\")\n",
      "    print(\"\\n\".join(sos_urls))"
     ],
     "language": "python",
     "metadata": {
      "code_folding": []
     },
     "outputs": [
      {
       "output_type": "stream",
       "stream": "stdout",
       "text": [
        "CSW:\n",
        "ROMS/TOMS 3.0 - New Floria Shelf Application\n",
        "ROMS/TOMS 3.0 - South-Atlantic Bight and Gulf of Mexico\n",
        "USEAST\n",
        "COAWST Forecast System : USGS : US East Coast and Gulf of Mexico (Experimental)\n",
        "ROMS ESPRESSO Real-Time Operational IS4DVAR Forecast System Version 2 (NEW) 2013-present FMRC History (Best)\n",
        "Barotropic Tide Model for the Pacific Basin\n",
        "TBOFS - Tampa Bay Operational Forecast System - NOAA CO-OPS - POM\n",
        "NDBC Standard Meteorological Buoy Data\n",
        "HYbrid Coordinate Ocean Model (HYCOM): Global\n",
        "CBOFS - Chesapeake Bay Operational Forecast System - NOAA CO-OPS - POM\n",
        "ESTOFS Storm Surge Model - Atlantic - v1.0.0 - NOAA - NCEP - ADCIRC\n",
        "NECOFS GOM3 (FVCOM) - Northeast US - Latest Forecast\n",
        "NECOFS GOM3 Wave - Northeast US - Latest Forecast\n",
        "\n",
        "DAP:\n",
        "http://crow.marine.usf.edu:8080/thredds/dodsC/WFS_ROMS_NF_model/USF_Ocean_Circulation_Group_West_Florida_Shelf_Daily_ROMS_Nowcast_Forecast_Model_Data_best.ncd\n",
        "http://omgsrv1.meas.ncsu.edu:8080/thredds/dodsC/fmrc/sabgom/SABGOM_Forecast_Model_Run_Collection_best.ncd\n",
        "http://omgsrv1.meas.ncsu.edu:8080/thredds/dodsC/fmrc/us_east/US_East_Forecast_Model_Run_Collection_best.ncd\n",
        "http://geoport.whoi.edu/thredds/dodsC/coawst_4/use/fmrc/coawst_4_use_best.ncd\n",
        "http://tds.marine.rutgers.edu/thredds/dodsC/roms/espresso/2013_da/his_Best/ESPRESSO_Real-Time_v2_History_Best_Available_best.ncd\n",
        "http://oos.soest.hawaii.edu/thredds/dodsC/hioos/tide_pac\n",
        "http://opendap.co-ops.nos.noaa.gov/thredds/dodsC/TBOFS/fmrc/Aggregated_7_day_TBOFS_Fields_Forecast_best.ncd\n",
        "http://oos.soest.hawaii.edu/thredds/dodsC/pacioos/hycom/global\n",
        "http://opendap.co-ops.nos.noaa.gov/thredds/dodsC/CBOFS/fmrc/Aggregated_7_day_CBOFS_Fields_Forecast_best.ncd\n",
        "http://geoport-dev.whoi.edu/thredds/dodsC/estofs/atlantic\n",
        "http://www.smast.umassd.edu:8080/thredds/dodsC/FVCOM/NECOFS/Forecasts/NECOFS_GOM3_FORECAST.nc\n",
        "http://www.smast.umassd.edu:8080/thredds/dodsC/FVCOM/NECOFS/Forecasts/NECOFS_WAVE_FORECAST.nc\n",
        "\n",
        "SOS:\n",
        "\n"
       ]
      }
     ],
     "prompt_number": 5
    },
    {
     "cell_type": "code",
     "collapsed": false,
     "input": [
      "sos_name = 'water_surface_height_above_reference_datum'\n",
      "\n",
      "collector = CoopsSos()\n",
      "\n",
      "collector.set_datum('NAVD')\n",
      "collector.server.identification.title\n",
      "collector.start_time = jd_start\n",
      "collector.end_time = jd_stop\n",
      "collector.variables = [sos_name]\n",
      "\n",
      "ofrs = collector.server.offerings\n",
      "if True:\n",
      "    print(len(ofrs))"
     ],
     "language": "python",
     "metadata": {
      "code_folding": []
     },
     "outputs": [
      {
       "output_type": "stream",
       "stream": "stdout",
       "text": [
        "1026\n"
       ]
      }
     ],
     "prompt_number": 6
    },
    {
     "cell_type": "code",
     "collapsed": false,
     "input": [
      "iso_start = jd_start.strftime('%Y-%m-%dT%H:%M:%SZ')\n",
      "iso_stop = jd_stop.strftime('%Y-%m-%dT%H:%M:%SZ')\n",
      "box_str = ','.join(str(e) for e in box)\n",
      "\n",
      "print(\"Date: %s to %s\" % (iso_start, iso_stop))\n",
      "print(\"Lat/Lon Box: %s\" % box_str)"
     ],
     "language": "python",
     "metadata": {},
     "outputs": [
      {
       "output_type": "stream",
       "stream": "stdout",
       "text": [
        "Date: 2014-06-30T11:00:00Z to 2014-07-06T11:00:00Z\n",
        "Lat/Lon Box: -87.4,24.25,-74.7,36.7\n"
       ]
      }
     ],
     "prompt_number": 7
    },
    {
     "cell_type": "code",
     "collapsed": false,
     "input": [
      "url = ('http://opendap.co-ops.nos.noaa.gov/ioos-dif-sos/SOS?'\n",
      "       'service=SOS&request=GetObservation&version=1.0.0&'\n",
      "       'observedProperty=%s&offering=urn:ioos:network:NOAA.NOS.CO-OPS:'\n",
      "       'WaterLevelActive&featureOfInterest=BBOX:%s&responseFormat='\n",
      "       'text/csv&eventTime=%s' % (sos_name, box_str, iso_start))\n",
      "\n",
      "observations = read_csv(url)\n",
      "\n",
      "print(url)"
     ],
     "language": "python",
     "metadata": {
      "code_folding": []
     },
     "outputs": [
      {
       "output_type": "stream",
       "stream": "stdout",
       "text": [
        "http://opendap.co-ops.nos.noaa.gov/ioos-dif-sos/SOS?service=SOS&request=GetObservation&version=1.0.0&observedProperty=water_surface_height_above_reference_datum&offering=urn:ioos:network:NOAA.NOS.CO-OPS:WaterLevelActive&featureOfInterest=BBOX:-87.4,24.25,-74.7,36.7&responseFormat=text/csv&eventTime=2014-06-30T11:00:00Z\n"
       ]
      }
     ],
     "prompt_number": 8
    },
    {
     "cell_type": "code",
     "collapsed": false,
     "input": [
      "# Clean the dataframe.\n",
      "columns = {'station_id': 'station',\n",
      "           'sensor_id': 'sensor',\n",
      "           'datum_id': 'datum',\n",
      "           'latitude (degree)': 'lat',\n",
      "           'longitude (degree)': 'lon',\n",
      "           'vertical_position (m)': 'height',\n",
      "           'water_surface_height_above_reference_datum (m)': 'ssh above datum'}\n",
      "\n",
      "observations.rename(columns=columns, inplace=True)\n",
      "\n",
      "observations['station'] = [s.split(':')[-1] for s in observations['station']]\n",
      "observations['sensor'] = [s.split(':')[-1] for s in observations['sensor']]\n",
      "observations['datum'] = [s.split(':')[-1] for s in observations['datum']]\n",
      "observations['name'] = [get_coops_longname(s) for s in observations['station']]\n",
      "\n",
      "observations.set_index('name', inplace=True)"
     ],
     "language": "python",
     "metadata": {
      "code_folding": []
     },
     "outputs": [],
     "prompt_number": 9
    },
    {
     "cell_type": "code",
     "collapsed": false,
     "input": [
      "observations.head()"
     ],
     "language": "python",
     "metadata": {},
     "outputs": [
      {
       "html": [
        "<div style=\"max-height:1000px;max-width:1500px;overflow:auto;\">\n",
        "<table border=\"1\" class=\"dataframe\">\n",
        "  <thead>\n",
        "    <tr style=\"text-align: right;\">\n",
        "      <th></th>\n",
        "      <th>station</th>\n",
        "      <th>sensor</th>\n",
        "      <th>lat</th>\n",
        "      <th>lon</th>\n",
        "      <th>date_time</th>\n",
        "      <th>ssh above datum</th>\n",
        "      <th>datum</th>\n",
        "      <th>height</th>\n",
        "    </tr>\n",
        "    <tr>\n",
        "      <th>name</th>\n",
        "      <th></th>\n",
        "      <th></th>\n",
        "      <th></th>\n",
        "      <th></th>\n",
        "      <th></th>\n",
        "      <th></th>\n",
        "      <th></th>\n",
        "      <th></th>\n",
        "    </tr>\n",
        "  </thead>\n",
        "  <tbody>\n",
        "    <tr>\n",
        "      <th>Duck, NC</th>\n",
        "      <td> 8651370</td>\n",
        "      <td> A1</td>\n",
        "      <td> 36.1833</td>\n",
        "      <td>-75.7467</td>\n",
        "      <td> 2014-06-30T11:00:00Z</td>\n",
        "      <td> 0.518</td>\n",
        "      <td> MLLW</td>\n",
        "      <td> 5.663</td>\n",
        "    </tr>\n",
        "    <tr>\n",
        "      <th>Oregon Inlet Marina, NC</th>\n",
        "      <td> 8652587</td>\n",
        "      <td> A1</td>\n",
        "      <td> 35.7950</td>\n",
        "      <td>-75.5483</td>\n",
        "      <td> 2014-06-30T11:00:00Z</td>\n",
        "      <td> 0.196</td>\n",
        "      <td> MLLW</td>\n",
        "      <td> 0.788</td>\n",
        "    </tr>\n",
        "    <tr>\n",
        "      <th>USCG Station Hatteras, NC</th>\n",
        "      <td> 8654467</td>\n",
        "      <td> A1</td>\n",
        "      <td> 35.2086</td>\n",
        "      <td>-75.7042</td>\n",
        "      <td> 2014-06-30T11:00:00Z</td>\n",
        "      <td> 0.176</td>\n",
        "      <td> MLLW</td>\n",
        "      <td> 8.345</td>\n",
        "    </tr>\n",
        "    <tr>\n",
        "      <th>Beaufort, NC</th>\n",
        "      <td> 8656483</td>\n",
        "      <td> A1</td>\n",
        "      <td> 34.7200</td>\n",
        "      <td>-76.6700</td>\n",
        "      <td> 2014-06-30T11:00:00Z</td>\n",
        "      <td> 0.528</td>\n",
        "      <td> MLLW</td>\n",
        "      <td> 0.562</td>\n",
        "    </tr>\n",
        "    <tr>\n",
        "      <th>Wilmington, NC</th>\n",
        "      <td> 8658120</td>\n",
        "      <td> A1</td>\n",
        "      <td> 34.2267</td>\n",
        "      <td>-77.9533</td>\n",
        "      <td> 2014-06-30T11:00:00Z</td>\n",
        "      <td> 0.176</td>\n",
        "      <td> MLLW</td>\n",
        "      <td> 0.747</td>\n",
        "    </tr>\n",
        "  </tbody>\n",
        "</table>\n",
        "</div>"
       ],
       "metadata": {},
       "output_type": "pyout",
       "prompt_number": 10,
       "text": [
        "                           station sensor      lat      lon  \\\n",
        "name                                                          \n",
        "Duck, NC                   8651370     A1  36.1833 -75.7467   \n",
        "Oregon Inlet Marina, NC    8652587     A1  35.7950 -75.5483   \n",
        "USCG Station Hatteras, NC  8654467     A1  35.2086 -75.7042   \n",
        "Beaufort, NC               8656483     A1  34.7200 -76.6700   \n",
        "Wilmington, NC             8658120     A1  34.2267 -77.9533   \n",
        "\n",
        "                                      date_time  ssh above datum datum  height  \n",
        "name                                                                            \n",
        "Duck, NC                   2014-06-30T11:00:00Z            0.518  MLLW   5.663  \n",
        "Oregon Inlet Marina, NC    2014-06-30T11:00:00Z            0.196  MLLW   0.788  \n",
        "USCG Station Hatteras, NC  2014-06-30T11:00:00Z            0.176  MLLW   8.345  \n",
        "Beaufort, NC               2014-06-30T11:00:00Z            0.528  MLLW   0.562  \n",
        "Wilmington, NC             2014-06-30T11:00:00Z            0.176  MLLW   0.747  "
       ]
      }
     ],
     "prompt_number": 10
    },
    {
     "cell_type": "markdown",
     "metadata": {},
     "source": [
      "Generate a uniform 6-min time base for model/data comparison:"
     ]
    },
    {
     "cell_type": "code",
     "collapsed": false,
     "input": [
      "from owslib.ows import ExceptionReport\n",
      "\n",
      "data = dict()\n",
      "\n",
      "for s in observations.station:\n",
      "    try:\n",
      "        b = coops2df(collector, s, sos_name)\n",
      "        b = b['water_surface_height_above_reference_datum (m)']\n",
      "        data.update({s: b})\n",
      "    except ExceptionReport as e:\n",
      "        print(\"Station %s is not NAVD datum. %s\" % (s, e))\n",
      "\n",
      "obs_data = DataFrame.from_dict(data)\n",
      "\n",
      "obs_data.head()"
     ],
     "language": "python",
     "metadata": {},
     "outputs": [
      {
       "output_type": "stream",
       "stream": "stdout",
       "text": [
        "Station 8654467 is not NAVD datum. 'Wrong Datum for this station: The correct Datum values are: MHHW, MHW, MTL, MSL, MLW, MLLW, STND'\n",
        "Station 8656483 is not NAVD datum. 'Wrong Datum for this station: The correct Datum values are: MHHW, MHW, MTL, MSL, MLW, MLLW, STND'"
       ]
      },
      {
       "output_type": "stream",
       "stream": "stdout",
       "text": [
        "\n",
        "Station 8658120 is not NAVD datum. 'Wrong Datum for this station: The correct Datum values are: MHHW, MHW, MTL, MSL, MLW, MLLW, STND'"
       ]
      },
      {
       "output_type": "stream",
       "stream": "stdout",
       "text": [
        "\n",
        "Station 8726520 is not NAVD datum. 'Wrong Datum for this station: The correct Datum values are: MHHW, MHW, MTL, MSL, MLW, MLLW, STND'"
       ]
      },
      {
       "output_type": "stream",
       "stream": "stdout",
       "text": [
        "\n",
        "Station 8726607 is not NAVD datum. 'Wrong Datum for this station: The correct Datum values are: MHHW, MHW, MTL, MSL, MLW, MLLW, STND'"
       ]
      },
      {
       "output_type": "stream",
       "stream": "stdout",
       "text": [
        "\n",
        "Station 8729210 is not NAVD datum. 'Wrong Datum for this station: The correct Datum values are: MHHW, MHW, MTL, MSL, MLW, MLLW, STND'"
       ]
      },
      {
       "output_type": "stream",
       "stream": "stdout",
       "text": [
        "\n"
       ]
      },
      {
       "html": [
        "<div style=\"max-height:1000px;max-width:1500px;overflow:auto;\">\n",
        "<table border=\"1\" class=\"dataframe\">\n",
        "  <thead>\n",
        "    <tr style=\"text-align: right;\">\n",
        "      <th></th>\n",
        "      <th>8651370</th>\n",
        "      <th>8652587</th>\n",
        "      <th>8658163</th>\n",
        "      <th>8661070</th>\n",
        "      <th>8662245</th>\n",
        "      <th>8665530</th>\n",
        "      <th>8720030</th>\n",
        "      <th>8720218</th>\n",
        "      <th>8720219</th>\n",
        "      <th>8720226</th>\n",
        "      <th>...</th>\n",
        "      <th>8723214</th>\n",
        "      <th>8723970</th>\n",
        "      <th>8724580</th>\n",
        "      <th>8725110</th>\n",
        "      <th>8725520</th>\n",
        "      <th>8726384</th>\n",
        "      <th>8727520</th>\n",
        "      <th>8728690</th>\n",
        "      <th>8729108</th>\n",
        "      <th>8729840</th>\n",
        "    </tr>\n",
        "    <tr>\n",
        "      <th>date_time</th>\n",
        "      <th></th>\n",
        "      <th></th>\n",
        "      <th></th>\n",
        "      <th></th>\n",
        "      <th></th>\n",
        "      <th></th>\n",
        "      <th></th>\n",
        "      <th></th>\n",
        "      <th></th>\n",
        "      <th></th>\n",
        "      <th></th>\n",
        "      <th></th>\n",
        "      <th></th>\n",
        "      <th></th>\n",
        "      <th></th>\n",
        "      <th></th>\n",
        "      <th></th>\n",
        "      <th></th>\n",
        "      <th></th>\n",
        "      <th></th>\n",
        "      <th></th>\n",
        "    </tr>\n",
        "  </thead>\n",
        "  <tbody>\n",
        "    <tr>\n",
        "      <th>2014-06-30 11:00:00</th>\n",
        "      <td>-0.149</td>\n",
        "      <td>-0.019</td>\n",
        "      <td>-0.041</td>\n",
        "      <td>-0.080</td>\n",
        "      <td>-0.169</td>\n",
        "      <td>-0.037</td>\n",
        "      <td>-0.377</td>\n",
        "      <td>-0.238</td>\n",
        "      <td>-0.283</td>\n",
        "      <td>-0.102</td>\n",
        "      <td>...</td>\n",
        "      <td>-0.363</td>\n",
        "      <td>-0.159</td>\n",
        "      <td>-0.286</td>\n",
        "      <td>-0.154</td>\n",
        "      <td>-0.057</td>\n",
        "      <td>-0.088</td>\n",
        "      <td> 0.069</td>\n",
        "      <td> 0.080</td>\n",
        "      <td> 0.048</td>\n",
        "      <td> 0.089</td>\n",
        "    </tr>\n",
        "    <tr>\n",
        "      <th>2014-06-30 11:06:00</th>\n",
        "      <td>-0.111</td>\n",
        "      <td>-0.015</td>\n",
        "      <td>-0.009</td>\n",
        "      <td>-0.048</td>\n",
        "      <td>-0.140</td>\n",
        "      <td>-0.006</td>\n",
        "      <td>-0.350</td>\n",
        "      <td>-0.210</td>\n",
        "      <td>-0.276</td>\n",
        "      <td>-0.100</td>\n",
        "      <td>...</td>\n",
        "      <td>-0.354</td>\n",
        "      <td>-0.153</td>\n",
        "      <td>-0.285</td>\n",
        "      <td>-0.159</td>\n",
        "      <td>-0.053</td>\n",
        "      <td>-0.090</td>\n",
        "      <td> 0.055</td>\n",
        "      <td> 0.092</td>\n",
        "      <td> 0.050</td>\n",
        "      <td> 0.093</td>\n",
        "    </tr>\n",
        "    <tr>\n",
        "      <th>2014-06-30 11:12:00</th>\n",
        "      <td>-0.087</td>\n",
        "      <td>-0.011</td>\n",
        "      <td> 0.036</td>\n",
        "      <td>-0.007</td>\n",
        "      <td>-0.112</td>\n",
        "      <td> 0.028</td>\n",
        "      <td>-0.320</td>\n",
        "      <td>-0.182</td>\n",
        "      <td>-0.268</td>\n",
        "      <td>-0.097</td>\n",
        "      <td>...</td>\n",
        "      <td>-0.346</td>\n",
        "      <td>-0.149</td>\n",
        "      <td>-0.277</td>\n",
        "      <td>-0.168</td>\n",
        "      <td>-0.049</td>\n",
        "      <td>-0.096</td>\n",
        "      <td> 0.039</td>\n",
        "      <td> 0.100</td>\n",
        "      <td> 0.052</td>\n",
        "      <td> 0.091</td>\n",
        "    </tr>\n",
        "    <tr>\n",
        "      <th>2014-06-30 11:18:00</th>\n",
        "      <td>-0.049</td>\n",
        "      <td>-0.008</td>\n",
        "      <td> 0.079</td>\n",
        "      <td> 0.014</td>\n",
        "      <td>-0.083</td>\n",
        "      <td> 0.063</td>\n",
        "      <td>-0.289</td>\n",
        "      <td>-0.155</td>\n",
        "      <td>-0.253</td>\n",
        "      <td>-0.095</td>\n",
        "      <td>...</td>\n",
        "      <td>-0.331</td>\n",
        "      <td>-0.150</td>\n",
        "      <td>-0.265</td>\n",
        "      <td>-0.192</td>\n",
        "      <td>-0.045</td>\n",
        "      <td>-0.098</td>\n",
        "      <td> 0.020</td>\n",
        "      <td> 0.104</td>\n",
        "      <td> 0.052</td>\n",
        "      <td> 0.095</td>\n",
        "    </tr>\n",
        "    <tr>\n",
        "      <th>2014-06-30 11:24:00</th>\n",
        "      <td>-0.032</td>\n",
        "      <td>-0.003</td>\n",
        "      <td> 0.085</td>\n",
        "      <td> 0.039</td>\n",
        "      <td>-0.051</td>\n",
        "      <td> 0.101</td>\n",
        "      <td>-0.258</td>\n",
        "      <td>-0.133</td>\n",
        "      <td>-0.246</td>\n",
        "      <td>-0.097</td>\n",
        "      <td>...</td>\n",
        "      <td>-0.323</td>\n",
        "      <td>-0.151</td>\n",
        "      <td>-0.267</td>\n",
        "      <td>-0.220</td>\n",
        "      <td>-0.041</td>\n",
        "      <td>-0.102</td>\n",
        "      <td> 0.001</td>\n",
        "      <td> 0.103</td>\n",
        "      <td> 0.050</td>\n",
        "      <td> 0.100</td>\n",
        "    </tr>\n",
        "  </tbody>\n",
        "</table>\n",
        "<p>5 rows \u00d7 25 columns</p>\n",
        "</div>"
       ],
       "metadata": {},
       "output_type": "pyout",
       "prompt_number": 11,
       "text": [
        "                     8651370  8652587  8658163  8661070  8662245  8665530  \\\n",
        "date_time                                                                   \n",
        "2014-06-30 11:00:00   -0.149   -0.019   -0.041   -0.080   -0.169   -0.037   \n",
        "2014-06-30 11:06:00   -0.111   -0.015   -0.009   -0.048   -0.140   -0.006   \n",
        "2014-06-30 11:12:00   -0.087   -0.011    0.036   -0.007   -0.112    0.028   \n",
        "2014-06-30 11:18:00   -0.049   -0.008    0.079    0.014   -0.083    0.063   \n",
        "2014-06-30 11:24:00   -0.032   -0.003    0.085    0.039   -0.051    0.101   \n",
        "\n",
        "                     8720030  8720218  8720219  8720226   ...     8723214  \\\n",
        "date_time                                                 ...               \n",
        "2014-06-30 11:00:00   -0.377   -0.238   -0.283   -0.102   ...      -0.363   \n",
        "2014-06-30 11:06:00   -0.350   -0.210   -0.276   -0.100   ...      -0.354   \n",
        "2014-06-30 11:12:00   -0.320   -0.182   -0.268   -0.097   ...      -0.346   \n",
        "2014-06-30 11:18:00   -0.289   -0.155   -0.253   -0.095   ...      -0.331   \n",
        "2014-06-30 11:24:00   -0.258   -0.133   -0.246   -0.097   ...      -0.323   \n",
        "\n",
        "                     8723970  8724580  8725110  8725520  8726384  8727520  \\\n",
        "date_time                                                                   \n",
        "2014-06-30 11:00:00   -0.159   -0.286   -0.154   -0.057   -0.088    0.069   \n",
        "2014-06-30 11:06:00   -0.153   -0.285   -0.159   -0.053   -0.090    0.055   \n",
        "2014-06-30 11:12:00   -0.149   -0.277   -0.168   -0.049   -0.096    0.039   \n",
        "2014-06-30 11:18:00   -0.150   -0.265   -0.192   -0.045   -0.098    0.020   \n",
        "2014-06-30 11:24:00   -0.151   -0.267   -0.220   -0.041   -0.102    0.001   \n",
        "\n",
        "                     8728690  8729108  8729840  \n",
        "date_time                                       \n",
        "2014-06-30 11:00:00    0.080    0.048    0.089  \n",
        "2014-06-30 11:06:00    0.092    0.050    0.093  \n",
        "2014-06-30 11:12:00    0.100    0.052    0.091  \n",
        "2014-06-30 11:18:00    0.104    0.052    0.095  \n",
        "2014-06-30 11:24:00    0.103    0.050    0.100  \n",
        "\n",
        "[5 rows x 25 columns]"
       ]
      }
     ],
     "prompt_number": 11
    },
    {
     "cell_type": "markdown",
     "metadata": {},
     "source": [
      "### Get model output from OPeNDAP URLS"
     ]
    },
    {
     "cell_type": "code",
     "collapsed": false,
     "input": [
      "name_in_list = lambda cube: cube.standard_name in name_list\n",
      "constraint = iris.Constraint(cube_func=name_in_list)"
     ],
     "language": "python",
     "metadata": {},
     "outputs": [],
     "prompt_number": 12
    },
    {
     "cell_type": "code",
     "collapsed": false,
     "input": [
      "# Use only data where the standard deviation of the time series exceeds 0.01 m\n",
      "# (1 cm) this eliminates flat line model time series that come from land\n",
      "# points that should have had missing values.\n",
      "min_var = 0.01\n",
      "\n",
      "# Use only data within 0.04 degrees (about 4 km).\n",
      "max_dist = 0.04"
     ],
     "language": "python",
     "metadata": {},
     "outputs": [],
     "prompt_number": 13
    },
    {
     "cell_type": "code",
     "collapsed": false,
     "input": [
      "import cartopy.crs as ccrs\n",
      "from cartopy.mpl.gridliner import LONGITUDE_FORMATTER, LATITUDE_FORMATTER\n",
      "\n",
      "\n",
      "def plt_grid(lon, lat, i, j):\n",
      "    fig, ax = plt.subplots(figsize=(6, 6),\n",
      "                           subplot_kw=dict(projection=ccrs.PlateCarree()))\n",
      "    ax.coastlines('10m', color='k', zorder=3)\n",
      "    gl = ax.gridlines(crs=ccrs.PlateCarree(), draw_labels=True,\n",
      "                      linewidth=1.5, color='gray', alpha=0.5, linestyle='--')\n",
      "    gl.xlabels_top = gl.ylabels_right = False\n",
      "    gl.xformatter = LONGITUDE_FORMATTER\n",
      "    gl.yformatter = LATITUDE_FORMATTER\n",
      "    if (lon.ndim == 1) and (lon.size != lat.size):\n",
      "        lon, lat = np.meshgrid(lon, lat)\n",
      "    ax.plot(lon, lat, '.', color='gray', alpha=0.25, zorder=0,\n",
      "            label='Model')\n",
      "    ax.plot(observations.lon, observations.lat, 'ro', zorder=1,\n",
      "            label='Observation')\n",
      "    if cube.ndim == 3:\n",
      "        ax.plot(lon[i, j], lat[i, j], 'g.', zorder=2, label='Model@Obs')\n",
      "    else:\n",
      "        ax.plot(lon[i], lat[i], 'g.', label='Model@Obs')\n",
      "    ax.set_title(mod_name)\n",
      "    return fig, ax"
     ],
     "language": "python",
     "metadata": {
      "code_folding": [
       4
      ]
     },
     "outputs": [],
     "prompt_number": 14
    },
    {
     "cell_type": "markdown",
     "metadata": {},
     "source": [
      "```python\n",
      "url = dap_urls[0]  # Plotting SABGOM only for now to avoid a big output.\n",
      "\n",
      "cube = get_cube(url, constraint, jd_start, jd_stop)\n",
      "# Cube metadata.\n",
      "mod_name = cube.attributes['title']\n",
      "lat = cube.coord(axis='Y').points\n",
      "lon = cube.coord(axis='X').points\n",
      "print('%s:\\n%s\\n' % (mod_name, url))\n",
      "# Find the closest non-land point from a structured grid model.\n",
      "tree, lon, lat = make_tree(cube)\n",
      "\n",
      "for station, obs in observations.iterrows():\n",
      "    try:\n",
      "        data = get_nearest_water(cube, tree, obs.lon, obs.lat,\n",
      "                                 shape=lon.shape, k=100)\n",
      "        a = obs_data[obs.station]\n",
      "        data.name = mod_name\n",
      "        df = concat([a, data], axis=1).sort_index().interpolate().ix[a.index]\n",
      "        ax = df.plot(legend=False)\n",
      "        patches, labels = ax.get_legend_handles_labels()\n",
      "        ax.legend(patches, labels, bbox_to_anchor=(1.5, 1.15),\n",
      "                  ncol=3, fancybox=True, shadow=True)\n",
      "    except (ValueError, KeyError) as e:\n",
      "        print(e)  # TODO: Output station object with name instead of position.\n",
      "```"
     ]
    },
    {
     "cell_type": "code",
     "collapsed": false,
     "input": [
      "url = dap_urls[0]  # Plotting SABGOM only for now to avoid a big output.\n",
      "\n",
      "cube = get_cube(url, constraint, jd_start, jd_stop)\n",
      "# Cube metadata.\n",
      "mod_name = cube.attributes['title']\n",
      "lat = cube.coord(axis='Y').points\n",
      "lon = cube.coord(axis='X').points\n",
      "print('%s:\\n%s\\n' % (mod_name, url))\n",
      "# Find the closest non-land point from a structured grid model.\n",
      "tree, lon, lat = make_tree(cube)"
     ],
     "language": "python",
     "metadata": {},
     "outputs": [
      {
       "output_type": "stream",
       "stream": "stdout",
       "text": [
        "ROMS/TOMS 3.0 - New Floria Shelf Application:\n",
        "http://crow.marine.usf.edu:8080/thredds/dodsC/WFS_ROMS_NF_model/USF_Ocean_Circulation_Group_West_Florida_Shelf_Daily_ROMS_Nowcast_Forecast_Model_Data_best.ncd\n",
        "\n"
       ]
      }
     ],
     "prompt_number": 15
    },
    {
     "cell_type": "code",
     "collapsed": false,
     "input": [
      "m = folium.Map(location=[np.mean(bounding_box, axis=0)[1],\n",
      "                         np.mean(bounding_box, axis=0)[0]],\n",
      "               zoom_start=5)\n",
      "\n",
      "# Create the map and add the bounding box line.\n",
      "m.line(get_coordinates(bounding_box, bounding_box_type),\n",
      "       line_color='#FF0000', line_weight=2)\n",
      "\n",
      "html = '<b>Station:</b><br>%s<br><b>Long Name:</b><br>%s'\n",
      "for station, obs in observations.iterrows():\n",
      "    df = None\n",
      "    try:\n",
      "        data = get_nearest_water(cube, tree, obs.lon, obs.lat,\n",
      "                                 shape=lon.shape, k=100)\n",
      "        data.name = mod_name\n",
      "        a = obs_data[obs['station']]\n",
      "        df = concat([a, data], axis=1).sort_index().interpolate().ix[a.index]\n",
      "    except (ValueError, KeyError) as e:\n",
      "        print(e)  # TODO: Output station object with name instead of position.\n",
      "\n",
      "    if df is not None:\n",
      "        vis = vincent.Line(df,\n",
      "                           width=400, height=200)\n",
      "        vis.axis_titles(x='Time', y='Sea surface height (m)')\n",
      "        vis.legend(title=obs.name)\n",
      "        json = 'station_%s.json' % obs['station']\n",
      "        vis.to_json(json)\n",
      "        m.simple_marker(location=[obs['lat'], obs['lon']],\n",
      "                        popup=(vis, json))\n",
      "    else:\n",
      "        popup_string = html % (obs['station'], obs.name)\n",
      "        m.circle_marker(location=[obs['lat'], obs['lon']],\n",
      "                         fill_color='#FF0000', popup=popup_string)\n",
      "        \n",
      "m.create_map(path='inundation.html')\n",
      "inline_map(m)"
     ],
     "language": "python",
     "metadata": {},
     "outputs": [
      {
       "output_type": "stream",
       "stream": "stdout",
       "text": [
        "No data found at -75.7467,36.1833 using min_var=0.01.\n",
        "No data found at -75.5483,35.795 using min_var=0.01."
       ]
      },
      {
       "output_type": "stream",
       "stream": "stdout",
       "text": [
        "\n",
        "No data found at -75.7042,35.2086 using min_var=0.01."
       ]
      },
      {
       "output_type": "stream",
       "stream": "stdout",
       "text": [
        "\n",
        "No data found at -76.67,34.72 using min_var=0.01."
       ]
      },
      {
       "output_type": "stream",
       "stream": "stdout",
       "text": [
        "\n",
        "No data found at -77.9533,34.2267 using min_var=0.01."
       ]
      },
      {
       "output_type": "stream",
       "stream": "stdout",
       "text": [
        "\n",
        "No data found at -77.7867,34.2133 using min_var=0.01."
       ]
      },
      {
       "output_type": "stream",
       "stream": "stdout",
       "text": [
        "\n",
        "No data found at -78.9183,33.655 using min_var=0.01."
       ]
      },
      {
       "output_type": "stream",
       "stream": "stdout",
       "text": [
        "\n",
        "No data found at -79.1867,33.3517 using min_var=0.01."
       ]
      },
      {
       "output_type": "stream",
       "stream": "stdout",
       "text": [
        "\n",
        "No data found at -79.925,32.7817 using min_var=0.01."
       ]
      },
      {
       "output_type": "stream",
       "stream": "stdout",
       "text": [
        "\n",
        "No data found at -81.465,30.6717 using min_var=0.01."
       ]
      },
      {
       "output_type": "stream",
       "stream": "stdout",
       "text": [
        "\n",
        "No data found at -81.43,30.3967 using min_var=0.01."
       ]
      },
      {
       "output_type": "stream",
       "stream": "stdout",
       "text": [
        "\n",
        "No data found at -81.5583,30.3867 using min_var=0.01."
       ]
      },
      {
       "output_type": "stream",
       "stream": "stdout",
       "text": [
        "\n",
        "No data found at -81.6583,30.32 using min_var=0.01."
       ]
      },
      {
       "output_type": "stream",
       "stream": "stdout",
       "text": [
        "\n",
        "No data found at -81.6917,30.1917 using min_var=0.01."
       ]
      },
      {
       "output_type": "stream",
       "stream": "stdout",
       "text": [
        "\n",
        "No data found at -81.6283,29.9783 using min_var=0.01."
       ]
      },
      {
       "output_type": "stream",
       "stream": "stdout",
       "text": [
        "\n",
        "No data found at -81.5483,29.8017 using min_var=0.01."
       ]
      },
      {
       "output_type": "stream",
       "stream": "stdout",
       "text": [
        "\n",
        "No data found at -80.5931,28.4158 using min_var=0.01."
       ]
      },
      {
       "output_type": "stream",
       "stream": "stdout",
       "text": [
        "\n",
        "No data found at -80.0333,26.6117 using min_var=0.01."
       ]
      },
      {
       "output_type": "stream",
       "stream": "stdout",
       "text": [
        "\n",
        "No data found at -80.1618,25.7314 using min_var=0.01."
       ]
      },
      {
       "output_type": "stream",
       "stream": "stdout",
       "text": [
        "\n",
        "No data found at -81.105,24.7117 using min_var=0.01."
       ]
      },
      {
       "output_type": "stream",
       "stream": "stdout",
       "text": [
        "\n",
        "No data found at -81.8079,24.5557 using min_var=0.01."
       ]
      },
      {
       "output_type": "stream",
       "stream": "stdout",
       "text": [
        "\n",
        "No data found at -81.8712,26.6477 using min_var=0.01."
       ]
      },
      {
       "output_type": "stream",
       "stream": "stdout",
       "text": [
        "\n",
        "No data found at -82.6269,27.7606 using min_var=0.01."
       ]
      },
      {
       "output_type": "stream",
       "stream": "stdout",
       "text": [
        "\n",
        "'8726607'"
       ]
      },
      {
       "output_type": "stream",
       "stream": "stdout",
       "text": [
        "\n",
        "No data found at -85.8783,30.2133 using min_var=0.01."
       ]
      },
      {
       "output_type": "stream",
       "stream": "stdout",
       "text": [
        "\n"
       ]
      },
      {
       "html": [
        "<iframe srcdoc=\"<!DOCTYPE html>\n",
        "<head>\n",
        "   <meta http-equiv=&quot;content-type&quot; content=&quot;text/html; charset=UTF-8&quot; />\n",
        "   <link rel=&quot;stylesheet&quot; href=&quot;http://cdn.leafletjs.com/leaflet-0.7.2/leaflet.css&quot; />\n",
        "   <script src=&quot;http://cdn.leafletjs.com/leaflet-0.7.2/leaflet.js&quot;></script>\n",
        "\n",
        "   \n",
        "   <script src=&quot;http://d3js.org/d3.v3.min.js&quot; charset=&quot;utf-8&quot;></script>\n",
        "   <script src=&quot;http://trifacta.github.io/vega/vega.js&quot;></script>\n",
        "   <script src=&quot;https://code.jquery.com/jquery-2.1.0.min.js&quot;></script>\n",
        "\n",
        "\n",
        "   <style>\n",
        "\n",
        "      #map {\n",
        "        position:absolute;\n",
        "        top:0;\n",
        "        bottom:0;\n",
        "        right:0;\n",
        "        left:0;\n",
        "      }\n",
        "\n",
        "   </style>\n",
        "</head>\n",
        "\n",
        "<body>\n",
        "\n",
        "   <div class=&quot;folium-map&quot; id=&quot;folium_79c89e43ac0f448d8496bff246391504&quot; style=&quot;width: 960px; height: 500px&quot;></div>\n",
        "\n",
        "   <script>\n",
        "\n",
        "      function parse(spec, div) {\n",
        "\n",
        "    vg.parse.spec(spec, function(chart) { chart({el:div}).update(); });\n",
        "\n",
        "}\n",
        "\n",
        "      var map = L.map('folium_79c89e43ac0f448d8496bff246391504').setView([30.475, -81.05], 5);\n",
        "\n",
        "      L.tileLayer('http://{s}.tile.openstreetmap.org/{z}/{x}/{y}.png', {\n",
        "          maxZoom: 18,\n",
        "          attribution: 'Map data (c) <a href=&quot;http://openstreetmap.org&quot;>OpenStreetMap</a> contributors'\n",
        "      }).addTo(map);\n",
        "\n",
        "      \n",
        "      var circle_1 = L.circle([36.1833, -75.7467], 500, {\n",
        "                            color: 'black',\n",
        "                            fillColor: '#FF0000',\n",
        "                            fillOpacity: 0.6\n",
        "                            });\n",
        "      circle_1.bindPopup(&quot;<b>Station:</b><br>8651370<br><b>Long Name:</b><br>Duck, NC&quot;);\n",
        "      map.addLayer(circle_1)\n",
        "      \n",
        "      var circle_2 = L.circle([35.795, -75.5483], 500, {\n",
        "                            color: 'black',\n",
        "                            fillColor: '#FF0000',\n",
        "                            fillOpacity: 0.6\n",
        "                            });\n",
        "      circle_2.bindPopup(&quot;<b>Station:</b><br>8652587<br><b>Long Name:</b><br>Oregon Inlet Marina, NC&quot;);\n",
        "      map.addLayer(circle_2)\n",
        "      \n",
        "      var circle_3 = L.circle([35.2086, -75.7042], 500, {\n",
        "                            color: 'black',\n",
        "                            fillColor: '#FF0000',\n",
        "                            fillOpacity: 0.6\n",
        "                            });\n",
        "      circle_3.bindPopup(&quot;<b>Station:</b><br>8654467<br><b>Long Name:</b><br>USCG Station Hatteras, NC&quot;);\n",
        "      map.addLayer(circle_3)\n",
        "      \n",
        "      var circle_4 = L.circle([34.72, -76.67], 500, {\n",
        "                            color: 'black',\n",
        "                            fillColor: '#FF0000',\n",
        "                            fillOpacity: 0.6\n",
        "                            });\n",
        "      circle_4.bindPopup(&quot;<b>Station:</b><br>8656483<br><b>Long Name:</b><br>Beaufort, NC&quot;);\n",
        "      map.addLayer(circle_4)\n",
        "      \n",
        "      var circle_5 = L.circle([34.2267, -77.9533], 500, {\n",
        "                            color: 'black',\n",
        "                            fillColor: '#FF0000',\n",
        "                            fillOpacity: 0.6\n",
        "                            });\n",
        "      circle_5.bindPopup(&quot;<b>Station:</b><br>8658120<br><b>Long Name:</b><br>Wilmington, NC&quot;);\n",
        "      map.addLayer(circle_5)\n",
        "      \n",
        "      var circle_6 = L.circle([34.2133, -77.7867], 500, {\n",
        "                            color: 'black',\n",
        "                            fillColor: '#FF0000',\n",
        "                            fillOpacity: 0.6\n",
        "                            });\n",
        "      circle_6.bindPopup(&quot;<b>Station:</b><br>8658163<br><b>Long Name:</b><br>Wrightsville Beach, NC&quot;);\n",
        "      map.addLayer(circle_6)\n",
        "      \n",
        "      var circle_7 = L.circle([33.655, -78.9183], 500, {\n",
        "                            color: 'black',\n",
        "                            fillColor: '#FF0000',\n",
        "                            fillOpacity: 0.6\n",
        "                            });\n",
        "      circle_7.bindPopup(&quot;<b>Station:</b><br>8661070<br><b>Long Name:</b><br>Springmaid Pier, SC&quot;);\n",
        "      map.addLayer(circle_7)\n",
        "      \n",
        "      var circle_8 = L.circle([33.3517, -79.1867], 500, {\n",
        "                            color: 'black',\n",
        "                            fillColor: '#FF0000',\n",
        "                            fillOpacity: 0.6\n",
        "                            });\n",
        "      circle_8.bindPopup(&quot;<b>Station:</b><br>8662245<br><b>Long Name:</b><br>Oyster Landing (N Inlet Estuary), SC&quot;);\n",
        "      map.addLayer(circle_8)\n",
        "      \n",
        "      var circle_9 = L.circle([32.7817, -79.925], 500, {\n",
        "                            color: 'black',\n",
        "                            fillColor: '#FF0000',\n",
        "                            fillOpacity: 0.6\n",
        "                            });\n",
        "      circle_9.bindPopup(&quot;<b>Station:</b><br>8665530<br><b>Long Name:</b><br>Charleston, SC&quot;);\n",
        "      map.addLayer(circle_9)\n",
        "      \n",
        "      var circle_10 = L.circle([30.6717, -81.465], 500, {\n",
        "                            color: 'black',\n",
        "                            fillColor: '#FF0000',\n",
        "                            fillOpacity: 0.6\n",
        "                            });\n",
        "      circle_10.bindPopup(&quot;<b>Station:</b><br>8720030<br><b>Long Name:</b><br>Fernandina Beach, FL&quot;);\n",
        "      map.addLayer(circle_10)\n",
        "      \n",
        "      var circle_11 = L.circle([30.3967, -81.43], 500, {\n",
        "                            color: 'black',\n",
        "                            fillColor: '#FF0000',\n",
        "                            fillOpacity: 0.6\n",
        "                            });\n",
        "      circle_11.bindPopup(&quot;<b>Station:</b><br>8720218<br><b>Long Name:</b><br>Mayport (Bar Pilots Dock), FL&quot;);\n",
        "      map.addLayer(circle_11)\n",
        "      \n",
        "      var circle_12 = L.circle([30.3867, -81.5583], 500, {\n",
        "                            color: 'black',\n",
        "                            fillColor: '#FF0000',\n",
        "                            fillOpacity: 0.6\n",
        "                            });\n",
        "      circle_12.bindPopup(&quot;<b>Station:</b><br>8720219<br><b>Long Name:</b><br>Dames Point, FL&quot;);\n",
        "      map.addLayer(circle_12)\n",
        "      \n",
        "      var circle_13 = L.circle([30.32, -81.6583], 500, {\n",
        "                            color: 'black',\n",
        "                            fillColor: '#FF0000',\n",
        "                            fillOpacity: 0.6\n",
        "                            });\n",
        "      circle_13.bindPopup(&quot;<b>Station:</b><br>8720226<br><b>Long Name:</b><br>Southbank Riverwalk, St Johns River, FL&quot;);\n",
        "      map.addLayer(circle_13)\n",
        "      \n",
        "      var circle_14 = L.circle([30.1917, -81.6917], 500, {\n",
        "                            color: 'black',\n",
        "                            fillColor: '#FF0000',\n",
        "                            fillOpacity: 0.6\n",
        "                            });\n",
        "      circle_14.bindPopup(&quot;<b>Station:</b><br>8720357<br><b>Long Name:</b><br>I-295 Bridge, St Johns River, FL&quot;);\n",
        "      map.addLayer(circle_14)\n",
        "      \n",
        "      var circle_15 = L.circle([29.9783, -81.6283], 500, {\n",
        "                            color: 'black',\n",
        "                            fillColor: '#FF0000',\n",
        "                            fillOpacity: 0.6\n",
        "                            });\n",
        "      circle_15.bindPopup(&quot;<b>Station:</b><br>8720503<br><b>Long Name:</b><br>Red Bay Point, St Johns River, FL&quot;);\n",
        "      map.addLayer(circle_15)\n",
        "      \n",
        "      var circle_16 = L.circle([29.8017, -81.5483], 500, {\n",
        "                            color: 'black',\n",
        "                            fillColor: '#FF0000',\n",
        "                            fillOpacity: 0.6\n",
        "                            });\n",
        "      circle_16.bindPopup(&quot;<b>Station:</b><br>8720625<br><b>Long Name:</b><br>Racy Point, St Johns River, FL&quot;);\n",
        "      map.addLayer(circle_16)\n",
        "      \n",
        "      var circle_17 = L.circle([28.4158, -80.5931], 500, {\n",
        "                            color: 'black',\n",
        "                            fillColor: '#FF0000',\n",
        "                            fillOpacity: 0.6\n",
        "                            });\n",
        "      circle_17.bindPopup(&quot;<b>Station:</b><br>8721604<br><b>Long Name:</b><br>Trident Pier, FL&quot;);\n",
        "      map.addLayer(circle_17)\n",
        "      \n",
        "      var circle_18 = L.circle([26.6117, -80.0333], 500, {\n",
        "                            color: 'black',\n",
        "                            fillColor: '#FF0000',\n",
        "                            fillOpacity: 0.6\n",
        "                            });\n",
        "      circle_18.bindPopup(&quot;<b>Station:</b><br>8722670<br><b>Long Name:</b><br>Lake Worth Pier, FL&quot;);\n",
        "      map.addLayer(circle_18)\n",
        "      \n",
        "      var circle_19 = L.circle([25.7314, -80.1618], 500, {\n",
        "                            color: 'black',\n",
        "                            fillColor: '#FF0000',\n",
        "                            fillOpacity: 0.6\n",
        "                            });\n",
        "      circle_19.bindPopup(&quot;<b>Station:</b><br>8723214<br><b>Long Name:</b><br>Virginia Key, FL&quot;);\n",
        "      map.addLayer(circle_19)\n",
        "      \n",
        "      var circle_20 = L.circle([24.7117, -81.105], 500, {\n",
        "                            color: 'black',\n",
        "                            fillColor: '#FF0000',\n",
        "                            fillOpacity: 0.6\n",
        "                            });\n",
        "      circle_20.bindPopup(&quot;<b>Station:</b><br>8723970<br><b>Long Name:</b><br>Vaca Key, FL&quot;);\n",
        "      map.addLayer(circle_20)\n",
        "      \n",
        "      var circle_21 = L.circle([24.5557, -81.8079], 500, {\n",
        "                            color: 'black',\n",
        "                            fillColor: '#FF0000',\n",
        "                            fillOpacity: 0.6\n",
        "                            });\n",
        "      circle_21.bindPopup(&quot;<b>Station:</b><br>8724580<br><b>Long Name:</b><br>Key West, FL&quot;);\n",
        "      map.addLayer(circle_21)\n",
        "      \n",
        "      var marker_1 = L.marker([26.1317, -81.8075]);\n",
        "      marker_1.on('click', function() {\n",
        "      var div = $('<div id=&quot;station_8725110&quot; style=&quot;width: 475px; height: 250px;&quot;></div>')[0];\n",
        "      marker_1.bindPopup(div);\n",
        "      marker_1._popup.options.maxWidth = 960;\n",
        "      marker_1.openPopup();\n",
        "      parse('station_8725110.json', '#station_8725110');\n",
        "    });\n",
        "      map.addLayer(marker_1)\n",
        "      \n",
        "      var circle_22 = L.circle([26.6477, -81.8712], 500, {\n",
        "                            color: 'black',\n",
        "                            fillColor: '#FF0000',\n",
        "                            fillOpacity: 0.6\n",
        "                            });\n",
        "      circle_22.bindPopup(&quot;<b>Station:</b><br>8725520<br><b>Long Name:</b><br>Fort Myers, FL&quot;);\n",
        "      map.addLayer(circle_22)\n",
        "      \n",
        "      var marker_2 = L.marker([27.6387, -82.5621]);\n",
        "      marker_2.on('click', function() {\n",
        "      var div = $('<div id=&quot;station_8726384&quot; style=&quot;width: 475px; height: 250px;&quot;></div>')[0];\n",
        "      marker_2.bindPopup(div);\n",
        "      marker_2._popup.options.maxWidth = 960;\n",
        "      marker_2.openPopup();\n",
        "      parse('station_8726384.json', '#station_8726384');\n",
        "    });\n",
        "      map.addLayer(marker_2)\n",
        "      \n",
        "      var circle_23 = L.circle([27.7606, -82.6269], 500, {\n",
        "                            color: 'black',\n",
        "                            fillColor: '#FF0000',\n",
        "                            fillOpacity: 0.6\n",
        "                            });\n",
        "      circle_23.bindPopup(&quot;<b>Station:</b><br>8726520<br><b>Long Name:</b><br>St Petersburg, FL&quot;);\n",
        "      map.addLayer(circle_23)\n",
        "      \n",
        "      var circle_24 = L.circle([27.8578, -82.5527], 500, {\n",
        "                            color: 'black',\n",
        "                            fillColor: '#FF0000',\n",
        "                            fillOpacity: 0.6\n",
        "                            });\n",
        "      circle_24.bindPopup(&quot;<b>Station:</b><br>8726607<br><b>Long Name:</b><br>Old Port Tampa, FL&quot;);\n",
        "      map.addLayer(circle_24)\n",
        "      \n",
        "      var marker_3 = L.marker([29.135, -83.0317]);\n",
        "      marker_3.on('click', function() {\n",
        "      var div = $('<div id=&quot;station_8727520&quot; style=&quot;width: 475px; height: 250px;&quot;></div>')[0];\n",
        "      marker_3.bindPopup(div);\n",
        "      marker_3._popup.options.maxWidth = 960;\n",
        "      marker_3.openPopup();\n",
        "      parse('station_8727520.json', '#station_8727520');\n",
        "    });\n",
        "      map.addLayer(marker_3)\n",
        "      \n",
        "      var marker_4 = L.marker([29.7267, -84.9817]);\n",
        "      marker_4.on('click', function() {\n",
        "      var div = $('<div id=&quot;station_8728690&quot; style=&quot;width: 475px; height: 250px;&quot;></div>')[0];\n",
        "      marker_4.bindPopup(div);\n",
        "      marker_4._popup.options.maxWidth = 960;\n",
        "      marker_4.openPopup();\n",
        "      parse('station_8728690.json', '#station_8728690');\n",
        "    });\n",
        "      map.addLayer(marker_4)\n",
        "      \n",
        "      var marker_5 = L.marker([30.1523, -85.6669]);\n",
        "      marker_5.on('click', function() {\n",
        "      var div = $('<div id=&quot;station_8729108&quot; style=&quot;width: 475px; height: 250px;&quot;></div>')[0];\n",
        "      marker_5.bindPopup(div);\n",
        "      marker_5._popup.options.maxWidth = 960;\n",
        "      marker_5.openPopup();\n",
        "      parse('station_8729108.json', '#station_8729108');\n",
        "    });\n",
        "      map.addLayer(marker_5)\n",
        "      \n",
        "      var circle_25 = L.circle([30.2133, -85.8783], 500, {\n",
        "                            color: 'black',\n",
        "                            fillColor: '#FF0000',\n",
        "                            fillOpacity: 0.6\n",
        "                            });\n",
        "      circle_25.bindPopup(&quot;<b>Station:</b><br>8729210<br><b>Long Name:</b><br>Panama City Beach, FL&quot;);\n",
        "      map.addLayer(circle_25)\n",
        "      \n",
        "      var marker_6 = L.marker([30.4044, -87.2112]);\n",
        "      marker_6.on('click', function() {\n",
        "      var div = $('<div id=&quot;station_8729840&quot; style=&quot;width: 475px; height: 250px;&quot;></div>')[0];\n",
        "      marker_6.bindPopup(div);\n",
        "      marker_6._popup.options.maxWidth = 960;\n",
        "      marker_6.openPopup();\n",
        "      parse('station_8729840.json', '#station_8729840');\n",
        "    });\n",
        "      map.addLayer(marker_6)\n",
        "      \n",
        "\n",
        "      \n",
        "      var latLngs = [ [24.25, -87.4],  [24.25, -74.7],  [36.7, -74.7],  [36.7, -87.4],  [24.25, -87.4], ];\n",
        "var line_1 = L.polyline(latLngs,{\n",
        "color: '#FF0000',\n",
        "weight: 2,\n",
        "\n",
        "});\n",
        "      map.addLayer(line_1);\n",
        "      \n",
        "\n",
        "      \n",
        "\n",
        "      \n",
        "\n",
        "   </script>\n",
        "\n",
        "</body>\" style=\"width: 100%; height: 500px; border: none\"></iframe>"
       ],
       "metadata": {},
       "output_type": "pyout",
       "prompt_number": 16,
       "text": [
        "<IPython.core.display.HTML at 0x6781f50>"
       ]
      }
     ],
     "prompt_number": 16
    }
   ],
   "metadata": {}
  }
 ]
}