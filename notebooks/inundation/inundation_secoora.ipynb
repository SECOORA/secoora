{
 "metadata": {
  "name": "",
  "signature": "sha256:088955d651c6eaa97145c51781f0344c96305cf4ebc51d21810cddbeb1d26c7c"
 },
 "nbformat": 3,
 "nbformat_minor": 0,
 "worksheets": [
  {
   "cells": [
    {
     "cell_type": "code",
     "collapsed": false,
     "input": [
      "import sys\n",
      "sys.path.append(\"..\")\n",
      "\n",
      "# Standard Library.\n",
      "from warnings import warn\n",
      "from datetime import datetime, timedelta\n",
      "\n",
      "# Scientific stack.\n",
      "import iris\n",
      "iris.FUTURE.netcdf_promote = True\n",
      "import folium\n",
      "import numpy as np\n",
      "import cartopy.crs as ccrs\n",
      "import matplotlib.pyplot as plt\n",
      "from shapely.geometry import Polygon, Point, LineString\n",
      "from pandas import DataFrame, date_range, read_csv, concat\n",
      "from iris.exceptions import CoordinateNotFoundError, ConstraintMismatchError\n",
      "\n",
      "# Custom IOOS/ASA modules (available at PyPI).\n",
      "from owslib import fes\n",
      "from owslib.csw import CatalogueServiceWeb\n",
      "from pyoos.collectors.coops.coops_sos import CoopsSos\n",
      "\n",
      "# Local imports\n",
      "from utilities import name_list, sos_name\n",
      "from utilities import (find_timevar, find_ij, nearxy,\n",
      "                       dateRange, get_coops_longname, coops2df, \n",
      "                       mod_df, service_urls, inline_map, get_coordinates, get_nearest)"
     ],
     "language": "python",
     "metadata": {
      "input_collapsed": false
     },
     "outputs": []
    },
    {
     "cell_type": "code",
     "collapsed": false,
     "input": [
      "now = datetime.utcnow()\n",
      "\n",
      "start = now - timedelta(days=3)\n",
      "stop = now + timedelta(days=3)\n",
      "\n",
      "start_date = start.strftime('%Y-%m-%d %H:00')\n",
      "stop_date = stop.strftime('%Y-%m-%d %H:00')\n",
      "time_date_range = [start_date, stop_date]\n",
      "\n",
      "jd_start = datetime.strptime(start_date, '%Y-%m-%d %H:%M')\n",
      "jd_stop = datetime.strptime(stop_date, '%Y-%m-%d %H:%M')\n",
      "\n",
      "print('%s to %s' % (start_date, stop_date))"
     ],
     "language": "python",
     "metadata": {
      "code_folding": []
     },
     "outputs": []
    },
    {
     "cell_type": "code",
     "collapsed": false,
     "input": [
      "bounding_box_type = \"box\"\n",
      "bounding_box = [[-87.4, 24.25],\n",
      "                [-74.7, 36.70]]  # SECOORA: NC, SC GA, FL\n",
      "\n",
      "box = []\n",
      "box.append(bounding_box[0][0])\n",
      "box.append(bounding_box[0][1])\n",
      "box.append(bounding_box[1][0])\n",
      "box.append(bounding_box[1][1])\n",
      "\n",
      "start, stop = dateRange(start_date, stop_date)\n",
      "bbox = fes.BBox(box)\n",
      "\n",
      "or_filt = fes.Or([fes.PropertyIsLike(propertyname='apiso:AnyText',\n",
      "                                     literal=('*%s*' % val),\n",
      "                                     escapeChar='\\\\',\n",
      "                                     wildCard='*',\n",
      "                                     singleChar='?') for val in name_list])\n",
      "\n",
      "val = 'Averages'\n",
      "not_filt = fes.Not([fes.PropertyIsLike(propertyname='apiso:AnyText',\n",
      "                                       literal=('*%s*' % val),\n",
      "                                       escapeChar='\\\\',\n",
      "                                       wildCard='*',\n",
      "                                       singleChar='?')])\n",
      "\n",
      "filter_list = [fes.And([bbox, start, stop, or_filt, not_filt])]"
     ],
     "language": "python",
     "metadata": {
      "code_folding": [
       13,
       20
      ]
     },
     "outputs": []
    },
    {
     "cell_type": "code",
     "collapsed": false,
     "input": [
      "CSW = {'NGDC Geoportal':\n",
      "       'http://www.ngdc.noaa.gov/geoportal/csw',\n",
      "       'USGS WHSC Geoportal':\n",
      "       'http://geoport.whoi.edu/geoportal/csw',\n",
      "       'NODC Geoportal: granule level':\n",
      "       'http://www.nodc.noaa.gov/geoportal/csw',\n",
      "       'NODC Geoportal: collection level':\n",
      "       'http://data.nodc.noaa.gov/geoportal/csw',\n",
      "       'NRCAN CUSTOM':\n",
      "       'http://geodiscover.cgdi.ca/wes/serviceManagerCSW/csw',\n",
      "       'USGS Woods Hole GI_CAT':\n",
      "       'http://geoport.whoi.edu/gi-cat/services/cswiso',\n",
      "       'USGS CIDA Geonetwork':\n",
      "       'http://cida.usgs.gov/gdp/geonetwork/srv/en/csw',\n",
      "       'USGS Coastal and Marine Program':\n",
      "       'http://cmgds.marine.usgs.gov/geonetwork/srv/en/csw',\n",
      "       'USGS Woods Hole Geoportal':\n",
      "       'http://geoport.whoi.edu/geoportal/csw',\n",
      "       'CKAN testing site for new Data.gov':\n",
      "       'http://geo.gov.ckan.org/csw',\n",
      "       'EPA':\n",
      "       'https://edg.epa.gov/metadata/csw',\n",
      "       'CWIC':\n",
      "       'http://cwic.csiss.gmu.edu/cwicv1/discovery'}\n",
      "\n",
      "endpoint = CSW['NGDC Geoportal']\n",
      "csw = CatalogueServiceWeb(endpoint, timeout=60)\n",
      "csw.getrecords2(constraints=filter_list, maxrecords=1000, esn='full')\n",
      "\n",
      "if True:\n",
      "    print(\"CSW version: %s\" % csw.version)\n",
      "    print(\"Number of datasets available: %s\" % len(csw.records.keys()))"
     ],
     "language": "python",
     "metadata": {
      "code_folding": [
       0,
       29
      ]
     },
     "outputs": []
    },
    {
     "cell_type": "code",
     "collapsed": false,
     "input": [
      "dap_urls = service_urls(csw.records, service='odp:url')\n",
      "sos_urls = service_urls(csw.records, service='sos:url')\n",
      "\n",
      "if True:\n",
      "    print(\"CSW:\")\n",
      "    for rec, item in csw.records.items():\n",
      "        print(item.title)\n",
      "    print(\"\\nDAP:\")\n",
      "    print(\"\\n\".join(dap_urls))\n",
      "    print(\"\\nSOS:\")\n",
      "    print(\"\\n\".join(sos_urls))"
     ],
     "language": "python",
     "metadata": {
      "code_folding": []
     },
     "outputs": []
    },
    {
     "cell_type": "markdown",
     "metadata": {},
     "source": [
      "# The datum should be NAVD! But all the data found find are MLLW."
     ]
    },
    {
     "cell_type": "code",
     "collapsed": false,
     "input": [
      "collector = CoopsSos()\n",
      "\n",
      "collector.set_datum('MLLW')\n",
      "collector.server.identification.title\n",
      "collector.start_time = jd_start\n",
      "collector.end_time = jd_stop\n",
      "collector.variables = [sos_name]\n",
      "\n",
      "ofrs = collector.server.offerings\n",
      "if False:\n",
      "    print(len(ofrs))"
     ],
     "language": "python",
     "metadata": {
      "code_folding": [
       9
      ]
     },
     "outputs": []
    },
    {
     "cell_type": "code",
     "collapsed": false,
     "input": [
      "iso_start = jd_start.strftime('%Y-%m-%dT%H:%M:%SZ')\n",
      "iso_stop = jd_stop.strftime('%Y-%m-%dT%H:%M:%SZ')\n",
      "box_str = ','.join(str(e) for e in box)\n",
      "\n",
      "print(\"Date: %s to %s\" % (iso_start, iso_stop))\n",
      "print(\"Lat/Lon Box: %s\" % box_str)"
     ],
     "language": "python",
     "metadata": {},
     "outputs": []
    },
    {
     "cell_type": "code",
     "collapsed": false,
     "input": [
      "url = ('http://opendap.co-ops.nos.noaa.gov/ioos-dif-sos/SOS?'\n",
      "       'service=SOS&request=GetObservation&version=1.0.0&'\n",
      "       'observedProperty=%s&offering=urn:ioos:network:NOAA.NOS.CO-OPS:'\n",
      "       'WaterLevelActive&featureOfInterest=BBOX:%s&responseFormat='\n",
      "       'text/csv&eventTime=%s' % (sos_name, box_str, iso_start))\n",
      "\n",
      "observations = read_csv(url)\n",
      "if True:\n",
      "    print(url)"
     ],
     "language": "python",
     "metadata": {
      "code_folding": [
       0,
       7
      ]
     },
     "outputs": []
    },
    {
     "cell_type": "code",
     "collapsed": false,
     "input": [
      "# Clean the dataframe.\n",
      "columns = {'station_id': 'station',\n",
      "           'sensor_id': 'sensor',\n",
      "           'datum_id': 'datum',\n",
      "           'latitude (degree)': 'lat',\n",
      "           'longitude (degree)': 'lon',\n",
      "           'vertical_position (m)': 'height',\n",
      "           'water_surface_height_above_reference_datum (m)': 'ssh above datum'}\n",
      "\n",
      "observations.rename(columns=columns, inplace=True)\n",
      "\n",
      "observations['station'] = [sta.split(':')[-1] for sta in observations['station']]\n",
      "observations['sensor'] = [sta.split(':')[-1] for sta in observations['sensor']]\n",
      "observations['datum'] = [sta.split(':')[-1] for sta in observations['datum']]\n",
      "observations['name'] = [get_coops_longname(sta) for sta in observations['station']]\n",
      "\n",
      "observations.set_index('name', inplace=True)"
     ],
     "language": "python",
     "metadata": {
      "code_folding": [
       1
      ]
     },
     "outputs": []
    },
    {
     "cell_type": "code",
     "collapsed": false,
     "input": [
      "observations.head()"
     ],
     "language": "python",
     "metadata": {},
     "outputs": []
    },
    {
     "cell_type": "markdown",
     "metadata": {},
     "source": [
      "Generate a uniform 6-min time base for model/data comparison:"
     ]
    },
    {
     "cell_type": "code",
     "collapsed": false,
     "input": [
      "data = dict()\n",
      "\n",
      "for sta in observations.station:\n",
      "    b = coops2df(collector, sta, sos_name)['water_surface_height_above_reference_datum (m)']\n",
      "    data.update({sta: b})\n",
      "\n",
      "obs_data = DataFrame.from_dict(data)"
     ],
     "language": "python",
     "metadata": {},
     "outputs": []
    },
    {
     "cell_type": "code",
     "collapsed": false,
     "input": [
      "obs_data.head()"
     ],
     "language": "python",
     "metadata": {},
     "outputs": []
    },
    {
     "cell_type": "code",
     "collapsed": false,
     "input": [
      "m = folium.Map(location=[np.mean(bounding_box, axis=0)[1],\n",
      "                         np.mean(bounding_box, axis=0)[0]],\n",
      "               zoom_start=5)\n",
      "\n",
      "# Create the map and add the bounding box line.\n",
      "m.line(get_coordinates(bounding_box, bounding_box_type),\n",
      "       line_color='#FF0000', line_weight=2)\n",
      "\n",
      "for station, row in observations.iterrows():\n",
      "    if row['datum'] == 'NADV':\n",
      "        popup_string = '<b>Station:</b><br>%s<br><b>Long Name:</b><br>%s' % (station, row['name'])\n",
      "        m.simple_marker(location=[row['lat'], row['lon']], popup=popup_string)\n",
      "    else:\n",
      "        popup_string = '<b>Not NAVD</b><br><b>Station:</b><br>%s<br><b>Long Name:</b><br>%s' % (station, row.name)\n",
      "        m.circle_marker(location=[row['lat'], row['lon']], popup=popup_string,\n",
      "                        fill_color='#ff0000', radius=10000, line_color='#ff0000')\n",
      "if False:\n",
      "    for model, row in models.iterrows():\n",
      "        popup_string = '<b>Station:</b><br>%s<br><b>Long Name:</b><br>%s' % (station, row['name'])\n",
      "        m.simple_marker(location=[row['lat'], row['lon']], popup=popup_string)\n",
      "\n",
      "inline_map(m)"
     ],
     "language": "python",
     "metadata": {},
     "outputs": []
    },
    {
     "cell_type": "markdown",
     "metadata": {},
     "source": [
      "### Get model output from OPeNDAP URLS"
     ]
    },
    {
     "cell_type": "code",
     "collapsed": false,
     "input": [
      "print('\\n'.join(name_list))\n",
      "\n",
      "name_in_list = lambda cube: cube.standard_name in name_list\n",
      "constraint = iris.Constraint(cube_func=name_in_list)"
     ],
     "language": "python",
     "metadata": {},
     "outputs": []
    },
    {
     "cell_type": "code",
     "collapsed": false,
     "input": [
      "# Use only data where the standard deviation of the time series exceeds 0.01 m\n",
      "# (1 cm) this eliminates flat line model time series that come from land\n",
      "# points that should have had missing values.\n",
      "min_var = 0.01\n",
      "\n",
      "# Use only data within 0.04 degrees (about 4 km).\n",
      "max_dist = 0.04"
     ],
     "language": "python",
     "metadata": {},
     "outputs": []
    },
    {
     "cell_type": "code",
     "collapsed": false,
     "input": [
      "def get_cube(url, constraint):\n",
      "    cube = iris.load_cube(url, constraint)\n",
      "    # Convert to units of meters:\n",
      "    # cube.convert_units('m')  # TODO: Isn't working for unstructured data.\n",
      "    mod_name = cube.attributes['title']\n",
      "    timevar = find_timevar(cube)\n",
      "    lat = cube.coord(axis='Y').points\n",
      "    lon = cube.coord(axis='X').points\n",
      "    start = timevar.units.date2num(jd_start)\n",
      "    istart = timevar.nearest_neighbour_index(start)\n",
      "    stop = timevar.units.date2num(jd_stop)\n",
      "    istop = timevar.nearest_neighbour_index(stop)\n",
      "    return cube, timevar, lon, lat, istart, istop, mod_name"
     ],
     "language": "python",
     "metadata": {},
     "outputs": []
    },
    {
     "cell_type": "code",
     "collapsed": false,
     "input": [
      "url = dap_urls[0]\n",
      "packed = get_cube(url, constraint)\n",
      "cube, timevar, lon, lat, istart, istop, mod_name = packed\n",
      "print(mod_name, url)\n",
      "\n",
      "dist, i, j = get_nearest(cube, observations.lon, observations.lat)\n",
      "for x in zip(cube.coord(axis='X').points[i, j], cube.coord(axis='Y').points[i, j], observations.lon, observations.lat):\n",
      "    print(x)"
     ],
     "language": "python",
     "metadata": {},
     "outputs": []
    },
    {
     "cell_type": "code",
     "collapsed": false,
     "input": [
      "if istart != istop:  # Only proceed if we have data in the range requested.\n",
      "    nsta = len(observations.lon)\n",
      "    if len(cube.shape) == 3:\n",
      "        print('[Structured grid model]: %s' % url)\n",
      "        data = cube[0, ...].data\n",
      "        # Find the closest non-land point from a structured grid model.\n",
      "        if len(lon.shape) == 1:\n",
      "            lon, lat = np.meshgrid(lon, lat)\n",
      "        j, i, d = find_ij(lon, lat, data, observations.lon,\n",
      "                          observations.lat)\n",
      "        for n in range(nsta):\n",
      "            # Only use if model cell is within 0.1 degree of requested\n",
      "            # location.\n",
      "            if d[n] <= max_dist:\n",
      "                arr = cube[istart:istop, j[n], i[n]].data\n",
      "                if arr.std() >= min_var:\n",
      "                    print(observations.ix[n])\n",
      "    elif len(cube.shape) == 1:\n",
      "        print('[Data]:', url)"
     ],
     "language": "python",
     "metadata": {},
     "outputs": []
    }
   ],
   "metadata": {}
  }
 ]
}