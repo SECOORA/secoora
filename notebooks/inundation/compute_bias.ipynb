{
 "metadata": {
  "name": "",
  "signature": "sha256:39303ec0839878ae3c57eb074f8e80f489b28651c718e744cddc84d8e324b7ec"
 },
 "nbformat": 3,
 "nbformat_minor": 0,
 "worksheets": [
  {
   "cells": [
    {
     "cell_type": "code",
     "collapsed": false,
     "input": [
      "import os\n",
      "from utilities import nc2df\n",
      "\n",
      "directory = '2014-08-08'\n",
      "fname = '{}-OBS_DATA.nc'.format(directory)\n",
      "fname = os.path.join(directory, fname)\n",
      "OBS_DATA = nc2df(fname)\n",
      "index = OBS_DATA.index"
     ],
     "language": "python",
     "metadata": {},
     "outputs": []
    },
    {
     "cell_type": "code",
     "collapsed": false,
     "input": [
      "from glob import glob\n",
      "from pandas import Panel\n",
      "\n",
      "dfs = dict(OBS_DATA=OBS_DATA)\n",
      "for fname in glob(os.path.join(directory, \"*.nc\")):\n",
      "    if 'OBS_DATA' in fname:\n",
      "        pass\n",
      "    else:\n",
      "        model = fname.split('.')[0].split('-')[-1]\n",
      "        df = nc2df(fname)\n",
      "        if False:\n",
      "            kw = dict(method='time')\n",
      "            df = df.reindex(index).interpolate(**kw).ix[index]\n",
      "        dfs.update({model: df})\n",
      "\n",
      "dfs = Panel.fromDict(dfs).swapaxes(0, 2)"
     ],
     "language": "python",
     "metadata": {},
     "outputs": []
    },
    {
     "cell_type": "code",
     "collapsed": false,
     "input": [
      "import seaborn\n",
      "import matplotlib.pyplot as plt\n",
      "\n",
      "from utilities import get_coops_longname\n",
      "\n",
      "for station, df in dfs.iteritems():\n",
      "    df.dropna(axis=1, how='all', inplace=True)\n",
      "    if len(df.columns) == 1:\n",
      "        pass\n",
      "    else:\n",
      "        fig, ax = plt.subplots()\n",
      "        for name, series in df.iteritems():\n",
      "            series.dropna().plot(ax=ax)\n",
      "        ax.set_title(station)\n",
      "        ax.legend()"
     ],
     "language": "python",
     "metadata": {},
     "outputs": []
    },
    {
     "cell_type": "code",
     "collapsed": false,
     "input": [
      "from pandas import DataFrame\n",
      "\n",
      "means = dict()\n",
      "for station, df in dfs.iteritems():\n",
      "    df.dropna(axis=1, how='all', inplace=True)\n",
      "    mean = df.mean()\n",
      "    df = df - mean + mean['OBS_DATA']\n",
      "    means.update({station: mean['OBS_DATA'] - mean.drop('OBS_DATA')})\n",
      "    if len(df.columns) == 1:\n",
      "        pass\n",
      "    else:\n",
      "        fig, ax = plt.subplots()\n",
      "        for name, series in df.iteritems():\n",
      "            series.dropna().plot(ax=ax)\n",
      "        ax.set_title(get_coops_longname(station))\n",
      "        ax.set_ylim(-1.5, 1.5)\n",
      "        kw = dict(loc='upper center', bbox_to_anchor=(0.5, .97),\n",
      "              ncol=2, fancybox=True, shadow=True)\n",
      "        ax.legend(**kw)\n",
      "        ax.set_ylabel('m')"
     ],
     "language": "python",
     "metadata": {
      "code_folding": []
     },
     "outputs": []
    },
    {
     "cell_type": "code",
     "collapsed": false,
     "input": [
      "bias = DataFrame.from_dict(means).dropna(axis=1, how='all')\n",
      "bias"
     ],
     "language": "python",
     "metadata": {},
     "outputs": []
    }
   ],
   "metadata": {}
  }
 ]
}