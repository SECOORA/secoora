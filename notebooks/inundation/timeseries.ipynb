{
 "metadata": {
  "name": "",
  "signature": "sha256:db95c56ba204b2354a1b7c9b23e9424563e288e7bee2aacfc5901d9ebf26e29f"
 },
 "nbformat": 3,
 "nbformat_minor": 0,
 "worksheets": [
  {
   "cells": [
    {
     "cell_type": "code",
     "collapsed": false,
     "input": [
      "# http://cfconventions.org/Data/cf-convetions/cf-conventions-1.7/build/cf-conventions.html#Example%20H2.1.1\n",
      "\n",
      "import iris\n",
      "from iris.pandas import as_cube\n",
      "\n",
      "from pandas import read_csv\n",
      "\n",
      "obs_data = read_csv('OBS_DATA.csv', parse_dates=True, index_col=0)\n",
      "\n",
      "\n",
      "cube = as_cube(obs_data, calendars={1: iris.unit.CALENDAR_GREGORIAN})\n",
      "cube.coord('index').rename('time')\n",
      "cube.coord('columns').rename('station')\n",
      "cube.rename('sea_surface_height')\n",
      "\n",
      "longitude = iris.coords.AuxCoord(range(len(obs_data.columns)),  # Fake lon.\n",
      "                                 var_name=\"lon\",\n",
      "                                 standard_name=\"longitude\",\n",
      "                                 long_name=\"station longitude\",\n",
      "                                 units=iris.unit.Unit('degrees'))\n",
      "\n",
      "latitude = iris.coords.AuxCoord(range(len(obs_data.columns)),  # Fake lat.\n",
      "                                 var_name=\"lat\",\n",
      "                                 standard_name=\"latitude\",\n",
      "                                 long_name=\"station latitude\",\n",
      "                                 units=iris.unit.Unit('degrees'))\n",
      "\n",
      "#cube.add_aux_coord(longitude, data_dims=?)\n",
      "#cube.add_aux_coord(latitude, data_dims=?)\n",
      "\n",
      "print(cube)"
     ],
     "language": "python",
     "metadata": {},
     "outputs": [
      {
       "output_type": "stream",
       "stream": "stdout",
       "text": [
        "sea_surface_height / (unknown)      (time: 728; -- : 28)\n",
        "     Dimension coordinates:\n",
        "          time                           x         -\n",
        "     Auxiliary coordinates:\n",
        "          station                        -         x\n"
       ]
      }
     ],
     "prompt_number": 1
    }
   ],
   "metadata": {}
  }
 ]
}