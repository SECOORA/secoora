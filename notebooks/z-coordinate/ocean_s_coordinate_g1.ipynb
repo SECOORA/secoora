{
 "metadata": {
  "name": "",
  "signature": "sha256:cd7c0f9e2fe6b5706edde30dbf366be3d67d0d8a65b5726cef00b9c837734539"
 },
 "nbformat": 3,
 "nbformat_minor": 0,
 "worksheets": [
  {
   "cells": [
    {
     "cell_type": "markdown",
     "metadata": {},
     "source": [
      "https://cf-pcmdi.llnl.gov/trac/ticket/93"
     ]
    },
    {
     "cell_type": "code",
     "collapsed": false,
     "input": [
      "import iris\n",
      "\n",
      "cube = iris.load_cube('ocean_s_coordinate_g1.nc')\n",
      "print(cube)"
     ],
     "language": "python",
     "metadata": {},
     "outputs": [],
     "prompt_number": null
    },
    {
     "cell_type": "raw",
     "metadata": {},
     "source": [
      "z(n,k,j,i) = S(k,j,i) + eta(n,j,i) * (1 + S(k,j,i) / depth(j,i))\n",
      "\n",
      "S(k,j,i) = depth_c * s(k) + (depth(j,i) - depth_c) * C(k)"
     ]
    },
    {
     "cell_type": "code",
     "collapsed": false,
     "input": [
      "hc, zeta, Cs_r, lat_rho, lon_rho, depth = cube.aux_coords\n",
      "ocean_s = cube.coord('S-coordinate at RHO-points')\n",
      "\n",
      "eta = zeta.points.squeeze()\n",
      "h = depth.points\n",
      "S = ocean_s.points"
     ],
     "language": "python",
     "metadata": {},
     "outputs": [],
     "prompt_number": null
    }
   ],
   "metadata": {}
  }
 ]
}