{
 "metadata": {
  "name": "",
  "signature": "sha256:9b1475ca324ec8522efba5b195506da0b10fc8aeb935a2d1701453f6b565edc2"
 },
 "nbformat": 3,
 "nbformat_minor": 0,
 "worksheets": [
  {
   "cells": [
    {
     "cell_type": "markdown",
     "metadata": {},
     "source": [
      "Now that there is a PR for `ocean_sigma_z_coordinate`,\n",
      "it would be great to have support for the other commonly used Ocean Dimensionless Vertical Coordinates.\n",
      "IMHO, these are:\n",
      "\n",
      "`ocean_sigma`\n",
      "`ocean_s_coordinate`\n",
      "`ocean_s_coordinate_g1`\n",
      "`ocean_s_coordinate_g2`\n",
      "\n",
      "http://cfconventions.org/1.6.html#dimensionless-v-coord\n",
      "\n",
      "Here are some example datasets for testing these:"
     ]
    },
    {
     "cell_type": "markdown",
     "metadata": {},
     "source": [
      "### THREDDS Data Server Dataset URLS"
     ]
    },
    {
     "cell_type": "code",
     "collapsed": false,
     "input": [
      "import iris\n",
      "from pprint import pprint\n",
      "from netCDF4 import Dataset\n",
      "\n",
      "def test_z(z_coord):\n",
      "    url = urls[z_coord]\n",
      "    try:\n",
      "        cube = iris.load_cube(url)\n",
      "        print(\"%s Successful\\n\" % z_coord)\n",
      "        print(cube)\n",
      "    except Exception as e:\n",
      "        print('%s Failed\\n' % z_coord)\n",
      "        print(\"%s\\n The dimensions are:\" % e)\n",
      "        with Dataset(url) as nc:\n",
      "            pprint(nc.dimensions.items())"
     ],
     "language": "python",
     "metadata": {},
     "outputs": []
    },
    {
     "cell_type": "code",
     "collapsed": false,
     "input": [
      "urls = dict({'ocean_sigma':\n",
      "             \"http://colossus.dl.stevens-tech.edu:8080/thredds/dodsC/latest/Bight_gcmplt.nc\",\n",
      "             'ocean_s_coordinate':\n",
      "             \"http://geoport.whoi.edu/thredds/dodsC/examples/bora_feb.nc\",\n",
      "             'ocean_s_coordinate_g1':\n",
      "             \"http://geoport.whoi.edu/thredds/dodsC/coawst_4/use/fmrc/coawst_4_use_best.ncd\",\n",
      "             'ocean_s_coordinate_g2':\n",
      "             \"http://oos.soest.hawaii.edu/thredds/dodsC/hioos/roms_assim/hiig/\"\n",
      "             \"ROMS_Hawaii_Regional_Ocean_Model_Assimilation_best.ncd\"})"
     ],
     "language": "python",
     "metadata": {},
     "outputs": []
    },
    {
     "cell_type": "code",
     "collapsed": false,
     "input": [
      "test_z('ocean_s_coordinate')"
     ],
     "language": "python",
     "metadata": {},
     "outputs": []
    },
    {
     "cell_type": "code",
     "collapsed": false,
     "input": [
      "test_z('ocean_s_coordinate_g1')"
     ],
     "language": "python",
     "metadata": {},
     "outputs": []
    },
    {
     "cell_type": "code",
     "collapsed": false,
     "input": [
      "test_z('ocean_s_coordinate_g2')"
     ],
     "language": "python",
     "metadata": {},
     "outputs": []
    },
    {
     "cell_type": "code",
     "collapsed": false,
     "input": [
      "test_z('ocean_sigma')"
     ],
     "language": "python",
     "metadata": {},
     "outputs": []
    }
   ],
   "metadata": {}
  }
 ]
}