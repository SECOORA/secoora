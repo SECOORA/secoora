{
 "metadata": {
  "name": "",
  "signature": "sha256:2cf9b93bb607fad8a1e5777bbe44dd637b2a50d08bfef9ddc80566b07c3e06e4"
 },
 "nbformat": 3,
 "nbformat_minor": 0,
 "worksheets": [
  {
   "cells": [
    {
     "cell_type": "markdown",
     "metadata": {},
     "source": [
      "`ocean_sigma`\n",
      "`ocean_s_coordinate`\n",
      "`ocean_s_coordinate_g1`\n",
      "`ocean_s_coordinate_g2`\n",
      "\n",
      "http://cfconventions.org/1.6.html#dimensionless-v-coord"
     ]
    },
    {
     "cell_type": "code",
     "collapsed": false,
     "input": [
      "import iris\n",
      "from pprint import pprint\n",
      "from netCDF4 import Dataset\n",
      "\n",
      "def test_z(z_coord):\n",
      "    url = urls[z_coord]\n",
      "    print(url)\n",
      "    try:\n",
      "        cube = iris.load_cube(url)\n",
      "        print(\"%s Successful\\n\" % z_coord)\n",
      "        print(cube)\n",
      "    except Exception as e:\n",
      "        print('%s Failed\\n' % z_coord)\n",
      "        print(\"%s\\n The dimensions are:\\n\" % e)\n",
      "        with Dataset(url) as nc:\n",
      "            pprint(nc.dimensions.items())"
     ],
     "language": "python",
     "metadata": {
      "code_folding": []
     },
     "outputs": []
    },
    {
     "cell_type": "code",
     "collapsed": false,
     "input": [
      "print(iris.__version__)"
     ],
     "language": "python",
     "metadata": {},
     "outputs": []
    },
    {
     "cell_type": "code",
     "collapsed": false,
     "input": [
      "urls = dict({'ocean_sigma':\n",
      "             \"http://opendap.co-ops.nos.noaa.gov/thredds/dodsC/NYOFS/fmrc/Aggregated_7_day_NYOFS_Fields_Forecast_best.ncd\",\n",
      "             'ocean_s_coordinate':\n",
      "             \"http://geoport.whoi.edu/thredds/dodsC/examples/bora_feb.nc\",\n",
      "             'ocean_s_coordinate_g1':\n",
      "             \"http://geoport.whoi.edu/thredds/dodsC/coawst_4/use/fmrc/coawst_4_use_best.ncd\",\n",
      "             'ocean_s_coordinate_g2':\n",
      "             \"http://oos.soest.hawaii.edu/thredds/dodsC/hioos/roms_assim/hiig/\"\n",
      "             \"ROMS_Hawaii_Regional_Ocean_Model_Assimilation_best.ncd\",\n",
      "             'multi-valued_coordinate':\n",
      "             \"http://www.smast.umassd.edu:8080/thredds/dodsC/FVCOM/NECOFS/Forecasts/NECOFS_FVCOM_OCEAN_MASSBAY_FORECAST.nc\",\n",
      "             'ocean_s_coordinate_g1_local':\n",
      "             \"ocean_s_coordinate_g1.nc\"})"
     ],
     "language": "python",
     "metadata": {
      "code_folding": []
     },
     "outputs": []
    },
    {
     "cell_type": "markdown",
     "metadata": {},
     "source": [
      "Loads fine but formula is not applied and no z-coord is returned."
     ]
    },
    {
     "cell_type": "code",
     "collapsed": false,
     "input": [
      "test_z('ocean_s_coordinate_g1_local')"
     ],
     "language": "python",
     "metadata": {},
     "outputs": []
    },
    {
     "cell_type": "markdown",
     "metadata": {},
     "source": [
      "Failing to merge."
     ]
    },
    {
     "cell_type": "code",
     "collapsed": false,
     "input": [
      "test_z('ocean_sigma')"
     ],
     "language": "python",
     "metadata": {},
     "outputs": []
    },
    {
     "cell_type": "code",
     "collapsed": false,
     "input": [
      "test_z('ocean_s_coordinate')"
     ],
     "language": "python",
     "metadata": {},
     "outputs": []
    },
    {
     "cell_type": "code",
     "collapsed": false,
     "input": [
      "test_z('ocean_s_coordinate_g1')"
     ],
     "language": "python",
     "metadata": {},
     "outputs": []
    },
    {
     "cell_type": "code",
     "collapsed": false,
     "input": [
      "test_z('ocean_s_coordinate_g2')"
     ],
     "language": "python",
     "metadata": {},
     "outputs": []
    },
    {
     "cell_type": "code",
     "collapsed": false,
     "input": [
      "test_z('multi-valued_coordinate')"
     ],
     "language": "python",
     "metadata": {},
     "outputs": []
    },
    {
     "cell_type": "code",
     "collapsed": false,
     "input": [
      "cube = iris.load_cube(\"http://geoport.whoi.edu/thredds/dodsC/coawst_4/use/fmrc/coawst_4_use_best.ncd\")"
     ],
     "language": "python",
     "metadata": {},
     "outputs": []
    },
    {
     "cell_type": "code",
     "collapsed": false,
     "input": [
      "import iris\n",
      "url = 'http://geoport.whoi.edu/thredds/dodsC/coawst_4/use/fmrc/coawst_4_use_best.ncd'\n",
      "zvar = iris.load_cube(url, 'free-surface')"
     ],
     "language": "python",
     "metadata": {},
     "outputs": [],
     "prompt_number": null
    },
    {
     "cell_type": "code",
     "collapsed": false,
     "input": [],
     "language": "python",
     "metadata": {},
     "outputs": []
    }
   ],
   "metadata": {}
  }
 ]
}