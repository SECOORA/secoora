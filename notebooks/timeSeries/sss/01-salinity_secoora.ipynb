{
 "metadata": {
  "kernelspec": {
   "codemirror_mode": {
    "name": "ipython",
    "version": 3
   },
   "display_name": "IOOS (Python 2)",
   "language": "python",
   "name": "ioos_python2"
  },
  "name": "",
  "notify_time": "5",
  "signature": "sha256:7f5bcb89f7f6af15bb6dc48e89eac32a8aa69a2301e0d27a536397fdf02b92da"
 },
 "nbformat": 3,
 "nbformat_minor": 0,
 "worksheets": [
  {
   "cells": [
    {
     "cell_type": "markdown",
     "metadata": {},
     "source": [
      "### This notebook is a run example frozen at the hurricane Arthur event."
     ]
    },
    {
     "cell_type": "code",
     "collapsed": false,
     "input": [
      "import iris\n",
      "import pyoos\n",
      "import owslib\n",
      "\n",
      "import time\n",
      "start_time = time.time()"
     ],
     "language": "python",
     "metadata": {},
     "outputs": [],
     "prompt_number": 1
    },
    {
     "cell_type": "code",
     "collapsed": false,
     "input": [
      "import os\n",
      "import sys\n",
      "\n",
      "utilities_path = os.path.join(os.getcwd(), os.pardir)\n",
      "root = os.path.abspath(utilities_path)\n",
      "sys.path.append(root)\n",
      "\n",
      "style = '../style.css'"
     ],
     "language": "python",
     "metadata": {},
     "outputs": [],
     "prompt_number": 2
    },
    {
     "cell_type": "markdown",
     "metadata": {},
     "source": [
      "### SECOORA salinity notebook\n",
      "Based on IOOS system-test [notebook](http://nbviewer.ipython.org/github/Bobfrat/system-test/blob/temp_nb/Theme_1_Baseline/Scenario_1E_Salinity.ipynb)."
     ]
    },
    {
     "cell_type": "code",
     "collapsed": false,
     "input": [
      "import pytz\n",
      "from datetime import datetime, timedelta\n",
      "\n",
      "from utilities import CF_names\n",
      "\n",
      "\n",
      "# Choose the date range.\n",
      "stop = datetime(2014, 7, 7, 12)\n",
      "\n",
      "stop = stop.replace(tzinfo=pytz.utc)\n",
      "start = stop - timedelta(days=7)\n",
      "\n",
      "# SECOORA region (NC, SC GA, FL).\n",
      "bbox = [-87.40, 24.25, -74.70, 36.70]\n",
      "\n",
      "# CF-names to look for (Sea Surface Salinity).\n",
      "name_list = CF_names['salinity']"
     ],
     "language": "python",
     "metadata": {},
     "outputs": [],
     "prompt_number": 3
    },
    {
     "cell_type": "code",
     "collapsed": false,
     "input": [
      "directory = '{:%Y-%m-%d}'.format(stop)\n",
      "\n",
      "if not os.path.exists(directory):\n",
      "    os.makedirs(directory)"
     ],
     "language": "python",
     "metadata": {},
     "outputs": [],
     "prompt_number": 4
    },
    {
     "cell_type": "code",
     "collapsed": false,
     "input": [
      "fmt = '{:*^64}'.format\n",
      "\n",
      "print(fmt(' Run information '))\n",
      "print('Run date: {:%Y-%m-%d %H:%M:%S}'.format(datetime.utcnow()))\n",
      "print('Download start: {:%Y-%m-%d %H:%M:%S}'.format(start))\n",
      "print('Download stop: {:%Y-%m-%d %H:%M:%S}'.format(stop))\n",
      "print('Bounding box: {0:3.2f}, {1:3.2f},'\n",
      "      '{2:3.2f}, {3:3.2f}'.format(*bbox))\n",
      "print(fmt(' Software version '))\n",
      "print('Iris version: {}'.format(iris.__version__))\n",
      "print('owslib version: {}'.format(owslib.__version__))\n",
      "print('pyoos version: {}'.format(pyoos.__version__))"
     ],
     "language": "python",
     "metadata": {},
     "outputs": [
      {
       "output_type": "stream",
       "stream": "stdout",
       "text": [
        "*********************** Run information ************************\n",
        "Run date: 2014-11-19 17:09:22\n",
        "Download start: 2014-06-30 12:00:00\n",
        "Download stop: 2014-07-07 12:00:00\n",
        "Bounding box: -87.40, 24.25,-74.70, 36.70\n",
        "*********************** Software version ***********************\n",
        "Iris version: 1.7.2-DEV\n",
        "owslib version: 0.8.9\n",
        "pyoos version: 0.6.1\n"
       ]
      }
     ],
     "prompt_number": 5
    },
    {
     "cell_type": "code",
     "collapsed": false,
     "input": [
      "from owslib import fes\n",
      "from utilities import fes_date_filter\n",
      "\n",
      "kw = dict(wildCard='*',\n",
      "          escapeChar='\\\\',\n",
      "          singleChar='?',\n",
      "          propertyname='apiso:AnyText')\n",
      "\n",
      "or_filt = fes.Or([fes.PropertyIsLike(literal=('*%s*' % val), **kw)\n",
      "                  for val in name_list])\n",
      "\n",
      "# Exculde ROMS Averages and History files.\n",
      "not_filt = fes.Not([fes.PropertyIsLike(literal='*Averages*', **kw)])\n",
      "\n",
      "begin, end = fes_date_filter(start, stop)\n",
      "filter_list = [fes.And([fes.BBox(bbox), begin, end, or_filt, not_filt])]"
     ],
     "language": "python",
     "metadata": {},
     "outputs": [],
     "prompt_number": 6
    },
    {
     "cell_type": "code",
     "collapsed": false,
     "input": [
      "from owslib.csw import CatalogueServiceWeb\n",
      "\n",
      "endpoint = 'http://www.ngdc.noaa.gov/geoportal/csw'\n",
      "csw = CatalogueServiceWeb(endpoint, timeout=60)\n",
      "csw.getrecords2(constraints=filter_list, maxrecords=1000, esn='full')\n",
      "\n",
      "print(fmt(' Catalog information '))\n",
      "print(\"URL: {}\".format(endpoint))\n",
      "print(\"CSW version: {}\".format(csw.version))\n",
      "print(\"Number of datasets available: {}\".format(len(csw.records.keys())))"
     ],
     "language": "python",
     "metadata": {
      "code_folding": []
     },
     "outputs": [
      {
       "output_type": "stream",
       "stream": "stdout",
       "text": [
        "********************* Catalog information **********************\n",
        "URL: http://www.ngdc.noaa.gov/geoportal/csw\n",
        "CSW version: 2.0.2\n",
        "Number of datasets available: 10\n"
       ]
      }
     ],
     "prompt_number": 7
    },
    {
     "cell_type": "code",
     "collapsed": false,
     "input": [
      "from utilities import service_urls\n",
      "\n",
      "dap_urls = service_urls(csw.records, service='odp:url')\n",
      "sos_urls = service_urls(csw.records, service='sos:url')\n",
      "\n",
      "print(fmt(' CSW URLs '))\n",
      "for rec, item in csw.records.items():\n",
      "    print('{}'.format(item.title))\n",
      "\n",
      "print(fmt(' DAP URLs '))\n",
      "for url in dap_urls:\n",
      "    print('{}.html'.format(url))\n",
      "\n",
      "print(fmt(' SOS URLs '))\n",
      "for url in sos_urls:\n",
      "    print('{}'.format(url))"
     ],
     "language": "python",
     "metadata": {
      "code_folding": []
     },
     "outputs": [
      {
       "output_type": "stream",
       "stream": "stdout",
       "text": [
        "*************************** CSW URLs ***************************\n",
        "USF FVCOM - Nowcast Aggregation\n",
        "ROMS/TOMS 3.0 - New Floria Shelf Application\n",
        "ROMS/TOMS 3.0 - South-Atlantic Bight and Gulf of Mexico\n",
        "COAWST Forecast System : USGS : US East Coast and Gulf of Mexico (Experimental)\n",
        "ROMS ESPRESSO Real-Time Operational IS4DVAR Forecast System Version 2 (NEW) 2013-present FMRC History (Best)\n",
        "HYbrid Coordinate Ocean Model (HYCOM): Global\n",
        "National Data Buoy Center SOS\n",
        "Aquarius Level 3 Sea Surface Salinity Standard Mapped Image Daily Data V3.0\n",
        "Aquarius Level 3 Sea Surface Salinity Standard Mapped Image Monthly Data V3.0\n",
        "Aquarius Level 3 Sea Surface Salinity Standard Mapped Image Weekly Data V3.0\n",
        "*************************** DAP URLs ***************************\n",
        "http://crow.marine.usf.edu:8080/thredds/dodsC/FVCOM-Nowcast-Agg.nc.html\n",
        "http://crow.marine.usf.edu:8080/thredds/dodsC/WFS_ROMS_NF_model/USF_Ocean_Circulation_Group_West_Florida_Shelf_Daily_ROMS_Nowcast_Forecast_Model_Data_best.ncd.html\n",
        "http://geoport.whoi.edu/thredds/dodsC/coawst_4/use/fmrc/coawst_4_use_best.ncd.html\n",
        "http://omgsrv1.meas.ncsu.edu:8080/thredds/dodsC/fmrc/sabgom/SABGOM_Forecast_Model_Run_Collection_best.ncd.html\n",
        "http://oos.soest.hawaii.edu/thredds/dodsC/pacioos/hycom/global.html\n",
        "http://tds.marine.rutgers.edu/thredds/dodsC/roms/espresso/2013_da/his_Best/ESPRESSO_Real-Time_v2_History_Best_Available_best.ncd.html\n",
        "http://thredds.axiomalaska.com/thredds/dodsC/Aquarius_V3_SSS_Daily.nc.html\n",
        "http://thredds.axiomalaska.com/thredds/dodsC/Aquarius_V3_SSS_Monthly.nc.html\n",
        "http://thredds.axiomalaska.com/thredds/dodsC/Aquarius_V3_SSS_Weekly.nc.html\n",
        "*************************** SOS URLs ***************************\n",
        "http://sdf.ndbc.noaa.gov/sos/server.php?service=SOS&request=GetCapabilities&acceptVersions=1.0.0\n"
       ]
      }
     ],
     "prompt_number": 8
    },
    {
     "cell_type": "code",
     "collapsed": false,
     "input": [
      "# Force SABGOM and USEAST into the URL list.\n",
      "from utilities import titles\n",
      "if titles['SABGOM'] not in dap_urls:\n",
      "    print('SABGOM not in the catalog')\n",
      "    dap_urls.append(titles['SABGOM'])\n",
      "\n",
      "if titles['USEAST'] not in dap_urls:\n",
      "    print('USEAST not in the catalog')\n",
      "    dap_urls.append(titles['USEAST'])"
     ],
     "language": "python",
     "metadata": {},
     "outputs": [
      {
       "output_type": "stream",
       "stream": "stdout",
       "text": [
        "USEAST not in the catalog\n"
       ]
      }
     ],
     "prompt_number": 9
    },
    {
     "cell_type": "code",
     "collapsed": false,
     "input": [
      "from pyoos.collectors.coops.coops_sos import CoopsSos\n",
      "\n",
      "collector = CoopsSos()\n",
      "sos_name = 'salinity'\n",
      "\n",
      "collector.end_time = stop\n",
      "collector.start_time = start\n",
      "collector.variables = [sos_name]\n",
      "\n",
      "ofrs = collector.server.offerings\n",
      "title = collector.server.identification.title\n",
      "print(fmt(' Collector offerings '))\n",
      "print('{}: {} offerings'.format(title, len(ofrs)))"
     ],
     "language": "python",
     "metadata": {
      "code_folding": []
     },
     "outputs": [
      {
       "output_type": "stream",
       "stream": "stdout",
       "text": [
        "********************* Collector offerings **********************\n",
        "NOAA.NOS.CO-OPS SOS: 1031 offerings\n"
       ]
      }
     ],
     "prompt_number": 10
    },
    {
     "cell_type": "code",
     "collapsed": false,
     "input": [
      "from pandas import read_csv\n",
      "from utilities import sos_request\n",
      "\n",
      "params = dict(observedProperty=sos_name,\n",
      "              eventTime=start.strftime('%Y-%m-%dT%H:%M:%SZ'),\n",
      "              featureOfInterest='BBOX:{0},{1},{2},{3}'.format(*bbox),\n",
      "              offering='urn:ioos:network:NOAA.NOS.CO-OPS:MetActive')\n",
      "\n",
      "uri = 'http://opendap.co-ops.nos.noaa.gov/ioos-dif-sos/SOS'\n",
      "url = sos_request(uri, **params)\n",
      "observations = read_csv(url)\n",
      "\n",
      "print('SOS URL request: {}'.format(url))"
     ],
     "language": "python",
     "metadata": {},
     "outputs": [
      {
       "output_type": "stream",
       "stream": "stdout",
       "text": [
        "SOS URL request: http://opendap.co-ops.nos.noaa.gov/ioos-dif-sos/SOS?eventTime=2014-06-30T12%3A00%3A00Z&service=SOS&offering=urn%3Aioos%3Anetwork%3ANOAA.NOS.CO-OPS%3AMetActive&request=GetObservation&version=1.0.0&responseFormat=text%2Fcsv&featureOfInterest=BBOX%3A-87.4%2C24.25%2C-74.7%2C36.7&observedProperty=salinity\n"
       ]
      }
     ],
     "prompt_number": 11
    },
    {
     "cell_type": "markdown",
     "metadata": {},
     "source": [
      "#### Clean the dataframe (visualization purpose only)"
     ]
    },
    {
     "cell_type": "code",
     "collapsed": false,
     "input": [
      "from utilities import get_coops_longname, to_html\n",
      "\n",
      "columns = {'sensor_id': 'sensor',\n",
      "           'station_id': 'station',\n",
      "           'latitude (degree)': 'lat',\n",
      "           'longitude (degree)': 'lon',\n",
      "           'sea_water_salinity (psu)': 'salinity'}\n",
      "\n",
      "observations.rename(columns=columns, inplace=True)\n",
      "\n",
      "observations['sensor'] = [s.split(':')[-1] for s in observations['sensor']]\n",
      "observations['station'] = [s.split(':')[-1] for s in observations['station']]\n",
      "observations['name'] = [get_coops_longname(s) for s in observations['station']]\n",
      "\n",
      "observations.set_index('name', inplace=True)\n",
      "to_html(observations.head(), style)"
     ],
     "language": "python",
     "metadata": {},
     "outputs": [
      {
       "html": [
        "<style>.info {\n",
        "    background-color:#fcf8e3;\n",
        "    border-color:#faebcc;\n",
        "    border-left:5px solid #8a6d3b;\n",
        "    padding:.5em;\n",
        "    color:#8a6d3b\n",
        "}\n",
        "\n",
        ".success {\n",
        "    background-color:#d9edf7;\n",
        "    border-color:#bce8f1;\n",
        "    border-left:5px solid #31708f;\n",
        "    padding:.5em;\n",
        "    color:#31708f\n",
        "}\n",
        "\n",
        ".error {\n",
        "    background-color:#f2dede;\n",
        "    border-color:#ebccd1;\n",
        "    border-left:5px solid #a94442;\n",
        "    padding:.5em;\n",
        "    color:#a94442\n",
        "}\n",
        "\n",
        ".warning {\n",
        "    background-color:#fcf8e3;\n",
        "    border-color:#faebcc;\n",
        "    border-left:5px solid #8a6d3b;\n",
        "    padding:.5em;\n",
        "    color:#8a6d3b\n",
        "}\n",
        "\n",
        ".text-shadow {\n",
        "    text-shadow:0 1px 0 #ccc,0 2px 0 #c9c9c9,0 3px 0 #bbb,0 4px 0 #b9b9b9,0 5px 0 #aaa,0 6px 1px rgba(0,0,0,.1)\n",
        "}\n",
        "\n",
        ".datagrid table {\n",
        "    border-collapse:collapse;\n",
        "    text-align:left;\n",
        "    width:65%\n",
        "}\n",
        "\n",
        ".datagrid td {\n",
        "    border-collapse:collapse;\n",
        "    text-align:right;\n",
        "}\n",
        "\n",
        ".datagrid {\n",
        "    font:normal 12px/150% Arial,Helvetica,sans-serif;\n",
        "    background:#fff;\n",
        "    overflow:hidden;\n",
        "    border:1px solid #069;\n",
        "    -webkit-border-radius:3px;\n",
        "    -moz-border-radius:3px;\n",
        "    border-radius:3px\n",
        "}\n",
        "\n",
        ".datagrid table td,.datagrid table th {\n",
        "    padding:3px 10px\n",
        "}\n",
        "\n",
        ".datagrid table thead th {\n",
        "    background:-webkit-gradient(linear,left top,left bottom,color-stop(0.05,#069),color-stop(1,#00557F));\n",
        "    background:-moz-linear-gradient(center top,#069 5%,#00557F 100%);\n",
        "    filter:progid:DXImageTransform.Microsoft.gradient(startColorstr='#006699',endColorstr='#00557F');\n",
        "    background-color:#069;\n",
        "    color:#FFF;\n",
        "    font-size:15px;\n",
        "    font-weight:700;\n",
        "    border-left:1px solid #0070A8\n",
        "}\n",
        "\n",
        ".datagrid table thead th:first-child {\n",
        "    border:none\n",
        "}\n",
        "\n",
        ".datagrid table tbody td {\n",
        "    color:#00496B;\n",
        "    border-left:1px solid #E1EEF4;\n",
        "    font-size:12px;\n",
        "    font-weight:400\n",
        "}\n",
        "\n",
        ".datagrid table tbody .alt td {\n",
        "    background:#E1EEF4;\n",
        "    color:#00496B\n",
        "}\n",
        "\n",
        ".datagrid table tbody td:first-child {\n",
        "    border-left:none\n",
        "}\n",
        "\n",
        ".datagrid table tbody tr:last-child td {\n",
        "    border-bottom:none\n",
        "}\n",
        "\n",
        ".datagrid table tfoot td div {\n",
        "    border-top:1px solid #069;\n",
        "    background:#E1EEF4\n",
        "}\n",
        "\n",
        ".datagrid table tfoot td {\n",
        "    padding:0;\n",
        "    font-size:12px\n",
        "}\n",
        "\n",
        ".datagrid table tfoot td div {\n",
        "    padding:2px\n",
        "}\n",
        "\n",
        ".datagrid table tfoot td ul {\n",
        "    margin:0;\n",
        "    padding:0;\n",
        "    list-style:none;\n",
        "    text-align:right\n",
        "}\n",
        "\n",
        ".datagrid table tfoot li {\n",
        "    display:inline\n",
        "}\n",
        "\n",
        ".datagrid table tfoot li a {\n",
        "    text-decoration:none;\n",
        "    display:inline-block;\n",
        "    padding:2px 8px;\n",
        "    margin:1px;\n",
        "    color:#FFF;\n",
        "    border:1px solid #069;\n",
        "    -webkit-border-radius:3px;\n",
        "    -moz-border-radius:3px;\n",
        "    border-radius:3px;\n",
        "    background:-webkit-gradient(linear,left top,left bottom,color-stop(0.05,#069),color-stop(1,#00557F));\n",
        "    background:-moz-linear-gradient(center top,#069 5%,#00557F 100%);\n",
        "    filter:progid:DXImageTransform.Microsoft.gradient(startColorstr='#006699',endColorstr='#00557F');\n",
        "    background-color:#069\n",
        "}\n",
        "\n",
        ".datagrid table tfoot ul.active,.datagrid table tfoot ul a:hover {\n",
        "    text-decoration:none;\n",
        "    border-color:#069;\n",
        "    color:#FFF;\n",
        "    background:none;\n",
        "    background-color:#00557F\n",
        "}\n",
        "\n",
        "div.dhtmlx_window_active,div.dhx_modal_cover_dv {\n",
        "    position:fixed!important\n",
        "}\n",
        "</style><div class=\"datagrid\"><table border=\"1\" class=\"dataframe\">\n",
        "  <thead>\n",
        "    <tr style=\"text-align: right;\">\n",
        "      <th></th>\n",
        "      <th>station</th>\n",
        "      <th>sensor</th>\n",
        "      <th>lat</th>\n",
        "      <th>lon</th>\n",
        "      <th>date_time</th>\n",
        "      <th>salinity</th>\n",
        "    </tr>\n",
        "    <tr>\n",
        "      <th>name</th>\n",
        "      <th></th>\n",
        "      <th></th>\n",
        "      <th></th>\n",
        "      <th></th>\n",
        "      <th></th>\n",
        "      <th></th>\n",
        "    </tr>\n",
        "  </thead>\n",
        "  <tbody>\n",
        "    <tr>\n",
        "      <th>Mayport (Bar Pilots Dock), FL</th>\n",
        "      <td> 8720218</td>\n",
        "      <td> SALINITY</td>\n",
        "      <td> 30.3967</td>\n",
        "      <td>-81.4300</td>\n",
        "      <td> 2014-06-30T12:00:00Z</td>\n",
        "      <td> 24.084</td>\n",
        "    </tr>\n",
        "    <tr>\n",
        "      <th>I-295 Bridge, St Johns River, FL</th>\n",
        "      <td> 8720357</td>\n",
        "      <td> SALINITY</td>\n",
        "      <td> 30.1917</td>\n",
        "      <td>-81.6917</td>\n",
        "      <td> 2014-06-30T12:00:00Z</td>\n",
        "      <td>  3.517</td>\n",
        "    </tr>\n",
        "    <tr>\n",
        "      <th>Red Bay Point, St Johns River, FL</th>\n",
        "      <td> 8720503</td>\n",
        "      <td> SALINITY</td>\n",
        "      <td> 29.9783</td>\n",
        "      <td>-81.6283</td>\n",
        "      <td> 2014-06-30T12:00:00Z</td>\n",
        "      <td>  0.464</td>\n",
        "    </tr>\n",
        "  </tbody>\n",
        "</table></div>"
       ],
       "metadata": {},
       "output_type": "pyout",
       "prompt_number": 12,
       "text": [
        "<IPython.core.display.HTML at 0x7ffe0a4a3cd0>"
       ]
      }
     ],
     "prompt_number": 12
    },
    {
     "cell_type": "markdown",
     "metadata": {},
     "source": [
      "#### Generate a uniform 6-min time base for model/data comparison"
     ]
    },
    {
     "cell_type": "code",
     "collapsed": false,
     "input": [
      "import iris\n",
      "from pandas import DataFrame\n",
      "from owslib.ows import ExceptionReport\n",
      "from utilities import coops2df, save_timeseries\n",
      "\n",
      "iris.FUTURE.netcdf_promote = True\n",
      "\n",
      "print(fmt(' Observations (station data) '))\n",
      "fname = '{:%Y-%m-%d}-OBS_DATA.nc'.format(stop)\n",
      "fname = os.path.join(directory, fname)\n",
      "\n",
      "print(fmt(' Downloading to file {} '.format(fname)))\n",
      "data = dict()\n",
      "bad_station = []\n",
      "for station in observations.station:\n",
      "    try:\n",
      "        df = coops2df(collector, station)\n",
      "        col = 'sea_water_salinity (psu)'\n",
      "        data.update({station: df[col]})\n",
      "    except ExceptionReport as e:\n",
      "        bad_station.append(station)\n",
      "        name = get_coops_longname(station)\n",
      "        print(\"[{}] {}:\\n{}\".format(station, name, e))\n",
      "obs_data = DataFrame.from_dict(data)\n",
      "\n",
      "# Split good and bad stations.\n",
      "pattern = '|'.join(bad_station)\n",
      "if pattern:\n",
      "    mask = observations.station.str.contains(pattern)\n",
      "    bad_station = observations[mask]\n",
      "    bservations = observations[~mask]\n",
      "\n",
      "comment = \"Several stations from http://opendap.co-ops.nos.noaa.gov\"\n",
      "kw = dict(longitude=observations.lon,\n",
      "          latitude=observations.lat,\n",
      "          station_attr=dict(cf_role=\"timeseries_id\"),\n",
      "          cube_attr=dict(featureType='timeSeries',\n",
      "                         Conventions='CF-1.6',\n",
      "                         standard_name_vocabulary='CF-1.6',\n",
      "                         cdm_data_type=\"Station\",\n",
      "                         comment=comment,\n",
      "                         url=url))\n",
      "\n",
      "save_timeseries(obs_data, outfile=fname,\n",
      "                standard_name=sos_name, **kw)\n",
      "\n",
      "to_html(obs_data.head(), style)"
     ],
     "language": "python",
     "metadata": {},
     "outputs": [
      {
       "output_type": "stream",
       "stream": "stdout",
       "text": [
        "***************** Observations (station data) ******************\n",
        "**** Downloading to file 2014-07-07/2014-07-07-OBS_DATA.nc *****\n"
       ]
      },
      {
       "html": [
        "<style>.info {\n",
        "    background-color:#fcf8e3;\n",
        "    border-color:#faebcc;\n",
        "    border-left:5px solid #8a6d3b;\n",
        "    padding:.5em;\n",
        "    color:#8a6d3b\n",
        "}\n",
        "\n",
        ".success {\n",
        "    background-color:#d9edf7;\n",
        "    border-color:#bce8f1;\n",
        "    border-left:5px solid #31708f;\n",
        "    padding:.5em;\n",
        "    color:#31708f\n",
        "}\n",
        "\n",
        ".error {\n",
        "    background-color:#f2dede;\n",
        "    border-color:#ebccd1;\n",
        "    border-left:5px solid #a94442;\n",
        "    padding:.5em;\n",
        "    color:#a94442\n",
        "}\n",
        "\n",
        ".warning {\n",
        "    background-color:#fcf8e3;\n",
        "    border-color:#faebcc;\n",
        "    border-left:5px solid #8a6d3b;\n",
        "    padding:.5em;\n",
        "    color:#8a6d3b\n",
        "}\n",
        "\n",
        ".text-shadow {\n",
        "    text-shadow:0 1px 0 #ccc,0 2px 0 #c9c9c9,0 3px 0 #bbb,0 4px 0 #b9b9b9,0 5px 0 #aaa,0 6px 1px rgba(0,0,0,.1)\n",
        "}\n",
        "\n",
        ".datagrid table {\n",
        "    border-collapse:collapse;\n",
        "    text-align:left;\n",
        "    width:65%\n",
        "}\n",
        "\n",
        ".datagrid td {\n",
        "    border-collapse:collapse;\n",
        "    text-align:right;\n",
        "}\n",
        "\n",
        ".datagrid {\n",
        "    font:normal 12px/150% Arial,Helvetica,sans-serif;\n",
        "    background:#fff;\n",
        "    overflow:hidden;\n",
        "    border:1px solid #069;\n",
        "    -webkit-border-radius:3px;\n",
        "    -moz-border-radius:3px;\n",
        "    border-radius:3px\n",
        "}\n",
        "\n",
        ".datagrid table td,.datagrid table th {\n",
        "    padding:3px 10px\n",
        "}\n",
        "\n",
        ".datagrid table thead th {\n",
        "    background:-webkit-gradient(linear,left top,left bottom,color-stop(0.05,#069),color-stop(1,#00557F));\n",
        "    background:-moz-linear-gradient(center top,#069 5%,#00557F 100%);\n",
        "    filter:progid:DXImageTransform.Microsoft.gradient(startColorstr='#006699',endColorstr='#00557F');\n",
        "    background-color:#069;\n",
        "    color:#FFF;\n",
        "    font-size:15px;\n",
        "    font-weight:700;\n",
        "    border-left:1px solid #0070A8\n",
        "}\n",
        "\n",
        ".datagrid table thead th:first-child {\n",
        "    border:none\n",
        "}\n",
        "\n",
        ".datagrid table tbody td {\n",
        "    color:#00496B;\n",
        "    border-left:1px solid #E1EEF4;\n",
        "    font-size:12px;\n",
        "    font-weight:400\n",
        "}\n",
        "\n",
        ".datagrid table tbody .alt td {\n",
        "    background:#E1EEF4;\n",
        "    color:#00496B\n",
        "}\n",
        "\n",
        ".datagrid table tbody td:first-child {\n",
        "    border-left:none\n",
        "}\n",
        "\n",
        ".datagrid table tbody tr:last-child td {\n",
        "    border-bottom:none\n",
        "}\n",
        "\n",
        ".datagrid table tfoot td div {\n",
        "    border-top:1px solid #069;\n",
        "    background:#E1EEF4\n",
        "}\n",
        "\n",
        ".datagrid table tfoot td {\n",
        "    padding:0;\n",
        "    font-size:12px\n",
        "}\n",
        "\n",
        ".datagrid table tfoot td div {\n",
        "    padding:2px\n",
        "}\n",
        "\n",
        ".datagrid table tfoot td ul {\n",
        "    margin:0;\n",
        "    padding:0;\n",
        "    list-style:none;\n",
        "    text-align:right\n",
        "}\n",
        "\n",
        ".datagrid table tfoot li {\n",
        "    display:inline\n",
        "}\n",
        "\n",
        ".datagrid table tfoot li a {\n",
        "    text-decoration:none;\n",
        "    display:inline-block;\n",
        "    padding:2px 8px;\n",
        "    margin:1px;\n",
        "    color:#FFF;\n",
        "    border:1px solid #069;\n",
        "    -webkit-border-radius:3px;\n",
        "    -moz-border-radius:3px;\n",
        "    border-radius:3px;\n",
        "    background:-webkit-gradient(linear,left top,left bottom,color-stop(0.05,#069),color-stop(1,#00557F));\n",
        "    background:-moz-linear-gradient(center top,#069 5%,#00557F 100%);\n",
        "    filter:progid:DXImageTransform.Microsoft.gradient(startColorstr='#006699',endColorstr='#00557F');\n",
        "    background-color:#069\n",
        "}\n",
        "\n",
        ".datagrid table tfoot ul.active,.datagrid table tfoot ul a:hover {\n",
        "    text-decoration:none;\n",
        "    border-color:#069;\n",
        "    color:#FFF;\n",
        "    background:none;\n",
        "    background-color:#00557F\n",
        "}\n",
        "\n",
        "div.dhtmlx_window_active,div.dhx_modal_cover_dv {\n",
        "    position:fixed!important\n",
        "}\n",
        "</style><div class=\"datagrid\"><table border=\"1\" class=\"dataframe\">\n",
        "  <thead>\n",
        "    <tr style=\"text-align: right;\">\n",
        "      <th></th>\n",
        "      <th>8720218</th>\n",
        "      <th>8720357</th>\n",
        "      <th>8720503</th>\n",
        "    </tr>\n",
        "    <tr>\n",
        "      <th>date_time</th>\n",
        "      <th></th>\n",
        "      <th></th>\n",
        "      <th></th>\n",
        "    </tr>\n",
        "  </thead>\n",
        "  <tbody>\n",
        "    <tr>\n",
        "      <th>2014-06-30 12:00:00</th>\n",
        "      <td> 24.084</td>\n",
        "      <td> 3.517</td>\n",
        "      <td> 0.464</td>\n",
        "    </tr>\n",
        "    <tr>\n",
        "      <th>2014-06-30 12:06:00</th>\n",
        "      <td> 24.019</td>\n",
        "      <td> 3.527</td>\n",
        "      <td> 0.464</td>\n",
        "    </tr>\n",
        "    <tr>\n",
        "      <th>2014-06-30 12:12:00</th>\n",
        "      <td> 23.953</td>\n",
        "      <td> 3.522</td>\n",
        "      <td> 0.464</td>\n",
        "    </tr>\n",
        "    <tr>\n",
        "      <th>2014-06-30 12:18:00</th>\n",
        "      <td> 23.838</td>\n",
        "      <td> 3.512</td>\n",
        "      <td> 0.464</td>\n",
        "    </tr>\n",
        "    <tr>\n",
        "      <th>2014-06-30 12:24:00</th>\n",
        "      <td> 23.887</td>\n",
        "      <td> 3.490</td>\n",
        "      <td> 0.464</td>\n",
        "    </tr>\n",
        "  </tbody>\n",
        "</table></div>"
       ],
       "metadata": {},
       "output_type": "pyout",
       "prompt_number": 13,
       "text": [
        "<IPython.core.display.HTML at 0x7ffe139700d0>"
       ]
      }
     ],
     "prompt_number": 13
    },
    {
     "cell_type": "markdown",
     "metadata": {},
     "source": [
      "#### Loop discovered models and save the nearest time-series"
     ]
    },
    {
     "cell_type": "code",
     "collapsed": false,
     "input": [
      "from iris.exceptions import (CoordinateNotFoundError, ConstraintMismatchError,\n",
      "                             MergeError)\n",
      "\n",
      "from utilities import (TimeoutException, time_limit,\n",
      "                       get_cube, get_model_name, get_surface)\n",
      "\n",
      "# FIXME: Filtering bad URLs.\n",
      "dap_urls = [link for link in dap_urls\n",
      "            if 'NECOFS' not in link]  # Cartesian coords are not implemented.\n",
      "\n",
      "print(fmt(' Models (simulated data) '))\n",
      "cubes = dict()\n",
      "for k, url in enumerate(dap_urls):\n",
      "    print('\\n[Reading url {}/{}]: {}'.format(k+1, len(dap_urls), url))\n",
      "    try:\n",
      "        with time_limit(60*5):\n",
      "            cube = get_cube(url, name_list=name_list,\n",
      "                            bbox=bbox, time=(start, stop),\n",
      "                            units=iris.unit.Unit('g/kg'))\n",
      "            # FIXME: Surface data only!\n",
      "            cube = get_surface(cube)\n",
      "        # TODO: We Need a better way to identify model data.\n",
      "        if cube.ndim > 1:\n",
      "            mod_name, model_full_name = get_model_name(cube, url)\n",
      "            cubes.update({mod_name: cube})\n",
      "        else:\n",
      "            print('url {} is probably a timeSeries!'.format(url))\n",
      "    except (TimeoutException, RuntimeError, ValueError, MergeError,\n",
      "            ConstraintMismatchError, CoordinateNotFoundError) as e:\n",
      "        print('Cannot get cube for: {}\\n{}'.format(url, e))"
     ],
     "language": "python",
     "metadata": {},
     "outputs": [
      {
       "output_type": "stream",
       "stream": "stderr",
       "text": [
        "/home/filipe/miniconda/envs/ioos/lib/python2.7/site-packages/iris/fileformats/cf.py:1004: UserWarning: Ignoring variable u'lat' referenced by variable u'hc': Dimensions (u'node',) do not span (u'nele',)\n",
        "  warnings.warn(msg)\n",
        "/home/filipe/miniconda/envs/ioos/lib/python2.7/site-packages/iris/fileformats/cf.py:1004: UserWarning: Ignoring variable u'lon' referenced by variable u'hc': Dimensions (u'node',) do not span (u'nele',)\n",
        "  warnings.warn(msg)\n",
        "/home/filipe/miniconda/envs/ioos/lib/python2.7/site-packages/iris/fileformats/cf.py:1004: UserWarning: Ignoring variable u'siglay' referenced by variable u'u': Dimensions (u'siglay', u'node') do not span (u'time', u'siglay', u'nele')\n",
        "  warnings.warn(msg)\n",
        "/home/filipe/miniconda/envs/ioos/lib/python2.7/site-packages/iris/fileformats/cf.py:1004: UserWarning: Ignoring variable u'siglay' referenced by variable u'v': Dimensions (u'siglay', u'node') do not span (u'time', u'siglay', u'nele')\n",
        "  warnings.warn(msg)\n",
        "/home/filipe/miniconda/envs/ioos/lib/python2.7/site-packages/iris/fileformats/_pyke_rules/compiled_krb/fc_rules_cf_fc.py:1359: UserWarning: Failed to create 'time' dimension coordinate: The points array must be strictly monotonic.\n",
        "Gracefully creating 'time' auxiliary coordinate instead.\n",
        "  error=e_msg))\n"
       ]
      },
      {
       "output_type": "stream",
       "stream": "stderr",
       "text": [
        "/home/filipe/miniconda/envs/ioos/lib/python2.7/site-packages/iris/fileformats/_pyke_rules/compiled_krb/fc_rules_cf_fc.py:1196: UserWarning: Ignoring netCDF variable 'Itime2' invalid units 'msecs since 00:00:00'\n",
        "  warnings.warn(msg.format(msg_name, msg_units))\n",
        "/home/filipe/miniconda/envs/ioos/lib/python2.7/site-packages/iris/fileformats/_pyke_rules/compiled_krb/fc_rules_cf_fc.py:1196: UserWarning: Ignoring netCDF variable 'salinity' invalid units 'psu'\n",
        "  warnings.warn(msg.format(msg_name, msg_units))\n"
       ]
      },
      {
       "output_type": "stream",
       "stream": "stdout",
       "text": [
        "******************* Models (simulated data) ********************\n",
        "\n",
        "[Reading url 1/10]: http://crow.marine.usf.edu:8080/thredds/dodsC/FVCOM-Nowcast-Agg.nc\n",
        "Cannot get cube for: http://crow.marine.usf.edu:8080/thredds/dodsC/FVCOM-Nowcast-Agg.nc\n",
        "Timed out!"
       ]
      },
      {
       "output_type": "stream",
       "stream": "stderr",
       "text": [
        "/home/filipe/miniconda/envs/ioos/lib/python2.7/site-packages/iris/fileformats/cf.py:1038: UserWarning: Ignoring formula terms variable u'h' referenced by data variable u'v' via variable u's_rho': Dimensions (u'eta_rho', u'xi_rho') do not span (u'time', u's_rho', u'eta_v', u'xi_v')\n",
        "  warnings.warn(msg)\n",
        "/home/filipe/miniconda/envs/ioos/lib/python2.7/site-packages/iris/fileformats/cf.py:1038: UserWarning: Ignoring formula terms variable u'zeta' referenced by data variable u'v' via variable u's_rho': Dimensions (u'time', u'eta_rho', u'xi_rho') do not span (u'time', u's_rho', u'eta_v', u'xi_v')\n",
        "  warnings.warn(msg)\n",
        "/home/filipe/miniconda/envs/ioos/lib/python2.7/site-packages/iris/fileformats/cf.py:1038: UserWarning: Ignoring formula terms variable u'h' referenced by data variable u'u' via variable u's_rho': Dimensions (u'eta_rho', u'xi_rho') do not span (u'time', u's_rho', u'eta_u', u'xi_u')\n",
        "  warnings.warn(msg)\n",
        "/home/filipe/miniconda/envs/ioos/lib/python2.7/site-packages/iris/fileformats/cf.py:1038: UserWarning: Ignoring formula terms variable u'zeta' referenced by data variable u'u' via variable u's_rho': Dimensions (u'time', u'eta_rho', u'xi_rho') do not span (u'time', u's_rho', u'eta_u', u'xi_u')\n",
        "  warnings.warn(msg)\n",
        "/home/filipe/miniconda/envs/ioos/lib/python2.7/site-packages/iris/fileformats/_pyke_rules/compiled_krb/fc_rules_cf_fc.py:1291: UserWarning: Gracefully filling 'time' dimension coordinate masked points\n",
        "  warnings.warn(msg.format(str(cf_coord_var.cf_name)))\n"
       ]
      },
      {
       "output_type": "stream",
       "stream": "stderr",
       "text": [
        "/home/filipe/miniconda/envs/ioos/lib/python2.7/site-packages/iris/fileformats/_pyke_rules/compiled_krb/fc_rules_cf_fc.py:1196: UserWarning: Ignoring netCDF variable 'Cs_r' invalid units 'nondimensional'\n",
        "  warnings.warn(msg.format(msg_name, msg_units))\n",
        "/home/filipe/miniconda/envs/ioos/lib/python2.7/site-packages/iris/fileformats/_pyke_rules/compiled_krb/fc_rules_cf_fc.py:1196: UserWarning: Ignoring netCDF variable 's_rho' invalid units 'nondimensional'\n",
        "  warnings.warn(msg.format(msg_name, msg_units))\n",
        "/home/filipe/miniconda/envs/ioos/lib/python2.7/site-packages/iris/fileformats/_pyke_rules/compiled_krb/fc_rules_cf_fc.py:1196: UserWarning: Ignoring netCDF variable 'Cs_w' invalid units 'nondimensional'\n",
        "  warnings.warn(msg.format(msg_name, msg_units))\n"
       ]
      },
      {
       "output_type": "stream",
       "stream": "stdout",
       "text": [
        "\n",
        "\n",
        "[Reading url 2/10]: http://crow.marine.usf.edu:8080/thredds/dodsC/WFS_ROMS_NF_model/USF_Ocean_Circulation_Group_West_Florida_Shelf_Daily_ROMS_Nowcast_Forecast_Model_Data_best.ncd\n",
        "\n",
        "[Reading url 3/10]: http://geoport.whoi.edu/thredds/dodsC/coawst_4/use/fmrc/coawst_4_use_best.ncd"
       ]
      },
      {
       "output_type": "stream",
       "stream": "stdout",
       "text": [
        "\n",
        "\n",
        "[Reading url 4/10]: http://omgsrv1.meas.ncsu.edu:8080/thredds/dodsC/fmrc/sabgom/SABGOM_Forecast_Model_Run_Collection_best.ncd"
       ]
      },
      {
       "output_type": "stream",
       "stream": "stderr",
       "text": [
        "/home/filipe/miniconda/envs/ioos/lib/python2.7/site-packages/iris/fileformats/_pyke_rules/compiled_krb/fc_rules_cf_fc.py:1196: UserWarning: Ignoring netCDF variable 's_w' invalid units 'nondimensional'\n",
        "  warnings.warn(msg.format(msg_name, msg_units))\n",
        "/home/filipe/miniconda/envs/ioos/lib/python2.7/site-packages/iris/fileformats/_pyke_rules/compiled_krb/fc_rules_cf_fc.py:1196: UserWarning: Ignoring netCDF variable 'salt' invalid units 'PSU'\n",
        "  warnings.warn(msg.format(msg_name, msg_units))\n",
        "/home/filipe/miniconda/envs/ioos/lib/python2.7/site-packages/iris/fileformats/_pyke_rules/compiled_krb/fc_rules_cf_fc.py:1196: UserWarning: Ignoring netCDF variable 'chlorophyll' invalid units 'milligrams_chlorophyll meter-3'\n",
        "  warnings.warn(msg.format(msg_name, msg_units))\n"
       ]
      },
      {
       "output_type": "stream",
       "stream": "stderr",
       "text": [
        "/home/filipe/miniconda/envs/ioos/lib/python2.7/site-packages/iris/fileformats/_pyke_rules/compiled_krb/fc_rules_cf_fc.py:1196: UserWarning: Ignoring netCDF variable 'phytoplankton' invalid units 'millimole_nitrogen meter-3'\n",
        "  warnings.warn(msg.format(msg_name, msg_units))\n",
        "/home/filipe/miniconda/envs/ioos/lib/python2.7/site-packages/iris/fileformats/_pyke_rules/compiled_krb/fc_rules_cf_fc.py:1196: UserWarning: Ignoring netCDF variable 'NO3' invalid units 'millimole_N03 meter-3'\n",
        "  warnings.warn(msg.format(msg_name, msg_units))\n",
        "/home/filipe/miniconda/envs/ioos/lib/python2.7/site-packages/iris/fileformats/_pyke_rules/compiled_krb/fc_rules_cf_fc.py:1196: UserWarning: Ignoring netCDF variable 'zooplankton' invalid units 'millimole_nitrogen meter-3'\n",
        "  warnings.warn(msg.format(msg_name, msg_units))\n",
        "/home/filipe/miniconda/envs/ioos/lib/python2.7/site-packages/iris/fileformats/_pyke_rules/compiled_krb/fc_rules_cf_fc.py:1196: UserWarning: Ignoring netCDF variable 'NH4' invalid units 'millimole_NH4 meter-3'\n",
        "  warnings.warn(msg.format(msg_name, msg_units))\n"
       ]
      },
      {
       "output_type": "stream",
       "stream": "stdout",
       "text": [
        "\n",
        "Cannot get cube for: http://omgsrv1.meas.ncsu.edu:8080/thredds/dodsC/fmrc/sabgom/SABGOM_Forecast_Model_Run_Collection_best.ncd\n",
        "istart must be different from istop! Got istart 0 and  istop 0"
       ]
      },
      {
       "output_type": "stream",
       "stream": "stdout",
       "text": [
        "\n",
        "\n",
        "[Reading url 5/10]: http://oos.soest.hawaii.edu/thredds/dodsC/pacioos/hycom/global\n",
        "Cannot get cube for: http://oos.soest.hawaii.edu/thredds/dodsC/pacioos/hycom/global\n",
        "The points array must be strictly monotonic."
       ]
      },
      {
       "output_type": "stream",
       "stream": "stdout",
       "text": [
        "\n",
        "\n",
        "[Reading url 6/10]: http://tds.marine.rutgers.edu/thredds/dodsC/roms/espresso/2013_da/his_Best/ESPRESSO_Real-Time_v2_History_Best_Available_best.ncd\n",
        "\n",
        "[Reading url 7/10]: http://thredds.axiomalaska.com/thredds/dodsC/Aquarius_V3_SSS_Daily.nc"
       ]
      },
      {
       "output_type": "stream",
       "stream": "stdout",
       "text": [
        "\n",
        "Cannot get cube for: http://thredds.axiomalaska.com/thredds/dodsC/Aquarius_V3_SSS_Daily.nc\n",
        "istart must be different from istop! Got istart 992 and  istop 992"
       ]
      },
      {
       "output_type": "stream",
       "stream": "stdout",
       "text": [
        "\n",
        "\n",
        "[Reading url 8/10]: http://thredds.axiomalaska.com/thredds/dodsC/Aquarius_V3_SSS_Monthly.nc\n",
        "Cannot get cube for: http://thredds.axiomalaska.com/thredds/dodsC/Aquarius_V3_SSS_Monthly.nc\n",
        "istart must be different from istop! Got istart 35 and  istop 35"
       ]
      },
      {
       "output_type": "stream",
       "stream": "stdout",
       "text": [
        "\n",
        "\n",
        "[Reading url 9/10]: http://thredds.axiomalaska.com/thredds/dodsC/Aquarius_V3_SSS_Weekly.nc\n",
        "Cannot get cube for: http://thredds.axiomalaska.com/thredds/dodsC/Aquarius_V3_SSS_Weekly.nc\n",
        "istart must be different from istop! Got istart 149 and  istop 149"
       ]
      },
      {
       "output_type": "stream",
       "stream": "stdout",
       "text": [
        "\n",
        "\n",
        "[Reading url 10/10]: http://omgsrv1.meas.ncsu.edu:8080/thredds/dodsC/fmrc/us_east/US_East_Forecast_Model_Run_Collection_best.ncd\n",
        "Cannot get cube for: http://omgsrv1.meas.ncsu.edu:8080/thredds/dodsC/fmrc/us_east/US_East_Forecast_Model_Run_Collection_best.ncd\n",
        "istart must be different from istop! Got istart 0 and  istop 0"
       ]
      },
      {
       "output_type": "stream",
       "stream": "stdout",
       "text": [
        "\n"
       ]
      }
     ],
     "prompt_number": 14
    },
    {
     "cell_type": "code",
     "collapsed": false,
     "input": [
      "from iris.pandas import as_series\n",
      "\n",
      "from utilities import (standardize_fill_value,\n",
      "                       make_tree, get_nearest_water,\n",
      "                       add_station, ensure_timeseries)\n",
      "\n",
      "for mod_name, cube in cubes.items():\n",
      "    mod_name, model_full_name = get_model_name(cube, url)\n",
      "    fname = '{:%Y-%m-%d}-{}.nc'.format(stop, mod_name)\n",
      "    fname = os.path.join(directory, fname)\n",
      "    print(fmt(' Downloading to file {} '.format(fname)))\n",
      "    # NOTE: 2D coords KDtree.  (Iris can only do 1D coords KDtree for now.)\n",
      "    try:\n",
      "        tree, lon, lat = make_tree(cube)\n",
      "    except CoordinateNotFoundError as e:\n",
      "        print('Cannot make KDTree for: {}'.format(mod_name))\n",
      "        continue\n",
      "    raw_series = dict()\n",
      "    for station, obs in observations.iterrows():\n",
      "        try:\n",
      "            kw = dict(k=10, max_dist=0.04, min_var=0.01)\n",
      "            args = cube, tree, obs.lon, obs.lat\n",
      "            series, dist, idx = get_nearest_water(*args, **kw)\n",
      "        # RuntimeError may occurs, but you should run it again!\n",
      "        except ValueError as e:\n",
      "            print(e)\n",
      "            continue\n",
      "        if not series:\n",
      "            status = \"Found Land\"\n",
      "        else:\n",
      "            raw_series.update({obs['station']: series})\n",
      "            series = as_series(series)\n",
      "            status = \"Found Water\"\n",
      "\n",
      "        print('[{}] {}'.format(status, obs.name))\n",
      "\n",
      "    if raw_series:  # Save cube.\n",
      "        for station, cube in raw_series.items():\n",
      "            cube = standardize_fill_value(cube)\n",
      "            cube = add_station(cube, station)\n",
      "            cube = remove_ssh(cube)\n",
      "        try:\n",
      "            cube = iris.cube.CubeList(raw_series.values()).merge_cube()\n",
      "        except MergeError as e:\n",
      "            print(e)\n",
      "\n",
      "        ensure_timeseries(cube)\n",
      "        iris.save(cube, fname)\n",
      "        del cube\n",
      "        \n",
      "    print('[{}]: {}'.format(mod_name, url))"
     ],
     "language": "python",
     "metadata": {},
     "outputs": [
      {
       "output_type": "stream",
       "stream": "stdout",
       "text": [
        "***** Downloading to file 2014-07-07/2014-07-07-USEAST.nc ******\n",
        "No data found for (-81.43,30.3967) using max_dist=0.04."
       ]
      },
      {
       "output_type": "stream",
       "stream": "stdout",
       "text": [
        "\n",
        "No data found for (-81.6917,30.1917) using max_dist=0.04.\n",
        "No data found for (-81.6283,29.9783) using max_dist=0.04.\n",
        "[USEAST]: http://omgsrv1.meas.ncsu.edu:8080/thredds/dodsC/fmrc/us_east/US_East_Forecast_Model_Run_Collection_best.ncd\n",
        "***** Downloading to file 2014-07-07/2014-07-07-USEAST.nc ******\n",
        "[Found Land] Mayport (Bar Pilots Dock), FL"
       ]
      },
      {
       "output_type": "stream",
       "stream": "stdout",
       "text": [
        "\n",
        "[Found Land] I-295 Bridge, St Johns River, FL"
       ]
      },
      {
       "output_type": "stream",
       "stream": "stdout",
       "text": [
        "\n",
        "[Found Land] Red Bay Point, St Johns River, FL"
       ]
      },
      {
       "output_type": "stream",
       "stream": "stdout",
       "text": [
        "\n",
        "[USEAST]: http://omgsrv1.meas.ncsu.edu:8080/thredds/dodsC/fmrc/us_east/US_East_Forecast_Model_Run_Collection_best.ncd\n",
        "***** Downloading to file 2014-07-07/2014-07-07-USEAST.nc ******\n",
        "No data found for (-81.43,30.3967) using max_dist=0.04."
       ]
      },
      {
       "output_type": "stream",
       "stream": "stdout",
       "text": [
        "\n",
        "No data found for (-81.6917,30.1917) using max_dist=0.04.\n",
        "No data found for (-81.6283,29.9783) using max_dist=0.04.\n",
        "[USEAST]: http://omgsrv1.meas.ncsu.edu:8080/thredds/dodsC/fmrc/us_east/US_East_Forecast_Model_Run_Collection_best.ncd\n"
       ]
      }
     ],
     "prompt_number": 15
    },
    {
     "cell_type": "markdown",
     "metadata": {},
     "source": [
      "#### Load saved files and interpolate to the observations time interval"
     ]
    },
    {
     "cell_type": "code",
     "collapsed": true,
     "input": [
      "from glob import glob\n",
      "from operator import itemgetter\n",
      "\n",
      "from pandas import Panel\n",
      "from utilities import nc2df\n",
      "\n",
      "fname = '{}-OBS_DATA.nc'.format(directory)\n",
      "fname = os.path.join(directory, fname)\n",
      "OBS_DATA = nc2df(fname)\n",
      "index = OBS_DATA.index\n",
      "\n",
      "dfs = dict(OBS_DATA=OBS_DATA)\n",
      "for fname in glob(os.path.join(directory, \"*.nc\")):\n",
      "    if 'OBS_DATA' in fname:\n",
      "        continue\n",
      "    else:\n",
      "        model = fname.split('.')[0].split('-')[-1]\n",
      "        df = nc2df(fname)\n",
      "        kw = dict(method='time', limit=30)\n",
      "        df = df.reindex(index).interpolate(**kw).ix[index]\n",
      "        dfs.update({model: df})\n",
      "\n",
      "dfs = Panel.fromDict(dfs).swapaxes(0, 2)\n",
      "\n",
      "# Clusters.\n",
      "big_list = []\n",
      "for fname in glob(os.path.join(directory, \"*.nc\")):\n",
      "    if 'OBS_DATA' in fname:\n",
      "        continue\n",
      "    nc = iris.load_cube(fname)\n",
      "    model = fname.split('-')[-1].split('.')[0]\n",
      "    lons = nc.coord(axis='X').points\n",
      "    lats = nc.coord(axis='Y').points\n",
      "    stations = nc.coord('station name').points\n",
      "    models = [model]*lons.size\n",
      "    lista = zip(models, lons.tolist(), lats.tolist(), stations.tolist())\n",
      "    big_list.extend(lista)\n",
      "\n",
      "if big_list:\n",
      "    big_list.sort(key=itemgetter(3))\n",
      "    df = DataFrame(big_list, columns=['name', 'lon', 'lat', 'station'])\n",
      "    df.set_index('station', drop=True, inplace=True)\n",
      "    groups = df.groupby(df.index)\n",
      "else:\n",
      "    groups = None"
     ],
     "language": "python",
     "metadata": {},
     "outputs": [],
     "prompt_number": 16
    },
    {
     "cell_type": "code",
     "collapsed": false,
     "input": [
      "import vincent\n",
      "from utilities import inline_map, make_map\n",
      "\n",
      "salinity = make_map(bbox, line=True, states=False)\n",
      "\n",
      "if groups:\n",
      "    # Clusters.\n",
      "    for station, info in groups:\n",
      "        station = get_coops_longname(station)\n",
      "        for lat, lon, name in zip(info.lat, info.lon, info.name):\n",
      "            location = lat, lon\n",
      "            popup = '<b>{}</b>\\n{}'.format(station, name)\n",
      "            salinity.simple_marker(location=location, popup=popup,\n",
      "                                      clustered_marker=True)\n",
      "\n",
      "# Model and observations.\n",
      "for station in dfs:\n",
      "    sta_name = get_coops_longname(station)\n",
      "    df = dfs[station].dropna(axis=1, how='all')\n",
      "    # FIXME: This is bad!  But I cannot represent NaN with Vega!\n",
      "    df.fillna(value='null', inplace=True)\n",
      "    vis = vincent.Line(df, width=500, height=150)\n",
      "    vis.axis_titles(x='Time', y='Sea Surface Salinty (g/kg)')\n",
      "    vis.legend(title=sta_name)\n",
      "    vis.name = sta_name\n",
      "    vis.scales[0].zero = False\n",
      "    vis.scales[1].zero = False\n",
      "    json = 'station_{}.json'.format(station)\n",
      "    vis.to_json(os.path.join(directory, json))\n",
      "    obs = observations[observations['station'] == station].squeeze()\n",
      "    popup = (vis, json)\n",
      "    if (df.columns == 'OBS_DATA').all():\n",
      "        kw = dict(popup=popup, marker_color=\"blue\", marker_icon=\"ok\")\n",
      "    else:\n",
      "        if 'SABGOM' in df.columns or 'USEAST' in df.columns:\n",
      "            kw = dict(popup=popup, marker_color=\"green\", marker_icon=\"ok-sign\")\n",
      "        else:\n",
      "            kw = dict(popup=popup, marker_color=\"green\", marker_icon=\"ok\")\n",
      "    salinity.simple_marker(location=[obs['lat'], obs['lon']], **kw)\n",
      "\n",
      "# Bad stations.\n",
      "if isinstance(bad_station, DataFrame):\n",
      "    for station, obs in bad_station.iterrows():\n",
      "        popup = '<b>Station:</b> {}'\n",
      "        popup = popup.format(station)\n",
      "        kw = dict(popup=popup, marker_color=\"red\", marker_icon=\"question-sign\")\n",
      "        salinity.simple_marker(location=[obs['lat'], obs['lon']], **kw)"
     ],
     "language": "python",
     "metadata": {},
     "outputs": [],
     "prompt_number": 17
    },
    {
     "cell_type": "code",
     "collapsed": false,
     "input": [
      "salinity.create_map(path=os.path.join(directory, 'salinity.html'))\n",
      "inline_map(os.path.join(directory, 'salinity.html'))"
     ],
     "language": "python",
     "metadata": {},
     "outputs": [
      {
       "html": [
        "\n",
        "        <iframe\n",
        "            width=\"750\"\n",
        "            height=500\"\n",
        "            src=\"2014-07-07/salinity.html\"\n",
        "            frameborder=\"0\"\n",
        "            allowfullscreen\n",
        "        ></iframe>\n",
        "        "
       ],
       "metadata": {},
       "output_type": "pyout",
       "prompt_number": 18,
       "text": [
        "<IPython.lib.display.IFrame at 0x7ffe0c3f8850>"
       ]
      }
     ],
     "prompt_number": 18
    },
    {
     "cell_type": "code",
     "collapsed": false,
     "input": [
      "elapsed = time.time() - start_time\n",
      "print('{:.2f} minutes'.format(elapsed/60.))"
     ],
     "language": "python",
     "metadata": {},
     "outputs": [
      {
       "output_type": "stream",
       "stream": "stdout",
       "text": [
        "8.07 minutes\n"
       ]
      }
     ],
     "prompt_number": 19
    }
   ],
   "metadata": {}
  }
 ]
}