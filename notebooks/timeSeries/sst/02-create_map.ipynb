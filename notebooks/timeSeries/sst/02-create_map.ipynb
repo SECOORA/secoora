{
 "metadata": {
  "kernelspec": {
   "codemirror_mode": {
    "name": "ipython",
    "version": 3
   },
   "display_name": "IOOS (Python 2)",
   "language": "python",
   "name": "ioos_python2"
  },
  "name": "",
  "signature": "sha256:045725f8b0c7c4030c18398bdbbd35720ebe752803e1a9844f2e60b13e6c0aa9"
 },
 "nbformat": 3,
 "nbformat_minor": 0,
 "worksheets": [
  {
   "cells": [
    {
     "cell_type": "markdown",
     "metadata": {},
     "source": [
      "# Notebook 3\n",
      "\n",
      "### Sea Surface Temperature time-series maps\n",
      "\n",
      "Run [00-fetch_data.ipynb](00-fetch_data.ipynb) and [01-skill_score.ipynb](01-skill_score.ipynb) first."
     ]
    },
    {
     "cell_type": "markdown",
     "metadata": {},
     "source": [
      "### Load configuration"
     ]
    },
    {
     "cell_type": "code",
     "collapsed": false,
     "input": [
      "import os\n",
      "\n",
      "try:\n",
      "    import cPickle as pickle\n",
      "except ImportError:\n",
      "    import pickle\n",
      "\n",
      "run_name = '2014-07-07'\n",
      "fname = os.path.join(run_name, 'config.pkl')\n",
      "with open(fname, 'rb') as f:\n",
      "    config = pickle.load(f)"
     ],
     "language": "python",
     "metadata": {},
     "outputs": [],
     "prompt_number": 1
    },
    {
     "cell_type": "markdown",
     "metadata": {},
     "source": [
      "### Load skill_score"
     ]
    },
    {
     "cell_type": "code",
     "collapsed": false,
     "input": [
      "try:\n",
      "    import cPickle as pickle\n",
      "except ImportError:\n",
      "    import pickle\n",
      "\n",
      "fname = os.path.join(run_name, 'skill_score.pkl')\n",
      "with open(fname, 'rb') as f:\n",
      "    skill_score = pickle.load(f)"
     ],
     "language": "python",
     "metadata": {},
     "outputs": [],
     "prompt_number": 2
    },
    {
     "cell_type": "code",
     "collapsed": false,
     "input": [
      "from mpld3 import save_html\n",
      "import matplotlib.pyplot as plt\n",
      "from mpld3.plugins import LineLabelTooltip, connect\n",
      "\n",
      "from utilities import make_map\n",
      "\n",
      "bbox = config['bbox']\n",
      "units = config['units']\n",
      "run_name = config['run_name']\n",
      "secoora_models = config['secoora_models']\n",
      "\n",
      "mapa = make_map(bbox, line=True, states=False)"
     ],
     "language": "python",
     "metadata": {},
     "outputs": [],
     "prompt_number": 3
    },
    {
     "cell_type": "markdown",
     "metadata": {},
     "source": [
      "#### ROMS stations files (SABGOM and USEAST)"
     ]
    },
    {
     "cell_type": "code",
     "collapsed": false,
     "input": [
      "roms_stations = [(-77.7866, 34.2133),\n",
      "                 (-78.9183, 33.6550),\n",
      "                 (-81.0000, 30.3966),\n",
      "                 (-80.1600, 25.7300),\n",
      "                 (-81.8116, 24.5550),\n",
      "                 (-82.6137, 26.1300),\n",
      "                 (-82.8320, 27.9770),\n",
      "                 (-86.4987, 30.1520)]\n",
      "\n",
      "for station in roms_stations:\n",
      "    location = station[::-1]\n",
      "    popup = '[SABGOM/USEAST]\\nROMS station file'\n",
      "    kw = dict(radius=700, fill_color='red', popup=popup,\n",
      "              fill_opacity=0.75)\n",
      "    mapa.circle_marker(location=location, **kw)"
     ],
     "language": "python",
     "metadata": {},
     "outputs": [],
     "prompt_number": 4
    },
    {
     "cell_type": "markdown",
     "metadata": {},
     "source": [
      "### Clusters"
     ]
    },
    {
     "cell_type": "code",
     "collapsed": false,
     "input": [
      "from glob import glob\n",
      "from operator import itemgetter\n",
      "\n",
      "import iris\n",
      "from pandas import DataFrame, read_csv\n",
      "\n",
      "fname = '{}-all_obs.csv'.format(run_name)\n",
      "all_obs = read_csv(os.path.join(run_name, fname), index_col='name')\n",
      "\n",
      "big_list = []\n",
      "for fname in glob(os.path.join(run_name, \"*.nc\")):\n",
      "    if 'OBS_DATA' in fname:\n",
      "        continue\n",
      "    cube = iris.load_cube(fname)\n",
      "    model = fname.split('-')[-1].split('.')[0]\n",
      "    lons = cube.coord(axis='X').points\n",
      "    lats = cube.coord(axis='Y').points\n",
      "    stations = cube.coord('station name').points\n",
      "    models = [model]*lons.size\n",
      "    lista = zip(models, lons.tolist(), lats.tolist(), stations.tolist())\n",
      "    big_list.extend(lista)\n",
      "\n",
      "big_list.sort(key=itemgetter(3))\n",
      "df = DataFrame(big_list, columns=['name', 'lon', 'lat', 'station'])\n",
      "df.set_index('station', drop=True, inplace=True)\n",
      "groups = df.groupby(df.index)\n",
      "\n",
      "\n",
      "for station, info in groups:\n",
      "    sta_name = all_obs['station'][all_obs['station'] == station].index[0]\n",
      "    for lat, lon, name in zip(info.lat, info.lon, info.name):\n",
      "        location = lat, lon\n",
      "        popup = '<b>{}</b>\\n{}'.format(sta_name, name)\n",
      "        mapa.simple_marker(location=location, popup=popup,\n",
      "                           clustered_marker=True)"
     ],
     "language": "python",
     "metadata": {},
     "outputs": [],
     "prompt_number": 5
    },
    {
     "cell_type": "markdown",
     "metadata": {},
     "source": [
      "### Model and observations plots"
     ]
    },
    {
     "cell_type": "code",
     "collapsed": false,
     "input": [
      "from utilities import load_secoora_ncs\n",
      "\n",
      "mean_bias = skill_score['mean_bias'].applymap('{:.2f}'.format).replace('nan', '--')\n",
      "low_pass_r2 = skill_score['low_pass_resampled_3H_r2'].applymap('{:.2f}'.format).replace('nan', '--')\n",
      "\n",
      "resolution, width, height = 75, 7, 3\n",
      "\n",
      "def make_plot():\n",
      "    fig, ax = plt.subplots(figsize=(width, height))\n",
      "    ax.set_ylabel('Sea surface Temperature ({})'.format(units))\n",
      "    ax.grid(True)\n",
      "    return fig, ax\n",
      "\n",
      "\n",
      "dfs = load_secoora_ncs(run_name)\n",
      "# SABGOM dt = 3 hours.\n",
      "dfs = dfs.swapaxes('items', 'major').resample('3H').swapaxes('items', 'major')\n",
      "\n",
      "for station in dfs:\n",
      "    sta_name = all_obs['station'][all_obs['station'] == station].index[0]\n",
      "    df = dfs[station].dropna(axis=1, how='all')\n",
      "    if df.empty:\n",
      "        continue\n",
      "    labels = []\n",
      "    fig, ax = make_plot()\n",
      "    for col in df.columns:\n",
      "        serie = df[col].dropna()\n",
      "        lines = ax.plot(serie.index, serie, label=col,\n",
      "                        linewidth=2.5, alpha=0.5)\n",
      "        if 'OBS_DATA' not in col:\n",
      "            text0 = col\n",
      "            text1 = mean_bias[sta_name][col]\n",
      "            text2 = low_pass_r2[sta_name][col]\n",
      "            tooltip = '{}:\\nbias {}\\nskill: {}'.format\n",
      "            labels.append(tooltip(text0, text1, text2))\n",
      "        else:\n",
      "            labels.append('OBS_DATA')\n",
      "    kw = dict(loc='upper center', bbox_to_anchor=(0.5, 1.05), numpoints=1,\n",
      "              ncol=2, framealpha=0)\n",
      "    l = ax.legend(**kw)\n",
      "    l.set_title(\"\")  # Workaround str(None).\n",
      "\n",
      "    [connect(fig, LineLabelTooltip(line, name))\n",
      "     for line, name in zip(ax.lines, labels)]\n",
      "\n",
      "    html = 'station_{}.html'.format(station)\n",
      "    save_html(fig, '{}/{}'.format(run_name, html))\n",
      "    plt.close(fig)\n",
      "\n",
      "    popup = \"<div align='center'> {} <br><iframe src='{}' alt='image'\"\n",
      "    popup += \"width='{}px' height='{}px' frameBorder='0'></div>\"\n",
      "    popup = popup.format('{}'.format(sta_name), html,\n",
      "                         (width*resolution)+75, (height*resolution)+50)\n",
      "    kw = dict(popup=popup, width=(width*resolution)+75)\n",
      "\n",
      "    if (df.columns == 'OBS_DATA').all():\n",
      "        kw.update(dict(marker_color=\"blue\", marker_icon=\"ok\"))\n",
      "    else:\n",
      "        conj = set(df.columns)\n",
      "        conj.intersection_update(secoora_models)\n",
      "        if conj:\n",
      "            kw.update(dict(marker_color=\"green\", marker_icon=\"ok-sign\"))\n",
      "        else:\n",
      "            kw.update(dict(marker_color=\"green\", marker_icon=\"ok\"))\n",
      "    obs = all_obs[all_obs['station'] == station].squeeze()\n",
      "    mapa.simple_marker(location=[obs['lat'], obs['lon']], **kw)"
     ],
     "language": "python",
     "metadata": {},
     "outputs": [],
     "prompt_number": 6
    },
    {
     "cell_type": "markdown",
     "metadata": {},
     "source": [
      "### Bad stations"
     ]
    },
    {
     "cell_type": "code",
     "collapsed": false,
     "input": [
      "bad_station = all_obs[all_obs['bad_station']]\n",
      "if not bad_station.empty:\n",
      "    for station, obs in bad_station.iterrows():\n",
      "        popup = '<b>Station:</b> {}'\n",
      "        popup = popup.format(station)\n",
      "        kw = dict(popup=popup, marker_color=\"red\", marker_icon=\"question-sign\")\n",
      "        mapa.simple_marker(location=[obs['lat'], obs['lon']], **kw)"
     ],
     "language": "python",
     "metadata": {},
     "outputs": [],
     "prompt_number": 7
    },
    {
     "cell_type": "markdown",
     "metadata": {},
     "source": [
      "### Map"
     ]
    },
    {
     "cell_type": "code",
     "collapsed": false,
     "input": [
      "from utilities import inline_map\n",
      "\n",
      "\n",
      "mapa.create_map(path=os.path.join(run_name, 'mapa.html'))\n",
      "inline_map(os.path.join(run_name, 'mapa.html'))"
     ],
     "language": "python",
     "metadata": {},
     "outputs": [
      {
       "html": [
        "\n",
        "        <iframe\n",
        "            width=\"750\"\n",
        "            height=500\"\n",
        "            src=\"2014-07-07/mapa.html\"\n",
        "            frameborder=\"0\"\n",
        "            allowfullscreen\n",
        "        ></iframe>\n",
        "        "
       ],
       "metadata": {},
       "output_type": "pyout",
       "prompt_number": 8,
       "text": [
        "<IPython.lib.display.IFrame at 0x7f1b5dd601d0>"
       ]
      }
     ],
     "prompt_number": 8
    }
   ],
   "metadata": {}
  }
 ]
}